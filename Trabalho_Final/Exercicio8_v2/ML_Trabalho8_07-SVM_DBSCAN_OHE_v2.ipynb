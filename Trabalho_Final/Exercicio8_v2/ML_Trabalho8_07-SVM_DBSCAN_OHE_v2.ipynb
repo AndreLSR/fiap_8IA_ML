{
 "cells": [
  {
   "cell_type": "markdown",
   "metadata": {
    "colab_type": "text",
    "id": "pWjX0OEJ9RmL"
   },
   "source": [
    "## Support Vector Machines\n",
    "* Poderosa metodologia para resolver problemas de aprendizagem de máquina.\n",
    "* Proposto em 1995 pelo russo Vladimir Vapnik.\n",
    "* Muito utilizado atualmente em diversos tipos de aplicações.\n",
    "* O problema dos problemas não linearmente separáveis \n",
    "* O problema dos problemas não linearmente separáveis\n"
   ]
  },
  {
   "cell_type": "markdown",
   "metadata": {
    "colab_type": "text",
    "id": "uD2LXY4O9RmN"
   },
   "source": [
    "![](https://i.ibb.co/tsDTKzn/SVM-Picture1.png)\n",
    "\n",
    "* Problema não linearmente separável"
   ]
  },
  {
   "cell_type": "markdown",
   "metadata": {
    "colab_type": "text",
    "id": "p615s7C39RmO"
   },
   "source": [
    "### O processo de classificação:\n",
    "  + Entendendo o parâmetro C, Soft Margin: \n",
    "    - A aplicação de um método puramente linear para classificar um conjunto de dados pode sofrer com dois problemas bastante comuns:\n",
    "      - Outliers\n",
    "      - Exemplos rotulados erroneamente\n",
    "  + Mesmo assim o SVM ainda assim pode ser aplicado através do uso do parâmetro C (soft margin - variáveis de folga)\n",
    "#### O truque do Kernel:\n",
    "    - Realiza a projeção das características em um espaço multidimencional, maior que o vetor de entrada onde as classes podem ser separadas por um hiperplano."
   ]
  },
  {
   "cell_type": "markdown",
   "metadata": {
    "colab_type": "text",
    "id": "OKbu1g1O9RmP"
   },
   "source": [
    "![](https://i.ibb.co/n19dmvq/SVM-Picture2.png)"
   ]
  },
  {
   "cell_type": "markdown",
   "metadata": {
    "colab_type": "text",
    "id": "npaYNxOL9RmP"
   },
   "source": [
    "#### Vantagens:\n",
    "  + Considerado o estado da arte dos classificadores.\n",
    "  + Trabalha com problemas linearmente e não-linearmente separáveis.\n",
    "  + Desempenho superior a maioria dos classificadores tradicionais.\n",
    "  \n",
    "#### Desvantagens:\n",
    "  + A calibragem dos parâmetros envolvidos e escolha do tipo de kernel não é uma tarefa trivial.\n",
    "  + O tempo de treinamento pode ser extremamente lento e computacionalmente complexo dependendo da quantidade de características."
   ]
  },
  {
   "cell_type": "code",
   "execution_count": null,
   "metadata": {
    "colab": {},
    "colab_type": "code",
    "id": "FVwvys9VQ-TU"
   },
   "outputs": [],
   "source": [
    "import pandas as pd\n",
    "import numpy as np\n",
    "import seaborn as sb\n",
    "import matplotlib.pyplot as plt \n",
    "\n",
    "from sklearn.model_selection import cross_val_predict\n",
    "from sklearn import metrics\n",
    "from sklearn import svm\n",
    "from sklearn.preprocessing import LabelEncoder\n",
    "\n",
    "# Importe as bibliotecas de Pipelines e Pré-processadores\n",
    "from sklearn.pipeline import Pipeline\n",
    "from sklearn.preprocessing import StandardScaler\n",
    "from sklearn.preprocessing import MinMaxScaler\n",
    "\n",
    "# Importa o pacote OneHotEncoder\n",
    "from sklearn.preprocessing import OneHotEncoder\n",
    "\n",
    "import sys"
   ]
  },
  {
   "cell_type": "markdown",
   "metadata": {
    "colab_type": "text",
    "id": "ueAjUhkb9RmT"
   },
   "source": [
    "## 1) Importando os dados já tratados sem OneHotEncoding:"
   ]
  },
  {
   "cell_type": "code",
   "execution_count": null,
   "metadata": {
    "colab": {
     "base_uri": "https://localhost:8080/",
     "height": 289
    },
    "colab_type": "code",
    "executionInfo": {
     "elapsed": 7565,
     "status": "ok",
     "timestamp": 1574702196970,
     "user": {
      "displayName": "André Rodrigues",
      "photoUrl": "https://lh3.googleusercontent.com/a-/AAuE7mC4VcoLAlPEtIAJVPWTppZJ9S3ou2QH75zgDkJrgn0=s64",
      "userId": "01975921740661022202"
     },
     "user_tz": 180
    },
    "id": "1fVCXcqb9RmU",
    "outputId": "968fee57-a1d6-4d4e-d626-2aea18dbc2eb"
   },
   "outputs": [],
   "source": [
    "# from google.colab import drive\n",
    "# drive.mount('/content/drive')\n",
    "# !ls \"/content/drive/My Drive/datasets\"\n",
    "# data = pd.read_csv('/content/drive/My Drive/datasets/dados_clust_v2.csv',sep=',') # faz a leitura dos dados\n",
    "\n",
    "data = pd.read_csv(\"/Users/andrerodrigues/Google Drive/FIAP-MBA 8IA/006 - Modelos de IA e ML/Trabalho_Final_2/Exercicio8_v2/dados_clust_v2.csv\", sep =\",\")\n",
    "\n",
    "data = data.iloc[:,1:]\n",
    "data.head()"
   ]
  },
  {
   "cell_type": "markdown",
   "metadata": {
    "colab_type": "text",
    "id": "p2Xs1Udw9RmW"
   },
   "source": [
    "## 2) Importando os dados já tratados com OneHotEncoding:"
   ]
  },
  {
   "cell_type": "code",
   "execution_count": null,
   "metadata": {
    "colab": {
     "base_uri": "https://localhost:8080/",
     "height": 289
    },
    "colab_type": "code",
    "executionInfo": {
     "elapsed": 10638,
     "status": "ok",
     "timestamp": 1574702200053,
     "user": {
      "displayName": "André Rodrigues",
      "photoUrl": "https://lh3.googleusercontent.com/a-/AAuE7mC4VcoLAlPEtIAJVPWTppZJ9S3ou2QH75zgDkJrgn0=s64",
      "userId": "01975921740661022202"
     },
     "user_tz": 180
    },
    "id": "3_07QusL9RmX",
    "outputId": "db8a425a-c4d0-4611-87bd-0692ae5b2a12"
   },
   "outputs": [],
   "source": [
    "# from google.colab import drive\n",
    "# drive.mount('/content/drive')\n",
    "# !ls \"/content/drive/My Drive/datasets\"\n",
    "# data_ohe = pd.read_csv('/content/drive/My Drive/datasets/data_ohe_nostd_v2.csv',sep=',') # faz a leitura dos dados\n",
    "\n",
    "data_ohe = pd.read_csv(\"/Users/andrerodrigues/Google Drive/FIAP-MBA 8IA/006 - Modelos de IA e ML/Trabalho_Final_2/Exercicio8_v2/data_ohe_nostd_v2.csv\", sep =\",\")\n",
    "\n",
    "data_ohe = data_ohe.iloc[:,1:]\n",
    "data_ohe[\"dbscan\"] = data[\"dbscan\"]\n",
    "data_ohe[\"kmeans\"] = data[\"kmeans\"]\n",
    "data_ohe[\"som\"] = data[\"som\"]\n",
    "data_ohe.head()"
   ]
  },
  {
   "cell_type": "markdown",
   "metadata": {
    "colab_type": "text",
    "id": "DxBvlVk6j970"
   },
   "source": [
    "#### a) Apenas como curiosidade, vejamos como as classes estão distribuidas em 'dbscan', 'kmeans' e 'som'"
   ]
  },
  {
   "cell_type": "code",
   "execution_count": null,
   "metadata": {
    "colab": {
     "base_uri": "https://localhost:8080/",
     "height": 1000
    },
    "colab_type": "code",
    "executionInfo": {
     "elapsed": 11593,
     "status": "ok",
     "timestamp": 1574702201016,
     "user": {
      "displayName": "André Rodrigues",
      "photoUrl": "https://lh3.googleusercontent.com/a-/AAuE7mC4VcoLAlPEtIAJVPWTppZJ9S3ou2QH75zgDkJrgn0=s64",
      "userId": "01975921740661022202"
     },
     "user_tz": 180
    },
    "id": "murJKyMCj971",
    "outputId": "49efd424-d294-4527-ee6c-d2490be44629"
   },
   "outputs": [],
   "source": [
    "plt.figure(figsize=(10,7))\n",
    "plot1 = sb.countplot(x='dbscan',data=data, palette='hls')\n",
    "plt.title(\"Verificando classes de dbscan\")\n",
    "plt.show(plot1)\n",
    "plt.figure(figsize=(10,7))\n",
    "plot2 = sb.countplot(x='kmeans',data=data, palette='hls')\n",
    "plt.title(\"Verificando classes de kmeans\")\n",
    "plt.show(plot2)\n",
    "plt.figure(figsize=(10,7))\n",
    "plot3 = sb.countplot(x='som',data=data, palette='hls')\n",
    "plt.title(\"Verificando classes de som\")\n",
    "plt.show(plot3)"
   ]
  },
  {
   "cell_type": "markdown",
   "metadata": {
    "colab_type": "text",
    "id": "aeC4yg2IQ-Up"
   },
   "source": [
    "## 3) Seleciona o dataset para ser tratado pelo Modelo de Machine Learning e Separa as Classes"
   ]
  },
  {
   "cell_type": "code",
   "execution_count": null,
   "metadata": {
    "colab": {
     "base_uri": "https://localhost:8080/",
     "height": 51
    },
    "colab_type": "code",
    "executionInfo": {
     "elapsed": 30851,
     "status": "ok",
     "timestamp": 1574702220281,
     "user": {
      "displayName": "André Rodrigues",
      "photoUrl": "https://lh3.googleusercontent.com/a-/AAuE7mC4VcoLAlPEtIAJVPWTppZJ9S3ou2QH75zgDkJrgn0=s64",
      "userId": "01975921740661022202"
     },
     "user_tz": 180
    },
    "id": "m1CV4kvGQ-Uv",
    "outputId": "6888d1e2-3286-4ca2-8a19-511f5a3fc7cd"
   },
   "outputs": [],
   "source": [
    "import traceback\n",
    "\n",
    "def dataset_for_machine(dataset, target):\n",
    "    \n",
    "    # Tente receber o nome do arquivo\n",
    "    try:\n",
    "        d = dataset\n",
    "        t = target\n",
    "        \n",
    "        \n",
    "    \n",
    "        if d == 'data':\n",
    "            #No caso do DBSCAN, as amostras cujo o cluster for igual a 0, são consideradas outliers e não podemos considera-las como classe do problema.\n",
    "            if t == 'dbscan':\n",
    "                data.drop(data[data.dbscan == 0].index, inplace=True)\n",
    "            # Troca o nome do dataset para df. A partir desse ponto, o dataset para ser tratado pelo modelo de ML será conhecido por df.\n",
    "            df = data\n",
    "            # Separa a classe\n",
    "            classes = df[t]\n",
    "            df.drop(columns=['dbscan','kmeans', 'som'], axis=1, inplace=True)\n",
    "\n",
    "\n",
    "        elif d == 'data_ohe':\n",
    "            #No caso do DBSCAN, as amostras cujo o cluster for igual a 0, são consideradas outliers e não podemos considera-las como classe do problema.\n",
    "            if t == 'dbscan':\n",
    "                data.drop(data[data.dbscan == 0].index, inplace=True)\n",
    "            # Troca o nome do dataset para df. A partir desse ponto, o dataset para ser tratado pelo modelo de ML será conhecido por df.\n",
    "            df = data_ohe\n",
    "            # Separa a classe\n",
    "            classes = df[t]\n",
    "            df.drop(columns=['dbscan','kmeans', 'som'], axis=1, inplace=True)\n",
    "\n",
    "        else:\n",
    "            print(\"Escolha entre 'data' ou 'data_ohe'\")\n",
    "            exit\n",
    "\n",
    "    # Se ocorrer um erro\n",
    "    except:\n",
    "        # Mostre na tela\n",
    "        trace = traceback.format_exc()\n",
    "        print ('Aconteceu um erro:\\n', trace)\n",
    "        # Encerre o programa\n",
    "        raise SystemExit\n",
    "        \n",
    "    return df, classes\n",
    "    \n",
    "# df, classes = dataset_for_machine(input(\"Entre com o dataset que será tratado pela maquina('data' ou 'data_ohe') e o target('kmeans' ou 'som') separados por ',':\"))\n",
    "dataset = input(\"Entre com o dataset que será tratado pela maquina('data' ou 'data_ohe'):\")\n",
    "target = input(\"Entre com o target que será tratado pela maquina ('dbscan','kmeans' ou 'som'):\")\n",
    "df, classes = dataset_for_machine(dataset, target)"
   ]
  },
  {
   "cell_type": "markdown",
   "metadata": {
    "colab_type": "text",
    "id": "1TlW-96KQ-Ux"
   },
   "source": [
    "* A partir desse ponto, o dataset para ser tratado pelo modelo de ML será conhecido por df. A seleção se ele vai ser passado com ou sem One Hot Encoding foi feita acima."
   ]
  },
  {
   "cell_type": "code",
   "execution_count": null,
   "metadata": {
    "colab": {
     "base_uri": "https://localhost:8080/",
     "height": 204
    },
    "colab_type": "code",
    "executionInfo": {
     "elapsed": 30844,
     "status": "ok",
     "timestamp": 1574702220282,
     "user": {
      "displayName": "André Rodrigues",
      "photoUrl": "https://lh3.googleusercontent.com/a-/AAuE7mC4VcoLAlPEtIAJVPWTppZJ9S3ou2QH75zgDkJrgn0=s64",
      "userId": "01975921740661022202"
     },
     "user_tz": 180
    },
    "id": "ed7pYCmyQ-Uy",
    "outputId": "7bd593f9-f1af-4e19-a051-fab55c4ec30c"
   },
   "outputs": [],
   "source": [
    "df.head()"
   ]
  },
  {
   "cell_type": "code",
   "execution_count": null,
   "metadata": {
    "colab": {
     "base_uri": "https://localhost:8080/",
     "height": 221
    },
    "colab_type": "code",
    "executionInfo": {
     "elapsed": 30838,
     "status": "ok",
     "timestamp": 1574702220283,
     "user": {
      "displayName": "André Rodrigues",
      "photoUrl": "https://lh3.googleusercontent.com/a-/AAuE7mC4VcoLAlPEtIAJVPWTppZJ9S3ou2QH75zgDkJrgn0=s64",
      "userId": "01975921740661022202"
     },
     "user_tz": 180
    },
    "id": "ZrqNFpWjQ-U0",
    "outputId": "74ed289d-3c51-4d44-e8af-cd1e17bea31a"
   },
   "outputs": [],
   "source": [
    "classes"
   ]
  },
  {
   "cell_type": "markdown",
   "metadata": {
    "colab_type": "text",
    "id": "1MytzhfYQ-Tv"
   },
   "source": [
    "## 4) Faz a validação via crossvalidation (k-fold)"
   ]
  },
  {
   "cell_type": "code",
   "execution_count": null,
   "metadata": {
    "colab": {},
    "colab_type": "code",
    "id": "5gxFVkdmQ-Tw"
   },
   "outputs": [],
   "source": [
    "def Acuracia(clf,X,y):\n",
    "    resultados = cross_val_predict(clf, X, y, cv=5)\n",
    "    return metrics.accuracy_score(y,resultados)"
   ]
  },
  {
   "cell_type": "markdown",
   "metadata": {
    "colab_type": "text",
    "id": "6cIDLoTvQ-Tz"
   },
   "source": [
    "## 5) Pre-processamento de dados"
   ]
  },
  {
   "cell_type": "code",
   "execution_count": null,
   "metadata": {
    "colab": {},
    "colab_type": "code",
    "id": "BYVeZ3GgQ-Tz"
   },
   "outputs": [],
   "source": [
    "# def remove_features(lista_features):\n",
    "#     for i in lista_features:\n",
    "#         data.drop(i, axis=1, inplace=True)\n",
    "#     return 0"
   ]
  },
  {
   "cell_type": "markdown",
   "metadata": {
    "colab_type": "text",
    "id": "gZSzNmE_Q-U2"
   },
   "source": [
    "## 9) Support Vector Machines \n",
    "#### a) Preparando os pipes com as configurações do parâmetro C, Kernel e Normalização dos dados."
   ]
  },
  {
   "cell_type": "code",
   "execution_count": null,
   "metadata": {
    "colab": {},
    "colab_type": "code",
    "id": "1ZaYtAtYQ-U3"
   },
   "outputs": [],
   "source": [
    "pip_1 = Pipeline([\n",
    "    ('scaler',StandardScaler()),\n",
    "    ('clf', svm.SVC())\n",
    "])\n",
    "\n",
    "pip_2 = Pipeline([\n",
    "    ('min_max_scaler', MinMaxScaler()),\n",
    "    ('clf', svm.SVC())\n",
    "])\n",
    "\n",
    "pip_3 = Pipeline([\n",
    "    ('scaler',StandardScaler()),\n",
    "    ('clf', svm.SVC(kernel='rbf'))\n",
    "])\n",
    "\n",
    "pip_4 = Pipeline([\n",
    "    ('scaler',StandardScaler()),\n",
    "    ('clf', svm.SVC(kernel='poly'))\n",
    "])\n",
    "\n",
    "pip_5 = Pipeline([\n",
    "    ('scaler',StandardScaler()),\n",
    "    ('clf', svm.SVC(kernel='linear'))\n",
    "])"
   ]
  },
  {
   "cell_type": "markdown",
   "metadata": {
    "colab_type": "text",
    "id": "WshhAhIIQ-U5"
   },
   "source": [
    "#### b) Teste com apenas LabelEncoder na coluna 'classes' usando o pipeline 'pip_1'"
   ]
  },
  {
   "cell_type": "code",
   "execution_count": null,
   "metadata": {
    "colab": {
     "base_uri": "https://localhost:8080/",
     "height": 34
    },
    "colab_type": "code",
    "executionInfo": {
     "elapsed": 37986,
     "status": "ok",
     "timestamp": 1574702227449,
     "user": {
      "displayName": "André Rodrigues",
      "photoUrl": "https://lh3.googleusercontent.com/a-/AAuE7mC4VcoLAlPEtIAJVPWTppZJ9S3ou2QH75zgDkJrgn0=s64",
      "userId": "01975921740661022202"
     },
     "user_tz": 180
    },
    "id": "-Ch-etwXQ-U5",
    "outputId": "885fad5b-8ef4-4b67-8984-f05f9c7ccc40"
   },
   "outputs": [],
   "source": [
    "Acuracia(pip_1,df,classes)"
   ]
  },
  {
   "cell_type": "markdown",
   "metadata": {
    "colab_type": "text",
    "id": "X36QqfmFQ-U7"
   },
   "source": [
    "#### c) Teste com apenas LabelEncoder na coluna 'classes' usando o pipeline 'pip_2'"
   ]
  },
  {
   "cell_type": "code",
   "execution_count": null,
   "metadata": {
    "colab": {
     "base_uri": "https://localhost:8080/",
     "height": 224
    },
    "colab_type": "code",
    "executionInfo": {
     "elapsed": 50109,
     "status": "ok",
     "timestamp": 1574702239579,
     "user": {
      "displayName": "André Rodrigues",
      "photoUrl": "https://lh3.googleusercontent.com/a-/AAuE7mC4VcoLAlPEtIAJVPWTppZJ9S3ou2QH75zgDkJrgn0=s64",
      "userId": "01975921740661022202"
     },
     "user_tz": 180
    },
    "id": "tqicOuKXQ-U8",
    "outputId": "568a0465-99bf-47c0-8415-5ba6687fcd29"
   },
   "outputs": [],
   "source": [
    "Acuracia(pip_2,df,classes)"
   ]
  },
  {
   "cell_type": "markdown",
   "metadata": {
    "colab_type": "text",
    "id": "a9OL5wk9Q-U-"
   },
   "source": [
    "#### d) Testando Kernels \n",
    "##### Kernel rbf"
   ]
  },
  {
   "cell_type": "code",
   "execution_count": null,
   "metadata": {
    "colab": {
     "base_uri": "https://localhost:8080/",
     "height": 34
    },
    "colab_type": "code",
    "executionInfo": {
     "elapsed": 57025,
     "status": "ok",
     "timestamp": 1574702246502,
     "user": {
      "displayName": "André Rodrigues",
      "photoUrl": "https://lh3.googleusercontent.com/a-/AAuE7mC4VcoLAlPEtIAJVPWTppZJ9S3ou2QH75zgDkJrgn0=s64",
      "userId": "01975921740661022202"
     },
     "user_tz": 180
    },
    "id": "Rp4f1zzlQ-U-",
    "outputId": "77aedd7d-7129-4386-efda-9df929bf6a36"
   },
   "outputs": [],
   "source": [
    "Acuracia(pip_3,df,classes)"
   ]
  },
  {
   "cell_type": "markdown",
   "metadata": {
    "colab_type": "text",
    "id": "miN9HRLTQ-VA"
   },
   "source": [
    "##### Kernel Polynomial"
   ]
  },
  {
   "cell_type": "code",
   "execution_count": null,
   "metadata": {
    "colab": {
     "base_uri": "https://localhost:8080/",
     "height": 34
    },
    "colab_type": "code",
    "executionInfo": {
     "elapsed": 61978,
     "status": "ok",
     "timestamp": 1574702251461,
     "user": {
      "displayName": "André Rodrigues",
      "photoUrl": "https://lh3.googleusercontent.com/a-/AAuE7mC4VcoLAlPEtIAJVPWTppZJ9S3ou2QH75zgDkJrgn0=s64",
      "userId": "01975921740661022202"
     },
     "user_tz": 180
    },
    "id": "ZqTsQvQLQ-VB",
    "outputId": "8811df6a-6c7e-4db4-be46-dfc42692a4a3"
   },
   "outputs": [],
   "source": [
    "Acuracia(pip_4,df,classes)"
   ]
  },
  {
   "cell_type": "markdown",
   "metadata": {
    "colab_type": "text",
    "id": "FAan3sejQ-VC"
   },
   "source": [
    "##### Kernel Linear"
   ]
  },
  {
   "cell_type": "code",
   "execution_count": null,
   "metadata": {
    "colab": {
     "base_uri": "https://localhost:8080/",
     "height": 34
    },
    "colab_type": "code",
    "executionInfo": {
     "elapsed": 69877,
     "status": "ok",
     "timestamp": 1574702259367,
     "user": {
      "displayName": "André Rodrigues",
      "photoUrl": "https://lh3.googleusercontent.com/a-/AAuE7mC4VcoLAlPEtIAJVPWTppZJ9S3ou2QH75zgDkJrgn0=s64",
      "userId": "01975921740661022202"
     },
     "user_tz": 180
    },
    "id": "0HACckOPQ-VE",
    "outputId": "89b56639-2488-46ae-e92d-f5fc8ce91788"
   },
   "outputs": [],
   "source": [
    "Acuracia(pip_5,df,classes)"
   ]
  },
  {
   "cell_type": "markdown",
   "metadata": {
    "colab_type": "text",
    "id": "lzimLr_fQ-VG"
   },
   "source": [
    "## 9) GridSearch"
   ]
  },
  {
   "cell_type": "code",
   "execution_count": null,
   "metadata": {
    "colab": {},
    "colab_type": "code",
    "id": "CzjiK_QBQ-VH"
   },
   "outputs": [],
   "source": [
    "from sklearn.model_selection import GridSearchCV\n",
    "\n",
    "lista_C = [0.001, 0.01, 0.1, 1, 10,100]\n",
    "lista_gamma = [0.001, 0.01, 0.1, 1, 10, 100]"
   ]
  },
  {
   "cell_type": "code",
   "execution_count": null,
   "metadata": {
    "colab": {},
    "colab_type": "code",
    "id": "YldOdduzQ-VI"
   },
   "outputs": [],
   "source": [
    "parametros_grid = dict(clf__C=lista_C, clf__gamma=lista_gamma)"
   ]
  },
  {
   "cell_type": "markdown",
   "metadata": {
    "colab_type": "text",
    "id": "MOxt9onsQ-VL"
   },
   "source": [
    "#### a) Faz o tuning dos parametros testando cada combinação utilziando CrossValidation com 10 folds e analisando a acurácia"
   ]
  },
  {
   "cell_type": "code",
   "execution_count": null,
   "metadata": {
    "colab": {},
    "colab_type": "code",
    "id": "a5R_1ZeyQ-VM"
   },
   "outputs": [],
   "source": [
    "grid = GridSearchCV(pip_3, parametros_grid, cv=10, scoring='accuracy')"
   ]
  },
  {
   "cell_type": "code",
   "execution_count": null,
   "metadata": {
    "colab": {
     "base_uri": "https://localhost:8080/",
     "height": 307
    },
    "colab_type": "code",
    "executionInfo": {
     "elapsed": 590111,
     "status": "error",
     "timestamp": 1574702779615,
     "user": {
      "displayName": "André Rodrigues",
      "photoUrl": "https://lh3.googleusercontent.com/a-/AAuE7mC4VcoLAlPEtIAJVPWTppZJ9S3ou2QH75zgDkJrgn0=s64",
      "userId": "01975921740661022202"
     },
     "user_tz": 180
    },
    "id": "f76YzJM9Q-VO",
    "outputId": "47496546-18c2-4e59-d177-61f9a179591e"
   },
   "outputs": [],
   "source": [
    "grid.fit(df,classes)"
   ]
  },
  {
   "cell_type": "code",
   "execution_count": null,
   "metadata": {
    "colab": {},
    "colab_type": "code",
    "id": "S-gno_33Q-VR"
   },
   "outputs": [],
   "source": [
    "grid.cv_results_"
   ]
  },
  {
   "cell_type": "code",
   "execution_count": null,
   "metadata": {
    "colab": {},
    "colab_type": "code",
    "id": "BWQRqxiuQ-VT"
   },
   "outputs": [],
   "source": [
    "grid.best_params_"
   ]
  },
  {
   "cell_type": "code",
   "execution_count": null,
   "metadata": {
    "colab": {},
    "colab_type": "code",
    "id": "O85xG07NQ-VU"
   },
   "outputs": [],
   "source": [
    "grid.best_score_"
   ]
  },
  {
   "cell_type": "markdown",
   "metadata": {
    "colab_type": "text",
    "id": "EuCrDJ3cQ-VW"
   },
   "source": [
    "#### b) Métricas de Avaliação de Modelos"
   ]
  },
  {
   "cell_type": "code",
   "execution_count": null,
   "metadata": {
    "colab": {},
    "colab_type": "code",
    "id": "cYIqW9-SQ-VW"
   },
   "outputs": [],
   "source": [
    "pip_6 = Pipeline([\n",
    "('scaler',StandardScaler()),\n",
    "('clf', svm.SVC(kernel='rbf',C=1,gamma=1))\n",
    "])"
   ]
  },
  {
   "cell_type": "code",
   "execution_count": null,
   "metadata": {
    "colab": {},
    "colab_type": "code",
    "id": "U_bKyzdjQ-VY"
   },
   "outputs": [],
   "source": [
    "resultados = cross_val_predict(pip_6, df, classes, cv=10)"
   ]
  },
  {
   "cell_type": "code",
   "execution_count": null,
   "metadata": {
    "colab": {},
    "colab_type": "code",
    "id": "-dgLWlSyQ-Va"
   },
   "outputs": [],
   "source": [
    "c_names = [str(i) for i in np.unique(classes)]\n",
    "print (metrics.classification_report(classes,resultados,target_names=c_names))"
   ]
  }
 ],
 "metadata": {
  "colab": {
   "collapsed_sections": [],
   "name": "ML_Trabalho8_07-SVM_DBSCAN_OHE_v2.ipynb",
   "provenance": []
  },
  "kernelspec": {
   "display_name": "Python 3",
   "language": "python",
   "name": "python3"
  },
  "language_info": {
   "codemirror_mode": {
    "name": "ipython",
    "version": 3
   },
   "file_extension": ".py",
   "mimetype": "text/x-python",
   "name": "python",
   "nbconvert_exporter": "python",
   "pygments_lexer": "ipython3",
   "version": "3.7.4"
  }
 },
 "nbformat": 4,
 "nbformat_minor": 4
}
