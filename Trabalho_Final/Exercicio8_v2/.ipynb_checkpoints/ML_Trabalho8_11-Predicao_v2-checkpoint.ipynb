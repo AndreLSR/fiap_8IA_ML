{
 "cells": [
  {
   "cell_type": "code",
   "execution_count": 1,
   "metadata": {
    "colab": {},
    "colab_type": "code",
    "id": "KmDBrHBnhF36"
   },
   "outputs": [],
   "source": [
    "import numpy\n",
    "from numpy import arange\n",
    "from matplotlib import pyplot\n",
    "import seaborn as sb\n",
    "import pandas as pd\n",
    "from pandas import read_csv\n",
    "from pandas import set_option\n",
    "from pandas.plotting import scatter_matrix\n",
    "from sklearn.preprocessing import StandardScaler\n",
    "from sklearn.model_selection import train_test_split\n",
    "from sklearn.model_selection import KFold\n",
    "from sklearn.model_selection import cross_val_score\n",
    "from sklearn.model_selection import GridSearchCV\n",
    "from sklearn.linear_model import LinearRegression\n",
    "from sklearn.linear_model import Lasso\n",
    "from sklearn.linear_model import ElasticNet\n",
    "from sklearn.tree import DecisionTreeRegressor\n",
    "from sklearn.neighbors import KNeighborsRegressor\n",
    "from sklearn.ensemble import RandomForestRegressor\n",
    "from sklearn.ensemble import AdaBoostRegressor\n",
    "from sklearn import metrics\n",
    "from sklearn.svm import SVR\n",
    "from sklearn.pipeline import Pipeline\n",
    "import matplotlib.pyplot as plt"
   ]
  },
  {
   "cell_type": "markdown",
   "metadata": {},
   "source": [
    "## 1) Importando os dados já tratados sem OneHotEncoding:"
   ]
  },
  {
   "cell_type": "code",
   "execution_count": 2,
   "metadata": {},
   "outputs": [
    {
     "data": {
      "text/html": [
       "<div>\n",
       "<style scoped>\n",
       "    .dataframe tbody tr th:only-of-type {\n",
       "        vertical-align: middle;\n",
       "    }\n",
       "\n",
       "    .dataframe tbody tr th {\n",
       "        vertical-align: top;\n",
       "    }\n",
       "\n",
       "    .dataframe thead th {\n",
       "        text-align: right;\n",
       "    }\n",
       "</style>\n",
       "<table border=\"1\" class=\"dataframe\">\n",
       "  <thead>\n",
       "    <tr style=\"text-align: right;\">\n",
       "      <th></th>\n",
       "      <th>V1</th>\n",
       "      <th>V2</th>\n",
       "      <th>V3</th>\n",
       "      <th>V4</th>\n",
       "      <th>V5</th>\n",
       "      <th>V6</th>\n",
       "      <th>V7</th>\n",
       "      <th>V8</th>\n",
       "      <th>V9</th>\n",
       "      <th>V10</th>\n",
       "      <th>knn</th>\n",
       "    </tr>\n",
       "  </thead>\n",
       "  <tbody>\n",
       "    <tr>\n",
       "      <td>0</td>\n",
       "      <td>-122.23</td>\n",
       "      <td>452600.0</td>\n",
       "      <td>129</td>\n",
       "      <td>41</td>\n",
       "      <td>880</td>\n",
       "      <td>3</td>\n",
       "      <td>126</td>\n",
       "      <td>322</td>\n",
       "      <td>83.252</td>\n",
       "      <td>37.88</td>\n",
       "      <td>1</td>\n",
       "    </tr>\n",
       "    <tr>\n",
       "      <td>1</td>\n",
       "      <td>-122.24</td>\n",
       "      <td>352100.0</td>\n",
       "      <td>190</td>\n",
       "      <td>52</td>\n",
       "      <td>1467</td>\n",
       "      <td>3</td>\n",
       "      <td>177</td>\n",
       "      <td>496</td>\n",
       "      <td>72.574</td>\n",
       "      <td>37.85</td>\n",
       "      <td>1</td>\n",
       "    </tr>\n",
       "    <tr>\n",
       "      <td>2</td>\n",
       "      <td>-122.25</td>\n",
       "      <td>341300.0</td>\n",
       "      <td>235</td>\n",
       "      <td>52</td>\n",
       "      <td>1274</td>\n",
       "      <td>3</td>\n",
       "      <td>219</td>\n",
       "      <td>558</td>\n",
       "      <td>56.431</td>\n",
       "      <td>37.85</td>\n",
       "      <td>1</td>\n",
       "    </tr>\n",
       "    <tr>\n",
       "      <td>3</td>\n",
       "      <td>-122.25</td>\n",
       "      <td>342200.0</td>\n",
       "      <td>280</td>\n",
       "      <td>52</td>\n",
       "      <td>1627</td>\n",
       "      <td>3</td>\n",
       "      <td>259</td>\n",
       "      <td>565</td>\n",
       "      <td>38.462</td>\n",
       "      <td>37.85</td>\n",
       "      <td>1</td>\n",
       "    </tr>\n",
       "    <tr>\n",
       "      <td>4</td>\n",
       "      <td>-122.25</td>\n",
       "      <td>269700.0</td>\n",
       "      <td>213</td>\n",
       "      <td>52</td>\n",
       "      <td>919</td>\n",
       "      <td>3</td>\n",
       "      <td>193</td>\n",
       "      <td>413</td>\n",
       "      <td>40.368</td>\n",
       "      <td>37.85</td>\n",
       "      <td>1</td>\n",
       "    </tr>\n",
       "  </tbody>\n",
       "</table>\n",
       "</div>"
      ],
      "text/plain": [
       "       V1        V2   V3  V4    V5  V6   V7   V8      V9    V10  knn\n",
       "0 -122.23  452600.0  129  41   880   3  126  322  83.252  37.88    1\n",
       "1 -122.24  352100.0  190  52  1467   3  177  496  72.574  37.85    1\n",
       "2 -122.25  341300.0  235  52  1274   3  219  558  56.431  37.85    1\n",
       "3 -122.25  342200.0  280  52  1627   3  259  565  38.462  37.85    1\n",
       "4 -122.25  269700.0  213  52   919   3  193  413  40.368  37.85    1"
      ]
     },
     "execution_count": 2,
     "metadata": {},
     "output_type": "execute_result"
    }
   ],
   "source": [
    "data = pd.read_csv(\"/Users/andrerodrigues/Google Drive/FIAP-MBA 8IA/006 - Modelos de IA e ML/Trabalho_Final_2/Exercicio8_v2/df_knn.csv\", sep =\",\")\n",
    "# data = pd.read_csv(\"/Users/andrerodrigues/Google Drive/FIAP-MBA 8IA/006 - Modelos de IA e ML/Trabalho_Final_2/Exercicio8_v2/dados_clust_v2.csv\", sep =\",\")\n",
    "data = data.iloc[:,1:]\n",
    "data.head()"
   ]
  },
  {
   "cell_type": "code",
   "execution_count": 3,
   "metadata": {},
   "outputs": [
    {
     "data": {
      "text/plain": [
       "V1     0\n",
       "V2     0\n",
       "V3     0\n",
       "V4     0\n",
       "V5     0\n",
       "V6     0\n",
       "V7     0\n",
       "V8     0\n",
       "V9     0\n",
       "V10    0\n",
       "knn    0\n",
       "dtype: int64"
      ]
     },
     "execution_count": 3,
     "metadata": {},
     "output_type": "execute_result"
    }
   ],
   "source": [
    "data.isna().sum()"
   ]
  },
  {
   "cell_type": "code",
   "execution_count": 4,
   "metadata": {},
   "outputs": [
    {
     "data": {
      "image/png": "[encoded data removed]",
      "text/plain": [
       "<Figure size 432x288 with 1 Axes>"
      ]
     },
     "metadata": {
      "needs_background": "light"
     },
     "output_type": "display_data"
    }
   ],
   "source": [
    "plot = sb.countplot(x=data['knn'], data=data['V2'], palette='hls')\n",
    "plt.title(\"Verificando \")\n",
    "plt.show(plot)"
   ]
  },
  {
   "cell_type": "code",
   "execution_count": 5,
   "metadata": {},
   "outputs": [],
   "source": [
    "# plot = sb.countplot(x=data['knn'], data=data['V2'], palette='hls')\n",
    "# plt.title(\"Verificando \")\n",
    "# plt.show(plot)"
   ]
  },
  {
   "cell_type": "code",
   "execution_count": 6,
   "metadata": {},
   "outputs": [],
   "source": [
    "# plot = sb.countplot(x=data['som'], data=data['V2'], palette='hls')\n",
    "# plt.title(\"Verificando \")\n",
    "# plt.show(plot)"
   ]
  },
  {
   "cell_type": "code",
   "execution_count": 7,
   "metadata": {},
   "outputs": [
    {
     "data": {
      "text/html": [
       "<div>\n",
       "<style scoped>\n",
       "    .dataframe tbody tr th:only-of-type {\n",
       "        vertical-align: middle;\n",
       "    }\n",
       "\n",
       "    .dataframe tbody tr th {\n",
       "        vertical-align: top;\n",
       "    }\n",
       "\n",
       "    .dataframe thead th {\n",
       "        text-align: right;\n",
       "    }\n",
       "</style>\n",
       "<table border=\"1\" class=\"dataframe\">\n",
       "  <thead>\n",
       "    <tr style=\"text-align: right;\">\n",
       "      <th></th>\n",
       "      <th>V1</th>\n",
       "      <th>V2</th>\n",
       "      <th>V3</th>\n",
       "      <th>V4</th>\n",
       "      <th>V5</th>\n",
       "      <th>V6</th>\n",
       "      <th>V7</th>\n",
       "      <th>V8</th>\n",
       "      <th>V9</th>\n",
       "      <th>V10</th>\n",
       "      <th>knn</th>\n",
       "    </tr>\n",
       "  </thead>\n",
       "  <tbody>\n",
       "    <tr>\n",
       "      <td>85</td>\n",
       "      <td>-122.27</td>\n",
       "      <td>137500.0</td>\n",
       "      <td>42</td>\n",
       "      <td>10</td>\n",
       "      <td>105</td>\n",
       "      <td>3</td>\n",
       "      <td>39</td>\n",
       "      <td>125</td>\n",
       "      <td>0.9722</td>\n",
       "      <td>37.80</td>\n",
       "      <td>3</td>\n",
       "    </tr>\n",
       "    <tr>\n",
       "      <td>545</td>\n",
       "      <td>-122.24</td>\n",
       "      <td>228400.0</td>\n",
       "      <td>1249</td>\n",
       "      <td>21</td>\n",
       "      <td>7031</td>\n",
       "      <td>3</td>\n",
       "      <td>1235</td>\n",
       "      <td>2930</td>\n",
       "      <td>45.2130</td>\n",
       "      <td>37.73</td>\n",
       "      <td>3</td>\n",
       "    </tr>\n",
       "    <tr>\n",
       "      <td>670</td>\n",
       "      <td>-121.97</td>\n",
       "      <td>431000.0</td>\n",
       "      <td>194</td>\n",
       "      <td>32</td>\n",
       "      <td>1283</td>\n",
       "      <td>0</td>\n",
       "      <td>171</td>\n",
       "      <td>485</td>\n",
       "      <td>60.5740</td>\n",
       "      <td>37.64</td>\n",
       "      <td>3</td>\n",
       "    </tr>\n",
       "    <tr>\n",
       "      <td>675</td>\n",
       "      <td>-122.05</td>\n",
       "      <td>216800.0</td>\n",
       "      <td>1279</td>\n",
       "      <td>23</td>\n",
       "      <td>7518</td>\n",
       "      <td>3</td>\n",
       "      <td>1294</td>\n",
       "      <td>3827</td>\n",
       "      <td>51.7010</td>\n",
       "      <td>37.68</td>\n",
       "      <td>3</td>\n",
       "    </tr>\n",
       "    <tr>\n",
       "      <td>784</td>\n",
       "      <td>-122.06</td>\n",
       "      <td>208900.0</td>\n",
       "      <td>1374</td>\n",
       "      <td>12</td>\n",
       "      <td>6711</td>\n",
       "      <td>3</td>\n",
       "      <td>1289</td>\n",
       "      <td>3388</td>\n",
       "      <td>38.6250</td>\n",
       "      <td>37.63</td>\n",
       "      <td>3</td>\n",
       "    </tr>\n",
       "  </tbody>\n",
       "</table>\n",
       "</div>"
      ],
      "text/plain": [
       "         V1        V2    V3  V4    V5  V6    V7    V8       V9    V10  knn\n",
       "85  -122.27  137500.0    42  10   105   3    39   125   0.9722  37.80    3\n",
       "545 -122.24  228400.0  1249  21  7031   3  1235  2930  45.2130  37.73    3\n",
       "670 -121.97  431000.0   194  32  1283   0   171   485  60.5740  37.64    3\n",
       "675 -122.05  216800.0  1279  23  7518   3  1294  3827  51.7010  37.68    3\n",
       "784 -122.06  208900.0  1374  12  6711   3  1289  3388  38.6250  37.63    3"
      ]
     },
     "execution_count": 7,
     "metadata": {},
     "output_type": "execute_result"
    }
   ],
   "source": [
    "# data.drop(columns=['kmeans', 'som'], axis=1, inplace=True)\n",
    "# data.drop(columns=['dbscan', 'som'], axis=1, inplace=True)\n",
    "# data.drop(columns=['dbscan', 'kmeans'], axis=1, inplace=True)\n",
    "# data.drop(columns=['dbscan', 'kmeans', 'som'], axis=1, inplace=True)\n",
    "# data.drop(data[data.dbscan == 0].index, inplace=True)\n",
    "data = data[data['knn'] == 3]\n",
    "data.head()"
   ]
  },
  {
   "cell_type": "code",
   "execution_count": 8,
   "metadata": {},
   "outputs": [
    {
     "data": {
      "text/html": [
       "<div>\n",
       "<style scoped>\n",
       "    .dataframe tbody tr th:only-of-type {\n",
       "        vertical-align: middle;\n",
       "    }\n",
       "\n",
       "    .dataframe tbody tr th {\n",
       "        vertical-align: top;\n",
       "    }\n",
       "\n",
       "    .dataframe thead th {\n",
       "        text-align: right;\n",
       "    }\n",
       "</style>\n",
       "<table border=\"1\" class=\"dataframe\">\n",
       "  <thead>\n",
       "    <tr style=\"text-align: right;\">\n",
       "      <th></th>\n",
       "      <th>V1</th>\n",
       "      <th>V2</th>\n",
       "      <th>V3</th>\n",
       "      <th>V4</th>\n",
       "      <th>V5</th>\n",
       "      <th>V6</th>\n",
       "      <th>V7</th>\n",
       "      <th>V8</th>\n",
       "      <th>V9</th>\n",
       "      <th>V10</th>\n",
       "    </tr>\n",
       "  </thead>\n",
       "  <tbody>\n",
       "    <tr>\n",
       "      <td>85</td>\n",
       "      <td>-122.27</td>\n",
       "      <td>137500.0</td>\n",
       "      <td>42</td>\n",
       "      <td>10</td>\n",
       "      <td>105</td>\n",
       "      <td>3</td>\n",
       "      <td>39</td>\n",
       "      <td>125</td>\n",
       "      <td>0.9722</td>\n",
       "      <td>37.80</td>\n",
       "    </tr>\n",
       "    <tr>\n",
       "      <td>545</td>\n",
       "      <td>-122.24</td>\n",
       "      <td>228400.0</td>\n",
       "      <td>1249</td>\n",
       "      <td>21</td>\n",
       "      <td>7031</td>\n",
       "      <td>3</td>\n",
       "      <td>1235</td>\n",
       "      <td>2930</td>\n",
       "      <td>45.2130</td>\n",
       "      <td>37.73</td>\n",
       "    </tr>\n",
       "    <tr>\n",
       "      <td>670</td>\n",
       "      <td>-121.97</td>\n",
       "      <td>431000.0</td>\n",
       "      <td>194</td>\n",
       "      <td>32</td>\n",
       "      <td>1283</td>\n",
       "      <td>0</td>\n",
       "      <td>171</td>\n",
       "      <td>485</td>\n",
       "      <td>60.5740</td>\n",
       "      <td>37.64</td>\n",
       "    </tr>\n",
       "    <tr>\n",
       "      <td>675</td>\n",
       "      <td>-122.05</td>\n",
       "      <td>216800.0</td>\n",
       "      <td>1279</td>\n",
       "      <td>23</td>\n",
       "      <td>7518</td>\n",
       "      <td>3</td>\n",
       "      <td>1294</td>\n",
       "      <td>3827</td>\n",
       "      <td>51.7010</td>\n",
       "      <td>37.68</td>\n",
       "    </tr>\n",
       "    <tr>\n",
       "      <td>784</td>\n",
       "      <td>-122.06</td>\n",
       "      <td>208900.0</td>\n",
       "      <td>1374</td>\n",
       "      <td>12</td>\n",
       "      <td>6711</td>\n",
       "      <td>3</td>\n",
       "      <td>1289</td>\n",
       "      <td>3388</td>\n",
       "      <td>38.6250</td>\n",
       "      <td>37.63</td>\n",
       "    </tr>\n",
       "  </tbody>\n",
       "</table>\n",
       "</div>"
      ],
      "text/plain": [
       "         V1        V2    V3  V4    V5  V6    V7    V8       V9    V10\n",
       "85  -122.27  137500.0    42  10   105   3    39   125   0.9722  37.80\n",
       "545 -122.24  228400.0  1249  21  7031   3  1235  2930  45.2130  37.73\n",
       "670 -121.97  431000.0   194  32  1283   0   171   485  60.5740  37.64\n",
       "675 -122.05  216800.0  1279  23  7518   3  1294  3827  51.7010  37.68\n",
       "784 -122.06  208900.0  1374  12  6711   3  1289  3388  38.6250  37.63"
      ]
     },
     "execution_count": 8,
     "metadata": {},
     "output_type": "execute_result"
    }
   ],
   "source": [
    "data.drop(columns='knn',axis=1,inplace=True)\n",
    "data.head()"
   ]
  },
  {
   "cell_type": "code",
   "execution_count": 9,
   "metadata": {},
   "outputs": [
    {
     "data": {
      "text/html": [
       "<div>\n",
       "<style scoped>\n",
       "    .dataframe tbody tr th:only-of-type {\n",
       "        vertical-align: middle;\n",
       "    }\n",
       "\n",
       "    .dataframe tbody tr th {\n",
       "        vertical-align: top;\n",
       "    }\n",
       "\n",
       "    .dataframe thead th {\n",
       "        text-align: right;\n",
       "    }\n",
       "</style>\n",
       "<table border=\"1\" class=\"dataframe\">\n",
       "  <thead>\n",
       "    <tr style=\"text-align: right;\">\n",
       "      <th></th>\n",
       "      <th>V1</th>\n",
       "      <th>V2</th>\n",
       "      <th>V3</th>\n",
       "      <th>V4</th>\n",
       "      <th>V5</th>\n",
       "      <th>V6</th>\n",
       "      <th>V7</th>\n",
       "      <th>V8</th>\n",
       "      <th>V9</th>\n",
       "      <th>V10</th>\n",
       "    </tr>\n",
       "  </thead>\n",
       "  <tbody>\n",
       "    <tr>\n",
       "      <td>count</td>\n",
       "      <td>14679.000000</td>\n",
       "      <td>14679.000000</td>\n",
       "      <td>14679.000000</td>\n",
       "      <td>14679.000000</td>\n",
       "      <td>14679.000000</td>\n",
       "      <td>14679.000000</td>\n",
       "      <td>14679.000000</td>\n",
       "      <td>14679.000000</td>\n",
       "      <td>14679.000000</td>\n",
       "      <td>14679.000000</td>\n",
       "    </tr>\n",
       "    <tr>\n",
       "      <td>mean</td>\n",
       "      <td>-119.225066</td>\n",
       "      <td>188032.934328</td>\n",
       "      <td>476.614347</td>\n",
       "      <td>27.884256</td>\n",
       "      <td>2325.187547</td>\n",
       "      <td>0.417672</td>\n",
       "      <td>445.544928</td>\n",
       "      <td>1309.943797</td>\n",
       "      <td>32.663738</td>\n",
       "      <td>35.472215</td>\n",
       "    </tr>\n",
       "    <tr>\n",
       "      <td>std</td>\n",
       "      <td>1.763840</td>\n",
       "      <td>105419.509336</td>\n",
       "      <td>272.872802</td>\n",
       "      <td>11.779537</td>\n",
       "      <td>1346.002611</td>\n",
       "      <td>0.497593</td>\n",
       "      <td>254.677670</td>\n",
       "      <td>758.172803</td>\n",
       "      <td>20.545267</td>\n",
       "      <td>2.071392</td>\n",
       "    </tr>\n",
       "    <tr>\n",
       "      <td>min</td>\n",
       "      <td>-124.140000</td>\n",
       "      <td>14999.000000</td>\n",
       "      <td>2.000000</td>\n",
       "      <td>1.000000</td>\n",
       "      <td>2.000000</td>\n",
       "      <td>0.000000</td>\n",
       "      <td>2.000000</td>\n",
       "      <td>3.000000</td>\n",
       "      <td>0.499900</td>\n",
       "      <td>32.610000</td>\n",
       "    </tr>\n",
       "    <tr>\n",
       "      <td>25%</td>\n",
       "      <td>-121.050000</td>\n",
       "      <td>109500.000000</td>\n",
       "      <td>291.000000</td>\n",
       "      <td>18.000000</td>\n",
       "      <td>1415.500000</td>\n",
       "      <td>0.000000</td>\n",
       "      <td>274.000000</td>\n",
       "      <td>787.000000</td>\n",
       "      <td>19.776000</td>\n",
       "      <td>33.950000</td>\n",
       "    </tr>\n",
       "    <tr>\n",
       "      <td>50%</td>\n",
       "      <td>-118.370000</td>\n",
       "      <td>165000.000000</td>\n",
       "      <td>421.000000</td>\n",
       "      <td>28.000000</td>\n",
       "      <td>2045.000000</td>\n",
       "      <td>0.000000</td>\n",
       "      <td>394.000000</td>\n",
       "      <td>1158.000000</td>\n",
       "      <td>31.289000</td>\n",
       "      <td>34.160000</td>\n",
       "    </tr>\n",
       "    <tr>\n",
       "      <td>75%</td>\n",
       "      <td>-118.000000</td>\n",
       "      <td>236400.000000</td>\n",
       "      <td>600.000000</td>\n",
       "      <td>36.000000</td>\n",
       "      <td>2956.000000</td>\n",
       "      <td>1.000000</td>\n",
       "      <td>565.000000</td>\n",
       "      <td>1673.000000</td>\n",
       "      <td>43.882000</td>\n",
       "      <td>37.340000</td>\n",
       "    </tr>\n",
       "    <tr>\n",
       "      <td>max</td>\n",
       "      <td>-114.550000</td>\n",
       "      <td>500001.000000</td>\n",
       "      <td>1997.000000</td>\n",
       "      <td>52.000000</td>\n",
       "      <td>10356.000000</td>\n",
       "      <td>3.000000</td>\n",
       "      <td>1924.000000</td>\n",
       "      <td>5439.000000</td>\n",
       "      <td>150.001000</td>\n",
       "      <td>41.950000</td>\n",
       "    </tr>\n",
       "  </tbody>\n",
       "</table>\n",
       "</div>"
      ],
      "text/plain": [
       "                 V1             V2            V3            V4            V5  \\\n",
       "count  14679.000000   14679.000000  14679.000000  14679.000000  14679.000000   \n",
       "mean    -119.225066  188032.934328    476.614347     27.884256   2325.187547   \n",
       "std        1.763840  105419.509336    272.872802     11.779537   1346.002611   \n",
       "min     -124.140000   14999.000000      2.000000      1.000000      2.000000   \n",
       "25%     -121.050000  109500.000000    291.000000     18.000000   1415.500000   \n",
       "50%     -118.370000  165000.000000    421.000000     28.000000   2045.000000   \n",
       "75%     -118.000000  236400.000000    600.000000     36.000000   2956.000000   \n",
       "max     -114.550000  500001.000000   1997.000000     52.000000  10356.000000   \n",
       "\n",
       "                 V6            V7            V8            V9           V10  \n",
       "count  14679.000000  14679.000000  14679.000000  14679.000000  14679.000000  \n",
       "mean       0.417672    445.544928   1309.943797     32.663738     35.472215  \n",
       "std        0.497593    254.677670    758.172803     20.545267      2.071392  \n",
       "min        0.000000      2.000000      3.000000      0.499900     32.610000  \n",
       "25%        0.000000    274.000000    787.000000     19.776000     33.950000  \n",
       "50%        0.000000    394.000000   1158.000000     31.289000     34.160000  \n",
       "75%        1.000000    565.000000   1673.000000     43.882000     37.340000  \n",
       "max        3.000000   1924.000000   5439.000000    150.001000     41.950000  "
      ]
     },
     "execution_count": 9,
     "metadata": {},
     "output_type": "execute_result"
    }
   ],
   "source": [
    "data.describe()"
   ]
  },
  {
   "cell_type": "markdown",
   "metadata": {},
   "source": [
    "## 2) Importando os dados já tratados com OneHotEncoding:"
   ]
  },
  {
   "cell_type": "code",
   "execution_count": 10,
   "metadata": {},
   "outputs": [],
   "source": [
    "# data_ohe = pd.read_csv(\"/Users/andrerodrigues/Google Drive/FIAP-MBA 8IA/006 - Modelos de IA e ML/Trabalho_Final_2/Exercicio8_v2/data_ohe_nostd_v2.csv\", sep =\",\")\n",
    "# data_ohe = data_ohe.iloc[:,1:]\n",
    "# data_ohe[\"dbscan\"] = data[\"dbscan\"]\n",
    "# # data_ohe[\"kmeans\"] = data[\"kmeans\"]\n",
    "# # data_ohe[\"som\"] = data[\"som\"]\n",
    "# data_ohe.head()"
   ]
  },
  {
   "cell_type": "markdown",
   "metadata": {
    "colab_type": "text",
    "id": "gar15NfghF4L"
   },
   "source": [
    "## 4) Validando independencia entre as variáveis"
   ]
  },
  {
   "cell_type": "markdown",
   "metadata": {
    "colab_type": "text",
    "id": "E9svsqd6hF4M"
   },
   "source": [
    "#### a) correlation"
   ]
  },
  {
   "cell_type": "code",
   "execution_count": 11,
   "metadata": {
    "colab": {
     "base_uri": "https://localhost:8080/",
     "height": 204
    },
    "colab_type": "code",
    "executionInfo": {
     "elapsed": 5267,
     "status": "ok",
     "timestamp": 1574369531688,
     "user": {
      "displayName": "André Rodrigues",
      "photoUrl": "https://lh3.googleusercontent.com/a-/AAuE7mC4VcoLAlPEtIAJVPWTppZJ9S3ou2QH75zgDkJrgn0=s64",
      "userId": "01975921740661022202"
     },
     "user_tz": 180
    },
    "id": "4o4vSImXhF4M",
    "outputId": "2925256d-5e5e-42aa-eee2-ab1e09f4222d"
   },
   "outputs": [
    {
     "name": "stdout",
     "output_type": "stream",
     "text": [
      "       V1    V2    V3    V4    V5    V6    V7    V8    V9   V10\n",
      "V1   1.00  0.12  0.06  0.09  0.02 -0.28  0.06  0.11  0.04 -0.92\n",
      "V2   0.12  1.00  0.04  0.09  0.16 -0.53  0.06 -0.03  0.56 -0.31\n",
      "V3   0.06  0.04  1.00 -0.30  0.89 -0.03  0.98  0.86  0.02 -0.07\n",
      "V4   0.09  0.09 -0.30  1.00 -0.37 -0.22 -0.28 -0.24 -0.12 -0.16\n",
      "V5   0.02  0.16  0.89 -0.37  1.00  0.02  0.90  0.80  0.24 -0.02\n",
      "V6  -0.28 -0.53 -0.03 -0.22  0.02  1.00 -0.07 -0.09 -0.22  0.53\n",
      "V7   0.06  0.06  0.98 -0.28  0.90 -0.07  1.00  0.89  0.04 -0.09\n",
      "V8   0.11 -0.03  0.86 -0.24  0.80 -0.09  0.89  1.00  0.03 -0.14\n",
      "V9   0.04  0.56  0.02 -0.12  0.24 -0.22  0.04  0.03  1.00 -0.13\n",
      "V10 -0.92 -0.31 -0.07 -0.16 -0.02  0.53 -0.09 -0.14 -0.13  1.00\n",
      "\n",
      "\n"
     ]
    },
    {
     "data": {
      "image/png": "[encoded data removed]",
      "text/plain": [
       "<Figure size 432x288 with 2 Axes>"
      ]
     },
     "metadata": {
      "needs_background": "light"
     },
     "output_type": "display_data"
    }
   ],
   "source": [
    "set_option('precision', 2)\n",
    "corr = data.corr(method='pearson')\n",
    "print(corr)\n",
    "plot1 = sb.heatmap(data.corr()) \n",
    "print('\\n')\n",
    "plt.title(\"Heatmap - Check de Indepedencia das Variaveis\")\n",
    "plt.show(plot1)"
   ]
  },
  {
   "cell_type": "code",
   "execution_count": 12,
   "metadata": {},
   "outputs": [
    {
     "data": {
      "text/html": [
       "<div>\n",
       "<style scoped>\n",
       "    .dataframe tbody tr th:only-of-type {\n",
       "        vertical-align: middle;\n",
       "    }\n",
       "\n",
       "    .dataframe tbody tr th {\n",
       "        vertical-align: top;\n",
       "    }\n",
       "\n",
       "    .dataframe thead th {\n",
       "        text-align: right;\n",
       "    }\n",
       "</style>\n",
       "<table border=\"1\" class=\"dataframe\">\n",
       "  <thead>\n",
       "    <tr style=\"text-align: right;\">\n",
       "      <th></th>\n",
       "      <th>V1</th>\n",
       "      <th>V2</th>\n",
       "      <th>V3</th>\n",
       "      <th>V4</th>\n",
       "      <th>V5</th>\n",
       "      <th>V6</th>\n",
       "      <th>V7</th>\n",
       "      <th>V8</th>\n",
       "      <th>V9</th>\n",
       "      <th>V10</th>\n",
       "    </tr>\n",
       "  </thead>\n",
       "  <tbody>\n",
       "    <tr>\n",
       "      <td>V2</td>\n",
       "      <td>0.12</td>\n",
       "      <td>1.00</td>\n",
       "      <td>0.04</td>\n",
       "      <td>0.09</td>\n",
       "      <td>0.16</td>\n",
       "      <td>-0.53</td>\n",
       "      <td>0.06</td>\n",
       "      <td>-0.03</td>\n",
       "      <td>0.56</td>\n",
       "      <td>-0.31</td>\n",
       "    </tr>\n",
       "    <tr>\n",
       "      <td>V6</td>\n",
       "      <td>-0.28</td>\n",
       "      <td>-0.53</td>\n",
       "      <td>-0.03</td>\n",
       "      <td>-0.22</td>\n",
       "      <td>0.02</td>\n",
       "      <td>1.00</td>\n",
       "      <td>-0.07</td>\n",
       "      <td>-0.09</td>\n",
       "      <td>-0.22</td>\n",
       "      <td>0.53</td>\n",
       "    </tr>\n",
       "    <tr>\n",
       "      <td>V9</td>\n",
       "      <td>0.04</td>\n",
       "      <td>0.56</td>\n",
       "      <td>0.02</td>\n",
       "      <td>-0.12</td>\n",
       "      <td>0.24</td>\n",
       "      <td>-0.22</td>\n",
       "      <td>0.04</td>\n",
       "      <td>0.03</td>\n",
       "      <td>1.00</td>\n",
       "      <td>-0.13</td>\n",
       "    </tr>\n",
       "    <tr>\n",
       "      <td>V10</td>\n",
       "      <td>-0.92</td>\n",
       "      <td>-0.31</td>\n",
       "      <td>-0.07</td>\n",
       "      <td>-0.16</td>\n",
       "      <td>-0.02</td>\n",
       "      <td>0.53</td>\n",
       "      <td>-0.09</td>\n",
       "      <td>-0.14</td>\n",
       "      <td>-0.13</td>\n",
       "      <td>1.00</td>\n",
       "    </tr>\n",
       "  </tbody>\n",
       "</table>\n",
       "</div>"
      ],
      "text/plain": [
       "       V1    V2    V3    V4    V5    V6    V7    V8    V9   V10\n",
       "V2   0.12  1.00  0.04  0.09  0.16 -0.53  0.06 -0.03  0.56 -0.31\n",
       "V6  -0.28 -0.53 -0.03 -0.22  0.02  1.00 -0.07 -0.09 -0.22  0.53\n",
       "V9   0.04  0.56  0.02 -0.12  0.24 -0.22  0.04  0.03  1.00 -0.13\n",
       "V10 -0.92 -0.31 -0.07 -0.16 -0.02  0.53 -0.09 -0.14 -0.13  1.00"
      ]
     },
     "execution_count": 12,
     "metadata": {},
     "output_type": "execute_result"
    }
   ],
   "source": [
    "to_del = corr[abs(corr.V2) > 0.25]\n",
    "to_del"
   ]
  },
  {
   "cell_type": "code",
   "execution_count": 13,
   "metadata": {},
   "outputs": [
    {
     "data": {
      "text/plain": [
       "['V2', 'V6', 'V9', 'V10']"
      ]
     },
     "execution_count": 13,
     "metadata": {},
     "output_type": "execute_result"
    }
   ],
   "source": [
    "apagar=list(to_del.index)\n",
    "apagar"
   ]
  },
  {
   "cell_type": "markdown",
   "metadata": {},
   "source": [
    "#### Pela analise do heatmap, vemos que há uma alta correlação das variaveis V4, V5, V9, V10 e dbscan com V2"
   ]
  },
  {
   "cell_type": "markdown",
   "metadata": {
    "colab_type": "text",
    "id": "4G70jaduhF4Q"
   },
   "source": [
    "## 5)Data visualizations"
   ]
  },
  {
   "cell_type": "markdown",
   "metadata": {
    "colab_type": "text",
    "id": "9C3RAr6shF4R"
   },
   "source": [
    "#### a) Histograms"
   ]
  },
  {
   "cell_type": "code",
   "execution_count": 14,
   "metadata": {
    "colab": {
     "base_uri": "https://localhost:8080/",
     "height": 825
    },
    "colab_type": "code",
    "executionInfo": {
     "elapsed": 8071,
     "status": "ok",
     "timestamp": 1574369534502,
     "user": {
      "displayName": "André Rodrigues",
      "photoUrl": "https://lh3.googleusercontent.com/a-/AAuE7mC4VcoLAlPEtIAJVPWTppZJ9S3ou2QH75zgDkJrgn0=s64",
      "userId": "01975921740661022202"
     },
     "user_tz": 180
    },
    "id": "espms2Y_hF4R",
    "outputId": "df0791a8-7d04-4c1e-88c5-134d88e800a5"
   },
   "outputs": [
    {
     "data": {
      "image/png": "[encoded data removed]",
      "text/plain": [
       "<Figure size 1296x1008 with 12 Axes>"
      ]
     },
     "metadata": {
      "needs_background": "light"
     },
     "output_type": "display_data"
    }
   ],
   "source": [
    "data.hist(bins=10,figsize=(18,14),grid=False);"
   ]
  },
  {
   "cell_type": "markdown",
   "metadata": {},
   "source": [
    "### Ao observar os resultados das correlacoes e do hotmap, notamos que as variáveis V2 e V9 possuem uma forte correlacao."
   ]
  },
  {
   "cell_type": "code",
   "execution_count": 15,
   "metadata": {},
   "outputs": [
    {
     "data": {
      "text/html": [
       "<div>\n",
       "<style scoped>\n",
       "    .dataframe tbody tr th:only-of-type {\n",
       "        vertical-align: middle;\n",
       "    }\n",
       "\n",
       "    .dataframe tbody tr th {\n",
       "        vertical-align: top;\n",
       "    }\n",
       "\n",
       "    .dataframe thead th {\n",
       "        text-align: right;\n",
       "    }\n",
       "</style>\n",
       "<table border=\"1\" class=\"dataframe\">\n",
       "  <thead>\n",
       "    <tr style=\"text-align: right;\">\n",
       "      <th></th>\n",
       "      <th>V1</th>\n",
       "      <th>V2</th>\n",
       "      <th>V3</th>\n",
       "      <th>V4</th>\n",
       "      <th>V5</th>\n",
       "      <th>V7</th>\n",
       "      <th>V8</th>\n",
       "    </tr>\n",
       "  </thead>\n",
       "  <tbody>\n",
       "    <tr>\n",
       "      <td>85</td>\n",
       "      <td>-122.27</td>\n",
       "      <td>137500.0</td>\n",
       "      <td>42</td>\n",
       "      <td>10</td>\n",
       "      <td>105</td>\n",
       "      <td>39</td>\n",
       "      <td>125</td>\n",
       "    </tr>\n",
       "    <tr>\n",
       "      <td>545</td>\n",
       "      <td>-122.24</td>\n",
       "      <td>228400.0</td>\n",
       "      <td>1249</td>\n",
       "      <td>21</td>\n",
       "      <td>7031</td>\n",
       "      <td>1235</td>\n",
       "      <td>2930</td>\n",
       "    </tr>\n",
       "    <tr>\n",
       "      <td>670</td>\n",
       "      <td>-121.97</td>\n",
       "      <td>431000.0</td>\n",
       "      <td>194</td>\n",
       "      <td>32</td>\n",
       "      <td>1283</td>\n",
       "      <td>171</td>\n",
       "      <td>485</td>\n",
       "    </tr>\n",
       "    <tr>\n",
       "      <td>675</td>\n",
       "      <td>-122.05</td>\n",
       "      <td>216800.0</td>\n",
       "      <td>1279</td>\n",
       "      <td>23</td>\n",
       "      <td>7518</td>\n",
       "      <td>1294</td>\n",
       "      <td>3827</td>\n",
       "    </tr>\n",
       "    <tr>\n",
       "      <td>784</td>\n",
       "      <td>-122.06</td>\n",
       "      <td>208900.0</td>\n",
       "      <td>1374</td>\n",
       "      <td>12</td>\n",
       "      <td>6711</td>\n",
       "      <td>1289</td>\n",
       "      <td>3388</td>\n",
       "    </tr>\n",
       "  </tbody>\n",
       "</table>\n",
       "</div>"
      ],
      "text/plain": [
       "         V1        V2    V3  V4    V5    V7    V8\n",
       "85  -122.27  137500.0    42  10   105    39   125\n",
       "545 -122.24  228400.0  1249  21  7031  1235  2930\n",
       "670 -121.97  431000.0   194  32  1283   171   485\n",
       "675 -122.05  216800.0  1279  23  7518  1294  3827\n",
       "784 -122.06  208900.0  1374  12  6711  1289  3388"
      ]
     },
     "execution_count": 15,
     "metadata": {},
     "output_type": "execute_result"
    }
   ],
   "source": [
    "# df = data.drop(columns=['V1','V3','V4','V5','V6','V7','V8','V9','V10'], axis=1)\n",
    "df = data.drop(columns=['V6','V9','V10'], axis=1)\n",
    "\n",
    "\n",
    "df.head()"
   ]
  },
  {
   "cell_type": "markdown",
   "metadata": {},
   "source": [
    "#### b) Normalização dos dados"
   ]
  },
  {
   "cell_type": "code",
   "execution_count": 16,
   "metadata": {},
   "outputs": [
    {
     "data": {
      "text/plain": [
       "array([[-1.72636831, -0.47936721, -1.5927903 , ..., -1.64952368,\n",
       "        -1.59636601, -1.56294733],\n",
       "       [-1.70935939,  0.3829314 ,  2.83066673, ...,  3.49625826,\n",
       "         3.09992613,  2.13686297],\n",
       "       [-1.55627909,  2.30484228, -1.03573523, ..., -0.77430983,\n",
       "        -1.07804614, -1.08810537],\n",
       "       ...,\n",
       "       [-1.13105604, -0.90814495,  0.03073204, ..., -0.05288992,\n",
       "        -0.04925974, -0.39958452],\n",
       "       [-1.18775245, -0.98024033, -0.24779549, ..., -0.34561849,\n",
       "        -0.37909965, -0.75043997],\n",
       "       [-1.14239532, -0.93565503,  0.51082556, ...,  0.34162498,\n",
       "         0.33162683,  0.10163755]])"
      ]
     },
     "execution_count": 16,
     "metadata": {},
     "output_type": "execute_result"
    }
   ],
   "source": [
    "# Vamos guardar o valor não normalizado de X na variavel Xold\n",
    "dfNew = StandardScaler().fit_transform(df)\n",
    "dfold = df\n",
    "df = dfNew\n",
    "df"
   ]
  },
  {
   "cell_type": "code",
   "execution_count": 17,
   "metadata": {},
   "outputs": [
    {
     "data": {
      "text/plain": [
       "7"
      ]
     },
     "execution_count": 17,
     "metadata": {},
     "output_type": "execute_result"
    }
   ],
   "source": [
    "df.shape[1]"
   ]
  },
  {
   "cell_type": "code",
   "execution_count": 18,
   "metadata": {},
   "outputs": [
    {
     "data": {
      "text/plain": [
       "array([-0.47936721,  0.3829314 ,  2.30484228, ..., -0.90814495,\n",
       "       -0.98024033, -0.93565503])"
      ]
     },
     "execution_count": 18,
     "metadata": {},
     "output_type": "execute_result"
    }
   ],
   "source": [
    "Y = df[:,1]\n",
    "Y"
   ]
  },
  {
   "cell_type": "code",
   "execution_count": 19,
   "metadata": {},
   "outputs": [
    {
     "data": {
      "text/plain": [
       "array([[-1.72636831, -1.5927903 , -1.51829958, -1.64952368, -1.59636601,\n",
       "        -1.56294733],\n",
       "       [-1.70935939,  2.83066673, -0.58444497,  3.49625826,  3.09992613,\n",
       "         2.13686297],\n",
       "       [-1.55627909, -1.03573523,  0.34940965, -0.77430983, -1.07804614,\n",
       "        -1.08810537],\n",
       "       ...,\n",
       "       [-1.13105604,  0.03073204, -0.92402846, -0.05288992, -0.04925974,\n",
       "        -0.39958452],\n",
       "       [-1.18775245, -0.24779549, -0.83913259, -0.34561849, -0.37909965,\n",
       "        -0.75043997],\n",
       "       [-1.14239532,  0.51082556, -1.00892434,  0.34162498,  0.33162683,\n",
       "         0.10163755]])"
      ]
     },
     "execution_count": 19,
     "metadata": {},
     "output_type": "execute_result"
    }
   ],
   "source": [
    "X = df[:,[0,2,3,4,5,6]]\n",
    "X"
   ]
  },
  {
   "cell_type": "markdown",
   "metadata": {
    "colab_type": "text",
    "id": "aeC4yg2IQ-Up"
   },
   "source": [
    "## 3) Seleciona o dataset para ser tratado pelo Modelo de Machine Learning e Separa as Classes"
   ]
  },
  {
   "cell_type": "code",
   "execution_count": 20,
   "metadata": {
    "colab": {
     "base_uri": "https://localhost:8080/",
     "height": 34
    },
    "colab_type": "code",
    "executionInfo": {
     "elapsed": 8309,
     "status": "ok",
     "timestamp": 1574127519808,
     "user": {
      "displayName": "André Rodrigues",
      "photoUrl": "https://lh3.googleusercontent.com/a-/AAuE7mC4VcoLAlPEtIAJVPWTppZJ9S3ou2QH75zgDkJrgn0=s64",
      "userId": "01975921740661022202"
     },
     "user_tz": 180
    },
    "id": "m1CV4kvGQ-Uv",
    "outputId": "39ec2f2e-994b-4147-f247-4fc1ae42b241"
   },
   "outputs": [],
   "source": [
    "# import traceback\n",
    "\n",
    "# def dataset_for_machine(dataset):\n",
    "    \n",
    "#     # Tente receber o nome do arquivo\n",
    "#     try:\n",
    "#         d = dataset\n",
    "  \n",
    "            \n",
    "#         if d == 'data':\n",
    "#             #No caso do DBSCAN, as amostras cujo o cluster for igual a 0, são consideradas outliers e não podemos considera-las como classe do problema.\n",
    "# #             data.drop(data[data.dbscan == 0].index, inplace=True)\n",
    "#             # Troca o nome do dataset para df. A partir desse ponto, o dataset para ser tratado pelo modelo de ML será conhecido por df.\n",
    "#             df = data\n",
    "#             # Separa a classe\n",
    "#             classes = df['V2']\n",
    "#             df.drop(columns=['V2'], axis=1, inplace=True)\n",
    "            \n",
    "\n",
    "\n",
    "#         elif d == 'data_ohe':\n",
    "#             #No caso do DBSCAN, as amostras cujo o cluster for igual a 0, são consideradas outliers e não podemos considera-las como classe do problema.\n",
    "# #             data.drop(data[data.dbscan == 0].index, inplace=True)\n",
    "#             # Troca o nome do dataset para df. A partir desse ponto, o dataset para ser tratado pelo modelo de ML será conhecido por df.\n",
    "#             df = data_ohe\n",
    "#             # Separa a classe\n",
    "#             classes = df['1']\n",
    "#             df.drop(columns=['1'], axis=1, inplace=True)\n",
    "\n",
    "#         else:\n",
    "#             print(\"Escolha entre 'data' ou 'data_ohe'\")\n",
    "#             exit\n",
    "\n",
    "#     # Se ocorrer um erro\n",
    "#     except:\n",
    "#         # Mostre na tela\n",
    "#         trace = traceback.format_exc()\n",
    "#         print ('Aconteceu um erro:\\n', trace)\n",
    "#         # Encerre o programa\n",
    "#         raise SystemExit\n",
    "        \n",
    "#     return df, classes\n",
    "    \n",
    "\n",
    "# dataset = input(\"Entre com o dataset que será tratado pela maquina('data' ou 'data_ohe'):\")\n",
    "# df, classes = dataset_for_machine(dataset)"
   ]
  },
  {
   "cell_type": "markdown",
   "metadata": {
    "colab_type": "text",
    "id": "1TlW-96KQ-Ux"
   },
   "source": [
    "* A partir desse ponto, o dataset para ser tratado pelo modelo de ML será conhecido por df. A seleção se ele vai ser passado com ou sem One Hot Encoding foi feita acima."
   ]
  },
  {
   "cell_type": "markdown",
   "metadata": {
    "colab_type": "text",
    "id": "mznGLiDHhF4I"
   },
   "source": [
    "## 3) Descriptions, change precision to 2 places"
   ]
  },
  {
   "cell_type": "markdown",
   "metadata": {
    "colab_type": "text",
    "id": "rC9O6F1whF4b"
   },
   "source": [
    "## 7) Separar o conjunto em variavel resposta e variaveis de treinamento"
   ]
  },
  {
   "cell_type": "code",
   "execution_count": 21,
   "metadata": {
    "colab": {},
    "colab_type": "code",
    "id": "f97RafZhhF4b"
   },
   "outputs": [],
   "source": [
    "# Split-out validation dataset\n",
    "seed = 25\n",
    "validation_size = 0.30"
   ]
  },
  {
   "cell_type": "code",
   "execution_count": 22,
   "metadata": {
    "colab": {},
    "colab_type": "code",
    "id": "Y1gB8W1NhF4d"
   },
   "outputs": [],
   "source": [
    "X_train, X_validation, Y_train, Y_validation = train_test_split(X, Y, test_size=validation_size, random_state=seed)"
   ]
  },
  {
   "cell_type": "markdown",
   "metadata": {
    "colab_type": "text",
    "id": "kHcf_q-QhF4f"
   },
   "source": [
    "## 8) Evaluate Algorithm"
   ]
  },
  {
   "cell_type": "markdown",
   "metadata": {
    "colab_type": "text",
    "id": "FXVg9TC1hF4f"
   },
   "source": [
    "### a) Test options and evaluation metric using Root Mean Square error method"
   ]
  },
  {
   "cell_type": "code",
   "execution_count": 23,
   "metadata": {
    "colab": {},
    "colab_type": "code",
    "id": "C1VIsqBThF4g"
   },
   "outputs": [],
   "source": [
    "num_folds = 10\n",
    "seed = 7\n",
    "RMS = 'neg_mean_squared_error'"
   ]
  },
  {
   "cell_type": "markdown",
   "metadata": {
    "colab_type": "text",
    "id": "UJsFf_82hF4i"
   },
   "source": [
    "### b) Executando os Regressores"
   ]
  },
  {
   "cell_type": "markdown",
   "metadata": {
    "colab_type": "text",
    "id": "X5KS2MaCvBP2"
   },
   "source": [
    "##### Preparacao dos pipelines com os seguintes regressores:\n",
    "* Regressão Linear\n",
    "* KNN\n",
    "* Arvore de Decisão\n",
    "* Random Forest\n",
    "* AdaBoost\n",
    "* Support Vector Machine\n",
    "  + Kernels:\n",
    "    - Gaussiano RBF\n",
    "    - Linear\n",
    "    - Polinomial\n",
    "    "
   ]
  },
  {
   "cell_type": "code",
   "execution_count": 24,
   "metadata": {
    "colab": {},
    "colab_type": "code",
    "id": "yVuuGDQHhF4i"
   },
   "outputs": [],
   "source": [
    "pipelines = []\n",
    "pipelines.append(('LR', Pipeline([('Scaler', StandardScaler()),('LR', LinearRegression())])))\n",
    "\n",
    "pipelines.append(('KNN', Pipeline([('Scaler', StandardScaler()),('KNN', KNeighborsRegressor())])))\n",
    "\n",
    "pipelines.append(('DTR', Pipeline([('Scaler', StandardScaler()),('DTR', DecisionTreeRegressor())])))\n",
    "\n",
    "pipelines.append(('RF', Pipeline([('Scaler', StandardScaler()),('RF', RandomForestRegressor())])))\n",
    "\n",
    "pipelines.append(('ADA', Pipeline([('Scaler', StandardScaler()),('ADA', AdaBoostRegressor())])))\n",
    "\n",
    "pipelines.append(('SVR', Pipeline([('Scaler', StandardScaler()),('SVR', SVR())])))\n",
    "pipelines.append(('SVR-RBF', Pipeline([('Scaler', StandardScaler()),('SVR', SVR(kernel='rbf', C=100, gamma=0.1, epsilon=.1))])))\n",
    "pipelines.append(('SVR-Linear', Pipeline([('Scaler', StandardScaler()),('SVR', SVR(kernel='linear', C=100, gamma='auto'))])))\n",
    "pipelines.append(('SVR-Poly', Pipeline([('Scaler', StandardScaler()),('SVR', SVR(kernel='poly', C=100, gamma='auto', degree=3, epsilon=.1))])))"
   ]
  },
  {
   "cell_type": "markdown",
   "metadata": {
    "colab_type": "text",
    "id": "gQ0xuFnDvBP4"
   },
   "source": [
    "### c) Execução dos Regressores e Avaliação do desempenho de cada um baseado no Erro Quadrático Médio.\n",
    "* Validacao Cruzada com 10 folds."
   ]
  },
  {
   "cell_type": "code",
   "execution_count": 25,
   "metadata": {
    "colab": {
     "base_uri": "https://localhost:8080/",
     "height": 510
    },
    "colab_type": "code",
    "executionInfo": {
     "elapsed": 2218714,
     "status": "ok",
     "timestamp": 1574371745182,
     "user": {
      "displayName": "André Rodrigues",
      "photoUrl": "https://lh3.googleusercontent.com/a-/AAuE7mC4VcoLAlPEtIAJVPWTppZJ9S3ou2QH75zgDkJrgn0=s64",
      "userId": "01975921740661022202"
     },
     "user_tz": 180
    },
    "id": "Y_aF7y25vBP4",
    "outputId": "17dcacc0-c80e-43e9-d4cb-d6c5cace7ada"
   },
   "outputs": [
    {
     "name": "stdout",
     "output_type": "stream",
     "text": [
      "LR: -0.813618 (0.025253)\n",
      "KNN: -0.474569 (0.019971)\n",
      "DTR: -0.682491 (0.028978)\n"
     ]
    },
    {
     "name": "stderr",
     "output_type": "stream",
     "text": [
      "/Users/andrerodrigues/opt/anaconda3/lib/python3.7/site-packages/sklearn/ensemble/forest.py:245: FutureWarning: The default value of n_estimators will change from 10 in version 0.20 to 100 in 0.22.\n",
      "  \"10 in version 0.20 to 100 in 0.22.\", FutureWarning)\n",
      "/Users/andrerodrigues/opt/anaconda3/lib/python3.7/site-packages/sklearn/ensemble/forest.py:245: FutureWarning: The default value of n_estimators will change from 10 in version 0.20 to 100 in 0.22.\n",
      "  \"10 in version 0.20 to 100 in 0.22.\", FutureWarning)\n",
      "/Users/andrerodrigues/opt/anaconda3/lib/python3.7/site-packages/sklearn/ensemble/forest.py:245: FutureWarning: The default value of n_estimators will change from 10 in version 0.20 to 100 in 0.22.\n",
      "  \"10 in version 0.20 to 100 in 0.22.\", FutureWarning)\n",
      "/Users/andrerodrigues/opt/anaconda3/lib/python3.7/site-packages/sklearn/ensemble/forest.py:245: FutureWarning: The default value of n_estimators will change from 10 in version 0.20 to 100 in 0.22.\n",
      "  \"10 in version 0.20 to 100 in 0.22.\", FutureWarning)\n",
      "/Users/andrerodrigues/opt/anaconda3/lib/python3.7/site-packages/sklearn/ensemble/forest.py:245: FutureWarning: The default value of n_estimators will change from 10 in version 0.20 to 100 in 0.22.\n",
      "  \"10 in version 0.20 to 100 in 0.22.\", FutureWarning)\n",
      "/Users/andrerodrigues/opt/anaconda3/lib/python3.7/site-packages/sklearn/ensemble/forest.py:245: FutureWarning: The default value of n_estimators will change from 10 in version 0.20 to 100 in 0.22.\n",
      "  \"10 in version 0.20 to 100 in 0.22.\", FutureWarning)\n",
      "/Users/andrerodrigues/opt/anaconda3/lib/python3.7/site-packages/sklearn/ensemble/forest.py:245: FutureWarning: The default value of n_estimators will change from 10 in version 0.20 to 100 in 0.22.\n",
      "  \"10 in version 0.20 to 100 in 0.22.\", FutureWarning)\n",
      "/Users/andrerodrigues/opt/anaconda3/lib/python3.7/site-packages/sklearn/ensemble/forest.py:245: FutureWarning: The default value of n_estimators will change from 10 in version 0.20 to 100 in 0.22.\n",
      "  \"10 in version 0.20 to 100 in 0.22.\", FutureWarning)\n",
      "/Users/andrerodrigues/opt/anaconda3/lib/python3.7/site-packages/sklearn/ensemble/forest.py:245: FutureWarning: The default value of n_estimators will change from 10 in version 0.20 to 100 in 0.22.\n",
      "  \"10 in version 0.20 to 100 in 0.22.\", FutureWarning)\n",
      "/Users/andrerodrigues/opt/anaconda3/lib/python3.7/site-packages/sklearn/ensemble/forest.py:245: FutureWarning: The default value of n_estimators will change from 10 in version 0.20 to 100 in 0.22.\n",
      "  \"10 in version 0.20 to 100 in 0.22.\", FutureWarning)\n"
     ]
    },
    {
     "name": "stdout",
     "output_type": "stream",
     "text": [
      "RF: -0.380078 (0.024426)\n",
      "ADA: -0.725624 (0.060716)\n",
      "SVR: -0.504286 (0.021374)\n",
      "SVR-RBF: -0.446961 (0.019518)\n",
      "SVR-Linear: -0.842376 (0.029497)\n",
      "SVR-Poly: -0.832928 (0.033583)\n"
     ]
    }
   ],
   "source": [
    "results = []\n",
    "names = []\n",
    "for name, model in pipelines:\n",
    "\tkfold = KFold(n_splits=num_folds, random_state=seed)\n",
    "\tcv_results = cross_val_score(model, X_train, Y_train, cv=kfold, scoring=RMS)\n",
    "\tresults.append(cv_results)\n",
    "\tnames.append(name)\n",
    "\tmsg = \"%s: %f (%f)\" % (name, cv_results.mean(), cv_results.std())\n",
    "\tprint(msg)"
   ]
  },
  {
   "cell_type": "markdown",
   "metadata": {
    "colab_type": "text",
    "id": "mvQd5bALhF4k"
   },
   "source": [
    "## 10) Comparacao do Algoritmos"
   ]
  },
  {
   "cell_type": "code",
   "execution_count": 26,
   "metadata": {
    "colab": {
     "base_uri": "https://localhost:8080/",
     "height": 479
    },
    "colab_type": "code",
    "executionInfo": {
     "elapsed": 2219021,
     "status": "ok",
     "timestamp": 1574371745494,
     "user": {
      "displayName": "André Rodrigues",
      "photoUrl": "https://lh3.googleusercontent.com/a-/AAuE7mC4VcoLAlPEtIAJVPWTppZJ9S3ou2QH75zgDkJrgn0=s64",
      "userId": "01975921740661022202"
     },
     "user_tz": 180
    },
    "id": "uw7FJJj4hF4l",
    "outputId": "6c0c88b0-ca45-4b98-9995-e10dc96fecb7"
   },
   "outputs": [
    {
     "data": {
      "image/png": "[encoded data removed]",
      "text/plain": [
       "<Figure size 720x504 with 1 Axes>"
      ]
     },
     "metadata": {
      "needs_background": "light"
     },
     "output_type": "display_data"
    }
   ],
   "source": [
    "fig = pyplot.figure(figsize=(10,7))\n",
    "fig.suptitle('Scaled Algorithm Comparison')\n",
    "ax = fig.add_subplot(111)\n",
    "pyplot.boxplot(results)\n",
    "ax.set_xticklabels(names)\n",
    "pyplot.show()"
   ]
  },
  {
   "cell_type": "code",
   "execution_count": 27,
   "metadata": {},
   "outputs": [
    {
     "name": "stderr",
     "output_type": "stream",
     "text": [
      "/Users/andrerodrigues/opt/anaconda3/lib/python3.7/site-packages/sklearn/ensemble/forest.py:245: FutureWarning: The default value of n_estimators will change from 10 in version 0.20 to 100 in 0.22.\n",
      "  \"10 in version 0.20 to 100 in 0.22.\", FutureWarning)\n"
     ]
    },
    {
     "name": "stdout",
     "output_type": "stream",
     "text": [
      "0.2676559708960812\n",
      "0.36526885788638286\n"
     ]
    }
   ],
   "source": [
    "rf = RandomForestRegressor()\n",
    "\n",
    "scaler = StandardScaler().fit(X_train)\n",
    "rescaledX = scaler.transform(X_train)\n",
    "\n",
    "rf.fit(rescaledX, Y_train)\n",
    "\n",
    "rescaledValidationX = scaler.transform(X_validation)\n",
    "\n",
    "predictions = rf.predict(rescaledValidationX)\n",
    "\n",
    "print(metrics.median_absolute_error(Y_validation, predictions))\n",
    "print(metrics.mean_squared_error(Y_validation, predictions))\n",
    "\n",
    "\n",
    "predictions=predictions.astype(int)\n",
    "finalresult = pd.DataFrame({\n",
    "        \"V2 Original\": Y_validation,\n",
    "        \"V2 Predito\": predictions\n",
    "    })\n",
    "\n",
    "finalresult.to_csv(\"PredictedV2.csv\", index=False)"
   ]
  },
  {
   "cell_type": "markdown",
   "metadata": {
    "colab": {},
    "colab_type": "code",
    "id": "zG3p07SxhF4r"
   },
   "source": [
    "* Com base nos resultados obtidos entre todos os regressores, identificamos que aquele que obteve o menor Erro Quadrático Médio e, portanto, o melhor desempenho foi o <span style=\"color:red\">Random Forest Regessor</span>. Este regressor retornou um Erro Médio Absoluto de 21.990 e o Erro Quadrático Médio de 2.899.271.632."
   ]
  },
  {
   "cell_type": "markdown",
   "metadata": {
    "colab": {},
    "colab_type": "code",
    "id": "8VWl2gSghF4x"
   },
   "source": [
    "<b>Conclusão Exercicio 8:</b>\n",
    "\n",
    "Para obtermos a maior acuracia, vamos selecionar as seguintes tecnicas:\n",
    "\n",
    "1. Clusterizacao (Aprendizagem Nao-Supervisionada): \n",
    "  + K-Means com 25 clusters\n",
    "  + Utlizamos o resultado dessa clusterizacao como a classe para os classificadores.\n",
    "2. Classificacao (Aprendizagem Supervisionada):\n",
    "  + SVM com kernel='linear', C=100, gamma=0.001\n",
    "  + Com este classificador usando a parametrizacao acima, obtivemos uma acuracia de 97%\n",
    "3. Regressao (Aprendizagem Supervisionada): \n",
    "  + Random Forest Regressor\n",
    "  + Este regressor obteve o menor Erro Quadrático Medio, de acordo com o gráfico boxplot gerado acima.\n",
    "4. Pre-Processamento:\n",
    "  + Somente Label Encoding, pois o One Hot Encoding, que exige mais uma etapa de processamento, obteve os mesmos resultados de acurácia do Label Encoding usando o classificador SVM e o clusterizador K-Means. \n"
   ]
  },
  {
   "cell_type": "code",
   "execution_count": null,
   "metadata": {
    "colab": {},
    "colab_type": "code",
    "id": "DwF9OpnchF4y"
   },
   "outputs": [],
   "source": []
  },
  {
   "cell_type": "code",
   "execution_count": null,
   "metadata": {
    "colab": {},
    "colab_type": "code",
    "id": "TKzlvo1ihF40"
   },
   "outputs": [],
   "source": []
  }
 ],
 "metadata": {
  "colab": {
   "collapsed_sections": [],
   "name": "ML_Trabalho8_11-Predicao.ipynb",
   "provenance": []
  },
  "kernelspec": {
   "display_name": "Python 3",
   "language": "python",
   "name": "python3"
  },
  "language_info": {
   "codemirror_mode": {
    "name": "ipython",
    "version": 3
   },
   "file_extension": ".py",
   "mimetype": "text/x-python",
   "name": "python",
   "nbconvert_exporter": "python",
   "pygments_lexer": "ipython3",
   "version": "3.7.4"
  }
 },
 "nbformat": 4,
 "nbformat_minor": 4
}
