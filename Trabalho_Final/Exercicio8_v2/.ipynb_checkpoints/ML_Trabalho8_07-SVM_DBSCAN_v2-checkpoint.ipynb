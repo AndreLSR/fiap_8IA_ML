{
 "cells": [
  {
   "cell_type": "markdown",
   "metadata": {
    "colab_type": "text",
    "id": "pWjX0OEJ9RmL"
   },
   "source": [
    "## Support Vector Machines\n",
    "* Poderosa metodologia para resolver problemas de aprendizagem de máquina.\n",
    "* Proposto em 1995 pelo russo Vladimir Vapnik.\n",
    "* Muito utilizado atualmente em diversos tipos de aplicações.\n",
    "* O problema dos problemas não linearmente separáveis \n",
    "* O problema dos problemas não linearmente separáveis\n"
   ]
  },
  {
   "cell_type": "markdown",
   "metadata": {
    "colab_type": "text",
    "id": "uD2LXY4O9RmN"
   },
   "source": [
    "![](https://i.ibb.co/tsDTKzn/SVM-Picture1.png)\n",
    "\n",
    "* Problema não linearmente separável"
   ]
  },
  {
   "cell_type": "markdown",
   "metadata": {
    "colab_type": "text",
    "id": "p615s7C39RmO"
   },
   "source": [
    "### O processo de classificação:\n",
    "  + Entendendo o parâmetro C, Soft Margin: \n",
    "    - A aplicação de um método puramente linear para classificar um conjunto de dados pode sofrer com dois problemas bastante comuns:\n",
    "      - Outliers\n",
    "      - Exemplos rotulados erroneamente\n",
    "  + Mesmo assim o SVM ainda assim pode ser aplicado através do uso do parâmetro C (soft margin - variáveis de folga)\n",
    "#### O truque do Kernel:\n",
    "    - Realiza a projeção das características em um espaço multidimencional, maior que o vetor de entrada onde as classes podem ser separadas por um hiperplano."
   ]
  },
  {
   "cell_type": "markdown",
   "metadata": {
    "colab_type": "text",
    "id": "OKbu1g1O9RmP"
   },
   "source": [
    "![](https://i.ibb.co/n19dmvq/SVM-Picture2.png)"
   ]
  },
  {
   "cell_type": "markdown",
   "metadata": {
    "colab_type": "text",
    "id": "npaYNxOL9RmP"
   },
   "source": [
    "#### Vantagens:\n",
    "  + Considerado o estado da arte dos classificadores.\n",
    "  + Trabalha com problemas linearmente e não-linearmente separáveis.\n",
    "  + Desempenho superior a maioria dos classificadores tradicionais.\n",
    "  \n",
    "#### Desvantagens:\n",
    "  + A calibragem dos parâmetros envolvidos e escolha do tipo de kernel não é uma tarefa trivial.\n",
    "  + O tempo de treinamento pode ser extremamente lento e computacionalmente complexo dependendo da quantidade de características."
   ]
  },
  {
   "cell_type": "code",
   "execution_count": 1,
   "metadata": {
    "colab": {},
    "colab_type": "code",
    "id": "FVwvys9VQ-TU"
   },
   "outputs": [],
   "source": [
    "import pandas as pd\n",
    "import numpy as np\n",
    "import seaborn as sb\n",
    "import matplotlib.pyplot as plt \n",
    "\n",
    "from sklearn.model_selection import cross_val_predict\n",
    "from sklearn import metrics\n",
    "from sklearn import svm\n",
    "from sklearn.preprocessing import LabelEncoder\n",
    "\n",
    "# Importe as bibliotecas de Pipelines e Pré-processadores\n",
    "from sklearn.pipeline import Pipeline\n",
    "from sklearn.preprocessing import StandardScaler\n",
    "from sklearn.preprocessing import MinMaxScaler\n",
    "\n",
    "# Importa o pacote OneHotEncoder\n",
    "from sklearn.preprocessing import OneHotEncoder\n",
    "\n",
    "import sys"
   ]
  },
  {
   "cell_type": "markdown",
   "metadata": {
    "colab_type": "text",
    "id": "MnLTGXs6hiyc"
   },
   "source": [
    "## 1) Importando os dados já tratados sem OneHotEncoding:"
   ]
  },
  {
   "cell_type": "code",
   "execution_count": 2,
   "metadata": {
    "colab": {},
    "colab_type": "code",
    "id": "2Tp1SN9dhiyd"
   },
   "outputs": [
    {
     "data": {
      "text/html": [
       "<div>\n",
       "<style scoped>\n",
       "    .dataframe tbody tr th:only-of-type {\n",
       "        vertical-align: middle;\n",
       "    }\n",
       "\n",
       "    .dataframe tbody tr th {\n",
       "        vertical-align: top;\n",
       "    }\n",
       "\n",
       "    .dataframe thead th {\n",
       "        text-align: right;\n",
       "    }\n",
       "</style>\n",
       "<table border=\"1\" class=\"dataframe\">\n",
       "  <thead>\n",
       "    <tr style=\"text-align: right;\">\n",
       "      <th></th>\n",
       "      <th>V1</th>\n",
       "      <th>V2</th>\n",
       "      <th>V3</th>\n",
       "      <th>V4</th>\n",
       "      <th>V5</th>\n",
       "      <th>V6</th>\n",
       "      <th>V7</th>\n",
       "      <th>V8</th>\n",
       "      <th>V9</th>\n",
       "      <th>V10</th>\n",
       "      <th>dbscan</th>\n",
       "      <th>kmeans</th>\n",
       "      <th>som</th>\n",
       "    </tr>\n",
       "  </thead>\n",
       "  <tbody>\n",
       "    <tr>\n",
       "      <td>0</td>\n",
       "      <td>-122.23</td>\n",
       "      <td>452600.0</td>\n",
       "      <td>129</td>\n",
       "      <td>41</td>\n",
       "      <td>880</td>\n",
       "      <td>3</td>\n",
       "      <td>126</td>\n",
       "      <td>322</td>\n",
       "      <td>83.252</td>\n",
       "      <td>37.88</td>\n",
       "      <td>1</td>\n",
       "      <td>3</td>\n",
       "      <td>1</td>\n",
       "    </tr>\n",
       "    <tr>\n",
       "      <td>1</td>\n",
       "      <td>-122.22</td>\n",
       "      <td>358500.0</td>\n",
       "      <td>1106</td>\n",
       "      <td>21</td>\n",
       "      <td>7099</td>\n",
       "      <td>3</td>\n",
       "      <td>1138</td>\n",
       "      <td>2401</td>\n",
       "      <td>83.014</td>\n",
       "      <td>37.86</td>\n",
       "      <td>0</td>\n",
       "      <td>2</td>\n",
       "      <td>2</td>\n",
       "    </tr>\n",
       "    <tr>\n",
       "      <td>2</td>\n",
       "      <td>-122.24</td>\n",
       "      <td>352100.0</td>\n",
       "      <td>190</td>\n",
       "      <td>52</td>\n",
       "      <td>1467</td>\n",
       "      <td>3</td>\n",
       "      <td>177</td>\n",
       "      <td>496</td>\n",
       "      <td>72.574</td>\n",
       "      <td>37.85</td>\n",
       "      <td>1</td>\n",
       "      <td>3</td>\n",
       "      <td>1</td>\n",
       "    </tr>\n",
       "    <tr>\n",
       "      <td>3</td>\n",
       "      <td>-122.25</td>\n",
       "      <td>341300.0</td>\n",
       "      <td>235</td>\n",
       "      <td>52</td>\n",
       "      <td>1274</td>\n",
       "      <td>3</td>\n",
       "      <td>219</td>\n",
       "      <td>558</td>\n",
       "      <td>56.431</td>\n",
       "      <td>37.85</td>\n",
       "      <td>1</td>\n",
       "      <td>1</td>\n",
       "      <td>1</td>\n",
       "    </tr>\n",
       "    <tr>\n",
       "      <td>4</td>\n",
       "      <td>-122.25</td>\n",
       "      <td>342200.0</td>\n",
       "      <td>280</td>\n",
       "      <td>52</td>\n",
       "      <td>1627</td>\n",
       "      <td>3</td>\n",
       "      <td>259</td>\n",
       "      <td>565</td>\n",
       "      <td>38.462</td>\n",
       "      <td>37.85</td>\n",
       "      <td>1</td>\n",
       "      <td>1</td>\n",
       "      <td>1</td>\n",
       "    </tr>\n",
       "  </tbody>\n",
       "</table>\n",
       "</div>"
      ],
      "text/plain": [
       "       V1        V2    V3  V4    V5  V6    V7    V8      V9    V10  dbscan  \\\n",
       "0 -122.23  452600.0   129  41   880   3   126   322  83.252  37.88       1   \n",
       "1 -122.22  358500.0  1106  21  7099   3  1138  2401  83.014  37.86       0   \n",
       "2 -122.24  352100.0   190  52  1467   3   177   496  72.574  37.85       1   \n",
       "3 -122.25  341300.0   235  52  1274   3   219   558  56.431  37.85       1   \n",
       "4 -122.25  342200.0   280  52  1627   3   259   565  38.462  37.85       1   \n",
       "\n",
       "   kmeans  som  \n",
       "0       3    1  \n",
       "1       2    2  \n",
       "2       3    1  \n",
       "3       1    1  \n",
       "4       1    1  "
      ]
     },
     "execution_count": 2,
     "metadata": {},
     "output_type": "execute_result"
    }
   ],
   "source": [
    "# from google.colab import drive\n",
    "# drive.mount('/content/drive')\n",
    "# !ls \"/content/drive/My Drive/datasets\"\n",
    "# data = pd.read_csv('/content/drive/My Drive/datasets/dados_clust_v2.csv',sep=',') # faz a leitura dos dados\n",
    "\n",
    "data = pd.read_csv(\"/Users/andrerodrigues/Google Drive/FIAP-MBA 8IA/006 - Modelos de IA e ML/Trabalho_Final_2/Exercicio8_v2/dados_clust_v2.csv\", sep =\",\")\n",
    "\n",
    "data = data.iloc[:,1:]\n",
    "data.head()"
   ]
  },
  {
   "cell_type": "markdown",
   "metadata": {
    "colab_type": "text",
    "id": "p2Xs1Udw9RmW"
   },
   "source": [
    "## 2) Importando os dados já tratados com OneHotEncoding:"
   ]
  },
  {
   "cell_type": "code",
   "execution_count": 3,
   "metadata": {
    "colab": {},
    "colab_type": "code",
    "id": "3_07QusL9RmX"
   },
   "outputs": [
    {
     "data": {
      "text/html": [
       "<div>\n",
       "<style scoped>\n",
       "    .dataframe tbody tr th:only-of-type {\n",
       "        vertical-align: middle;\n",
       "    }\n",
       "\n",
       "    .dataframe tbody tr th {\n",
       "        vertical-align: top;\n",
       "    }\n",
       "\n",
       "    .dataframe thead th {\n",
       "        text-align: right;\n",
       "    }\n",
       "</style>\n",
       "<table border=\"1\" class=\"dataframe\">\n",
       "  <thead>\n",
       "    <tr style=\"text-align: right;\">\n",
       "      <th></th>\n",
       "      <th>0</th>\n",
       "      <th>1</th>\n",
       "      <th>2</th>\n",
       "      <th>3</th>\n",
       "      <th>4</th>\n",
       "      <th>6</th>\n",
       "      <th>7</th>\n",
       "      <th>8</th>\n",
       "      <th>9</th>\n",
       "      <th>10</th>\n",
       "      <th>11</th>\n",
       "      <th>12</th>\n",
       "      <th>13</th>\n",
       "      <th>14</th>\n",
       "      <th>dbscan</th>\n",
       "      <th>kmeans</th>\n",
       "      <th>som</th>\n",
       "    </tr>\n",
       "  </thead>\n",
       "  <tbody>\n",
       "    <tr>\n",
       "      <td>0</td>\n",
       "      <td>-122.23</td>\n",
       "      <td>452600.0</td>\n",
       "      <td>129.0</td>\n",
       "      <td>41.0</td>\n",
       "      <td>880.0</td>\n",
       "      <td>126.0</td>\n",
       "      <td>322.0</td>\n",
       "      <td>83.252</td>\n",
       "      <td>37.88</td>\n",
       "      <td>0.0</td>\n",
       "      <td>0.0</td>\n",
       "      <td>0.0</td>\n",
       "      <td>1.0</td>\n",
       "      <td>0.0</td>\n",
       "      <td>1</td>\n",
       "      <td>3</td>\n",
       "      <td>1</td>\n",
       "    </tr>\n",
       "    <tr>\n",
       "      <td>1</td>\n",
       "      <td>-122.22</td>\n",
       "      <td>358500.0</td>\n",
       "      <td>1106.0</td>\n",
       "      <td>21.0</td>\n",
       "      <td>7099.0</td>\n",
       "      <td>1138.0</td>\n",
       "      <td>2401.0</td>\n",
       "      <td>83.014</td>\n",
       "      <td>37.86</td>\n",
       "      <td>0.0</td>\n",
       "      <td>0.0</td>\n",
       "      <td>0.0</td>\n",
       "      <td>1.0</td>\n",
       "      <td>0.0</td>\n",
       "      <td>0</td>\n",
       "      <td>2</td>\n",
       "      <td>2</td>\n",
       "    </tr>\n",
       "    <tr>\n",
       "      <td>2</td>\n",
       "      <td>-122.24</td>\n",
       "      <td>352100.0</td>\n",
       "      <td>190.0</td>\n",
       "      <td>52.0</td>\n",
       "      <td>1467.0</td>\n",
       "      <td>177.0</td>\n",
       "      <td>496.0</td>\n",
       "      <td>72.574</td>\n",
       "      <td>37.85</td>\n",
       "      <td>0.0</td>\n",
       "      <td>0.0</td>\n",
       "      <td>0.0</td>\n",
       "      <td>1.0</td>\n",
       "      <td>0.0</td>\n",
       "      <td>1</td>\n",
       "      <td>3</td>\n",
       "      <td>1</td>\n",
       "    </tr>\n",
       "    <tr>\n",
       "      <td>3</td>\n",
       "      <td>-122.25</td>\n",
       "      <td>341300.0</td>\n",
       "      <td>235.0</td>\n",
       "      <td>52.0</td>\n",
       "      <td>1274.0</td>\n",
       "      <td>219.0</td>\n",
       "      <td>558.0</td>\n",
       "      <td>56.431</td>\n",
       "      <td>37.85</td>\n",
       "      <td>0.0</td>\n",
       "      <td>0.0</td>\n",
       "      <td>0.0</td>\n",
       "      <td>1.0</td>\n",
       "      <td>0.0</td>\n",
       "      <td>1</td>\n",
       "      <td>1</td>\n",
       "      <td>1</td>\n",
       "    </tr>\n",
       "    <tr>\n",
       "      <td>4</td>\n",
       "      <td>-122.25</td>\n",
       "      <td>342200.0</td>\n",
       "      <td>280.0</td>\n",
       "      <td>52.0</td>\n",
       "      <td>1627.0</td>\n",
       "      <td>259.0</td>\n",
       "      <td>565.0</td>\n",
       "      <td>38.462</td>\n",
       "      <td>37.85</td>\n",
       "      <td>0.0</td>\n",
       "      <td>0.0</td>\n",
       "      <td>0.0</td>\n",
       "      <td>1.0</td>\n",
       "      <td>0.0</td>\n",
       "      <td>1</td>\n",
       "      <td>1</td>\n",
       "      <td>1</td>\n",
       "    </tr>\n",
       "  </tbody>\n",
       "</table>\n",
       "</div>"
      ],
      "text/plain": [
       "        0         1       2     3       4       6       7       8      9   10  \\\n",
       "0 -122.23  452600.0   129.0  41.0   880.0   126.0   322.0  83.252  37.88  0.0   \n",
       "1 -122.22  358500.0  1106.0  21.0  7099.0  1138.0  2401.0  83.014  37.86  0.0   \n",
       "2 -122.24  352100.0   190.0  52.0  1467.0   177.0   496.0  72.574  37.85  0.0   \n",
       "3 -122.25  341300.0   235.0  52.0  1274.0   219.0   558.0  56.431  37.85  0.0   \n",
       "4 -122.25  342200.0   280.0  52.0  1627.0   259.0   565.0  38.462  37.85  0.0   \n",
       "\n",
       "    11   12   13   14  dbscan  kmeans  som  \n",
       "0  0.0  0.0  1.0  0.0       1       3    1  \n",
       "1  0.0  0.0  1.0  0.0       0       2    2  \n",
       "2  0.0  0.0  1.0  0.0       1       3    1  \n",
       "3  0.0  0.0  1.0  0.0       1       1    1  \n",
       "4  0.0  0.0  1.0  0.0       1       1    1  "
      ]
     },
     "execution_count": 3,
     "metadata": {},
     "output_type": "execute_result"
    }
   ],
   "source": [
    "# from google.colab import drive\n",
    "# drive.mount('/content/drive')\n",
    "# !ls \"/content/drive/My Drive/datasets\"\n",
    "# data_ohe = pd.read_csv('/content/drive/My Drive/datasets/data_ohe_nostd.csv',sep=',') # faz a leitura dos dados\n",
    "\n",
    "data_ohe = pd.read_csv(\"/Users/andrerodrigues/Google Drive/FIAP-MBA 8IA/006 - Modelos de IA e ML/Trabalho_Final_2/Exercicio8_v2/data_ohe_nostd_v2.csv\", sep =\",\")\n",
    "\n",
    "data_ohe = data_ohe.iloc[:,1:]\n",
    "data_ohe[\"dbscan\"] = data[\"dbscan\"]\n",
    "data_ohe[\"kmeans\"] = data[\"kmeans\"]\n",
    "data_ohe[\"som\"] = data[\"som\"]\n",
    "data_ohe.head()"
   ]
  },
  {
   "cell_type": "markdown",
   "metadata": {
    "colab_type": "text",
    "id": "M3UC-8qihiyi"
   },
   "source": [
    "#### a) Apenas como curiosidade, vejamos como as classes estão distribuidas em 'dbscan', 'kmeans' e 'som'"
   ]
  },
  {
   "cell_type": "code",
   "execution_count": 4,
   "metadata": {
    "colab": {},
    "colab_type": "code",
    "id": "dw-5UFLYhiyj"
   },
   "outputs": [
    {
     "data": {
      "image/png": "[encoded data removed]",
      "text/plain": [
       "<Figure size 720x504 with 1 Axes>"
      ]
     },
     "metadata": {
      "needs_background": "light"
     },
     "output_type": "display_data"
    },
    {
     "data": {
      "image/png": "[encoded data removed]",
      "text/plain": [
       "<Figure size 720x504 with 1 Axes>"
      ]
     },
     "metadata": {
      "needs_background": "light"
     },
     "output_type": "display_data"
    },
    {
     "data": {
      "image/png": "[encoded data removed]",
      "text/plain": [
       "<Figure size 720x504 with 1 Axes>"
      ]
     },
     "metadata": {
      "needs_background": "light"
     },
     "output_type": "display_data"
    }
   ],
   "source": [
    "plt.figure(figsize=(10,7))\n",
    "plot1 = sb.countplot(x='dbscan',data=data, palette='hls')\n",
    "plt.title(\"Verificando classes de dbscan\")\n",
    "plt.show(plot1)\n",
    "plt.figure(figsize=(10,7))\n",
    "plot2 = sb.countplot(x='kmeans',data=data, palette='hls')\n",
    "plt.title(\"Verificando classes de kmeans\")\n",
    "plt.show(plot2)\n",
    "plt.figure(figsize=(10,7))\n",
    "plot3 = sb.countplot(x='som',data=data, palette='hls')\n",
    "plt.title(\"Verificando classes de som\")\n",
    "plt.show(plot3)"
   ]
  },
  {
   "cell_type": "markdown",
   "metadata": {
    "colab_type": "text",
    "id": "aeC4yg2IQ-Up"
   },
   "source": [
    "## 3) Seleciona o dataset para ser tratado pelo Modelo de Machine Learning e Separa as Classes"
   ]
  },
  {
   "cell_type": "code",
   "execution_count": null,
   "metadata": {
    "colab": {},
    "colab_type": "code",
    "id": "m1CV4kvGQ-Uv"
   },
   "outputs": [],
   "source": [
    "import traceback\n",
    "\n",
    "def dataset_for_machine(dataset, target):\n",
    "    \n",
    "    # Tente receber o nome do arquivo\n",
    "    try:\n",
    "        d = dataset\n",
    "        t = target\n",
    "        \n",
    "        \n",
    "    \n",
    "        if d == 'data':\n",
    "            #No caso do DBSCAN, as amostras cujo o cluster for igual a 0, são consideradas outliers e não podemos considera-las como classe do problema.\n",
    "            if t == 'dbscan':\n",
    "                data.drop(data[data.dbscan == 0].index, inplace=True)\n",
    "            # Troca o nome do dataset para df. A partir desse ponto, o dataset para ser tratado pelo modelo de ML será conhecido por df.\n",
    "            df = data\n",
    "            # Separa a classe\n",
    "            classes = df[t]\n",
    "            df.drop(columns=['dbscan','kmeans', 'som'], axis=1, inplace=True)\n",
    "\n",
    "\n",
    "        elif d == 'data_ohe':\n",
    "            #No caso do DBSCAN, as amostras cujo o cluster for igual a 0, são consideradas outliers e não podemos considera-las como classe do problema.\n",
    "            if t == 'dbscan':\n",
    "                data.drop(data[data.dbscan == 0].index, inplace=True)\n",
    "            # Troca o nome do dataset para df. A partir desse ponto, o dataset para ser tratado pelo modelo de ML será conhecido por df.\n",
    "            df = data_ohe\n",
    "            # Separa a classe\n",
    "            classes = df[t]\n",
    "            df.drop(columns=['dbscan','kmeans', 'som'], axis=1, inplace=True)\n",
    "\n",
    "        else:\n",
    "            print(\"Escolha entre 'data' ou 'data_ohe'\")\n",
    "            exit\n",
    "\n",
    "    # Se ocorrer um erro\n",
    "    except:\n",
    "        # Mostre na tela\n",
    "        trace = traceback.format_exc()\n",
    "        print ('Aconteceu um erro:\\n', trace)\n",
    "        # Encerre o programa\n",
    "        raise SystemExit\n",
    "        \n",
    "    return df, classes\n",
    "    \n",
    "# df, classes = dataset_for_machine(input(\"Entre com o dataset que será tratado pela maquina('data' ou 'data_ohe') e o target('kmeans' ou 'som') separados por ',':\"))\n",
    "dataset = input(\"Entre com o dataset que será tratado pela maquina('data' ou 'data_ohe'):\")\n",
    "target = input(\"Entre com o target que será tratado pela maquina ('dbscan','kmeans' ou 'som'):\")\n",
    "df, classes = dataset_for_machine(dataset, target)"
   ]
  },
  {
   "cell_type": "markdown",
   "metadata": {
    "colab_type": "text",
    "id": "1TlW-96KQ-Ux"
   },
   "source": [
    "* A partir desse ponto, o dataset para ser tratado pelo modelo de ML será conhecido por df. A seleção se ele vai ser passado com ou sem One Hot Encoding foi feita acima."
   ]
  },
  {
   "cell_type": "code",
   "execution_count": null,
   "metadata": {
    "colab": {},
    "colab_type": "code",
    "id": "ed7pYCmyQ-Uy"
   },
   "outputs": [],
   "source": [
    "df.head()"
   ]
  },
  {
   "cell_type": "code",
   "execution_count": null,
   "metadata": {
    "colab": {},
    "colab_type": "code",
    "id": "ZrqNFpWjQ-U0"
   },
   "outputs": [],
   "source": [
    "classes"
   ]
  },
  {
   "cell_type": "markdown",
   "metadata": {
    "colab_type": "text",
    "id": "1MytzhfYQ-Tv"
   },
   "source": [
    "## 4) Faz a validação via crossvalidation (k-fold)"
   ]
  },
  {
   "cell_type": "code",
   "execution_count": null,
   "metadata": {
    "colab": {},
    "colab_type": "code",
    "id": "5gxFVkdmQ-Tw"
   },
   "outputs": [],
   "source": [
    "def Acuracia(clf,X,y):\n",
    "    resultados = cross_val_predict(clf, X, y, cv=5)\n",
    "    return metrics.accuracy_score(y,resultados)"
   ]
  },
  {
   "cell_type": "markdown",
   "metadata": {
    "colab_type": "text",
    "id": "6cIDLoTvQ-Tz"
   },
   "source": [
    "## 5) Pre-processamento de dados"
   ]
  },
  {
   "cell_type": "code",
   "execution_count": null,
   "metadata": {
    "colab": {},
    "colab_type": "code",
    "id": "BYVeZ3GgQ-Tz"
   },
   "outputs": [],
   "source": [
    "# def remove_features(lista_features):\n",
    "#     for i in lista_features:\n",
    "#         data.drop(i, axis=1, inplace=True)\n",
    "#     return 0"
   ]
  },
  {
   "cell_type": "markdown",
   "metadata": {
    "colab_type": "text",
    "id": "gZSzNmE_Q-U2"
   },
   "source": [
    "## 9) Support Vector Machines \n",
    "#### a) Preparando os pipes com as configurações do parâmetro C, Kernel e Normalização dos dados."
   ]
  },
  {
   "cell_type": "code",
   "execution_count": null,
   "metadata": {
    "colab": {},
    "colab_type": "code",
    "id": "1ZaYtAtYQ-U3"
   },
   "outputs": [],
   "source": [
    "pip_1 = Pipeline([\n",
    "    ('scaler',StandardScaler()),\n",
    "    ('clf', svm.SVC())\n",
    "])\n",
    "\n",
    "pip_2 = Pipeline([\n",
    "    ('min_max_scaler', MinMaxScaler()),\n",
    "    ('clf', svm.SVC())\n",
    "])\n",
    "\n",
    "pip_3 = Pipeline([\n",
    "    ('scaler',StandardScaler()),\n",
    "    ('clf', svm.SVC(kernel='rbf'))\n",
    "])\n",
    "\n",
    "pip_4 = Pipeline([\n",
    "    ('scaler',StandardScaler()),\n",
    "    ('clf', svm.SVC(kernel='poly'))\n",
    "])\n",
    "\n",
    "pip_5 = Pipeline([\n",
    "    ('scaler',StandardScaler()),\n",
    "    ('clf', svm.SVC(kernel='linear'))\n",
    "])"
   ]
  },
  {
   "cell_type": "markdown",
   "metadata": {
    "colab_type": "text",
    "id": "WshhAhIIQ-U5"
   },
   "source": [
    "#### b) Teste com apenas LabelEncoder na coluna 'classes' usando o pipeline 'pip_1'"
   ]
  },
  {
   "cell_type": "code",
   "execution_count": null,
   "metadata": {
    "colab": {},
    "colab_type": "code",
    "id": "-Ch-etwXQ-U5"
   },
   "outputs": [],
   "source": [
    "Acuracia(pip_1,df,classes)"
   ]
  },
  {
   "cell_type": "markdown",
   "metadata": {
    "colab_type": "text",
    "id": "X36QqfmFQ-U7"
   },
   "source": [
    "#### c) Teste com apenas LabelEncoder na coluna 'classes' usando o pipeline 'pip_2'"
   ]
  },
  {
   "cell_type": "code",
   "execution_count": null,
   "metadata": {
    "colab": {},
    "colab_type": "code",
    "id": "tqicOuKXQ-U8"
   },
   "outputs": [],
   "source": [
    "Acuracia(pip_2,df,classes)"
   ]
  },
  {
   "cell_type": "markdown",
   "metadata": {
    "colab_type": "text",
    "id": "a9OL5wk9Q-U-"
   },
   "source": [
    "#### d) Testando Kernels \n",
    "##### Kernel rbf"
   ]
  },
  {
   "cell_type": "code",
   "execution_count": null,
   "metadata": {
    "colab": {},
    "colab_type": "code",
    "id": "Rp4f1zzlQ-U-"
   },
   "outputs": [],
   "source": [
    "Acuracia(pip_3,df,classes)"
   ]
  },
  {
   "cell_type": "markdown",
   "metadata": {
    "colab_type": "text",
    "id": "miN9HRLTQ-VA"
   },
   "source": [
    "##### Kernel Polynomial"
   ]
  },
  {
   "cell_type": "code",
   "execution_count": null,
   "metadata": {
    "colab": {},
    "colab_type": "code",
    "id": "ZqTsQvQLQ-VB"
   },
   "outputs": [],
   "source": [
    "Acuracia(pip_4,df,classes)"
   ]
  },
  {
   "cell_type": "markdown",
   "metadata": {
    "colab_type": "text",
    "id": "FAan3sejQ-VC"
   },
   "source": [
    "##### Kernel Linear"
   ]
  },
  {
   "cell_type": "code",
   "execution_count": null,
   "metadata": {
    "colab": {},
    "colab_type": "code",
    "id": "0HACckOPQ-VE"
   },
   "outputs": [],
   "source": [
    "Acuracia(pip_5,df,classes)"
   ]
  },
  {
   "cell_type": "markdown",
   "metadata": {
    "colab_type": "text",
    "id": "lzimLr_fQ-VG"
   },
   "source": [
    "## 9) GridSearch"
   ]
  },
  {
   "cell_type": "code",
   "execution_count": null,
   "metadata": {
    "colab": {},
    "colab_type": "code",
    "id": "CzjiK_QBQ-VH"
   },
   "outputs": [],
   "source": [
    "from sklearn.model_selection import GridSearchCV\n",
    "\n",
    "lista_C = [0.001, 0.01, 0.1, 1, 10,100]\n",
    "lista_gamma = [0.001, 0.01, 0.1, 1, 10, 100]"
   ]
  },
  {
   "cell_type": "code",
   "execution_count": null,
   "metadata": {
    "colab": {},
    "colab_type": "code",
    "id": "YldOdduzQ-VI"
   },
   "outputs": [],
   "source": [
    "parametros_grid = dict(clf__C=lista_C, clf__gamma=lista_gamma)"
   ]
  },
  {
   "cell_type": "markdown",
   "metadata": {
    "colab_type": "text",
    "id": "MOxt9onsQ-VL"
   },
   "source": [
    "#### a) Faz o tuning dos parametros testando cada combinação utilziando CrossValidation com 10 folds e analisando a acurácia"
   ]
  },
  {
   "cell_type": "code",
   "execution_count": null,
   "metadata": {
    "colab": {},
    "colab_type": "code",
    "id": "a5R_1ZeyQ-VM"
   },
   "outputs": [],
   "source": [
    "grid = GridSearchCV(pip_3, parametros_grid, cv=10, scoring='accuracy')"
   ]
  },
  {
   "cell_type": "code",
   "execution_count": null,
   "metadata": {
    "colab": {},
    "colab_type": "code",
    "id": "f76YzJM9Q-VO"
   },
   "outputs": [],
   "source": [
    "grid.fit(df,classes)"
   ]
  },
  {
   "cell_type": "code",
   "execution_count": null,
   "metadata": {
    "colab": {},
    "colab_type": "code",
    "id": "S-gno_33Q-VR"
   },
   "outputs": [],
   "source": [
    "grid.cv_results_"
   ]
  },
  {
   "cell_type": "code",
   "execution_count": null,
   "metadata": {
    "colab": {},
    "colab_type": "code",
    "id": "BWQRqxiuQ-VT"
   },
   "outputs": [],
   "source": [
    "grid.best_params_"
   ]
  },
  {
   "cell_type": "code",
   "execution_count": null,
   "metadata": {
    "colab": {},
    "colab_type": "code",
    "id": "O85xG07NQ-VU"
   },
   "outputs": [],
   "source": [
    "grid.best_score_"
   ]
  },
  {
   "cell_type": "markdown",
   "metadata": {
    "colab_type": "text",
    "id": "EuCrDJ3cQ-VW"
   },
   "source": [
    "#### b) Métricas de Avaliação de Modelos"
   ]
  },
  {
   "cell_type": "code",
   "execution_count": null,
   "metadata": {
    "colab": {},
    "colab_type": "code",
    "id": "cYIqW9-SQ-VW"
   },
   "outputs": [],
   "source": [
    "pip_6 = Pipeline([\n",
    "('scaler',StandardScaler()),\n",
    "('clf', svm.SVC(kernel='rbf',C=1,gamma=1))\n",
    "])"
   ]
  },
  {
   "cell_type": "code",
   "execution_count": null,
   "metadata": {
    "colab": {},
    "colab_type": "code",
    "id": "U_bKyzdjQ-VY"
   },
   "outputs": [],
   "source": [
    "resultados = cross_val_predict(pip_6, df, classes, cv=10)"
   ]
  },
  {
   "cell_type": "code",
   "execution_count": null,
   "metadata": {
    "colab": {},
    "colab_type": "code",
    "id": "-dgLWlSyQ-Va"
   },
   "outputs": [],
   "source": [
    "c_names = [str(i) for i in np.unique(classes)]\n",
    "print (metrics.classification_report(classes,resultados,target_names=c_names))"
   ]
  },
  {
   "cell_type": "code",
   "execution_count": null,
   "metadata": {
    "colab": {},
    "colab_type": "code",
    "id": "s7xMmKSUhizZ"
   },
   "outputs": [],
   "source": []
  }
 ],
 "metadata": {
  "colab": {
   "collapsed_sections": [],
   "name": "ML_Trabalho8_07-SVM_DBSCAN_v2.ipynb",
   "provenance": [
    {
     "file_id": "1YdtwImfzQVSLZ0HK9pgsIfL29O7TMTI6",
     "timestamp": 1574153920649
    }
   ]
  },
  "kernelspec": {
   "display_name": "Python 3",
   "language": "python",
   "name": "python3"
  },
  "language_info": {
   "codemirror_mode": {
    "name": "ipython",
    "version": 3
   },
   "file_extension": ".py",
   "mimetype": "text/x-python",
   "name": "python",
   "nbconvert_exporter": "python",
   "pygments_lexer": "ipython3",
   "version": "3.7.4"
  }
 },
 "nbformat": 4,
 "nbformat_minor": 4
}
