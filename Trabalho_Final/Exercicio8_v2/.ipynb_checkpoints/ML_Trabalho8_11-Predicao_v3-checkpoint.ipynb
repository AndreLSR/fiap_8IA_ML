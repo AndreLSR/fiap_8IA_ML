{
 "cells": [
  {
   "cell_type": "code",
   "execution_count": null,
   "metadata": {
    "colab": {},
    "colab_type": "code",
    "id": "KmDBrHBnhF36"
   },
   "outputs": [],
   "source": [
    "import numpy as np\n",
    "from numpy import arange\n",
    "from matplotlib import pyplot\n",
    "import seaborn as sb\n",
    "import pandas as pd\n",
    "from pandas import read_csv\n",
    "from pandas import set_option\n",
    "from pandas.plotting import scatter_matrix\n",
    "from sklearn.preprocessing import StandardScaler\n",
    "\n",
    "from sklearn.model_selection import train_test_split\n",
    "from sklearn.model_selection import KFold\n",
    "from sklearn.model_selection import cross_val_score\n",
    "from sklearn.model_selection import GridSearchCV\n",
    "from sklearn.linear_model import LinearRegression\n",
    "from sklearn.linear_model import Lasso\n",
    "from sklearn.linear_model import ElasticNet\n",
    "from sklearn.tree import DecisionTreeRegressor\n",
    "from sklearn.neighbors import KNeighborsRegressor\n",
    "from sklearn.ensemble import RandomForestRegressor\n",
    "from sklearn.ensemble import AdaBoostRegressor\n",
    "from sklearn import metrics\n",
    "from sklearn.svm import SVR\n",
    "from sklearn.pipeline import Pipeline\n",
    "from sklearn.metrics import mean_squared_error\n",
    "import matplotlib.pyplot as plt"
   ]
  },
  {
   "cell_type": "markdown",
   "metadata": {},
   "source": [
    "## 1) Importando os dados já tratados sem OneHotEncoding:"
   ]
  },
  {
   "cell_type": "code",
   "execution_count": null,
   "metadata": {},
   "outputs": [],
   "source": [
    "data = pd.read_csv(\"/Users/andrerodrigues/Google Drive/FIAP-MBA 8IA/006 - Modelos de IA e ML/Trabalho_Final_2/Exercicio8_v2/dados_clust_v2.csv\", sep =\",\")\n",
    "data = data.iloc[:,1:]\n",
    "data.drop(columns=['dbscan','kmeans', 'som'], axis=1,inplace=True)\n",
    "data.head()"
   ]
  },
  {
   "cell_type": "markdown",
   "metadata": {},
   "source": [
    "## 2) Normalizando os dados"
   ]
  },
  {
   "cell_type": "code",
   "execution_count": null,
   "metadata": {},
   "outputs": [],
   "source": [
    "# data  = pd.DataFrame(StandardScaler().fit_transform(data), columns = data.columns)\n",
    "# data"
   ]
  },
  {
   "cell_type": "markdown",
   "metadata": {
    "colab_type": "text",
    "id": "gar15NfghF4L"
   },
   "source": [
    "## 2) Validando independencia entre as variáveis"
   ]
  },
  {
   "cell_type": "markdown",
   "metadata": {
    "colab_type": "text",
    "id": "E9svsqd6hF4M"
   },
   "source": [
    "#### a) correlation"
   ]
  },
  {
   "cell_type": "code",
   "execution_count": null,
   "metadata": {
    "colab": {
     "base_uri": "https://localhost:8080/",
     "height": 204
    },
    "colab_type": "code",
    "executionInfo": {
     "elapsed": 5267,
     "status": "ok",
     "timestamp": 1574369531688,
     "user": {
      "displayName": "André Rodrigues",
      "photoUrl": "https://lh3.googleusercontent.com/a-/AAuE7mC4VcoLAlPEtIAJVPWTppZJ9S3ou2QH75zgDkJrgn0=s64",
      "userId": "01975921740661022202"
     },
     "user_tz": 180
    },
    "id": "4o4vSImXhF4M",
    "outputId": "2925256d-5e5e-42aa-eee2-ab1e09f4222d"
   },
   "outputs": [],
   "source": [
    "set_option('precision', 2)\n",
    "corr = data.corr(method='pearson')\n",
    "print(corr)\n",
    "plot1 = sb.heatmap(data.corr()) \n",
    "print('\\n')\n",
    "plt.title(\"Heatmap - Check de Indepedencia das Variaveis\")\n",
    "plt.show(plot1)"
   ]
  },
  {
   "cell_type": "code",
   "execution_count": null,
   "metadata": {},
   "outputs": [],
   "source": [
    "to_del = corr[abs(corr) > 0.5].fillna(0)\n",
    "to_del"
   ]
  },
  {
   "cell_type": "code",
   "execution_count": null,
   "metadata": {},
   "outputs": [],
   "source": [
    "k=[]\n",
    "for i in range(len(to_del)):\n",
    "    for j in range (len(to_del.columns)):\n",
    "        if i!=j and to_del[to_del.columns[i]][j]>0:\n",
    "            k.append(to_del.columns[i])\n",
    "k=list(set(k))\n",
    "k                "
   ]
  },
  {
   "cell_type": "code",
   "execution_count": null,
   "metadata": {},
   "outputs": [],
   "source": [
    "apagar=[]\n",
    "apagar = [ x for x in [list(to_del[abs(to_del[to_del.columns[i]])>0][to_del.columns[i]].index) for i in range(len(to_del.columns)) if i not in apagar] if len(x) != 1]\n",
    "apagar = list(set([x for l in apagar for x in l]))\n",
    "apagar"
   ]
  },
  {
   "cell_type": "code",
   "execution_count": null,
   "metadata": {},
   "outputs": [],
   "source": [
    "# to_drop = ['V3','V5','V7','V8','V10']\n",
    "# to_drop = ['V1', 'V4', 'V6', 'V9']\n",
    "# to_drop = ['V5', 'V9', 'V1', 'V8', 'V7', 'V3']\n",
    "to_drop = ['V7', 'V1', 'V10', 'V5', 'V4','V6','V8','V3']"
   ]
  },
  {
   "cell_type": "markdown",
   "metadata": {
    "colab_type": "text",
    "id": "4G70jaduhF4Q"
   },
   "source": [
    "## 3)Data visualizations"
   ]
  },
  {
   "cell_type": "markdown",
   "metadata": {
    "colab_type": "text",
    "id": "9C3RAr6shF4R"
   },
   "source": [
    "#### a) Histograms"
   ]
  },
  {
   "cell_type": "code",
   "execution_count": null,
   "metadata": {
    "colab": {
     "base_uri": "https://localhost:8080/",
     "height": 825
    },
    "colab_type": "code",
    "executionInfo": {
     "elapsed": 8071,
     "status": "ok",
     "timestamp": 1574369534502,
     "user": {
      "displayName": "André Rodrigues",
      "photoUrl": "https://lh3.googleusercontent.com/a-/AAuE7mC4VcoLAlPEtIAJVPWTppZJ9S3ou2QH75zgDkJrgn0=s64",
      "userId": "01975921740661022202"
     },
     "user_tz": 180
    },
    "id": "espms2Y_hF4R",
    "outputId": "df0791a8-7d04-4c1e-88c5-134d88e800a5"
   },
   "outputs": [],
   "source": [
    "# data.hist(bins=10,figsize=(10,7),grid=False);"
   ]
  },
  {
   "cell_type": "markdown",
   "metadata": {},
   "source": [
    "### Ao observar os resultados das correlacoes e do hotmap, notamos que as variáveis V2 e V9 possuem uma forte correlacao."
   ]
  },
  {
   "cell_type": "code",
   "execution_count": null,
   "metadata": {},
   "outputs": [],
   "source": [
    "# data.drop(columns=['V1','V3','V4','V5','V6','V7','V8','V9','V10'], axis=1, inplace=True)\n",
    "\n",
    "data.drop(columns=to_drop, axis=1, inplace=True)\n",
    "data.head()"
   ]
  },
  {
   "cell_type": "markdown",
   "metadata": {
    "colab_type": "text",
    "id": "rC9O6F1whF4b"
   },
   "source": [
    "## 6) Separar o conjunto em variavel resposta e variaveis de treinamento"
   ]
  },
  {
   "cell_type": "code",
   "execution_count": null,
   "metadata": {
    "colab": {},
    "colab_type": "code",
    "id": "f97RafZhhF4b"
   },
   "outputs": [],
   "source": [
    "# Split-out validation dataset\n",
    "seed = 25\n",
    "validation_size = 0.30"
   ]
  },
  {
   "cell_type": "code",
   "execution_count": null,
   "metadata": {},
   "outputs": [],
   "source": [
    "X = data.iloc[:,1]\n",
    "X = X.values.reshape(-1, 1)\n",
    "y = data.iloc[:,0]"
   ]
  },
  {
   "cell_type": "code",
   "execution_count": null,
   "metadata": {
    "colab": {},
    "colab_type": "code",
    "id": "Y1gB8W1NhF4d"
   },
   "outputs": [],
   "source": [
    "# X_train, X_validation, Y_train, Y_validation = train_test_split(X, Y, test_size=validation_size, random_state=seed)"
   ]
  },
  {
   "cell_type": "code",
   "execution_count": null,
   "metadata": {
    "colab": {},
    "colab_type": "code",
    "id": "Y1gB8W1NhF4d"
   },
   "outputs": [],
   "source": [
    "X_train, X_test, y_train, y_test = train_test_split(X, y, test_size=validation_size, random_state=seed)"
   ]
  },
  {
   "cell_type": "code",
   "execution_count": null,
   "metadata": {},
   "outputs": [],
   "source": [
    "# scalerX = StandardScaler().fit(X_train)\n",
    "# scalery = StandardScaler().fit(y_train.values.reshape(-1, 1))\n",
    "# X_train = scalerX.transform(X_train)\n",
    "# y_train = scalery.transform(y_train.values.reshape(-1, 1))\n",
    "# X_test = scalerX.transform(X_test)\n",
    "# y_test = scalery.transform(y_test.values.reshape(-1, 1))"
   ]
  },
  {
   "cell_type": "markdown",
   "metadata": {
    "colab_type": "text",
    "id": "kHcf_q-QhF4f"
   },
   "source": [
    "## 8) Evaluate Algorithm"
   ]
  },
  {
   "cell_type": "markdown",
   "metadata": {
    "colab_type": "text",
    "id": "FXVg9TC1hF4f"
   },
   "source": [
    "### a) Test options and evaluation metric using Root Mean Square error method"
   ]
  },
  {
   "cell_type": "code",
   "execution_count": null,
   "metadata": {
    "colab": {},
    "colab_type": "code",
    "id": "C1VIsqBThF4g"
   },
   "outputs": [],
   "source": [
    "num_folds = 10\n",
    "seed = 7\n",
    "RMS = 'neg_mean_squared_error'"
   ]
  },
  {
   "cell_type": "markdown",
   "metadata": {
    "colab_type": "text",
    "id": "UJsFf_82hF4i"
   },
   "source": [
    "### b) Executando os Regressores"
   ]
  },
  {
   "cell_type": "code",
   "execution_count": null,
   "metadata": {
    "colab": {},
    "colab_type": "code",
    "id": "yVuuGDQHhF4i"
   },
   "outputs": [],
   "source": [
    "# pipelines = []\n",
    "# pipelines.append(('LR', Pipeline([('Scaler', StandardScaler()),('LR', LinearRegression())])))\n",
    "\n",
    "# pipelines.append(('KNN', Pipeline([('Scaler', StandardScaler()),('KNN', KNeighborsRegressor())])))\n",
    "\n",
    "# pipelines.append(('DTR', Pipeline([('Scaler', StandardScaler()),('DTR', DecisionTreeRegressor())])))\n",
    "\n",
    "# pipelines.append(('RF', Pipeline([('Scaler', StandardScaler()),('RF', RandomForestRegressor())])))\n",
    "\n",
    "# pipelines.append(('ADA', Pipeline([('Scaler', StandardScaler()),('ADA', AdaBoostRegressor())])))\n",
    "\n",
    "# pipelines.append(('SVR', Pipeline([('Scaler', StandardScaler()),('SVR', SVR())])))\n",
    "# pipelines.append(('SVR-RBF', Pipeline([('Scaler', StandardScaler()),('SVR', SVR(kernel='rbf', C=100, gamma=0.1, epsilon=.1))])))\n",
    "# pipelines.append(('SVR-Linear', Pipeline([('Scaler', StandardScaler()),('SVR', SVR(kernel='linear', C=100, gamma='auto'))])))\n",
    "# pipelines.append(('SVR-Poly', Pipeline([('Scaler', StandardScaler()),('SVR', SVR(kernel='poly', C=100, gamma='auto', degree=3, epsilon=.1))])))"
   ]
  },
  {
   "cell_type": "markdown",
   "metadata": {
    "colab_type": "text",
    "id": "X5KS2MaCvBP2"
   },
   "source": [
    "##### Preparacao dos pipelines com os seguintes regressores:\n",
    "* Regressão Linear\n",
    "* KNN\n",
    "* Arvore de Decisão\n",
    "* Random Forest\n",
    "* AdaBoost\n",
    "* Support Vector Machine\n",
    "  + Kernels:\n",
    "    - Gaussiano RBF\n",
    "    - Linear\n",
    "    - Polinomial\n",
    "    "
   ]
  },
  {
   "cell_type": "code",
   "execution_count": null,
   "metadata": {
    "colab": {},
    "colab_type": "code",
    "id": "yVuuGDQHhF4i"
   },
   "outputs": [],
   "source": [
    "pipelines = []\n",
    "pipelines.append(('LR', Pipeline([('LR', LinearRegression())])))\n",
    "\n",
    "pipelines.append(('KNN', Pipeline([('KNN', KNeighborsRegressor())])))\n",
    "\n",
    "pipelines.append(('DTR', Pipeline([('DTR', DecisionTreeRegressor())])))\n",
    "\n",
    "pipelines.append(('RF', Pipeline([('RF', RandomForestRegressor())])))\n",
    "\n",
    "pipelines.append(('ADA', Pipeline([('ADA', AdaBoostRegressor())])))\n",
    "\n",
    "pipelines.append(('SVR', Pipeline([('SVR', SVR())])))\n",
    "pipelines.append(('SVR-RBF', Pipeline([('SVR', SVR(kernel='rbf', C=100, gamma=0.1, epsilon=.1))])))\n",
    "pipelines.append(('SVR-Linear', Pipeline([('SVR', SVR(kernel='linear', C=100, gamma='auto'))])))\n",
    "pipelines.append(('SVR-Poly', Pipeline([('SVR', SVR(kernel='poly', C=100, gamma='auto', degree=3, epsilon=.1))])))"
   ]
  },
  {
   "cell_type": "markdown",
   "metadata": {
    "colab_type": "text",
    "id": "gQ0xuFnDvBP4"
   },
   "source": [
    "### c) Execução dos Regressores e Avaliação do desempenho de cada um baseado no Erro Quadrático Médio.\n",
    "* Validacao Cruzada com 10 folds."
   ]
  },
  {
   "cell_type": "code",
   "execution_count": null,
   "metadata": {
    "colab": {
     "base_uri": "https://localhost:8080/",
     "height": 510
    },
    "colab_type": "code",
    "executionInfo": {
     "elapsed": 2218714,
     "status": "ok",
     "timestamp": 1574371745182,
     "user": {
      "displayName": "André Rodrigues",
      "photoUrl": "https://lh3.googleusercontent.com/a-/AAuE7mC4VcoLAlPEtIAJVPWTppZJ9S3ou2QH75zgDkJrgn0=s64",
      "userId": "01975921740661022202"
     },
     "user_tz": 180
    },
    "id": "Y_aF7y25vBP4",
    "outputId": "17dcacc0-c80e-43e9-d4cb-d6c5cace7ada"
   },
   "outputs": [],
   "source": [
    "results = []\n",
    "names = []\n",
    "for name, model in pipelines:\n",
    "\tkfold = KFold(n_splits=num_folds, random_state=seed)\n",
    "\tcv_results = cross_val_score(model, X_train, y_train, cv=kfold, scoring=RMS)\n",
    "\tresults.append(cv_results)\n",
    "\tnames.append(name)\n",
    "\tmsg = \"%s: %f (%f)\" % (name, cv_results.mean(), cv_results.std())\n",
    "\tprint(msg)"
   ]
  },
  {
   "cell_type": "markdown",
   "metadata": {
    "colab_type": "text",
    "id": "mvQd5bALhF4k"
   },
   "source": [
    "## 10) Comparacao do Algoritmos"
   ]
  },
  {
   "cell_type": "code",
   "execution_count": null,
   "metadata": {
    "colab": {
     "base_uri": "https://localhost:8080/",
     "height": 479
    },
    "colab_type": "code",
    "executionInfo": {
     "elapsed": 2219021,
     "status": "ok",
     "timestamp": 1574371745494,
     "user": {
      "displayName": "André Rodrigues",
      "photoUrl": "https://lh3.googleusercontent.com/a-/AAuE7mC4VcoLAlPEtIAJVPWTppZJ9S3ou2QH75zgDkJrgn0=s64",
      "userId": "01975921740661022202"
     },
     "user_tz": 180
    },
    "id": "uw7FJJj4hF4l",
    "outputId": "6c0c88b0-ca45-4b98-9995-e10dc96fecb7"
   },
   "outputs": [],
   "source": [
    "# fig = pyplot.figure(figsize=(10,7))\n",
    "# fig.suptitle('Scaled Algorithm Comparison')\n",
    "# ax = fig.add_subplot(111)\n",
    "# pyplot.boxplot(results)\n",
    "# ax.set_xticklabels(names)\n",
    "# pyplot.show()"
   ]
  },
  {
   "cell_type": "code",
   "execution_count": null,
   "metadata": {},
   "outputs": [],
   "source": [
    "# rf = RandomForestRegressor()\n",
    "\n",
    "# scaler = StandardScaler().fit(X_train)\n",
    "# rescaledX = scaler.transform(X_train)\n",
    "\n",
    "# rf.fit(rescaledX, y_train)\n",
    "\n",
    "# rescaledValidationX = scaler.transform(X_test)\n",
    "\n",
    "# predictions = rf.predict(rescaledValidationX)\n",
    "\n",
    "# print(metrics.median_absolute_error(y_test, predictions))\n",
    "# print(metrics.mean_squared_error(y_test, predictions))\n",
    "\n",
    "\n",
    "# predictions=predictions.astype(int)\n",
    "# finalresult = pd.DataFrame({\n",
    "#         \"V2 Original\": y_test,\n",
    "#         \"V2 Predito\": predictions\n",
    "#     })\n",
    "\n",
    "# # finalresult.to_csv(\"PredictedV2.csv\", index=False)"
   ]
  },
  {
   "cell_type": "code",
   "execution_count": null,
   "metadata": {},
   "outputs": [],
   "source": [
    "# reg = LinearRegression()\n",
    "# reg = KNeighborsRegressor()\n",
    "# reg = DecisionTreeRegressor()\n",
    "reg = RandomForestRegressor()\n",
    "# reg = AdaBoostRegressor()\n",
    "# reg = SVR()\n",
    "reg.fit(X_train,y_train)\n"
   ]
  },
  {
   "cell_type": "code",
   "execution_count": null,
   "metadata": {},
   "outputs": [],
   "source": [
    "X_new_scaled = X_train[0]\n",
    "print (X_new_scaled)"
   ]
  },
  {
   "cell_type": "code",
   "execution_count": null,
   "metadata": {},
   "outputs": [],
   "source": [
    "X_new_inverse = scalerX.inverse_transform(X_new_scaled)\n",
    "X_new_inverse"
   ]
  },
  {
   "cell_type": "code",
   "execution_count": null,
   "metadata": {},
   "outputs": [],
   "source": [
    "y_new = reg.predict(X_new_scaled.reshape(1, -1))\n",
    "print (y_new)"
   ]
  },
  {
   "cell_type": "code",
   "execution_count": null,
   "metadata": {},
   "outputs": [],
   "source": [
    "y_new_inverse = scalery.inverse_transform(y_new)\n",
    "y_new_inverse"
   ]
  },
  {
   "cell_type": "code",
   "execution_count": null,
   "metadata": {},
   "outputs": [],
   "source": [
    "y_train_inverse = scalery.inverse_transform(y_train[0])\n",
    "y_train_inverse"
   ]
  },
  {
   "cell_type": "code",
   "execution_count": null,
   "metadata": {},
   "outputs": [],
   "source": [
    "X_original = []\n",
    "v2_original = []\n",
    "v2_estimado = []\n",
    "for i in range(len(X_train)):\n",
    "    X_new_scaled = X_train[i]\n",
    "    X_new_inverse = scalerX.inverse_transform(X_new_scaled)\n",
    "    X_original.append(X_new_inverse)\n",
    "    y_new = reg.predict(X_new_scaled.reshape(1, -1))\n",
    "    y_new_inverse = scalery.inverse_transform(y_new)\n",
    "    v2_estimado.append(y_new_inverse)\n",
    "    v2_test_origin = scalery.inverse_transform(y_train[i])\n",
    "    v2_original.append(v2_test_origin)"
   ]
  },
  {
   "cell_type": "code",
   "execution_count": null,
   "metadata": {},
   "outputs": [],
   "source": [
    "data.head()"
   ]
  },
  {
   "cell_type": "code",
   "execution_count": null,
   "metadata": {},
   "outputs": [],
   "source": [
    "X_original = pd.DataFrame(X_original, columns=X.columns)\n",
    "X_original  "
   ]
  },
  {
   "cell_type": "code",
   "execution_count": null,
   "metadata": {},
   "outputs": [],
   "source": [
    "type(v2_original)"
   ]
  },
  {
   "cell_type": "code",
   "execution_count": null,
   "metadata": {},
   "outputs": [],
   "source": [
    "X_original['V2'] = pd.DataFrame(v2_original)\n",
    "X_original"
   ]
  },
  {
   "cell_type": "code",
   "execution_count": null,
   "metadata": {},
   "outputs": [],
   "source": [
    "a = list(x for l in v2_estimado for x in l)"
   ]
  },
  {
   "cell_type": "code",
   "execution_count": null,
   "metadata": {},
   "outputs": [],
   "source": [
    "X_original"
   ]
  },
  {
   "cell_type": "code",
   "execution_count": null,
   "metadata": {},
   "outputs": [],
   "source": [
    "X_original['V2_estimado'] = pd.DataFrame(a)\n",
    "X_original"
   ]
  },
  {
   "cell_type": "code",
   "execution_count": null,
   "metadata": {},
   "outputs": [],
   "source": [
    "# Compute the root-mean-square\n",
    "rms = np.sqrt(mean_squared_error(X_original['V2'], X_original['V2_estimado']))\n",
    "mse = mean_squared_error(X_original['V2'], X_original['V2_estimado'])\n",
    "print(rms)\n",
    "print(mse)"
   ]
  },
  {
   "cell_type": "markdown",
   "metadata": {
    "colab": {},
    "colab_type": "code",
    "id": "zG3p07SxhF4r"
   },
   "source": [
    "* Com base nos resultados obtidos entre todos os regressores, identificamos que aquele que obteve o menor Erro Quadrático Médio e, portanto, o melhor desempenho foi o <span style=\"color:red\">Random Forest Regessor</span>. Este regressor retornou um Erro Médio Absoluto de 21.990 e o Erro Quadrático Médio de 2.899.271.632."
   ]
  },
  {
   "cell_type": "markdown",
   "metadata": {
    "colab": {},
    "colab_type": "code",
    "id": "8VWl2gSghF4x"
   },
   "source": [
    "<b>Conclusão Exercicio 8:</b>\n",
    "\n",
    "Para obtermos a maior acuracia, vamos selecionar as seguintes tecnicas:\n",
    "\n",
    "1. Clusterizacao (Aprendizagem Nao-Supervisionada): \n",
    "  + K-Means com 25 clusters\n",
    "  + Utlizamos o resultado dessa clusterizacao como a classe para os classificadores.\n",
    "2. Classificacao (Aprendizagem Supervisionada):\n",
    "  + SVM com kernel='linear', C=100, gamma=0.001\n",
    "  + Com este classificador usando a parametrizacao acima, obtivemos uma acuracia de 97%\n",
    "3. Regressao (Aprendizagem Supervisionada): \n",
    "  + Random Forest Regressor\n",
    "  + Este regressor obteve o menor Erro Quadrático Medio, de acordo com o gráfico boxplot gerado acima.\n",
    "4. Pre-Processamento:\n",
    "  + Somente Label Encoding, pois o One Hot Encoding, que exige mais uma etapa de processamento, obteve os mesmos resultados de acurácia do Label Encoding usando o classificador SVM e o clusterizador K-Means. \n"
   ]
  },
  {
   "cell_type": "code",
   "execution_count": null,
   "metadata": {
    "colab": {},
    "colab_type": "code",
    "id": "DwF9OpnchF4y"
   },
   "outputs": [],
   "source": []
  },
  {
   "cell_type": "code",
   "execution_count": null,
   "metadata": {
    "colab": {},
    "colab_type": "code",
    "id": "TKzlvo1ihF40"
   },
   "outputs": [],
   "source": []
  }
 ],
 "metadata": {
  "colab": {
   "collapsed_sections": [],
   "name": "ML_Trabalho8_11-Predicao.ipynb",
   "provenance": []
  },
  "kernelspec": {
   "display_name": "Python 3",
   "language": "python",
   "name": "python3"
  },
  "language_info": {
   "codemirror_mode": {
    "name": "ipython",
    "version": 3
   },
   "file_extension": ".py",
   "mimetype": "text/x-python",
   "name": "python",
   "nbconvert_exporter": "python",
   "pygments_lexer": "ipython3",
   "version": "3.7.4"
  }
 },
 "nbformat": 4,
 "nbformat_minor": 4
}
