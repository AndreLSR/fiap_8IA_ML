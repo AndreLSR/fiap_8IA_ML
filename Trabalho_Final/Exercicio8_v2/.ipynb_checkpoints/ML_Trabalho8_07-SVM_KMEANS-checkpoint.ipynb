{
 "cells": [
  {
   "cell_type": "markdown",
   "metadata": {
    "colab_type": "text",
    "id": "pWjX0OEJ9RmL"
   },
   "source": [
    "## Support Vector Machines\n",
    "* Poderosa metodologia para resolver problemas de aprendizagem de máquina.\n",
    "* Proposto em 1995 pelo russo Vladimir Vapnik.\n",
    "* Muito utilizado atualmente em diversos tipos de aplicações.\n",
    "* O problema dos problemas não linearmente separáveis \n",
    "* O problema dos problemas não linearmente separáveis\n"
   ]
  },
  {
   "cell_type": "markdown",
   "metadata": {
    "colab_type": "text",
    "id": "uD2LXY4O9RmN"
   },
   "source": [
    "![](https://i.ibb.co/tsDTKzn/SVM-Picture1.png)\n",
    "\n",
    "* Problema não linearmente separável"
   ]
  },
  {
   "cell_type": "markdown",
   "metadata": {
    "colab_type": "text",
    "id": "p615s7C39RmO"
   },
   "source": [
    "### O processo de classificação:\n",
    "  + Entendendo o parâmetro C, Soft Margin: \n",
    "    - A aplicação de um método puramente linear para classificar um conjunto de dados pode sofrer com dois problemas bastante comuns:\n",
    "      - Outliers\n",
    "      - Exemplos rotulados erroneamente\n",
    "  + Mesmo assim o SVM ainda assim pode ser aplicado através do uso do parâmetro C (soft margin - variáveis de folga)\n",
    "#### O truque do Kernel:\n",
    "    - Realiza a projeção das características em um espaço multidimencional, maior que o vetor de entrada onde as classes podem ser separadas por um hiperplano."
   ]
  },
  {
   "cell_type": "markdown",
   "metadata": {
    "colab_type": "text",
    "id": "OKbu1g1O9RmP"
   },
   "source": [
    "![](https://i.ibb.co/n19dmvq/SVM-Picture2.png)"
   ]
  },
  {
   "cell_type": "markdown",
   "metadata": {
    "colab_type": "text",
    "id": "npaYNxOL9RmP"
   },
   "source": [
    "#### Vantagens:\n",
    "  + Considerado o estado da arte dos classificadores.\n",
    "  + Trabalha com problemas linearmente e não-linearmente separáveis.\n",
    "  + Desempenho superior a maioria dos classificadores tradicionais.\n",
    "  \n",
    "#### Desvantagens:\n",
    "  + A calibragem dos parâmetros envolvidos e escolha do tipo de kernel não é uma tarefa trivial.\n",
    "  + O tempo de treinamento pode ser extremamente lento e computacionalmente complexo dependendo da quantidade de características."
   ]
  },
  {
   "cell_type": "code",
   "execution_count": null,
   "metadata": {
    "colab": {},
    "colab_type": "code",
    "id": "FVwvys9VQ-TU"
   },
   "outputs": [],
   "source": [
    "import pandas as pd\n",
    "import numpy as np\n",
    "import seaborn as sb\n",
    "import matplotlib.pyplot as plt \n",
    "\n",
    "from sklearn.model_selection import cross_val_predict\n",
    "from sklearn import metrics\n",
    "from sklearn import svm\n",
    "from sklearn.preprocessing import LabelEncoder\n",
    "\n",
    "# Importe as bibliotecas de Pipelines e Pré-processadores\n",
    "from sklearn.pipeline import Pipeline\n",
    "from sklearn.preprocessing import StandardScaler\n",
    "from sklearn.preprocessing import MinMaxScaler\n",
    "\n",
    "# Importa o pacote OneHotEncoder\n",
    "from sklearn.preprocessing import OneHotEncoder\n",
    "\n",
    "import sys"
   ]
  },
  {
   "cell_type": "markdown",
   "metadata": {
    "colab_type": "text",
    "id": "ueAjUhkb9RmT"
   },
   "source": [
    "## 1) Importando os dados já tratados sem OneHotEncoding:"
   ]
  },
  {
   "cell_type": "code",
   "execution_count": null,
   "metadata": {
    "colab": {
     "base_uri": "https://localhost:8080/",
     "height": 272
    },
    "colab_type": "code",
    "id": "1fVCXcqb9RmU",
    "outputId": "44943501-fcb9-4e4a-ba79-fff555d3217b"
   },
   "outputs": [
    {
     "name": "stdout",
     "output_type": "stream",
     "text": [
      "Drive already mounted at /content/drive; to attempt to forcibly remount, call drive.mount(\"/content/drive\", force_remount=True).\n",
      " Consumo_cerveja.csv   data_ohe_nostd.csv   opsd_germany_daily.csv\n",
      " dados_clust.csv       ex1data1.txt\t   'TrabalhoEx8(1).csv'\n",
      " data_nostd.csv        house_prices.csv\n"
     ]
    },
    {
     "data": {
      "text/html": [
       "<div>\n",
       "<style scoped>\n",
       "    .dataframe tbody tr th:only-of-type {\n",
       "        vertical-align: middle;\n",
       "    }\n",
       "\n",
       "    .dataframe tbody tr th {\n",
       "        vertical-align: top;\n",
       "    }\n",
       "\n",
       "    .dataframe thead th {\n",
       "        text-align: right;\n",
       "    }\n",
       "</style>\n",
       "<table border=\"1\" class=\"dataframe\">\n",
       "  <thead>\n",
       "    <tr style=\"text-align: right;\">\n",
       "      <th></th>\n",
       "      <th>V1</th>\n",
       "      <th>V2</th>\n",
       "      <th>V3</th>\n",
       "      <th>V4</th>\n",
       "      <th>V5</th>\n",
       "      <th>V6</th>\n",
       "      <th>V7</th>\n",
       "      <th>V8</th>\n",
       "      <th>V9</th>\n",
       "      <th>V10</th>\n",
       "      <th>dbscan</th>\n",
       "      <th>kmeans</th>\n",
       "      <th>som</th>\n",
       "    </tr>\n",
       "  </thead>\n",
       "  <tbody>\n",
       "    <tr>\n",
       "      <th>0</th>\n",
       "      <td>-122.23</td>\n",
       "      <td>452600.0</td>\n",
       "      <td>129</td>\n",
       "      <td>41</td>\n",
       "      <td>880</td>\n",
       "      <td>3</td>\n",
       "      <td>126</td>\n",
       "      <td>322</td>\n",
       "      <td>83.252</td>\n",
       "      <td>37.88</td>\n",
       "      <td>1</td>\n",
       "      <td>1</td>\n",
       "      <td>11</td>\n",
       "    </tr>\n",
       "    <tr>\n",
       "      <th>1</th>\n",
       "      <td>-122.22</td>\n",
       "      <td>358500.0</td>\n",
       "      <td>1106</td>\n",
       "      <td>21</td>\n",
       "      <td>7099</td>\n",
       "      <td>3</td>\n",
       "      <td>1138</td>\n",
       "      <td>2401</td>\n",
       "      <td>83.014</td>\n",
       "      <td>37.86</td>\n",
       "      <td>0</td>\n",
       "      <td>13</td>\n",
       "      <td>23</td>\n",
       "    </tr>\n",
       "    <tr>\n",
       "      <th>2</th>\n",
       "      <td>-122.24</td>\n",
       "      <td>352100.0</td>\n",
       "      <td>190</td>\n",
       "      <td>52</td>\n",
       "      <td>1467</td>\n",
       "      <td>3</td>\n",
       "      <td>177</td>\n",
       "      <td>496</td>\n",
       "      <td>72.574</td>\n",
       "      <td>37.85</td>\n",
       "      <td>1</td>\n",
       "      <td>1</td>\n",
       "      <td>2</td>\n",
       "    </tr>\n",
       "    <tr>\n",
       "      <th>3</th>\n",
       "      <td>-122.25</td>\n",
       "      <td>341300.0</td>\n",
       "      <td>235</td>\n",
       "      <td>52</td>\n",
       "      <td>1274</td>\n",
       "      <td>3</td>\n",
       "      <td>219</td>\n",
       "      <td>558</td>\n",
       "      <td>56.431</td>\n",
       "      <td>37.85</td>\n",
       "      <td>1</td>\n",
       "      <td>21</td>\n",
       "      <td>1</td>\n",
       "    </tr>\n",
       "    <tr>\n",
       "      <th>4</th>\n",
       "      <td>-122.25</td>\n",
       "      <td>342200.0</td>\n",
       "      <td>280</td>\n",
       "      <td>52</td>\n",
       "      <td>1627</td>\n",
       "      <td>3</td>\n",
       "      <td>259</td>\n",
       "      <td>565</td>\n",
       "      <td>38.462</td>\n",
       "      <td>37.85</td>\n",
       "      <td>1</td>\n",
       "      <td>21</td>\n",
       "      <td>1</td>\n",
       "    </tr>\n",
       "  </tbody>\n",
       "</table>\n",
       "</div>"
      ],
      "text/plain": [
       "       V1        V2    V3  V4    V5  ...      V9    V10  dbscan  kmeans  som\n",
       "0 -122.23  452600.0   129  41   880  ...  83.252  37.88       1       1   11\n",
       "1 -122.22  358500.0  1106  21  7099  ...  83.014  37.86       0      13   23\n",
       "2 -122.24  352100.0   190  52  1467  ...  72.574  37.85       1       1    2\n",
       "3 -122.25  341300.0   235  52  1274  ...  56.431  37.85       1      21    1\n",
       "4 -122.25  342200.0   280  52  1627  ...  38.462  37.85       1      21    1\n",
       "\n",
       "[5 rows x 13 columns]"
      ]
     },
     "execution_count": 21,
     "metadata": {
      "tags": []
     },
     "output_type": "execute_result"
    }
   ],
   "source": [
    "from google.colab import drive\n",
    "drive.mount('/content/drive')\n",
    "!ls \"/content/drive/My Drive/datasets\"\n",
    "data = pd.read_csv('/content/drive/My Drive/datasets/dados_clust.csv',sep=',') # faz a leitura dos dados\n",
    "\n",
    "data = data.iloc[:,1:]\n",
    "data.rename(columns={\"V6_int\": \"V6\"}, inplace=True)\n",
    "data.head()"
   ]
  },
  {
   "cell_type": "markdown",
   "metadata": {
    "colab_type": "text",
    "id": "p2Xs1Udw9RmW"
   },
   "source": [
    "## 2) Importando os dados já tratados com OneHotEncoding:"
   ]
  },
  {
   "cell_type": "code",
   "execution_count": null,
   "metadata": {
    "colab": {
     "base_uri": "https://localhost:8080/",
     "height": 272
    },
    "colab_type": "code",
    "id": "3_07QusL9RmX",
    "outputId": "7e0e3792-aa26-4532-86a0-f7f8aaeb20df"
   },
   "outputs": [
    {
     "name": "stdout",
     "output_type": "stream",
     "text": [
      "Drive already mounted at /content/drive; to attempt to forcibly remount, call drive.mount(\"/content/drive\", force_remount=True).\n",
      " Consumo_cerveja.csv   data_ohe_nostd.csv   opsd_germany_daily.csv\n",
      " dados_clust.csv       ex1data1.txt\t   'TrabalhoEx8(1).csv'\n",
      " data_nostd.csv        house_prices.csv\n"
     ]
    },
    {
     "data": {
      "text/html": [
       "<div>\n",
       "<style scoped>\n",
       "    .dataframe tbody tr th:only-of-type {\n",
       "        vertical-align: middle;\n",
       "    }\n",
       "\n",
       "    .dataframe tbody tr th {\n",
       "        vertical-align: top;\n",
       "    }\n",
       "\n",
       "    .dataframe thead th {\n",
       "        text-align: right;\n",
       "    }\n",
       "</style>\n",
       "<table border=\"1\" class=\"dataframe\">\n",
       "  <thead>\n",
       "    <tr style=\"text-align: right;\">\n",
       "      <th></th>\n",
       "      <th>0</th>\n",
       "      <th>1</th>\n",
       "      <th>2</th>\n",
       "      <th>3</th>\n",
       "      <th>4</th>\n",
       "      <th>5</th>\n",
       "      <th>6</th>\n",
       "      <th>7</th>\n",
       "      <th>8</th>\n",
       "      <th>9</th>\n",
       "      <th>10</th>\n",
       "      <th>11</th>\n",
       "      <th>12</th>\n",
       "      <th>13</th>\n",
       "      <th>14</th>\n",
       "      <th>dbscan</th>\n",
       "      <th>kmeans</th>\n",
       "      <th>som</th>\n",
       "    </tr>\n",
       "  </thead>\n",
       "  <tbody>\n",
       "    <tr>\n",
       "      <th>0</th>\n",
       "      <td>-122.23</td>\n",
       "      <td>452600.0</td>\n",
       "      <td>129.0</td>\n",
       "      <td>41.0</td>\n",
       "      <td>880.0</td>\n",
       "      <td>3.0</td>\n",
       "      <td>126.0</td>\n",
       "      <td>322.0</td>\n",
       "      <td>83.252</td>\n",
       "      <td>37.88</td>\n",
       "      <td>0.0</td>\n",
       "      <td>0.0</td>\n",
       "      <td>0.0</td>\n",
       "      <td>1.0</td>\n",
       "      <td>0.0</td>\n",
       "      <td>1</td>\n",
       "      <td>1</td>\n",
       "      <td>11</td>\n",
       "    </tr>\n",
       "    <tr>\n",
       "      <th>1</th>\n",
       "      <td>-122.22</td>\n",
       "      <td>358500.0</td>\n",
       "      <td>1106.0</td>\n",
       "      <td>21.0</td>\n",
       "      <td>7099.0</td>\n",
       "      <td>3.0</td>\n",
       "      <td>1138.0</td>\n",
       "      <td>2401.0</td>\n",
       "      <td>83.014</td>\n",
       "      <td>37.86</td>\n",
       "      <td>0.0</td>\n",
       "      <td>0.0</td>\n",
       "      <td>0.0</td>\n",
       "      <td>1.0</td>\n",
       "      <td>0.0</td>\n",
       "      <td>0</td>\n",
       "      <td>13</td>\n",
       "      <td>23</td>\n",
       "    </tr>\n",
       "    <tr>\n",
       "      <th>2</th>\n",
       "      <td>-122.24</td>\n",
       "      <td>352100.0</td>\n",
       "      <td>190.0</td>\n",
       "      <td>52.0</td>\n",
       "      <td>1467.0</td>\n",
       "      <td>3.0</td>\n",
       "      <td>177.0</td>\n",
       "      <td>496.0</td>\n",
       "      <td>72.574</td>\n",
       "      <td>37.85</td>\n",
       "      <td>0.0</td>\n",
       "      <td>0.0</td>\n",
       "      <td>0.0</td>\n",
       "      <td>1.0</td>\n",
       "      <td>0.0</td>\n",
       "      <td>1</td>\n",
       "      <td>1</td>\n",
       "      <td>2</td>\n",
       "    </tr>\n",
       "    <tr>\n",
       "      <th>3</th>\n",
       "      <td>-122.25</td>\n",
       "      <td>341300.0</td>\n",
       "      <td>235.0</td>\n",
       "      <td>52.0</td>\n",
       "      <td>1274.0</td>\n",
       "      <td>3.0</td>\n",
       "      <td>219.0</td>\n",
       "      <td>558.0</td>\n",
       "      <td>56.431</td>\n",
       "      <td>37.85</td>\n",
       "      <td>0.0</td>\n",
       "      <td>0.0</td>\n",
       "      <td>0.0</td>\n",
       "      <td>1.0</td>\n",
       "      <td>0.0</td>\n",
       "      <td>1</td>\n",
       "      <td>21</td>\n",
       "      <td>1</td>\n",
       "    </tr>\n",
       "    <tr>\n",
       "      <th>4</th>\n",
       "      <td>-122.25</td>\n",
       "      <td>342200.0</td>\n",
       "      <td>280.0</td>\n",
       "      <td>52.0</td>\n",
       "      <td>1627.0</td>\n",
       "      <td>3.0</td>\n",
       "      <td>259.0</td>\n",
       "      <td>565.0</td>\n",
       "      <td>38.462</td>\n",
       "      <td>37.85</td>\n",
       "      <td>0.0</td>\n",
       "      <td>0.0</td>\n",
       "      <td>0.0</td>\n",
       "      <td>1.0</td>\n",
       "      <td>0.0</td>\n",
       "      <td>1</td>\n",
       "      <td>21</td>\n",
       "      <td>1</td>\n",
       "    </tr>\n",
       "  </tbody>\n",
       "</table>\n",
       "</div>"
      ],
      "text/plain": [
       "        0         1       2     3       4  ...   13   14  dbscan  kmeans  som\n",
       "0 -122.23  452600.0   129.0  41.0   880.0  ...  1.0  0.0       1       1   11\n",
       "1 -122.22  358500.0  1106.0  21.0  7099.0  ...  1.0  0.0       0      13   23\n",
       "2 -122.24  352100.0   190.0  52.0  1467.0  ...  1.0  0.0       1       1    2\n",
       "3 -122.25  341300.0   235.0  52.0  1274.0  ...  1.0  0.0       1      21    1\n",
       "4 -122.25  342200.0   280.0  52.0  1627.0  ...  1.0  0.0       1      21    1\n",
       "\n",
       "[5 rows x 18 columns]"
      ]
     },
     "execution_count": 22,
     "metadata": {
      "tags": []
     },
     "output_type": "execute_result"
    }
   ],
   "source": [
    "from google.colab import drive\n",
    "drive.mount('/content/drive')\n",
    "!ls \"/content/drive/My Drive/datasets\"\n",
    "data_ohe = pd.read_csv('/content/drive/My Drive/datasets/data_ohe_nostd.csv',sep=',') # faz a leitura dos dados\n",
    "\n",
    "data_ohe = data_ohe.iloc[:,1:]\n",
    "data_ohe[\"dbscan\"] = data[\"dbscan\"]\n",
    "data_ohe[\"kmeans\"] = data[\"kmeans\"]\n",
    "data_ohe[\"som\"] = data[\"som\"]\n",
    "data_ohe.head()"
   ]
  },
  {
   "cell_type": "markdown",
   "metadata": {
    "colab_type": "text",
    "id": "YcAFPWoVPAvJ"
   },
   "source": [
    "#### -  Apenas como curiosidade, vejamos como as classes estão distribuidas em 'dbscan', 'kmeans' e 'som'"
   ]
  },
  {
   "cell_type": "code",
   "execution_count": null,
   "metadata": {
    "colab": {
     "base_uri": "https://localhost:8080/",
     "height": 1000
    },
    "colab_type": "code",
    "id": "8HRrc33gPsjD",
    "outputId": "1ecddd5c-eee6-4a1a-d1e7-b17003acaf7a"
   },
   "outputs": [
    {
     "data": {
      "image/png": "[encoded data removed]",
      "text/plain": [
       "<Figure size 1440x1008 with 1 Axes>"
      ]
     },
     "metadata": {
      "tags": []
     },
     "output_type": "display_data"
    },
    {
     "data": {
      "image/png": "[encoded data removed]",
      "text/plain": [
       "<Figure size 1440x1008 with 1 Axes>"
      ]
     },
     "metadata": {
      "tags": []
     },
     "output_type": "display_data"
    },
    {
     "data": {
      "image/png": "[encoded data removed]",
      "text/plain": [
       "<Figure size 1440x1008 with 1 Axes>"
      ]
     },
     "metadata": {
      "tags": []
     },
     "output_type": "display_data"
    }
   ],
   "source": [
    "plt.figure(figsize=(20,14))\n",
    "plot1 = sb.countplot(x='dbscan',data=data, palette='hls')\n",
    "plt.title(\"Verificando classes de dbscan\")\n",
    "plt.show(plot1)\n",
    "plt.figure(figsize=(20,14))\n",
    "plot2 = sb.countplot(x='kmeans',data=data, palette='hls')\n",
    "plt.title(\"Verificando classes de kmeans\")\n",
    "plt.show(plot2)\n",
    "plt.figure(figsize=(20,14))\n",
    "plot3 = sb.countplot(x='som',data=data, palette='hls')\n",
    "plt.title(\"Verificando classes de som\")\n",
    "plt.show(plot3)"
   ]
  },
  {
   "cell_type": "markdown",
   "metadata": {
    "colab_type": "text",
    "id": "aeC4yg2IQ-Up"
   },
   "source": [
    "## 3) Seleciona o dataset para ser tratado pelo Modelo de Machine Learning e Separa as Classes"
   ]
  },
  {
   "cell_type": "code",
   "execution_count": null,
   "metadata": {
    "colab": {
     "base_uri": "https://localhost:8080/",
     "height": 51
    },
    "colab_type": "code",
    "id": "m1CV4kvGQ-Uv",
    "outputId": "304d98fc-a91d-4aab-9f79-22c46777c788"
   },
   "outputs": [
    {
     "name": "stdout",
     "output_type": "stream",
     "text": [
      "Entre com o dataset que será tratado pela maquina('data' ou 'data_ohe'):data\n",
      "Entre com o target que será tratado pela maquina ('dbscan','kmeans' ou 'som'):kmeans\n"
     ]
    }
   ],
   "source": [
    "import traceback\n",
    "\n",
    "def dataset_for_machine(dataset, target):\n",
    "    \n",
    "    # Tente receber o nome do arquivo\n",
    "    try:\n",
    "        d = dataset\n",
    "        t = target\n",
    "    \n",
    "        if d == 'data':\n",
    "            # Troca o nome do dataset para df. A partir desse ponto, o dataset para ser tratado pelo modelo de ML será conhecido por df.\n",
    "            df = data\n",
    "            # Separa a classe\n",
    "            classes = df[t]\n",
    "            df.drop(columns=['dbscan','kmeans', 'som'], axis=1, inplace=True)\n",
    "\n",
    "\n",
    "        elif d == 'data_ohe':\n",
    "            # Troca o nome do dataset para df. A partir desse ponto, o dataset para ser tratado pelo modelo de ML será conhecido por df.\n",
    "            df = data_ohe\n",
    "            # Separa a classe\n",
    "            classes = df[t]\n",
    "            df.drop(columns=['5','dbscan','kmeans', 'som'], axis=1, inplace=True)\n",
    "\n",
    "        else:\n",
    "            print(\"Escolha entre 'data' ou 'data_ohe'\")\n",
    "            exit\n",
    "\n",
    "    # Se ocorrer um erro\n",
    "    except:\n",
    "        # Mostre na tela\n",
    "        trace = traceback.format_exc()\n",
    "        print ('Aconteceu um erro:\\n', trace)\n",
    "        # Encerre o programa\n",
    "        raise SystemExit\n",
    "        \n",
    "    return df, classes\n",
    "    \n",
    "# df, classes = dataset_for_machine(input(\"Entre com o dataset que será tratado pela maquina('data' ou 'data_ohe') e o target('kmeans' ou 'som') separados por ',':\"))\n",
    "dataset = input(\"Entre com o dataset que será tratado pela maquina('data' ou 'data_ohe'):\")\n",
    "target = input(\"Entre com o target que será tratado pela maquina ('dbscan','kmeans' ou 'som'):\")\n",
    "df, classes = dataset_for_machine(dataset, target)"
   ]
  },
  {
   "cell_type": "markdown",
   "metadata": {
    "colab_type": "text",
    "id": "1TlW-96KQ-Ux"
   },
   "source": [
    "* A partir desse ponto, o dataset para ser tratado pelo modelo de ML será conhecido por df. A seleção se ele vai ser passado com ou sem One Hot Encoding foi feita acima."
   ]
  },
  {
   "cell_type": "code",
   "execution_count": null,
   "metadata": {
    "colab": {
     "base_uri": "https://localhost:8080/",
     "height": 204
    },
    "colab_type": "code",
    "id": "ed7pYCmyQ-Uy",
    "outputId": "982dab87-535a-4437-9a96-d4de1df90bc5"
   },
   "outputs": [
    {
     "data": {
      "text/html": [
       "<div>\n",
       "<style scoped>\n",
       "    .dataframe tbody tr th:only-of-type {\n",
       "        vertical-align: middle;\n",
       "    }\n",
       "\n",
       "    .dataframe tbody tr th {\n",
       "        vertical-align: top;\n",
       "    }\n",
       "\n",
       "    .dataframe thead th {\n",
       "        text-align: right;\n",
       "    }\n",
       "</style>\n",
       "<table border=\"1\" class=\"dataframe\">\n",
       "  <thead>\n",
       "    <tr style=\"text-align: right;\">\n",
       "      <th></th>\n",
       "      <th>V1</th>\n",
       "      <th>V2</th>\n",
       "      <th>V3</th>\n",
       "      <th>V4</th>\n",
       "      <th>V5</th>\n",
       "      <th>V6</th>\n",
       "      <th>V7</th>\n",
       "      <th>V8</th>\n",
       "      <th>V9</th>\n",
       "      <th>V10</th>\n",
       "    </tr>\n",
       "  </thead>\n",
       "  <tbody>\n",
       "    <tr>\n",
       "      <th>0</th>\n",
       "      <td>-122.23</td>\n",
       "      <td>452600.0</td>\n",
       "      <td>129</td>\n",
       "      <td>41</td>\n",
       "      <td>880</td>\n",
       "      <td>3</td>\n",
       "      <td>126</td>\n",
       "      <td>322</td>\n",
       "      <td>83.252</td>\n",
       "      <td>37.88</td>\n",
       "    </tr>\n",
       "    <tr>\n",
       "      <th>1</th>\n",
       "      <td>-122.22</td>\n",
       "      <td>358500.0</td>\n",
       "      <td>1106</td>\n",
       "      <td>21</td>\n",
       "      <td>7099</td>\n",
       "      <td>3</td>\n",
       "      <td>1138</td>\n",
       "      <td>2401</td>\n",
       "      <td>83.014</td>\n",
       "      <td>37.86</td>\n",
       "    </tr>\n",
       "    <tr>\n",
       "      <th>2</th>\n",
       "      <td>-122.24</td>\n",
       "      <td>352100.0</td>\n",
       "      <td>190</td>\n",
       "      <td>52</td>\n",
       "      <td>1467</td>\n",
       "      <td>3</td>\n",
       "      <td>177</td>\n",
       "      <td>496</td>\n",
       "      <td>72.574</td>\n",
       "      <td>37.85</td>\n",
       "    </tr>\n",
       "    <tr>\n",
       "      <th>3</th>\n",
       "      <td>-122.25</td>\n",
       "      <td>341300.0</td>\n",
       "      <td>235</td>\n",
       "      <td>52</td>\n",
       "      <td>1274</td>\n",
       "      <td>3</td>\n",
       "      <td>219</td>\n",
       "      <td>558</td>\n",
       "      <td>56.431</td>\n",
       "      <td>37.85</td>\n",
       "    </tr>\n",
       "    <tr>\n",
       "      <th>4</th>\n",
       "      <td>-122.25</td>\n",
       "      <td>342200.0</td>\n",
       "      <td>280</td>\n",
       "      <td>52</td>\n",
       "      <td>1627</td>\n",
       "      <td>3</td>\n",
       "      <td>259</td>\n",
       "      <td>565</td>\n",
       "      <td>38.462</td>\n",
       "      <td>37.85</td>\n",
       "    </tr>\n",
       "  </tbody>\n",
       "</table>\n",
       "</div>"
      ],
      "text/plain": [
       "       V1        V2    V3  V4    V5  V6    V7    V8      V9    V10\n",
       "0 -122.23  452600.0   129  41   880   3   126   322  83.252  37.88\n",
       "1 -122.22  358500.0  1106  21  7099   3  1138  2401  83.014  37.86\n",
       "2 -122.24  352100.0   190  52  1467   3   177   496  72.574  37.85\n",
       "3 -122.25  341300.0   235  52  1274   3   219   558  56.431  37.85\n",
       "4 -122.25  342200.0   280  52  1627   3   259   565  38.462  37.85"
      ]
     },
     "execution_count": 25,
     "metadata": {
      "tags": []
     },
     "output_type": "execute_result"
    }
   ],
   "source": [
    "df.head()"
   ]
  },
  {
   "cell_type": "code",
   "execution_count": null,
   "metadata": {
    "colab": {
     "base_uri": "https://localhost:8080/",
     "height": 221
    },
    "colab_type": "code",
    "id": "ZrqNFpWjQ-U0",
    "outputId": "c9fbb5c9-cbc9-4ace-d874-0912df555d35"
   },
   "outputs": [
    {
     "data": {
      "text/plain": [
       "0         1\n",
       "1        13\n",
       "2         1\n",
       "3        21\n",
       "4        21\n",
       "         ..\n",
       "20635     2\n",
       "20636     2\n",
       "20637     2\n",
       "20638     2\n",
       "20639     5\n",
       "Name: kmeans, Length: 20640, dtype: int64"
      ]
     },
     "execution_count": 26,
     "metadata": {
      "tags": []
     },
     "output_type": "execute_result"
    }
   ],
   "source": [
    "classes"
   ]
  },
  {
   "cell_type": "markdown",
   "metadata": {
    "colab_type": "text",
    "id": "1MytzhfYQ-Tv"
   },
   "source": [
    "## 4) Faz a validação via crossvalidation (k-fold)"
   ]
  },
  {
   "cell_type": "code",
   "execution_count": null,
   "metadata": {
    "colab": {},
    "colab_type": "code",
    "id": "5gxFVkdmQ-Tw"
   },
   "outputs": [],
   "source": [
    "def Acuracia(clf,X,y):\n",
    "    resultados = cross_val_predict(clf, X, y, cv=5)\n",
    "    return metrics.accuracy_score(y,resultados)"
   ]
  },
  {
   "cell_type": "markdown",
   "metadata": {
    "colab_type": "text",
    "id": "6cIDLoTvQ-Tz"
   },
   "source": [
    "## 5) Pre-processamento de dados"
   ]
  },
  {
   "cell_type": "code",
   "execution_count": null,
   "metadata": {
    "colab": {},
    "colab_type": "code",
    "id": "BYVeZ3GgQ-Tz"
   },
   "outputs": [],
   "source": [
    "# def remove_features(lista_features):\n",
    "#     for i in lista_features:\n",
    "#         data.drop(i, axis=1, inplace=True)\n",
    "#     return 0"
   ]
  },
  {
   "cell_type": "markdown",
   "metadata": {
    "colab_type": "text",
    "id": "gZSzNmE_Q-U2"
   },
   "source": [
    "## 9) Support Vector Machines \n",
    "#### a) Preparando os pipes com as configurações do parâmetro C, Kernel e Normalização dos dados."
   ]
  },
  {
   "cell_type": "code",
   "execution_count": null,
   "metadata": {
    "colab": {},
    "colab_type": "code",
    "id": "1ZaYtAtYQ-U3"
   },
   "outputs": [],
   "source": [
    "pip_1 = Pipeline([\n",
    "    ('scaler',StandardScaler()),\n",
    "    ('clf', svm.SVC())\n",
    "])\n",
    "\n",
    "pip_2 = Pipeline([\n",
    "    ('min_max_scaler', MinMaxScaler()),\n",
    "    ('clf', svm.SVC())\n",
    "])\n",
    "\n",
    "pip_3 = Pipeline([\n",
    "    ('scaler',StandardScaler()),\n",
    "    ('clf', svm.SVC(kernel='rbf'))\n",
    "])\n",
    "\n",
    "pip_4 = Pipeline([\n",
    "    ('scaler',StandardScaler()),\n",
    "    ('clf', svm.SVC(kernel='poly'))\n",
    "])\n",
    "\n",
    "pip_5 = Pipeline([\n",
    "    ('scaler',StandardScaler()),\n",
    "    ('clf', svm.SVC(kernel='linear'))\n",
    "])"
   ]
  },
  {
   "cell_type": "markdown",
   "metadata": {
    "colab_type": "text",
    "id": "WshhAhIIQ-U5"
   },
   "source": [
    "#### b) Teste com apenas LabelEncoder na coluna 'classes' usando o pipeline 'pip_1'"
   ]
  },
  {
   "cell_type": "code",
   "execution_count": null,
   "metadata": {
    "colab": {
     "base_uri": "https://localhost:8080/",
     "height": 34
    },
    "colab_type": "code",
    "id": "-Ch-etwXQ-U5",
    "outputId": "725a9209-cc98-4132-91b5-3e2a8a172320"
   },
   "outputs": [
    {
     "data": {
      "text/plain": [
       "0.9323643410852713"
      ]
     },
     "execution_count": 30,
     "metadata": {
      "tags": []
     },
     "output_type": "execute_result"
    }
   ],
   "source": [
    "Acuracia(pip_1,df,classes)"
   ]
  },
  {
   "cell_type": "markdown",
   "metadata": {
    "colab_type": "text",
    "id": "X36QqfmFQ-U7"
   },
   "source": [
    "#### c) Teste com apenas LabelEncoder na coluna 'classes' usando o pipeline 'pip_2'"
   ]
  },
  {
   "cell_type": "code",
   "execution_count": null,
   "metadata": {
    "colab": {
     "base_uri": "https://localhost:8080/",
     "height": 224
    },
    "colab_type": "code",
    "id": "tqicOuKXQ-U8",
    "outputId": "d86ef028-1436-44c1-9dc2-3adaf30b8c70"
   },
   "outputs": [
    {
     "name": "stderr",
     "output_type": "stream",
     "text": [
      "/usr/local/lib/python3.6/dist-packages/sklearn/svm/base.py:193: FutureWarning: The default value of gamma will change from 'auto' to 'scale' in version 0.22 to account better for unscaled features. Set gamma explicitly to 'auto' or 'scale' to avoid this warning.\n",
      "  \"avoid this warning.\", FutureWarning)\n",
      "/usr/local/lib/python3.6/dist-packages/sklearn/svm/base.py:193: FutureWarning: The default value of gamma will change from 'auto' to 'scale' in version 0.22 to account better for unscaled features. Set gamma explicitly to 'auto' or 'scale' to avoid this warning.\n",
      "  \"avoid this warning.\", FutureWarning)\n",
      "/usr/local/lib/python3.6/dist-packages/sklearn/svm/base.py:193: FutureWarning: The default value of gamma will change from 'auto' to 'scale' in version 0.22 to account better for unscaled features. Set gamma explicitly to 'auto' or 'scale' to avoid this warning.\n",
      "  \"avoid this warning.\", FutureWarning)\n",
      "/usr/local/lib/python3.6/dist-packages/sklearn/svm/base.py:193: FutureWarning: The default value of gamma will change from 'auto' to 'scale' in version 0.22 to account better for unscaled features. Set gamma explicitly to 'auto' or 'scale' to avoid this warning.\n",
      "  \"avoid this warning.\", FutureWarning)\n",
      "/usr/local/lib/python3.6/dist-packages/sklearn/svm/base.py:193: FutureWarning: The default value of gamma will change from 'auto' to 'scale' in version 0.22 to account better for unscaled features. Set gamma explicitly to 'auto' or 'scale' to avoid this warning.\n",
      "  \"avoid this warning.\", FutureWarning)\n"
     ]
    },
    {
     "data": {
      "text/plain": [
       "0.7932170542635659"
      ]
     },
     "execution_count": 31,
     "metadata": {
      "tags": []
     },
     "output_type": "execute_result"
    }
   ],
   "source": [
    "Acuracia(pip_2,df,classes)"
   ]
  },
  {
   "cell_type": "markdown",
   "metadata": {
    "colab_type": "text",
    "id": "a9OL5wk9Q-U-"
   },
   "source": [
    "#### d) Testando Kernels \n",
    "##### Kernel rbf"
   ]
  },
  {
   "cell_type": "code",
   "execution_count": null,
   "metadata": {
    "colab": {
     "base_uri": "https://localhost:8080/",
     "height": 34
    },
    "colab_type": "code",
    "id": "Rp4f1zzlQ-U-",
    "outputId": "da78abcd-836d-48f2-9eac-04fb30e847f5"
   },
   "outputs": [
    {
     "data": {
      "text/plain": [
       "0.9323643410852713"
      ]
     },
     "execution_count": 32,
     "metadata": {
      "tags": []
     },
     "output_type": "execute_result"
    }
   ],
   "source": [
    "Acuracia(pip_3,df,classes)"
   ]
  },
  {
   "cell_type": "markdown",
   "metadata": {
    "colab_type": "text",
    "id": "miN9HRLTQ-VA"
   },
   "source": [
    "##### Kernel Polynomial"
   ]
  },
  {
   "cell_type": "code",
   "execution_count": null,
   "metadata": {
    "colab": {
     "base_uri": "https://localhost:8080/",
     "height": 34
    },
    "colab_type": "code",
    "id": "ZqTsQvQLQ-VB",
    "outputId": "403dbcf7-874a-4a5d-db8a-af08f86a5744"
   },
   "outputs": [
    {
     "data": {
      "text/plain": [
       "0.920687984496124"
      ]
     },
     "execution_count": 33,
     "metadata": {
      "tags": []
     },
     "output_type": "execute_result"
    }
   ],
   "source": [
    "Acuracia(pip_4,df,classes)"
   ]
  },
  {
   "cell_type": "markdown",
   "metadata": {
    "colab_type": "text",
    "id": "FAan3sejQ-VC"
   },
   "source": [
    "##### Kernel Linear"
   ]
  },
  {
   "cell_type": "code",
   "execution_count": null,
   "metadata": {
    "colab": {
     "base_uri": "https://localhost:8080/",
     "height": 34
    },
    "colab_type": "code",
    "id": "0HACckOPQ-VE",
    "outputId": "4e128d2d-97e3-4719-f41e-8d0364361793"
   },
   "outputs": [
    {
     "data": {
      "text/plain": [
       "0.9483527131782946"
      ]
     },
     "execution_count": 34,
     "metadata": {
      "tags": []
     },
     "output_type": "execute_result"
    }
   ],
   "source": [
    "Acuracia(pip_5,df,classes)"
   ]
  },
  {
   "cell_type": "markdown",
   "metadata": {
    "colab_type": "text",
    "id": "lzimLr_fQ-VG"
   },
   "source": [
    "## 9) GridSearch"
   ]
  },
  {
   "cell_type": "code",
   "execution_count": null,
   "metadata": {
    "colab": {},
    "colab_type": "code",
    "id": "CzjiK_QBQ-VH"
   },
   "outputs": [],
   "source": [
    "from sklearn.model_selection import GridSearchCV\n",
    "\n",
    "lista_C = [0.001, 0.01, 0.1, 1, 10,100]\n",
    "lista_gamma = [0.001, 0.01, 0.1, 1, 10, 100]"
   ]
  },
  {
   "cell_type": "code",
   "execution_count": null,
   "metadata": {
    "colab": {},
    "colab_type": "code",
    "id": "YldOdduzQ-VI"
   },
   "outputs": [],
   "source": [
    "parametros_grid = dict(clf__C=lista_C, clf__gamma=lista_gamma)"
   ]
  },
  {
   "cell_type": "markdown",
   "metadata": {
    "colab_type": "text",
    "id": "MOxt9onsQ-VL"
   },
   "source": [
    "#### a) Faz o tuning dos parametros testando cada combinação utilziando CrossValidation com 10 folds e analisando a acurácia"
   ]
  },
  {
   "cell_type": "code",
   "execution_count": null,
   "metadata": {
    "colab": {},
    "colab_type": "code",
    "id": "a5R_1ZeyQ-VM"
   },
   "outputs": [],
   "source": [
    "grid = GridSearchCV(pip_5, parametros_grid, cv=10, scoring='accuracy')"
   ]
  },
  {
   "cell_type": "code",
   "execution_count": null,
   "metadata": {
    "colab": {
     "base_uri": "https://localhost:8080/",
     "height": 374
    },
    "colab_type": "code",
    "id": "f76YzJM9Q-VO",
    "outputId": "09113e0b-68e1-4bfc-aa5f-4c1d28744bc8"
   },
   "outputs": [
    {
     "data": {
      "text/plain": [
       "GridSearchCV(cv=10, error_score='raise-deprecating',\n",
       "             estimator=Pipeline(memory=None,\n",
       "                                steps=[('scaler',\n",
       "                                        StandardScaler(copy=True,\n",
       "                                                       with_mean=True,\n",
       "                                                       with_std=True)),\n",
       "                                       ('clf',\n",
       "                                        SVC(C=1.0, cache_size=200,\n",
       "                                            class_weight=None, coef0=0.0,\n",
       "                                            decision_function_shape='ovr',\n",
       "                                            degree=3, gamma='auto_deprecated',\n",
       "                                            kernel='linear', max_iter=-1,\n",
       "                                            probability=False,\n",
       "                                            random_state=None, shrinking=True,\n",
       "                                            tol=0.001, verbose=False))],\n",
       "                                verbose=False),\n",
       "             iid='warn', n_jobs=None,\n",
       "             param_grid={'clf__C': [0.001, 0.01, 0.1, 1, 10, 100],\n",
       "                         'clf__gamma': [0.001, 0.01, 0.1, 1, 10, 100]},\n",
       "             pre_dispatch='2*n_jobs', refit=True, return_train_score=False,\n",
       "             scoring='accuracy', verbose=0)"
      ]
     },
     "execution_count": 38,
     "metadata": {
      "tags": []
     },
     "output_type": "execute_result"
    }
   ],
   "source": [
    "grid.fit(df,classes)"
   ]
  },
  {
   "cell_type": "code",
   "execution_count": null,
   "metadata": {
    "colab": {
     "base_uri": "https://localhost:8080/",
     "height": 1000
    },
    "colab_type": "code",
    "id": "S-gno_33Q-VR",
    "outputId": "d50605c0-69ef-42f2-c888-5116dab78611"
   },
   "outputs": [
    {
     "data": {
      "text/plain": [
       "{'mean_fit_time': array([5.09297047, 5.06125944, 5.08483062, 5.07205417, 5.0573756 ,\n",
       "        5.07778804, 1.51368511, 1.50544827, 1.51091585, 1.51294291,\n",
       "        1.517506  , 1.51529808, 0.7403368 , 0.73611684, 0.73145995,\n",
       "        0.73629413, 0.7347626 , 0.73858399, 0.65087316, 0.65314076,\n",
       "        0.65324841, 0.64878278, 0.66870592, 0.65486944, 0.79886274,\n",
       "        0.79558423, 0.79061859, 0.79514172, 0.79073012, 0.79249444,\n",
       "        0.89568546, 0.89499919, 0.89410548, 0.89485228, 0.88877409,\n",
       "        0.89737573]),\n",
       " 'mean_score_time': array([1.49092312, 1.48172941, 1.47982886, 1.48585737, 1.48187282,\n",
       "        1.49046171, 1.05534198, 1.0576087 , 1.05616026, 1.06107423,\n",
       "        1.05479   , 1.05584946, 0.59557512, 0.59805954, 0.59786141,\n",
       "        0.59632404, 0.59667778, 0.59787688, 0.32171481, 0.32354937,\n",
       "        0.32148864, 0.32114241, 0.32655702, 0.32722082, 0.18835685,\n",
       "        0.18820934, 0.18909514, 0.18845372, 0.18908422, 0.18916144,\n",
       "        0.13072855, 0.12981546, 0.13099728, 0.13123691, 0.13101921,\n",
       "        0.13068273]),\n",
       " 'mean_test_score': array([0.86143411, 0.86143411, 0.86143411, 0.86143411, 0.86143411,\n",
       "        0.86143411, 0.93507752, 0.93507752, 0.93507752, 0.93507752,\n",
       "        0.93507752, 0.93507752, 0.94748062, 0.94748062, 0.94748062,\n",
       "        0.94748062, 0.94748062, 0.94748062, 0.95896318, 0.95896318,\n",
       "        0.95896318, 0.95896318, 0.95896318, 0.95896318, 0.96952519,\n",
       "        0.96952519, 0.96952519, 0.96952519, 0.96952519, 0.96952519,\n",
       "        0.9745155 , 0.9745155 , 0.9745155 , 0.9745155 , 0.9745155 ,\n",
       "        0.9745155 ]),\n",
       " 'param_clf__C': masked_array(data=[0.001, 0.001, 0.001, 0.001, 0.001, 0.001, 0.01, 0.01,\n",
       "                    0.01, 0.01, 0.01, 0.01, 0.1, 0.1, 0.1, 0.1, 0.1, 0.1,\n",
       "                    1, 1, 1, 1, 1, 1, 10, 10, 10, 10, 10, 10, 100, 100,\n",
       "                    100, 100, 100, 100],\n",
       "              mask=[False, False, False, False, False, False, False, False,\n",
       "                    False, False, False, False, False, False, False, False,\n",
       "                    False, False, False, False, False, False, False, False,\n",
       "                    False, False, False, False, False, False, False, False,\n",
       "                    False, False, False, False],\n",
       "        fill_value='?',\n",
       "             dtype=object),\n",
       " 'param_clf__gamma': masked_array(data=[0.001, 0.01, 0.1, 1, 10, 100, 0.001, 0.01, 0.1, 1, 10,\n",
       "                    100, 0.001, 0.01, 0.1, 1, 10, 100, 0.001, 0.01, 0.1, 1,\n",
       "                    10, 100, 0.001, 0.01, 0.1, 1, 10, 100, 0.001, 0.01,\n",
       "                    0.1, 1, 10, 100],\n",
       "              mask=[False, False, False, False, False, False, False, False,\n",
       "                    False, False, False, False, False, False, False, False,\n",
       "                    False, False, False, False, False, False, False, False,\n",
       "                    False, False, False, False, False, False, False, False,\n",
       "                    False, False, False, False],\n",
       "        fill_value='?',\n",
       "             dtype=object),\n",
       " 'params': [{'clf__C': 0.001, 'clf__gamma': 0.001},\n",
       "  {'clf__C': 0.001, 'clf__gamma': 0.01},\n",
       "  {'clf__C': 0.001, 'clf__gamma': 0.1},\n",
       "  {'clf__C': 0.001, 'clf__gamma': 1},\n",
       "  {'clf__C': 0.001, 'clf__gamma': 10},\n",
       "  {'clf__C': 0.001, 'clf__gamma': 100},\n",
       "  {'clf__C': 0.01, 'clf__gamma': 0.001},\n",
       "  {'clf__C': 0.01, 'clf__gamma': 0.01},\n",
       "  {'clf__C': 0.01, 'clf__gamma': 0.1},\n",
       "  {'clf__C': 0.01, 'clf__gamma': 1},\n",
       "  {'clf__C': 0.01, 'clf__gamma': 10},\n",
       "  {'clf__C': 0.01, 'clf__gamma': 100},\n",
       "  {'clf__C': 0.1, 'clf__gamma': 0.001},\n",
       "  {'clf__C': 0.1, 'clf__gamma': 0.01},\n",
       "  {'clf__C': 0.1, 'clf__gamma': 0.1},\n",
       "  {'clf__C': 0.1, 'clf__gamma': 1},\n",
       "  {'clf__C': 0.1, 'clf__gamma': 10},\n",
       "  {'clf__C': 0.1, 'clf__gamma': 100},\n",
       "  {'clf__C': 1, 'clf__gamma': 0.001},\n",
       "  {'clf__C': 1, 'clf__gamma': 0.01},\n",
       "  {'clf__C': 1, 'clf__gamma': 0.1},\n",
       "  {'clf__C': 1, 'clf__gamma': 1},\n",
       "  {'clf__C': 1, 'clf__gamma': 10},\n",
       "  {'clf__C': 1, 'clf__gamma': 100},\n",
       "  {'clf__C': 10, 'clf__gamma': 0.001},\n",
       "  {'clf__C': 10, 'clf__gamma': 0.01},\n",
       "  {'clf__C': 10, 'clf__gamma': 0.1},\n",
       "  {'clf__C': 10, 'clf__gamma': 1},\n",
       "  {'clf__C': 10, 'clf__gamma': 10},\n",
       "  {'clf__C': 10, 'clf__gamma': 100},\n",
       "  {'clf__C': 100, 'clf__gamma': 0.001},\n",
       "  {'clf__C': 100, 'clf__gamma': 0.01},\n",
       "  {'clf__C': 100, 'clf__gamma': 0.1},\n",
       "  {'clf__C': 100, 'clf__gamma': 1},\n",
       "  {'clf__C': 100, 'clf__gamma': 10},\n",
       "  {'clf__C': 100, 'clf__gamma': 100}],\n",
       " 'rank_test_score': array([31, 31, 31, 31, 31, 31, 25, 25, 25, 25, 25, 25, 19, 19, 19, 19, 19,\n",
       "        19, 13, 13, 13, 13, 13, 13,  7,  7,  7,  7,  7,  7,  1,  1,  1,  1,\n",
       "         1,  1], dtype=int32),\n",
       " 'split0_test_score': array([0.8422576 , 0.8422576 , 0.8422576 , 0.8422576 , 0.8422576 ,\n",
       "        0.8422576 , 0.88470815, 0.88470815, 0.88470815, 0.88470815,\n",
       "        0.88470815, 0.88470815, 0.90496864, 0.90496864, 0.90496864,\n",
       "        0.90496864, 0.90496864, 0.90496864, 0.93680656, 0.93680656,\n",
       "        0.93680656, 0.93680656, 0.93680656, 0.93680656, 0.96382055,\n",
       "        0.96382055, 0.96382055, 0.96382055, 0.96382055, 0.96382055,\n",
       "        0.96623251, 0.96623251, 0.96623251, 0.96623251, 0.96623251,\n",
       "        0.96623251]),\n",
       " 'split1_test_score': array([0.85176243, 0.85176243, 0.85176243, 0.85176243, 0.85176243,\n",
       "        0.85176243, 0.92805408, 0.92805408, 0.92805408, 0.92805408,\n",
       "        0.92805408, 0.92805408, 0.94109126, 0.94109126, 0.94109126,\n",
       "        0.94109126, 0.94109126, 0.94109126, 0.95557702, 0.95557702,\n",
       "        0.95557702, 0.95557702, 0.95557702, 0.95557702, 0.97199421,\n",
       "        0.97199421, 0.97199421, 0.97199421, 0.97199421, 0.97199421,\n",
       "        0.97827137, 0.97827137, 0.97827137, 0.97827137, 0.97827137,\n",
       "        0.97827137]),\n",
       " 'split2_test_score': array([0.8531401 , 0.8531401 , 0.8531401 , 0.8531401 , 0.8531401 ,\n",
       "        0.8531401 , 0.95410628, 0.95410628, 0.95410628, 0.95410628,\n",
       "        0.95410628, 0.95410628, 0.96811594, 0.96811594, 0.96811594,\n",
       "        0.96811594, 0.96811594, 0.96811594, 0.97536232, 0.97536232,\n",
       "        0.97536232, 0.97536232, 0.97536232, 0.97536232, 0.97922705,\n",
       "        0.97922705, 0.97922705, 0.97922705, 0.97922705, 0.97922705,\n",
       "        0.98067633, 0.98067633, 0.98067633, 0.98067633, 0.98067633,\n",
       "        0.98067633]),\n",
       " 'split3_test_score': array([0.86447241, 0.86447241, 0.86447241, 0.86447241, 0.86447241,\n",
       "        0.86447241, 0.95014521, 0.95014521, 0.95014521, 0.95014521,\n",
       "        0.95014521, 0.95014521, 0.95788964, 0.95788964, 0.95788964,\n",
       "        0.95788964, 0.95788964, 0.95788964, 0.96757018, 0.96757018,\n",
       "        0.96757018, 0.96757018, 0.96757018, 0.96757018, 0.97579864,\n",
       "        0.97579864, 0.97579864, 0.97579864, 0.97579864, 0.97579864,\n",
       "        0.98305905, 0.98305905, 0.98305905, 0.98305905, 0.98305905,\n",
       "        0.98305905]),\n",
       " 'split4_test_score': array([0.85430784, 0.85430784, 0.85430784, 0.85430784, 0.85430784,\n",
       "        0.85430784, 0.94966118, 0.94966118, 0.94966118, 0.94966118,\n",
       "        0.94966118, 0.94966118, 0.96030978, 0.96030978, 0.96030978,\n",
       "        0.96030978, 0.96030978, 0.96030978, 0.96660213, 0.96660213,\n",
       "        0.96660213, 0.96660213, 0.96660213, 0.96660213, 0.97821878,\n",
       "        0.97821878, 0.97821878, 0.97821878, 0.97821878, 0.97821878,\n",
       "        0.98063892, 0.98063892, 0.98063892, 0.98063892, 0.98063892,\n",
       "        0.98063892]),\n",
       " 'split5_test_score': array([0.8440678 , 0.8440678 , 0.8440678 , 0.8440678 , 0.8440678 ,\n",
       "        0.8440678 , 0.94673123, 0.94673123, 0.94673123, 0.94673123,\n",
       "        0.94673123, 0.94673123, 0.95932203, 0.95932203, 0.95932203,\n",
       "        0.95932203, 0.95932203, 0.95932203, 0.96997579, 0.96997579,\n",
       "        0.96997579, 0.96997579, 0.96997579, 0.96997579, 0.97627119,\n",
       "        0.97627119, 0.97627119, 0.97627119, 0.97627119, 0.97627119,\n",
       "        0.97966102, 0.97966102, 0.97966102, 0.97966102, 0.97966102,\n",
       "        0.97966102]),\n",
       " 'split6_test_score': array([0.86918605, 0.86918605, 0.86918605, 0.86918605, 0.86918605,\n",
       "        0.86918605, 0.9370155 , 0.9370155 , 0.9370155 , 0.9370155 ,\n",
       "        0.9370155 , 0.9370155 , 0.94622093, 0.94622093, 0.94622093,\n",
       "        0.94622093, 0.94622093, 0.94622093, 0.96317829, 0.96317829,\n",
       "        0.96317829, 0.96317829, 0.96317829, 0.96317829, 0.9752907 ,\n",
       "        0.9752907 , 0.9752907 , 0.9752907 , 0.9752907 , 0.9752907 ,\n",
       "        0.97722868, 0.97722868, 0.97722868, 0.97722868, 0.97722868,\n",
       "        0.97722868]),\n",
       " 'split7_test_score': array([0.88046647, 0.88046647, 0.88046647, 0.88046647, 0.88046647,\n",
       "        0.88046647, 0.95092323, 0.95092323, 0.95092323, 0.95092323,\n",
       "        0.95092323, 0.95092323, 0.9552964 , 0.9552964 , 0.9552964 ,\n",
       "        0.9552964 , 0.9552964 , 0.9552964 , 0.95626822, 0.95626822,\n",
       "        0.95626822, 0.95626822, 0.95626822, 0.95626822, 0.96598639,\n",
       "        0.96598639, 0.96598639, 0.96598639, 0.96598639, 0.96598639,\n",
       "        0.97521866, 0.97521866, 0.97521866, 0.97521866, 0.97521866,\n",
       "        0.97521866]),\n",
       " 'split8_test_score': array([0.87931873, 0.87931873, 0.87931873, 0.87931873, 0.87931873,\n",
       "        0.87931873, 0.93576642, 0.93576642, 0.93576642, 0.93576642,\n",
       "        0.93576642, 0.93576642, 0.94841849, 0.94841849, 0.94841849,\n",
       "        0.94841849, 0.94841849, 0.94841849, 0.95815085, 0.95815085,\n",
       "        0.95815085, 0.95815085, 0.95815085, 0.95815085, 0.96399027,\n",
       "        0.96399027, 0.96399027, 0.96399027, 0.96399027, 0.96399027,\n",
       "        0.97274939, 0.97274939, 0.97274939, 0.97274939, 0.97274939,\n",
       "        0.97274939]),\n",
       " 'split9_test_score': array([0.87573099, 0.87573099, 0.87573099, 0.87573099, 0.87573099,\n",
       "        0.87573099, 0.91374269, 0.91374269, 0.91374269, 0.91374269,\n",
       "        0.91374269, 0.91374269, 0.93323587, 0.93323587, 0.93323587,\n",
       "        0.93323587, 0.93323587, 0.93323587, 0.94005848, 0.94005848,\n",
       "        0.94005848, 0.94005848, 0.94005848, 0.94005848, 0.94444444,\n",
       "        0.94444444, 0.94444444, 0.94444444, 0.94444444, 0.94444444,\n",
       "        0.95126706, 0.95126706, 0.95126706, 0.95126706, 0.95126706,\n",
       "        0.95126706]),\n",
       " 'std_fit_time': array([0.04874749, 0.02823745, 0.04323145, 0.03600197, 0.03648556,\n",
       "        0.05851519, 0.01794253, 0.00928708, 0.01537261, 0.01820897,\n",
       "        0.0150387 , 0.0144258 , 0.01508692, 0.013799  , 0.01394285,\n",
       "        0.0087821 , 0.01498266, 0.01082306, 0.01408628, 0.01579178,\n",
       "        0.01715339, 0.01749376, 0.02403702, 0.01951645, 0.0127667 ,\n",
       "        0.01182113, 0.00755504, 0.01454834, 0.01516114, 0.01169269,\n",
       "        0.02215689, 0.02216201, 0.02249193, 0.02283013, 0.02097067,\n",
       "        0.01918335]),\n",
       " 'std_score_time': array([0.0152088 , 0.00810933, 0.00949438, 0.01208847, 0.00820229,\n",
       "        0.01806707, 0.00885525, 0.01159995, 0.0092401 , 0.01169717,\n",
       "        0.00632899, 0.0074302 , 0.00424515, 0.00583945, 0.00699236,\n",
       "        0.00783417, 0.0065192 , 0.00833652, 0.00474883, 0.00594507,\n",
       "        0.00230477, 0.00298808, 0.00554419, 0.00935676, 0.00319452,\n",
       "        0.00231245, 0.00495629, 0.00190231, 0.00314246, 0.00247243,\n",
       "        0.00260095, 0.0024272 , 0.00354452, 0.00261761, 0.00312437,\n",
       "        0.00288439]),\n",
       " 'std_test_score': array([0.0135534 , 0.0135534 , 0.0135534 , 0.0135534 , 0.0135534 ,\n",
       "        0.0135534 , 0.02060076, 0.02060076, 0.02060076, 0.02060076,\n",
       "        0.02060076, 0.02060076, 0.01720975, 0.01720975, 0.01720975,\n",
       "        0.01720975, 0.01720975, 0.01720975, 0.01187076, 0.01187076,\n",
       "        0.01187076, 0.01187076, 0.01187076, 0.01187076, 0.00997694,\n",
       "        0.00997694, 0.00997694, 0.00997694, 0.00997694, 0.00997694,\n",
       "        0.00898065, 0.00898065, 0.00898065, 0.00898065, 0.00898065,\n",
       "        0.00898065])}"
      ]
     },
     "execution_count": 39,
     "metadata": {
      "tags": []
     },
     "output_type": "execute_result"
    }
   ],
   "source": [
    "grid.cv_results_"
   ]
  },
  {
   "cell_type": "code",
   "execution_count": null,
   "metadata": {
    "colab": {
     "base_uri": "https://localhost:8080/",
     "height": 34
    },
    "colab_type": "code",
    "id": "BWQRqxiuQ-VT",
    "outputId": "16d510dd-9ba4-434c-f156-ac1150cd987a"
   },
   "outputs": [
    {
     "data": {
      "text/plain": [
       "{'clf__C': 100, 'clf__gamma': 0.001}"
      ]
     },
     "execution_count": 40,
     "metadata": {
      "tags": []
     },
     "output_type": "execute_result"
    }
   ],
   "source": [
    "grid.best_params_"
   ]
  },
  {
   "cell_type": "code",
   "execution_count": null,
   "metadata": {
    "colab": {
     "base_uri": "https://localhost:8080/",
     "height": 34
    },
    "colab_type": "code",
    "id": "O85xG07NQ-VU",
    "outputId": "6a1c76db-d8ac-4d56-e226-404ad9b04dbd"
   },
   "outputs": [
    {
     "data": {
      "text/plain": [
       "0.974515503875969"
      ]
     },
     "execution_count": 41,
     "metadata": {
      "tags": []
     },
     "output_type": "execute_result"
    }
   ],
   "source": [
    "grid.best_score_"
   ]
  },
  {
   "cell_type": "markdown",
   "metadata": {
    "colab_type": "text",
    "id": "EuCrDJ3cQ-VW"
   },
   "source": [
    "#### b) Métricas de Avaliação de Modelos"
   ]
  },
  {
   "cell_type": "code",
   "execution_count": null,
   "metadata": {
    "colab": {},
    "colab_type": "code",
    "id": "cYIqW9-SQ-VW"
   },
   "outputs": [],
   "source": [
    "pip_6 = Pipeline([\n",
    "('scaler',StandardScaler()),\n",
    "('clf', svm.SVC(kernel='linear',C=100,gamma=0.001))\n",
    "])"
   ]
  },
  {
   "cell_type": "code",
   "execution_count": null,
   "metadata": {
    "colab": {},
    "colab_type": "code",
    "id": "U_bKyzdjQ-VY"
   },
   "outputs": [],
   "source": [
    "resultados = cross_val_predict(pip_6, df, classes, cv=10)"
   ]
  },
  {
   "cell_type": "code",
   "execution_count": null,
   "metadata": {
    "colab": {
     "base_uri": "https://localhost:8080/",
     "height": 561
    },
    "colab_type": "code",
    "id": "-dgLWlSyQ-Va",
    "outputId": "39216dd4-103f-4a1e-aac1-3236303d769b"
   },
   "outputs": [
    {
     "name": "stdout",
     "output_type": "stream",
     "text": [
      "              precision    recall  f1-score   support\n",
      "\n",
      "           1       0.93      0.98      0.96       343\n",
      "           2       0.98      0.99      0.98      1340\n",
      "           3       0.98      0.98      0.98      1190\n",
      "           4       0.96      0.96      0.96       397\n",
      "           5       0.96      0.97      0.97      1061\n",
      "           6       0.98      0.98      0.98      1676\n",
      "           7       0.94      0.99      0.97       447\n",
      "           8       0.96      0.96      0.96       887\n",
      "           9       0.98      0.98      0.98      1303\n",
      "          10       0.97      0.95      0.96       627\n",
      "          11       0.98      0.99      0.98       883\n",
      "          12       0.97      0.93      0.95       369\n",
      "          13       0.96      0.94      0.95       477\n",
      "          14       0.95      0.97      0.96       998\n",
      "          15       0.98      0.97      0.98       827\n",
      "          16       0.94      0.94      0.94        32\n",
      "          17       0.98      0.98      0.98      1499\n",
      "          18       0.98      0.98      0.98       168\n",
      "          19       0.99      0.98      0.98      1755\n",
      "          20       0.98      0.97      0.97       950\n",
      "          21       0.97      0.97      0.97       693\n",
      "          22       0.98      0.98      0.98       411\n",
      "          23       0.98      0.97      0.98      1019\n",
      "          24       0.99      0.98      0.98       900\n",
      "          25       0.98      0.96      0.97       388\n",
      "\n",
      "    accuracy                           0.97     20640\n",
      "   macro avg       0.97      0.97      0.97     20640\n",
      "weighted avg       0.97      0.97      0.97     20640\n",
      "\n"
     ]
    }
   ],
   "source": [
    "c_names = [str(i) for i in np.unique(classes)]\n",
    "print (metrics.classification_report(classes,resultados,target_names=c_names))"
   ]
  }
 ],
 "metadata": {
  "colab": {
   "collapsed_sections": [],
   "name": "Copy of ML_Trabalho8_07-SVM_KMEANS.ipynb",
   "provenance": []
  },
  "kernelspec": {
   "display_name": "Python 3",
   "language": "python",
   "name": "python3"
  },
  "language_info": {
   "codemirror_mode": {
    "name": "ipython",
    "version": 3
   },
   "file_extension": ".py",
   "mimetype": "text/x-python",
   "name": "python",
   "nbconvert_exporter": "python",
   "pygments_lexer": "ipython3",
   "version": "3.7.4"
  }
 },
 "nbformat": 4,
 "nbformat_minor": 4
}
