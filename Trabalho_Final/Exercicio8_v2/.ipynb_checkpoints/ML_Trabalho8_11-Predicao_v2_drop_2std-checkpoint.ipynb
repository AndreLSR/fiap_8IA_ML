{
 "cells": [
  {
   "cell_type": "code",
   "execution_count": 1,
   "metadata": {
    "colab": {},
    "colab_type": "code",
    "id": "KmDBrHBnhF36"
   },
   "outputs": [],
   "source": [
    "import numpy as np\n",
    "from numpy import arange\n",
    "from matplotlib import pyplot\n",
    "import seaborn as sb\n",
    "import pandas as pd\n",
    "from pandas import read_csv\n",
    "from pandas import set_option\n",
    "from pandas.plotting import scatter_matrix\n",
    "from sklearn.preprocessing import StandardScaler\n",
    "from sklearn.model_selection import train_test_split\n",
    "from sklearn.model_selection import KFold\n",
    "from sklearn.model_selection import cross_val_score\n",
    "from sklearn.model_selection import GridSearchCV\n",
    "from sklearn.linear_model import LinearRegression\n",
    "from sklearn.linear_model import Lasso\n",
    "from sklearn.linear_model import ElasticNet\n",
    "from sklearn.tree import DecisionTreeRegressor\n",
    "from sklearn.neighbors import KNeighborsRegressor\n",
    "from sklearn.ensemble import RandomForestRegressor\n",
    "from sklearn.ensemble import AdaBoostRegressor\n",
    "from sklearn import metrics\n",
    "from sklearn.svm import SVR\n",
    "from sklearn.pipeline import Pipeline\n",
    "import matplotlib.pyplot as plt"
   ]
  },
  {
   "cell_type": "markdown",
   "metadata": {},
   "source": [
    "## 1) Importando os dados já tratados sem OneHotEncoding:"
   ]
  },
  {
   "cell_type": "code",
   "execution_count": 2,
   "metadata": {},
   "outputs": [
    {
     "data": {
      "text/html": [
       "<div>\n",
       "<style scoped>\n",
       "    .dataframe tbody tr th:only-of-type {\n",
       "        vertical-align: middle;\n",
       "    }\n",
       "\n",
       "    .dataframe tbody tr th {\n",
       "        vertical-align: top;\n",
       "    }\n",
       "\n",
       "    .dataframe thead th {\n",
       "        text-align: right;\n",
       "    }\n",
       "</style>\n",
       "<table border=\"1\" class=\"dataframe\">\n",
       "  <thead>\n",
       "    <tr style=\"text-align: right;\">\n",
       "      <th></th>\n",
       "      <th>V1</th>\n",
       "      <th>V2</th>\n",
       "      <th>V3</th>\n",
       "      <th>V4</th>\n",
       "      <th>V5</th>\n",
       "      <th>V6</th>\n",
       "      <th>V7</th>\n",
       "      <th>V8</th>\n",
       "      <th>V9</th>\n",
       "      <th>V10</th>\n",
       "    </tr>\n",
       "  </thead>\n",
       "  <tbody>\n",
       "    <tr>\n",
       "      <td>0</td>\n",
       "      <td>-122.23</td>\n",
       "      <td>452600.0</td>\n",
       "      <td>129</td>\n",
       "      <td>41</td>\n",
       "      <td>880</td>\n",
       "      <td>3</td>\n",
       "      <td>126</td>\n",
       "      <td>322</td>\n",
       "      <td>83.252</td>\n",
       "      <td>37.88</td>\n",
       "    </tr>\n",
       "    <tr>\n",
       "      <td>1</td>\n",
       "      <td>-122.22</td>\n",
       "      <td>358500.0</td>\n",
       "      <td>1106</td>\n",
       "      <td>21</td>\n",
       "      <td>7099</td>\n",
       "      <td>3</td>\n",
       "      <td>1138</td>\n",
       "      <td>2401</td>\n",
       "      <td>83.014</td>\n",
       "      <td>37.86</td>\n",
       "    </tr>\n",
       "    <tr>\n",
       "      <td>2</td>\n",
       "      <td>-122.24</td>\n",
       "      <td>352100.0</td>\n",
       "      <td>190</td>\n",
       "      <td>52</td>\n",
       "      <td>1467</td>\n",
       "      <td>3</td>\n",
       "      <td>177</td>\n",
       "      <td>496</td>\n",
       "      <td>72.574</td>\n",
       "      <td>37.85</td>\n",
       "    </tr>\n",
       "    <tr>\n",
       "      <td>3</td>\n",
       "      <td>-122.25</td>\n",
       "      <td>341300.0</td>\n",
       "      <td>235</td>\n",
       "      <td>52</td>\n",
       "      <td>1274</td>\n",
       "      <td>3</td>\n",
       "      <td>219</td>\n",
       "      <td>558</td>\n",
       "      <td>56.431</td>\n",
       "      <td>37.85</td>\n",
       "    </tr>\n",
       "    <tr>\n",
       "      <td>4</td>\n",
       "      <td>-122.25</td>\n",
       "      <td>342200.0</td>\n",
       "      <td>280</td>\n",
       "      <td>52</td>\n",
       "      <td>1627</td>\n",
       "      <td>3</td>\n",
       "      <td>259</td>\n",
       "      <td>565</td>\n",
       "      <td>38.462</td>\n",
       "      <td>37.85</td>\n",
       "    </tr>\n",
       "  </tbody>\n",
       "</table>\n",
       "</div>"
      ],
      "text/plain": [
       "       V1        V2    V3  V4    V5  V6    V7    V8      V9    V10\n",
       "0 -122.23  452600.0   129  41   880   3   126   322  83.252  37.88\n",
       "1 -122.22  358500.0  1106  21  7099   3  1138  2401  83.014  37.86\n",
       "2 -122.24  352100.0   190  52  1467   3   177   496  72.574  37.85\n",
       "3 -122.25  341300.0   235  52  1274   3   219   558  56.431  37.85\n",
       "4 -122.25  342200.0   280  52  1627   3   259   565  38.462  37.85"
      ]
     },
     "execution_count": 2,
     "metadata": {},
     "output_type": "execute_result"
    }
   ],
   "source": [
    "data = pd.read_csv(\"/Users/andrerodrigues/Google Drive/FIAP-MBA 8IA/006 - Modelos de IA e ML/Trabalho_Final_2/Exercicio8_v2/dados_clust_v2.csv\", sep =\",\")\n",
    "data = data.iloc[:,1:]\n",
    "data.drop(columns=['dbscan','kmeans', 'som'], axis=1,inplace=True)\n",
    "data.head()"
   ]
  },
  {
   "cell_type": "markdown",
   "metadata": {},
   "source": [
    "## 2) Normalizando os dados"
   ]
  },
  {
   "cell_type": "code",
   "execution_count": 3,
   "metadata": {},
   "outputs": [
    {
     "data": {
      "text/html": [
       "<div>\n",
       "<style scoped>\n",
       "    .dataframe tbody tr th:only-of-type {\n",
       "        vertical-align: middle;\n",
       "    }\n",
       "\n",
       "    .dataframe tbody tr th {\n",
       "        vertical-align: top;\n",
       "    }\n",
       "\n",
       "    .dataframe thead th {\n",
       "        text-align: right;\n",
       "    }\n",
       "</style>\n",
       "<table border=\"1\" class=\"dataframe\">\n",
       "  <thead>\n",
       "    <tr style=\"text-align: right;\">\n",
       "      <th></th>\n",
       "      <th>V1</th>\n",
       "      <th>V2</th>\n",
       "      <th>V3</th>\n",
       "      <th>V4</th>\n",
       "      <th>V5</th>\n",
       "      <th>V6</th>\n",
       "      <th>V7</th>\n",
       "      <th>V8</th>\n",
       "      <th>V9</th>\n",
       "      <th>V10</th>\n",
       "    </tr>\n",
       "  </thead>\n",
       "  <tbody>\n",
       "    <tr>\n",
       "      <td>0</td>\n",
       "      <td>-1.327835</td>\n",
       "      <td>2.129631</td>\n",
       "      <td>-0.975231</td>\n",
       "      <td>0.982143</td>\n",
       "      <td>-0.804819</td>\n",
       "      <td>1.291089</td>\n",
       "      <td>-0.977033</td>\n",
       "      <td>-0.974429</td>\n",
       "      <td>2.268963</td>\n",
       "      <td>1.052548</td>\n",
       "    </tr>\n",
       "    <tr>\n",
       "      <td>1</td>\n",
       "      <td>-1.322844</td>\n",
       "      <td>1.314156</td>\n",
       "      <td>1.355085</td>\n",
       "      <td>-0.607019</td>\n",
       "      <td>2.045890</td>\n",
       "      <td>1.291089</td>\n",
       "      <td>1.669961</td>\n",
       "      <td>0.861439</td>\n",
       "      <td>2.258075</td>\n",
       "      <td>1.043185</td>\n",
       "    </tr>\n",
       "    <tr>\n",
       "      <td>2</td>\n",
       "      <td>-1.332827</td>\n",
       "      <td>1.258693</td>\n",
       "      <td>-0.829735</td>\n",
       "      <td>1.856182</td>\n",
       "      <td>-0.535746</td>\n",
       "      <td>1.291089</td>\n",
       "      <td>-0.843637</td>\n",
       "      <td>-0.820777</td>\n",
       "      <td>1.780456</td>\n",
       "      <td>1.038503</td>\n",
       "    </tr>\n",
       "    <tr>\n",
       "      <td>3</td>\n",
       "      <td>-1.337818</td>\n",
       "      <td>1.165100</td>\n",
       "      <td>-0.722402</td>\n",
       "      <td>1.856182</td>\n",
       "      <td>-0.624215</td>\n",
       "      <td>1.291089</td>\n",
       "      <td>-0.733781</td>\n",
       "      <td>-0.766028</td>\n",
       "      <td>1.041931</td>\n",
       "      <td>1.038503</td>\n",
       "    </tr>\n",
       "    <tr>\n",
       "      <td>4</td>\n",
       "      <td>-1.337818</td>\n",
       "      <td>1.172900</td>\n",
       "      <td>-0.615070</td>\n",
       "      <td>1.856182</td>\n",
       "      <td>-0.462404</td>\n",
       "      <td>1.291089</td>\n",
       "      <td>-0.629157</td>\n",
       "      <td>-0.759847</td>\n",
       "      <td>0.219869</td>\n",
       "      <td>1.038503</td>\n",
       "    </tr>\n",
       "    <tr>\n",
       "      <td>...</td>\n",
       "      <td>...</td>\n",
       "      <td>...</td>\n",
       "      <td>...</td>\n",
       "      <td>...</td>\n",
       "      <td>...</td>\n",
       "      <td>...</td>\n",
       "      <td>...</td>\n",
       "      <td>...</td>\n",
       "      <td>...</td>\n",
       "      <td>...</td>\n",
       "    </tr>\n",
       "    <tr>\n",
       "      <td>20635</td>\n",
       "      <td>-0.758826</td>\n",
       "      <td>-1.115804</td>\n",
       "      <td>-0.390863</td>\n",
       "      <td>-0.289187</td>\n",
       "      <td>-0.444985</td>\n",
       "      <td>-0.116739</td>\n",
       "      <td>-0.443449</td>\n",
       "      <td>-0.512592</td>\n",
       "      <td>-0.825906</td>\n",
       "      <td>1.801647</td>\n",
       "    </tr>\n",
       "    <tr>\n",
       "      <td>20636</td>\n",
       "      <td>-0.818722</td>\n",
       "      <td>-1.124470</td>\n",
       "      <td>-0.925142</td>\n",
       "      <td>-0.845393</td>\n",
       "      <td>-0.888704</td>\n",
       "      <td>-0.116739</td>\n",
       "      <td>-1.008420</td>\n",
       "      <td>-0.944405</td>\n",
       "      <td>-0.370018</td>\n",
       "      <td>1.806329</td>\n",
       "    </tr>\n",
       "    <tr>\n",
       "      <td>20637</td>\n",
       "      <td>-0.823713</td>\n",
       "      <td>-0.992746</td>\n",
       "      <td>-0.126109</td>\n",
       "      <td>-0.924851</td>\n",
       "      <td>-0.174995</td>\n",
       "      <td>-0.116739</td>\n",
       "      <td>-0.174042</td>\n",
       "      <td>-0.369537</td>\n",
       "      <td>-1.461953</td>\n",
       "      <td>1.778237</td>\n",
       "    </tr>\n",
       "    <tr>\n",
       "      <td>20638</td>\n",
       "      <td>-0.873626</td>\n",
       "      <td>-1.058608</td>\n",
       "      <td>-0.307382</td>\n",
       "      <td>-0.845393</td>\n",
       "      <td>-0.355600</td>\n",
       "      <td>-0.116739</td>\n",
       "      <td>-0.393753</td>\n",
       "      <td>-0.604429</td>\n",
       "      <td>-0.685502</td>\n",
       "      <td>1.778237</td>\n",
       "    </tr>\n",
       "    <tr>\n",
       "      <td>20639</td>\n",
       "      <td>-0.833696</td>\n",
       "      <td>-1.017878</td>\n",
       "      <td>0.186349</td>\n",
       "      <td>-1.004309</td>\n",
       "      <td>0.068408</td>\n",
       "      <td>-0.116739</td>\n",
       "      <td>0.079672</td>\n",
       "      <td>-0.033977</td>\n",
       "      <td>-0.446967</td>\n",
       "      <td>1.750146</td>\n",
       "    </tr>\n",
       "  </tbody>\n",
       "</table>\n",
       "<p>20640 rows × 10 columns</p>\n",
       "</div>"
      ],
      "text/plain": [
       "             V1        V2        V3        V4        V5        V6        V7  \\\n",
       "0     -1.327835  2.129631 -0.975231  0.982143 -0.804819  1.291089 -0.977033   \n",
       "1     -1.322844  1.314156  1.355085 -0.607019  2.045890  1.291089  1.669961   \n",
       "2     -1.332827  1.258693 -0.829735  1.856182 -0.535746  1.291089 -0.843637   \n",
       "3     -1.337818  1.165100 -0.722402  1.856182 -0.624215  1.291089 -0.733781   \n",
       "4     -1.337818  1.172900 -0.615070  1.856182 -0.462404  1.291089 -0.629157   \n",
       "...         ...       ...       ...       ...       ...       ...       ...   \n",
       "20635 -0.758826 -1.115804 -0.390863 -0.289187 -0.444985 -0.116739 -0.443449   \n",
       "20636 -0.818722 -1.124470 -0.925142 -0.845393 -0.888704 -0.116739 -1.008420   \n",
       "20637 -0.823713 -0.992746 -0.126109 -0.924851 -0.174995 -0.116739 -0.174042   \n",
       "20638 -0.873626 -1.058608 -0.307382 -0.845393 -0.355600 -0.116739 -0.393753   \n",
       "20639 -0.833696 -1.017878  0.186349 -1.004309  0.068408 -0.116739  0.079672   \n",
       "\n",
       "             V8        V9       V10  \n",
       "0     -0.974429  2.268963  1.052548  \n",
       "1      0.861439  2.258075  1.043185  \n",
       "2     -0.820777  1.780456  1.038503  \n",
       "3     -0.766028  1.041931  1.038503  \n",
       "4     -0.759847  0.219869  1.038503  \n",
       "...         ...       ...       ...  \n",
       "20635 -0.512592 -0.825906  1.801647  \n",
       "20636 -0.944405 -0.370018  1.806329  \n",
       "20637 -0.369537 -1.461953  1.778237  \n",
       "20638 -0.604429 -0.685502  1.778237  \n",
       "20639 -0.033977 -0.446967  1.750146  \n",
       "\n",
       "[20640 rows x 10 columns]"
      ]
     },
     "execution_count": 3,
     "metadata": {},
     "output_type": "execute_result"
    }
   ],
   "source": [
    "data  = pd.DataFrame(StandardScaler().fit_transform(data), columns = data.columns)\n",
    "data"
   ]
  },
  {
   "cell_type": "markdown",
   "metadata": {
    "colab_type": "text",
    "id": "gar15NfghF4L"
   },
   "source": [
    "## 3) Validando independencia entre as variáveis"
   ]
  },
  {
   "cell_type": "markdown",
   "metadata": {
    "colab_type": "text",
    "id": "E9svsqd6hF4M"
   },
   "source": [
    "#### a) correlation"
   ]
  },
  {
   "cell_type": "code",
   "execution_count": 4,
   "metadata": {
    "colab": {
     "base_uri": "https://localhost:8080/",
     "height": 204
    },
    "colab_type": "code",
    "executionInfo": {
     "elapsed": 5267,
     "status": "ok",
     "timestamp": 1574369531688,
     "user": {
      "displayName": "André Rodrigues",
      "photoUrl": "https://lh3.googleusercontent.com/a-/AAuE7mC4VcoLAlPEtIAJVPWTppZJ9S3ou2QH75zgDkJrgn0=s64",
      "userId": "01975921740661022202"
     },
     "user_tz": 180
    },
    "id": "4o4vSImXhF4M",
    "outputId": "2925256d-5e5e-42aa-eee2-ab1e09f4222d"
   },
   "outputs": [
    {
     "name": "stdout",
     "output_type": "stream",
     "text": [
      "       V1    V2    V3    V4    V5    V6    V7    V8    V9   V10\n",
      "V1   1.00 -0.05  0.07 -0.11  0.04 -0.29  0.06  0.10 -0.01 -0.92\n",
      "V2  -0.05  1.00  0.05  0.11  0.13  0.08  0.07 -0.02  0.55 -0.14\n",
      "V3   0.07  0.05  1.00 -0.32  0.93 -0.01  0.97  0.87  0.02 -0.07\n",
      "V4  -0.11  0.11 -0.32  1.00 -0.36  0.11 -0.30 -0.30 -0.11  0.01\n",
      "V5   0.04  0.13  0.93 -0.36  1.00 -0.02  0.92  0.86  0.18 -0.04\n",
      "V6  -0.29  0.08 -0.01  0.11 -0.02  1.00 -0.02 -0.07 -0.01  0.20\n",
      "V7   0.06  0.07  0.97 -0.30  0.92 -0.02  1.00  0.91  0.04 -0.07\n",
      "V8   0.10 -0.02  0.87 -0.30  0.86 -0.07  0.91  1.00  0.03 -0.11\n",
      "V9  -0.01  0.55  0.02 -0.11  0.18 -0.01  0.04  0.03  1.00 -0.06\n",
      "V10 -0.92 -0.14 -0.07  0.01 -0.04  0.20 -0.07 -0.11 -0.06  1.00\n",
      "\n",
      "\n"
     ]
    },
    {
     "data": {
      "image/png": "[encoded data removed]",
      "text/plain": [
       "<Figure size 432x288 with 2 Axes>"
      ]
     },
     "metadata": {
      "needs_background": "light"
     },
     "output_type": "display_data"
    }
   ],
   "source": [
    "set_option('precision', 2)\n",
    "corr = data.corr(method='pearson')\n",
    "print(corr)\n",
    "plot1 = sb.heatmap(data.corr()) \n",
    "print('\\n')\n",
    "plt.title(\"Heatmap - Check de Indepedencia das Variaveis\")\n",
    "plt.show(plot1)"
   ]
  },
  {
   "cell_type": "code",
   "execution_count": 5,
   "metadata": {},
   "outputs": [
    {
     "data": {
      "text/html": [
       "<div>\n",
       "<style scoped>\n",
       "    .dataframe tbody tr th:only-of-type {\n",
       "        vertical-align: middle;\n",
       "    }\n",
       "\n",
       "    .dataframe tbody tr th {\n",
       "        vertical-align: top;\n",
       "    }\n",
       "\n",
       "    .dataframe thead th {\n",
       "        text-align: right;\n",
       "    }\n",
       "</style>\n",
       "<table border=\"1\" class=\"dataframe\">\n",
       "  <thead>\n",
       "    <tr style=\"text-align: right;\">\n",
       "      <th></th>\n",
       "      <th>V1</th>\n",
       "      <th>V2</th>\n",
       "      <th>V3</th>\n",
       "      <th>V4</th>\n",
       "      <th>V5</th>\n",
       "      <th>V6</th>\n",
       "      <th>V7</th>\n",
       "      <th>V8</th>\n",
       "      <th>V9</th>\n",
       "      <th>V10</th>\n",
       "    </tr>\n",
       "  </thead>\n",
       "  <tbody>\n",
       "    <tr>\n",
       "      <td>V1</td>\n",
       "      <td>1.00</td>\n",
       "      <td>0.0</td>\n",
       "      <td>0.00</td>\n",
       "      <td>0.0</td>\n",
       "      <td>0.00</td>\n",
       "      <td>0.0</td>\n",
       "      <td>0.00</td>\n",
       "      <td>0.00</td>\n",
       "      <td>0.0</td>\n",
       "      <td>-0.92</td>\n",
       "    </tr>\n",
       "    <tr>\n",
       "      <td>V2</td>\n",
       "      <td>0.00</td>\n",
       "      <td>1.0</td>\n",
       "      <td>0.00</td>\n",
       "      <td>0.0</td>\n",
       "      <td>0.00</td>\n",
       "      <td>0.0</td>\n",
       "      <td>0.00</td>\n",
       "      <td>0.00</td>\n",
       "      <td>0.0</td>\n",
       "      <td>0.00</td>\n",
       "    </tr>\n",
       "    <tr>\n",
       "      <td>V3</td>\n",
       "      <td>0.00</td>\n",
       "      <td>0.0</td>\n",
       "      <td>1.00</td>\n",
       "      <td>0.0</td>\n",
       "      <td>0.93</td>\n",
       "      <td>0.0</td>\n",
       "      <td>0.97</td>\n",
       "      <td>0.87</td>\n",
       "      <td>0.0</td>\n",
       "      <td>0.00</td>\n",
       "    </tr>\n",
       "    <tr>\n",
       "      <td>V4</td>\n",
       "      <td>0.00</td>\n",
       "      <td>0.0</td>\n",
       "      <td>0.00</td>\n",
       "      <td>1.0</td>\n",
       "      <td>0.00</td>\n",
       "      <td>0.0</td>\n",
       "      <td>0.00</td>\n",
       "      <td>0.00</td>\n",
       "      <td>0.0</td>\n",
       "      <td>0.00</td>\n",
       "    </tr>\n",
       "    <tr>\n",
       "      <td>V5</td>\n",
       "      <td>0.00</td>\n",
       "      <td>0.0</td>\n",
       "      <td>0.93</td>\n",
       "      <td>0.0</td>\n",
       "      <td>1.00</td>\n",
       "      <td>0.0</td>\n",
       "      <td>0.92</td>\n",
       "      <td>0.86</td>\n",
       "      <td>0.0</td>\n",
       "      <td>0.00</td>\n",
       "    </tr>\n",
       "    <tr>\n",
       "      <td>V6</td>\n",
       "      <td>0.00</td>\n",
       "      <td>0.0</td>\n",
       "      <td>0.00</td>\n",
       "      <td>0.0</td>\n",
       "      <td>0.00</td>\n",
       "      <td>1.0</td>\n",
       "      <td>0.00</td>\n",
       "      <td>0.00</td>\n",
       "      <td>0.0</td>\n",
       "      <td>0.00</td>\n",
       "    </tr>\n",
       "    <tr>\n",
       "      <td>V7</td>\n",
       "      <td>0.00</td>\n",
       "      <td>0.0</td>\n",
       "      <td>0.97</td>\n",
       "      <td>0.0</td>\n",
       "      <td>0.92</td>\n",
       "      <td>0.0</td>\n",
       "      <td>1.00</td>\n",
       "      <td>0.91</td>\n",
       "      <td>0.0</td>\n",
       "      <td>0.00</td>\n",
       "    </tr>\n",
       "    <tr>\n",
       "      <td>V8</td>\n",
       "      <td>0.00</td>\n",
       "      <td>0.0</td>\n",
       "      <td>0.87</td>\n",
       "      <td>0.0</td>\n",
       "      <td>0.86</td>\n",
       "      <td>0.0</td>\n",
       "      <td>0.91</td>\n",
       "      <td>1.00</td>\n",
       "      <td>0.0</td>\n",
       "      <td>0.00</td>\n",
       "    </tr>\n",
       "    <tr>\n",
       "      <td>V9</td>\n",
       "      <td>0.00</td>\n",
       "      <td>0.0</td>\n",
       "      <td>0.00</td>\n",
       "      <td>0.0</td>\n",
       "      <td>0.00</td>\n",
       "      <td>0.0</td>\n",
       "      <td>0.00</td>\n",
       "      <td>0.00</td>\n",
       "      <td>1.0</td>\n",
       "      <td>0.00</td>\n",
       "    </tr>\n",
       "    <tr>\n",
       "      <td>V10</td>\n",
       "      <td>-0.92</td>\n",
       "      <td>0.0</td>\n",
       "      <td>0.00</td>\n",
       "      <td>0.0</td>\n",
       "      <td>0.00</td>\n",
       "      <td>0.0</td>\n",
       "      <td>0.00</td>\n",
       "      <td>0.00</td>\n",
       "      <td>0.0</td>\n",
       "      <td>1.00</td>\n",
       "    </tr>\n",
       "  </tbody>\n",
       "</table>\n",
       "</div>"
      ],
      "text/plain": [
       "       V1   V2    V3   V4    V5   V6    V7    V8   V9   V10\n",
       "V1   1.00  0.0  0.00  0.0  0.00  0.0  0.00  0.00  0.0 -0.92\n",
       "V2   0.00  1.0  0.00  0.0  0.00  0.0  0.00  0.00  0.0  0.00\n",
       "V3   0.00  0.0  1.00  0.0  0.93  0.0  0.97  0.87  0.0  0.00\n",
       "V4   0.00  0.0  0.00  1.0  0.00  0.0  0.00  0.00  0.0  0.00\n",
       "V5   0.00  0.0  0.93  0.0  1.00  0.0  0.92  0.86  0.0  0.00\n",
       "V6   0.00  0.0  0.00  0.0  0.00  1.0  0.00  0.00  0.0  0.00\n",
       "V7   0.00  0.0  0.97  0.0  0.92  0.0  1.00  0.91  0.0  0.00\n",
       "V8   0.00  0.0  0.87  0.0  0.86  0.0  0.91  1.00  0.0  0.00\n",
       "V9   0.00  0.0  0.00  0.0  0.00  0.0  0.00  0.00  1.0  0.00\n",
       "V10 -0.92  0.0  0.00  0.0  0.00  0.0  0.00  0.00  0.0  1.00"
      ]
     },
     "execution_count": 5,
     "metadata": {},
     "output_type": "execute_result"
    }
   ],
   "source": [
    "to_del = corr[abs(corr) > 0.8].fillna(0)\n",
    "to_del"
   ]
  },
  {
   "cell_type": "markdown",
   "metadata": {},
   "source": [
    "#### Valores para serem desconsiderados devido sua alta correlação entre si:\n",
    "V3, V5, V7, V8 e V10"
   ]
  },
  {
   "cell_type": "code",
   "execution_count": 6,
   "metadata": {},
   "outputs": [],
   "source": [
    "to_drop = ['V3','V5','V7','V8','V10']"
   ]
  },
  {
   "cell_type": "markdown",
   "metadata": {},
   "source": [
    "#### Pela analise do heatmap, vemos que há uma alta correlação da variaveis V9 com V2"
   ]
  },
  {
   "cell_type": "markdown",
   "metadata": {
    "colab_type": "text",
    "id": "4G70jaduhF4Q"
   },
   "source": [
    "## 5)Data visualizations"
   ]
  },
  {
   "cell_type": "markdown",
   "metadata": {
    "colab_type": "text",
    "id": "9C3RAr6shF4R"
   },
   "source": [
    "#### a) Histograms"
   ]
  },
  {
   "cell_type": "code",
   "execution_count": 7,
   "metadata": {
    "colab": {
     "base_uri": "https://localhost:8080/",
     "height": 825
    },
    "colab_type": "code",
    "executionInfo": {
     "elapsed": 8071,
     "status": "ok",
     "timestamp": 1574369534502,
     "user": {
      "displayName": "André Rodrigues",
      "photoUrl": "https://lh3.googleusercontent.com/a-/AAuE7mC4VcoLAlPEtIAJVPWTppZJ9S3ou2QH75zgDkJrgn0=s64",
      "userId": "01975921740661022202"
     },
     "user_tz": 180
    },
    "id": "espms2Y_hF4R",
    "outputId": "df0791a8-7d04-4c1e-88c5-134d88e800a5"
   },
   "outputs": [
    {
     "data": {
      "image/png": "[encoded data removed]",
      "text/plain": [
       "<Figure size 1296x1008 with 12 Axes>"
      ]
     },
     "metadata": {
      "needs_background": "light"
     },
     "output_type": "display_data"
    }
   ],
   "source": [
    "data.hist(bins=10,figsize=(18,14),grid=False);"
   ]
  },
  {
   "cell_type": "markdown",
   "metadata": {},
   "source": [
    "### Ao observar os resultados das correlacoes e do hotmap, notamos que as variáveis V2 e V9 possuem uma forte correlacao."
   ]
  },
  {
   "cell_type": "code",
   "execution_count": 8,
   "metadata": {},
   "outputs": [
    {
     "data": {
      "text/html": [
       "<div>\n",
       "<style scoped>\n",
       "    .dataframe tbody tr th:only-of-type {\n",
       "        vertical-align: middle;\n",
       "    }\n",
       "\n",
       "    .dataframe tbody tr th {\n",
       "        vertical-align: top;\n",
       "    }\n",
       "\n",
       "    .dataframe thead th {\n",
       "        text-align: right;\n",
       "    }\n",
       "</style>\n",
       "<table border=\"1\" class=\"dataframe\">\n",
       "  <thead>\n",
       "    <tr style=\"text-align: right;\">\n",
       "      <th></th>\n",
       "      <th>V1</th>\n",
       "      <th>V2</th>\n",
       "      <th>V4</th>\n",
       "      <th>V6</th>\n",
       "      <th>V9</th>\n",
       "    </tr>\n",
       "  </thead>\n",
       "  <tbody>\n",
       "    <tr>\n",
       "      <td>0</td>\n",
       "      <td>-1.33</td>\n",
       "      <td>2.13</td>\n",
       "      <td>0.98</td>\n",
       "      <td>1.29</td>\n",
       "      <td>2.27</td>\n",
       "    </tr>\n",
       "    <tr>\n",
       "      <td>1</td>\n",
       "      <td>-1.32</td>\n",
       "      <td>1.31</td>\n",
       "      <td>-0.61</td>\n",
       "      <td>1.29</td>\n",
       "      <td>2.26</td>\n",
       "    </tr>\n",
       "    <tr>\n",
       "      <td>2</td>\n",
       "      <td>-1.33</td>\n",
       "      <td>1.26</td>\n",
       "      <td>1.86</td>\n",
       "      <td>1.29</td>\n",
       "      <td>1.78</td>\n",
       "    </tr>\n",
       "    <tr>\n",
       "      <td>3</td>\n",
       "      <td>-1.34</td>\n",
       "      <td>1.17</td>\n",
       "      <td>1.86</td>\n",
       "      <td>1.29</td>\n",
       "      <td>1.04</td>\n",
       "    </tr>\n",
       "    <tr>\n",
       "      <td>4</td>\n",
       "      <td>-1.34</td>\n",
       "      <td>1.17</td>\n",
       "      <td>1.86</td>\n",
       "      <td>1.29</td>\n",
       "      <td>0.22</td>\n",
       "    </tr>\n",
       "  </tbody>\n",
       "</table>\n",
       "</div>"
      ],
      "text/plain": [
       "     V1    V2    V4    V6    V9\n",
       "0 -1.33  2.13  0.98  1.29  2.27\n",
       "1 -1.32  1.31 -0.61  1.29  2.26\n",
       "2 -1.33  1.26  1.86  1.29  1.78\n",
       "3 -1.34  1.17  1.86  1.29  1.04\n",
       "4 -1.34  1.17  1.86  1.29  0.22"
      ]
     },
     "execution_count": 8,
     "metadata": {},
     "output_type": "execute_result"
    }
   ],
   "source": [
    "# data.drop(columns=['V1','V3','V4','V5','V6','V7','V8','V9','V10'], axis=1, inplace=True)\n",
    "\n",
    "data.drop(columns=to_drop, axis=1, inplace=True)\n",
    "data.head()"
   ]
  },
  {
   "cell_type": "markdown",
   "metadata": {
    "colab_type": "text",
    "id": "rC9O6F1whF4b"
   },
   "source": [
    "## 6) Separar o conjunto em variavel resposta e variaveis de treinamento"
   ]
  },
  {
   "cell_type": "code",
   "execution_count": 9,
   "metadata": {},
   "outputs": [
    {
     "data": {
      "text/plain": [
       "['V1', 'V4', 'V6', 'V9']"
      ]
     },
     "execution_count": 9,
     "metadata": {},
     "output_type": "execute_result"
    }
   ],
   "source": [
    "features = ['V1','V3','V4','V5','V6','V7','V8','V9','V10']\n",
    "diff = list(set(features) - set(to_drop))\n",
    "diff"
   ]
  },
  {
   "cell_type": "code",
   "execution_count": 10,
   "metadata": {},
   "outputs": [],
   "source": [
    "target = 'V2'\n",
    "X = data.loc[:,diff]\n",
    "Y = data.loc[:, target]"
   ]
  },
  {
   "cell_type": "code",
   "execution_count": 11,
   "metadata": {},
   "outputs": [
    {
     "data": {
      "text/html": [
       "<div>\n",
       "<style scoped>\n",
       "    .dataframe tbody tr th:only-of-type {\n",
       "        vertical-align: middle;\n",
       "    }\n",
       "\n",
       "    .dataframe tbody tr th {\n",
       "        vertical-align: top;\n",
       "    }\n",
       "\n",
       "    .dataframe thead th {\n",
       "        text-align: right;\n",
       "    }\n",
       "</style>\n",
       "<table border=\"1\" class=\"dataframe\">\n",
       "  <thead>\n",
       "    <tr style=\"text-align: right;\">\n",
       "      <th></th>\n",
       "      <th>V1</th>\n",
       "      <th>V4</th>\n",
       "      <th>V6</th>\n",
       "      <th>V9</th>\n",
       "    </tr>\n",
       "  </thead>\n",
       "  <tbody>\n",
       "    <tr>\n",
       "      <td>0</td>\n",
       "      <td>-1.33</td>\n",
       "      <td>0.98</td>\n",
       "      <td>1.29</td>\n",
       "      <td>2.27</td>\n",
       "    </tr>\n",
       "    <tr>\n",
       "      <td>1</td>\n",
       "      <td>-1.32</td>\n",
       "      <td>-0.61</td>\n",
       "      <td>1.29</td>\n",
       "      <td>2.26</td>\n",
       "    </tr>\n",
       "    <tr>\n",
       "      <td>2</td>\n",
       "      <td>-1.33</td>\n",
       "      <td>1.86</td>\n",
       "      <td>1.29</td>\n",
       "      <td>1.78</td>\n",
       "    </tr>\n",
       "    <tr>\n",
       "      <td>3</td>\n",
       "      <td>-1.34</td>\n",
       "      <td>1.86</td>\n",
       "      <td>1.29</td>\n",
       "      <td>1.04</td>\n",
       "    </tr>\n",
       "    <tr>\n",
       "      <td>4</td>\n",
       "      <td>-1.34</td>\n",
       "      <td>1.86</td>\n",
       "      <td>1.29</td>\n",
       "      <td>0.22</td>\n",
       "    </tr>\n",
       "  </tbody>\n",
       "</table>\n",
       "</div>"
      ],
      "text/plain": [
       "     V1    V4    V6    V9\n",
       "0 -1.33  0.98  1.29  2.27\n",
       "1 -1.32 -0.61  1.29  2.26\n",
       "2 -1.33  1.86  1.29  1.78\n",
       "3 -1.34  1.86  1.29  1.04\n",
       "4 -1.34  1.86  1.29  0.22"
      ]
     },
     "execution_count": 11,
     "metadata": {},
     "output_type": "execute_result"
    }
   ],
   "source": [
    "X.head()"
   ]
  },
  {
   "cell_type": "code",
   "execution_count": 12,
   "metadata": {},
   "outputs": [
    {
     "data": {
      "text/plain": [
       "0    2.13\n",
       "1    1.31\n",
       "2    1.26\n",
       "3    1.17\n",
       "4    1.17\n",
       "Name: V2, dtype: float64"
      ]
     },
     "execution_count": 12,
     "metadata": {},
     "output_type": "execute_result"
    }
   ],
   "source": [
    "Y.head()"
   ]
  },
  {
   "cell_type": "code",
   "execution_count": 13,
   "metadata": {
    "colab": {},
    "colab_type": "code",
    "id": "f97RafZhhF4b"
   },
   "outputs": [],
   "source": [
    "# Split-out validation dataset\n",
    "seed = 25\n",
    "validation_size = 0.30"
   ]
  },
  {
   "cell_type": "code",
   "execution_count": 14,
   "metadata": {
    "colab": {},
    "colab_type": "code",
    "id": "Y1gB8W1NhF4d"
   },
   "outputs": [],
   "source": [
    "X_train, X_validation, Y_train, Y_validation = train_test_split(X, Y, test_size=validation_size, random_state=seed)"
   ]
  },
  {
   "cell_type": "markdown",
   "metadata": {
    "colab_type": "text",
    "id": "kHcf_q-QhF4f"
   },
   "source": [
    "## 8) Evaluate Algorithm"
   ]
  },
  {
   "cell_type": "markdown",
   "metadata": {
    "colab_type": "text",
    "id": "FXVg9TC1hF4f"
   },
   "source": [
    "### a) Test options and evaluation metric using Root Mean Square error method"
   ]
  },
  {
   "cell_type": "code",
   "execution_count": 15,
   "metadata": {
    "colab": {},
    "colab_type": "code",
    "id": "C1VIsqBThF4g"
   },
   "outputs": [],
   "source": [
    "num_folds = 10\n",
    "seed = 7\n",
    "RMS = 'neg_mean_squared_error'"
   ]
  },
  {
   "cell_type": "markdown",
   "metadata": {
    "colab_type": "text",
    "id": "UJsFf_82hF4i"
   },
   "source": [
    "### b) Executando os Regressores"
   ]
  },
  {
   "cell_type": "markdown",
   "metadata": {
    "colab_type": "text",
    "id": "X5KS2MaCvBP2"
   },
   "source": [
    "##### Preparacao dos pipelines com os seguintes regressores:\n",
    "* Regressão Linear\n",
    "* KNN\n",
    "* Arvore de Decisão\n",
    "* Random Forest\n",
    "* AdaBoost\n",
    "* Support Vector Machine\n",
    "  + Kernels:\n",
    "    - Gaussiano RBF\n",
    "    - Linear\n",
    "    - Polinomial\n",
    "    "
   ]
  },
  {
   "cell_type": "code",
   "execution_count": 16,
   "metadata": {
    "colab": {},
    "colab_type": "code",
    "id": "yVuuGDQHhF4i"
   },
   "outputs": [],
   "source": [
    "pipelines = []\n",
    "pipelines.append(('LR', Pipeline([('Scaler', StandardScaler()),('LR', LinearRegression())])))\n",
    "\n",
    "pipelines.append(('KNN', Pipeline([('Scaler', StandardScaler()),('KNN', KNeighborsRegressor())])))\n",
    "\n",
    "pipelines.append(('DTR', Pipeline([('Scaler', StandardScaler()),('DTR', DecisionTreeRegressor())])))\n",
    "\n",
    "pipelines.append(('RF', Pipeline([('Scaler', StandardScaler()),('RF', RandomForestRegressor())])))\n",
    "\n",
    "pipelines.append(('ADA', Pipeline([('Scaler', StandardScaler()),('ADA', AdaBoostRegressor())])))\n",
    "\n",
    "pipelines.append(('SVR', Pipeline([('Scaler', StandardScaler()),('SVR', SVR())])))\n",
    "pipelines.append(('SVR-RBF', Pipeline([('Scaler', StandardScaler()),('SVR', SVR(kernel='rbf', C=100, gamma=0.1, epsilon=.1))])))\n",
    "pipelines.append(('SVR-Linear', Pipeline([('Scaler', StandardScaler()),('SVR', SVR(kernel='linear', C=100, gamma='auto'))])))\n",
    "pipelines.append(('SVR-Poly', Pipeline([('Scaler', StandardScaler()),('SVR', SVR(kernel='poly', C=100, gamma='auto', degree=3, epsilon=.1))])))"
   ]
  },
  {
   "cell_type": "markdown",
   "metadata": {
    "colab_type": "text",
    "id": "gQ0xuFnDvBP4"
   },
   "source": [
    "### c) Execução dos Regressores e Avaliação do desempenho de cada um baseado no Erro Quadrático Médio.\n",
    "* Validacao Cruzada com 10 folds."
   ]
  },
  {
   "cell_type": "code",
   "execution_count": 18,
   "metadata": {
    "colab": {
     "base_uri": "https://localhost:8080/",
     "height": 510
    },
    "colab_type": "code",
    "executionInfo": {
     "elapsed": 2218714,
     "status": "ok",
     "timestamp": 1574371745182,
     "user": {
      "displayName": "André Rodrigues",
      "photoUrl": "https://lh3.googleusercontent.com/a-/AAuE7mC4VcoLAlPEtIAJVPWTppZJ9S3ou2QH75zgDkJrgn0=s64",
      "userId": "01975921740661022202"
     },
     "user_tz": 180
    },
    "id": "Y_aF7y25vBP4",
    "outputId": "17dcacc0-c80e-43e9-d4cb-d6c5cace7ada"
   },
   "outputs": [
    {
     "name": "stdout",
     "output_type": "stream",
     "text": [
      "LR: -0.663317 (0.032352)\n",
      "KNN: -0.362121 (0.024655)\n",
      "DTR: -0.530305 (0.038588)\n"
     ]
    },
    {
     "name": "stderr",
     "output_type": "stream",
     "text": [
      "/Users/andrerodrigues/opt/anaconda3/lib/python3.7/site-packages/sklearn/ensemble/forest.py:245: FutureWarning: The default value of n_estimators will change from 10 in version 0.20 to 100 in 0.22.\n",
      "  \"10 in version 0.20 to 100 in 0.22.\", FutureWarning)\n",
      "/Users/andrerodrigues/opt/anaconda3/lib/python3.7/site-packages/sklearn/ensemble/forest.py:245: FutureWarning: The default value of n_estimators will change from 10 in version 0.20 to 100 in 0.22.\n",
      "  \"10 in version 0.20 to 100 in 0.22.\", FutureWarning)\n",
      "/Users/andrerodrigues/opt/anaconda3/lib/python3.7/site-packages/sklearn/ensemble/forest.py:245: FutureWarning: The default value of n_estimators will change from 10 in version 0.20 to 100 in 0.22.\n",
      "  \"10 in version 0.20 to 100 in 0.22.\", FutureWarning)\n",
      "/Users/andrerodrigues/opt/anaconda3/lib/python3.7/site-packages/sklearn/ensemble/forest.py:245: FutureWarning: The default value of n_estimators will change from 10 in version 0.20 to 100 in 0.22.\n",
      "  \"10 in version 0.20 to 100 in 0.22.\", FutureWarning)\n",
      "/Users/andrerodrigues/opt/anaconda3/lib/python3.7/site-packages/sklearn/ensemble/forest.py:245: FutureWarning: The default value of n_estimators will change from 10 in version 0.20 to 100 in 0.22.\n",
      "  \"10 in version 0.20 to 100 in 0.22.\", FutureWarning)\n",
      "/Users/andrerodrigues/opt/anaconda3/lib/python3.7/site-packages/sklearn/ensemble/forest.py:245: FutureWarning: The default value of n_estimators will change from 10 in version 0.20 to 100 in 0.22.\n",
      "  \"10 in version 0.20 to 100 in 0.22.\", FutureWarning)\n",
      "/Users/andrerodrigues/opt/anaconda3/lib/python3.7/site-packages/sklearn/ensemble/forest.py:245: FutureWarning: The default value of n_estimators will change from 10 in version 0.20 to 100 in 0.22.\n",
      "  \"10 in version 0.20 to 100 in 0.22.\", FutureWarning)\n",
      "/Users/andrerodrigues/opt/anaconda3/lib/python3.7/site-packages/sklearn/ensemble/forest.py:245: FutureWarning: The default value of n_estimators will change from 10 in version 0.20 to 100 in 0.22.\n",
      "  \"10 in version 0.20 to 100 in 0.22.\", FutureWarning)\n",
      "/Users/andrerodrigues/opt/anaconda3/lib/python3.7/site-packages/sklearn/ensemble/forest.py:245: FutureWarning: The default value of n_estimators will change from 10 in version 0.20 to 100 in 0.22.\n",
      "  \"10 in version 0.20 to 100 in 0.22.\", FutureWarning)\n",
      "/Users/andrerodrigues/opt/anaconda3/lib/python3.7/site-packages/sklearn/ensemble/forest.py:245: FutureWarning: The default value of n_estimators will change from 10 in version 0.20 to 100 in 0.22.\n",
      "  \"10 in version 0.20 to 100 in 0.22.\", FutureWarning)\n"
     ]
    },
    {
     "name": "stdout",
     "output_type": "stream",
     "text": [
      "RF: -0.317368 (0.017510)\n",
      "ADA: -0.620206 (0.033777)\n",
      "SVR: -0.406187 (0.035164)\n",
      "SVR-RBF: -0.399988 (0.034330)\n",
      "SVR-Linear: -0.698009 (0.041725)\n",
      "SVR-Poly: -0.721788 (0.041731)\n"
     ]
    }
   ],
   "source": [
    "results = []\n",
    "names = []\n",
    "for name, model in pipelines:\n",
    "\tkfold = KFold(n_splits=num_folds, random_state=seed)\n",
    "\tcv_results = cross_val_score(model, X_train, Y_train, cv=kfold, scoring=RMS)\n",
    "\tresults.append(cv_results)\n",
    "\tnames.append(name)\n",
    "\tmsg = \"%s: %f (%f)\" % (name, cv_results.mean(), cv_results.std())\n",
    "\tprint(msg)"
   ]
  },
  {
   "cell_type": "markdown",
   "metadata": {
    "colab_type": "text",
    "id": "mvQd5bALhF4k"
   },
   "source": [
    "## 10) Comparacao do Algoritmos"
   ]
  },
  {
   "cell_type": "code",
   "execution_count": 19,
   "metadata": {
    "colab": {
     "base_uri": "https://localhost:8080/",
     "height": 479
    },
    "colab_type": "code",
    "executionInfo": {
     "elapsed": 2219021,
     "status": "ok",
     "timestamp": 1574371745494,
     "user": {
      "displayName": "André Rodrigues",
      "photoUrl": "https://lh3.googleusercontent.com/a-/AAuE7mC4VcoLAlPEtIAJVPWTppZJ9S3ou2QH75zgDkJrgn0=s64",
      "userId": "01975921740661022202"
     },
     "user_tz": 180
    },
    "id": "uw7FJJj4hF4l",
    "outputId": "6c0c88b0-ca45-4b98-9995-e10dc96fecb7"
   },
   "outputs": [
    {
     "data": {
      "image/png": "[encoded data removed]",
      "text/plain": [
       "<Figure size 720x504 with 1 Axes>"
      ]
     },
     "metadata": {
      "needs_background": "light"
     },
     "output_type": "display_data"
    }
   ],
   "source": [
    "fig = pyplot.figure(figsize=(10,7))\n",
    "fig.suptitle('Scaled Algorithm Comparison')\n",
    "ax = fig.add_subplot(111)\n",
    "pyplot.boxplot(results)\n",
    "ax.set_xticklabels(names)\n",
    "pyplot.show()"
   ]
  },
  {
   "cell_type": "code",
   "execution_count": 20,
   "metadata": {},
   "outputs": [
    {
     "name": "stderr",
     "output_type": "stream",
     "text": [
      "/Users/andrerodrigues/opt/anaconda3/lib/python3.7/site-packages/sklearn/ensemble/forest.py:245: FutureWarning: The default value of n_estimators will change from 10 in version 0.20 to 100 in 0.22.\n",
      "  \"10 in version 0.20 to 100 in 0.22.\", FutureWarning)\n"
     ]
    },
    {
     "name": "stdout",
     "output_type": "stream",
     "text": [
      "0.2497122429201892\n",
      "0.3232666965568175\n"
     ]
    }
   ],
   "source": [
    "rf = RandomForestRegressor()\n",
    "\n",
    "scaler = StandardScaler().fit(X_train)\n",
    "rescaledX = scaler.transform(X_train)\n",
    "\n",
    "rf.fit(rescaledX, Y_train)\n",
    "\n",
    "rescaledValidationX = scaler.transform(X_validation)\n",
    "\n",
    "predictions = rf.predict(rescaledValidationX)\n",
    "\n",
    "print(metrics.median_absolute_error(Y_validation, predictions))\n",
    "print(metrics.mean_squared_error(Y_validation, predictions))\n",
    "\n",
    "\n",
    "predictions=predictions.astype(int)\n",
    "finalresult = pd.DataFrame({\n",
    "        \"V2 Original\": Y_validation,\n",
    "        \"V2 Predito\": predictions\n",
    "    })\n",
    "\n",
    "finalresult.to_csv(\"PredictedV2.csv\", index=False)"
   ]
  },
  {
   "cell_type": "markdown",
   "metadata": {
    "colab": {},
    "colab_type": "code",
    "id": "zG3p07SxhF4r"
   },
   "source": [
    "* Com base nos resultados obtidos entre todos os regressores, identificamos que aquele que obteve o menor Erro Quadrático Médio e, portanto, o melhor desempenho foi o <span style=\"color:red\">Random Forest Regessor</span>. Este regressor retornou um Erro Médio Absoluto de 21.990 e o Erro Quadrático Médio de 2.899.271.632."
   ]
  },
  {
   "cell_type": "markdown",
   "metadata": {
    "colab": {},
    "colab_type": "code",
    "id": "8VWl2gSghF4x"
   },
   "source": [
    "<b>Conclusão Exercicio 8:</b>\n",
    "\n",
    "Para obtermos a maior acuracia, vamos selecionar as seguintes tecnicas:\n",
    "\n",
    "1. Clusterizacao (Aprendizagem Nao-Supervisionada): \n",
    "  + K-Means com 25 clusters\n",
    "  + Utlizamos o resultado dessa clusterizacao como a classe para os classificadores.\n",
    "2. Classificacao (Aprendizagem Supervisionada):\n",
    "  + SVM com kernel='linear', C=100, gamma=0.001\n",
    "  + Com este classificador usando a parametrizacao acima, obtivemos uma acuracia de 97%\n",
    "3. Regressao (Aprendizagem Supervisionada): \n",
    "  + Random Forest Regressor\n",
    "  + Este regressor obteve o menor Erro Quadrático Medio, de acordo com o gráfico boxplot gerado acima.\n",
    "4. Pre-Processamento:\n",
    "  + Somente Label Encoding, pois o One Hot Encoding, que exige mais uma etapa de processamento, obteve os mesmos resultados de acurácia do Label Encoding usando o classificador SVM e o clusterizador K-Means. \n"
   ]
  },
  {
   "cell_type": "code",
   "execution_count": null,
   "metadata": {
    "colab": {},
    "colab_type": "code",
    "id": "DwF9OpnchF4y"
   },
   "outputs": [],
   "source": []
  },
  {
   "cell_type": "code",
   "execution_count": null,
   "metadata": {
    "colab": {},
    "colab_type": "code",
    "id": "TKzlvo1ihF40"
   },
   "outputs": [],
   "source": []
  }
 ],
 "metadata": {
  "colab": {
   "collapsed_sections": [],
   "name": "ML_Trabalho8_11-Predicao.ipynb",
   "provenance": []
  },
  "kernelspec": {
   "display_name": "Python 3",
   "language": "python",
   "name": "python3"
  },
  "language_info": {
   "codemirror_mode": {
    "name": "ipython",
    "version": 3
   },
   "file_extension": ".py",
   "mimetype": "text/x-python",
   "name": "python",
   "nbconvert_exporter": "python",
   "pygments_lexer": "ipython3",
   "version": "3.7.4"
  }
 },
 "nbformat": 4,
 "nbformat_minor": 4
}
