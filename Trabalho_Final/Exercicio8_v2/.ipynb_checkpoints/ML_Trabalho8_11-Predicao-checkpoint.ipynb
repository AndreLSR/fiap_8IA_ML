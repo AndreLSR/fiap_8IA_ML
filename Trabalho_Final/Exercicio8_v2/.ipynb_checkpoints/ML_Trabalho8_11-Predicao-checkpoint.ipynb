{
 "cells": [
  {
   "cell_type": "code",
   "execution_count": 1,
   "metadata": {
    "colab": {},
    "colab_type": "code",
    "id": "KmDBrHBnhF36"
   },
   "outputs": [],
   "source": [
    "import numpy\n",
    "from numpy import arange\n",
    "from matplotlib import pyplot\n",
    "import seaborn as sb\n",
    "import pandas as pd\n",
    "from pandas import read_csv\n",
    "from pandas import set_option\n",
    "from pandas.plotting import scatter_matrix\n",
    "from sklearn.preprocessing import StandardScaler\n",
    "from sklearn.model_selection import train_test_split\n",
    "from sklearn.model_selection import KFold\n",
    "from sklearn.model_selection import cross_val_score\n",
    "from sklearn.model_selection import GridSearchCV\n",
    "from sklearn.linear_model import LinearRegression\n",
    "from sklearn.linear_model import Lasso\n",
    "from sklearn.linear_model import ElasticNet\n",
    "from sklearn.tree import DecisionTreeRegressor\n",
    "from sklearn.neighbors import KNeighborsRegressor\n",
    "from sklearn.ensemble import RandomForestRegressor\n",
    "from sklearn.ensemble import AdaBoostRegressor\n",
    "from sklearn import metrics\n",
    "from sklearn.svm import SVR\n",
    "from sklearn.pipeline import Pipeline\n",
    "import matplotlib.pyplot as plt"
   ]
  },
  {
   "cell_type": "markdown",
   "metadata": {
    "colab_type": "text",
    "id": "oJJG7uvThF3_"
   },
   "source": [
    "## 1) Importando os dados já tratados sem OneHotEncoding:"
   ]
  },
  {
   "cell_type": "code",
   "execution_count": 2,
   "metadata": {
    "colab": {
     "base_uri": "https://localhost:8080/",
     "height": 493
    },
    "colab_type": "code",
    "executionInfo": {
     "elapsed": 3099,
     "status": "ok",
     "timestamp": 1574369529507,
     "user": {
      "displayName": "André Rodrigues",
      "photoUrl": "https://lh3.googleusercontent.com/a-/AAuE7mC4VcoLAlPEtIAJVPWTppZJ9S3ou2QH75zgDkJrgn0=s64",
      "userId": "01975921740661022202"
     },
     "user_tz": 180
    },
    "id": "L1vBX8kchF4A",
    "outputId": "ed1a90ad-b19d-410a-d4ac-0e96403e57df"
   },
   "outputs": [
    {
     "name": "stdout",
     "output_type": "stream",
     "text": [
      "\u001b[1;31m Vamos entender nossos dados \u001b[0;0m \n",
      " V1     float64\n",
      "V2     float64\n",
      "V3     float64\n",
      "V4     float64\n",
      "V5     float64\n",
      "V6       int64\n",
      "V7     float64\n",
      "V8     float64\n",
      "V9     float64\n",
      "V10    float64\n",
      "dtype: object \n",
      "\n"
     ]
    },
    {
     "data": {
      "text/html": [
       "<div>\n",
       "<style scoped>\n",
       "    .dataframe tbody tr th:only-of-type {\n",
       "        vertical-align: middle;\n",
       "    }\n",
       "\n",
       "    .dataframe tbody tr th {\n",
       "        vertical-align: top;\n",
       "    }\n",
       "\n",
       "    .dataframe thead th {\n",
       "        text-align: right;\n",
       "    }\n",
       "</style>\n",
       "<table border=\"1\" class=\"dataframe\">\n",
       "  <thead>\n",
       "    <tr style=\"text-align: right;\">\n",
       "      <th></th>\n",
       "      <th>V1</th>\n",
       "      <th>V2</th>\n",
       "      <th>V3</th>\n",
       "      <th>V4</th>\n",
       "      <th>V5</th>\n",
       "      <th>V6</th>\n",
       "      <th>V7</th>\n",
       "      <th>V8</th>\n",
       "      <th>V9</th>\n",
       "      <th>V10</th>\n",
       "    </tr>\n",
       "  </thead>\n",
       "  <tbody>\n",
       "    <tr>\n",
       "      <td>0</td>\n",
       "      <td>-122.23</td>\n",
       "      <td>452600.0</td>\n",
       "      <td>129.0</td>\n",
       "      <td>41.0</td>\n",
       "      <td>880.0</td>\n",
       "      <td>3</td>\n",
       "      <td>126.0</td>\n",
       "      <td>322.0</td>\n",
       "      <td>83.252</td>\n",
       "      <td>37.88</td>\n",
       "    </tr>\n",
       "    <tr>\n",
       "      <td>1</td>\n",
       "      <td>-122.22</td>\n",
       "      <td>358500.0</td>\n",
       "      <td>1106.0</td>\n",
       "      <td>21.0</td>\n",
       "      <td>7099.0</td>\n",
       "      <td>3</td>\n",
       "      <td>1138.0</td>\n",
       "      <td>2401.0</td>\n",
       "      <td>83.014</td>\n",
       "      <td>37.86</td>\n",
       "    </tr>\n",
       "    <tr>\n",
       "      <td>2</td>\n",
       "      <td>-122.24</td>\n",
       "      <td>352100.0</td>\n",
       "      <td>190.0</td>\n",
       "      <td>52.0</td>\n",
       "      <td>1467.0</td>\n",
       "      <td>3</td>\n",
       "      <td>177.0</td>\n",
       "      <td>496.0</td>\n",
       "      <td>72.574</td>\n",
       "      <td>37.85</td>\n",
       "    </tr>\n",
       "    <tr>\n",
       "      <td>3</td>\n",
       "      <td>-122.25</td>\n",
       "      <td>341300.0</td>\n",
       "      <td>235.0</td>\n",
       "      <td>52.0</td>\n",
       "      <td>1274.0</td>\n",
       "      <td>3</td>\n",
       "      <td>219.0</td>\n",
       "      <td>558.0</td>\n",
       "      <td>56.431</td>\n",
       "      <td>37.85</td>\n",
       "    </tr>\n",
       "    <tr>\n",
       "      <td>4</td>\n",
       "      <td>-122.25</td>\n",
       "      <td>342200.0</td>\n",
       "      <td>280.0</td>\n",
       "      <td>52.0</td>\n",
       "      <td>1627.0</td>\n",
       "      <td>3</td>\n",
       "      <td>259.0</td>\n",
       "      <td>565.0</td>\n",
       "      <td>38.462</td>\n",
       "      <td>37.85</td>\n",
       "    </tr>\n",
       "  </tbody>\n",
       "</table>\n",
       "</div>"
      ],
      "text/plain": [
       "       V1        V2      V3    V4      V5  V6      V7      V8      V9    V10\n",
       "0 -122.23  452600.0   129.0  41.0   880.0   3   126.0   322.0  83.252  37.88\n",
       "1 -122.22  358500.0  1106.0  21.0  7099.0   3  1138.0  2401.0  83.014  37.86\n",
       "2 -122.24  352100.0   190.0  52.0  1467.0   3   177.0   496.0  72.574  37.85\n",
       "3 -122.25  341300.0   235.0  52.0  1274.0   3   219.0   558.0  56.431  37.85\n",
       "4 -122.25  342200.0   280.0  52.0  1627.0   3   259.0   565.0  38.462  37.85"
      ]
     },
     "execution_count": 2,
     "metadata": {},
     "output_type": "execute_result"
    }
   ],
   "source": [
    "# from google.colab import drive\n",
    "# drive.mount('/content/drive')\n",
    "# !ls \"/content/drive/My Drive/datasets\"\n",
    "# data = pd.read_csv('/content/drive/My Drive/datasets/data_nostd.csv',sep=',') # faz a leitura dos dados\n",
    "\n",
    "data = pd.read_csv(\"/Users/andrerodrigues/Google Drive/FIAP-MBA 8IA/006 - Modelos de IA e ML/Trabalhos/Trabalho8/data_nostd.csv\",sep=',')\n",
    "\n",
    "data = data.iloc[:,1:]\n",
    "data.rename(columns={\"V6_int\": \"V6\"}, inplace=True)\n",
    "print('\\033[1;31m Vamos entender nossos dados \\033[0;0m','\\n', data.dtypes, '\\n')\n",
    "data.head()"
   ]
  },
  {
   "cell_type": "markdown",
   "metadata": {
    "colab_type": "text",
    "id": "V0Y048SEhF4D"
   },
   "source": [
    "## 2) Importando os dados já tratados com OneHotEncoding:"
   ]
  },
  {
   "cell_type": "code",
   "execution_count": 3,
   "metadata": {
    "colab": {
     "base_uri": "https://localhost:8080/",
     "height": 493
    },
    "colab_type": "code",
    "executionInfo": {
     "elapsed": 5022,
     "status": "ok",
     "timestamp": 1574369531434,
     "user": {
      "displayName": "André Rodrigues",
      "photoUrl": "https://lh3.googleusercontent.com/a-/AAuE7mC4VcoLAlPEtIAJVPWTppZJ9S3ou2QH75zgDkJrgn0=s64",
      "userId": "01975921740661022202"
     },
     "user_tz": 180
    },
    "id": "O4CeCJZlhF4E",
    "outputId": "1477b032-863c-42f4-dad3-1b371b8a5386"
   },
   "outputs": [
    {
     "name": "stdout",
     "output_type": "stream",
     "text": [
      "\u001b[1;31m Vamos entender nossos dados \u001b[0;0m \n",
      " V1     float64\n",
      "V2     float64\n",
      "V3     float64\n",
      "V4     float64\n",
      "V5     float64\n",
      "V6       int64\n",
      "V7     float64\n",
      "V8     float64\n",
      "V9     float64\n",
      "V10    float64\n",
      "dtype: object \n",
      "\n"
     ]
    },
    {
     "data": {
      "text/html": [
       "<div>\n",
       "<style scoped>\n",
       "    .dataframe tbody tr th:only-of-type {\n",
       "        vertical-align: middle;\n",
       "    }\n",
       "\n",
       "    .dataframe tbody tr th {\n",
       "        vertical-align: top;\n",
       "    }\n",
       "\n",
       "    .dataframe thead th {\n",
       "        text-align: right;\n",
       "    }\n",
       "</style>\n",
       "<table border=\"1\" class=\"dataframe\">\n",
       "  <thead>\n",
       "    <tr style=\"text-align: right;\">\n",
       "      <th></th>\n",
       "      <th>0</th>\n",
       "      <th>1</th>\n",
       "      <th>2</th>\n",
       "      <th>3</th>\n",
       "      <th>4</th>\n",
       "      <th>5</th>\n",
       "      <th>6</th>\n",
       "      <th>7</th>\n",
       "      <th>8</th>\n",
       "      <th>9</th>\n",
       "      <th>10</th>\n",
       "      <th>11</th>\n",
       "      <th>12</th>\n",
       "      <th>13</th>\n",
       "      <th>14</th>\n",
       "    </tr>\n",
       "  </thead>\n",
       "  <tbody>\n",
       "    <tr>\n",
       "      <td>0</td>\n",
       "      <td>-122.23</td>\n",
       "      <td>452600.0</td>\n",
       "      <td>129.0</td>\n",
       "      <td>41.0</td>\n",
       "      <td>880.0</td>\n",
       "      <td>3.0</td>\n",
       "      <td>126.0</td>\n",
       "      <td>322.0</td>\n",
       "      <td>83.252</td>\n",
       "      <td>37.88</td>\n",
       "      <td>0.0</td>\n",
       "      <td>0.0</td>\n",
       "      <td>0.0</td>\n",
       "      <td>1.0</td>\n",
       "      <td>0.0</td>\n",
       "    </tr>\n",
       "    <tr>\n",
       "      <td>1</td>\n",
       "      <td>-122.22</td>\n",
       "      <td>358500.0</td>\n",
       "      <td>1106.0</td>\n",
       "      <td>21.0</td>\n",
       "      <td>7099.0</td>\n",
       "      <td>3.0</td>\n",
       "      <td>1138.0</td>\n",
       "      <td>2401.0</td>\n",
       "      <td>83.014</td>\n",
       "      <td>37.86</td>\n",
       "      <td>0.0</td>\n",
       "      <td>0.0</td>\n",
       "      <td>0.0</td>\n",
       "      <td>1.0</td>\n",
       "      <td>0.0</td>\n",
       "    </tr>\n",
       "    <tr>\n",
       "      <td>2</td>\n",
       "      <td>-122.24</td>\n",
       "      <td>352100.0</td>\n",
       "      <td>190.0</td>\n",
       "      <td>52.0</td>\n",
       "      <td>1467.0</td>\n",
       "      <td>3.0</td>\n",
       "      <td>177.0</td>\n",
       "      <td>496.0</td>\n",
       "      <td>72.574</td>\n",
       "      <td>37.85</td>\n",
       "      <td>0.0</td>\n",
       "      <td>0.0</td>\n",
       "      <td>0.0</td>\n",
       "      <td>1.0</td>\n",
       "      <td>0.0</td>\n",
       "    </tr>\n",
       "    <tr>\n",
       "      <td>3</td>\n",
       "      <td>-122.25</td>\n",
       "      <td>341300.0</td>\n",
       "      <td>235.0</td>\n",
       "      <td>52.0</td>\n",
       "      <td>1274.0</td>\n",
       "      <td>3.0</td>\n",
       "      <td>219.0</td>\n",
       "      <td>558.0</td>\n",
       "      <td>56.431</td>\n",
       "      <td>37.85</td>\n",
       "      <td>0.0</td>\n",
       "      <td>0.0</td>\n",
       "      <td>0.0</td>\n",
       "      <td>1.0</td>\n",
       "      <td>0.0</td>\n",
       "    </tr>\n",
       "    <tr>\n",
       "      <td>4</td>\n",
       "      <td>-122.25</td>\n",
       "      <td>342200.0</td>\n",
       "      <td>280.0</td>\n",
       "      <td>52.0</td>\n",
       "      <td>1627.0</td>\n",
       "      <td>3.0</td>\n",
       "      <td>259.0</td>\n",
       "      <td>565.0</td>\n",
       "      <td>38.462</td>\n",
       "      <td>37.85</td>\n",
       "      <td>0.0</td>\n",
       "      <td>0.0</td>\n",
       "      <td>0.0</td>\n",
       "      <td>1.0</td>\n",
       "      <td>0.0</td>\n",
       "    </tr>\n",
       "  </tbody>\n",
       "</table>\n",
       "</div>"
      ],
      "text/plain": [
       "        0         1       2     3       4    5       6       7       8      9  \\\n",
       "0 -122.23  452600.0   129.0  41.0   880.0  3.0   126.0   322.0  83.252  37.88   \n",
       "1 -122.22  358500.0  1106.0  21.0  7099.0  3.0  1138.0  2401.0  83.014  37.86   \n",
       "2 -122.24  352100.0   190.0  52.0  1467.0  3.0   177.0   496.0  72.574  37.85   \n",
       "3 -122.25  341300.0   235.0  52.0  1274.0  3.0   219.0   558.0  56.431  37.85   \n",
       "4 -122.25  342200.0   280.0  52.0  1627.0  3.0   259.0   565.0  38.462  37.85   \n",
       "\n",
       "    10   11   12   13   14  \n",
       "0  0.0  0.0  0.0  1.0  0.0  \n",
       "1  0.0  0.0  0.0  1.0  0.0  \n",
       "2  0.0  0.0  0.0  1.0  0.0  \n",
       "3  0.0  0.0  0.0  1.0  0.0  \n",
       "4  0.0  0.0  0.0  1.0  0.0  "
      ]
     },
     "execution_count": 3,
     "metadata": {},
     "output_type": "execute_result"
    }
   ],
   "source": [
    "# from google.colab import drive\n",
    "# drive.mount('/content/drive')\n",
    "# !ls \"/content/drive/My Drive/datasets\"\n",
    "# data_ohe = pd.read_csv('/content/drive/My Drive/datasets/data_ohe_nostd.csv',sep=',') # faz a leitura dos dados\n",
    "\n",
    "data_ohe = pd.read_csv(\"/Users/andrerodrigues/Google Drive/FIAP-MBA 8IA/006 - Modelos de IA e ML/Trabalhos/Trabalho8/data_ohe_nostd.csv\",sep=',')\n",
    "\n",
    "print('\\033[1;31m Vamos entender nossos dados \\033[0;0m','\\n', data.dtypes, '\\n')\n",
    "data_ohe = data_ohe.iloc[:,1:]\n",
    "data_ohe.head()"
   ]
  },
  {
   "cell_type": "markdown",
   "metadata": {
    "colab_type": "text",
    "id": "mznGLiDHhF4I"
   },
   "source": [
    "## 3) Descriptions, change precision to 2 places"
   ]
  },
  {
   "cell_type": "code",
   "execution_count": 4,
   "metadata": {
    "colab": {
     "base_uri": "https://localhost:8080/",
     "height": 297
    },
    "colab_type": "code",
    "executionInfo": {
     "elapsed": 5269,
     "status": "ok",
     "timestamp": 1574369531686,
     "user": {
      "displayName": "André Rodrigues",
      "photoUrl": "https://lh3.googleusercontent.com/a-/AAuE7mC4VcoLAlPEtIAJVPWTppZJ9S3ou2QH75zgDkJrgn0=s64",
      "userId": "01975921740661022202"
     },
     "user_tz": 180
    },
    "id": "ZruOfrBwhF4J",
    "outputId": "6b014313-15d6-4246-a870-dae93d194b0a"
   },
   "outputs": [
    {
     "data": {
      "text/html": [
       "<div>\n",
       "<style scoped>\n",
       "    .dataframe tbody tr th:only-of-type {\n",
       "        vertical-align: middle;\n",
       "    }\n",
       "\n",
       "    .dataframe tbody tr th {\n",
       "        vertical-align: top;\n",
       "    }\n",
       "\n",
       "    .dataframe thead th {\n",
       "        text-align: right;\n",
       "    }\n",
       "</style>\n",
       "<table border=\"1\" class=\"dataframe\">\n",
       "  <thead>\n",
       "    <tr style=\"text-align: right;\">\n",
       "      <th></th>\n",
       "      <th>V1</th>\n",
       "      <th>V2</th>\n",
       "      <th>V3</th>\n",
       "      <th>V4</th>\n",
       "      <th>V5</th>\n",
       "      <th>V6</th>\n",
       "      <th>V7</th>\n",
       "      <th>V8</th>\n",
       "      <th>V9</th>\n",
       "      <th>V10</th>\n",
       "    </tr>\n",
       "  </thead>\n",
       "  <tbody>\n",
       "    <tr>\n",
       "      <td>count</td>\n",
       "      <td>20640.0</td>\n",
       "      <td>20640.0</td>\n",
       "      <td>20640.0</td>\n",
       "      <td>20640.0</td>\n",
       "      <td>20640.0</td>\n",
       "      <td>20640.0</td>\n",
       "      <td>20640.0</td>\n",
       "      <td>20640.0</td>\n",
       "      <td>20640.0</td>\n",
       "      <td>20640.0</td>\n",
       "    </tr>\n",
       "    <tr>\n",
       "      <td>mean</td>\n",
       "      <td>-119.6</td>\n",
       "      <td>206855.8</td>\n",
       "      <td>537.9</td>\n",
       "      <td>28.6</td>\n",
       "      <td>2635.8</td>\n",
       "      <td>1.2</td>\n",
       "      <td>499.5</td>\n",
       "      <td>1425.5</td>\n",
       "      <td>33.7</td>\n",
       "      <td>35.6</td>\n",
       "    </tr>\n",
       "    <tr>\n",
       "      <td>std</td>\n",
       "      <td>2.0</td>\n",
       "      <td>115395.6</td>\n",
       "      <td>419.3</td>\n",
       "      <td>12.6</td>\n",
       "      <td>2181.6</td>\n",
       "      <td>1.4</td>\n",
       "      <td>382.3</td>\n",
       "      <td>1132.5</td>\n",
       "      <td>21.9</td>\n",
       "      <td>2.1</td>\n",
       "    </tr>\n",
       "    <tr>\n",
       "      <td>min</td>\n",
       "      <td>-124.3</td>\n",
       "      <td>14999.0</td>\n",
       "      <td>1.0</td>\n",
       "      <td>1.0</td>\n",
       "      <td>2.0</td>\n",
       "      <td>0.0</td>\n",
       "      <td>1.0</td>\n",
       "      <td>3.0</td>\n",
       "      <td>0.5</td>\n",
       "      <td>32.5</td>\n",
       "    </tr>\n",
       "    <tr>\n",
       "      <td>25%</td>\n",
       "      <td>-121.8</td>\n",
       "      <td>119600.0</td>\n",
       "      <td>297.0</td>\n",
       "      <td>18.0</td>\n",
       "      <td>1447.8</td>\n",
       "      <td>0.0</td>\n",
       "      <td>280.0</td>\n",
       "      <td>787.0</td>\n",
       "      <td>20.0</td>\n",
       "      <td>33.9</td>\n",
       "    </tr>\n",
       "    <tr>\n",
       "      <td>50%</td>\n",
       "      <td>-118.5</td>\n",
       "      <td>179700.0</td>\n",
       "      <td>438.0</td>\n",
       "      <td>29.0</td>\n",
       "      <td>2127.0</td>\n",
       "      <td>1.0</td>\n",
       "      <td>409.0</td>\n",
       "      <td>1166.0</td>\n",
       "      <td>31.9</td>\n",
       "      <td>34.3</td>\n",
       "    </tr>\n",
       "    <tr>\n",
       "      <td>75%</td>\n",
       "      <td>-118.0</td>\n",
       "      <td>264725.0</td>\n",
       "      <td>643.2</td>\n",
       "      <td>37.0</td>\n",
       "      <td>3148.0</td>\n",
       "      <td>1.0</td>\n",
       "      <td>605.0</td>\n",
       "      <td>1725.0</td>\n",
       "      <td>45.2</td>\n",
       "      <td>37.7</td>\n",
       "    </tr>\n",
       "    <tr>\n",
       "      <td>max</td>\n",
       "      <td>-114.3</td>\n",
       "      <td>500001.0</td>\n",
       "      <td>6445.0</td>\n",
       "      <td>52.0</td>\n",
       "      <td>39320.0</td>\n",
       "      <td>4.0</td>\n",
       "      <td>6082.0</td>\n",
       "      <td>35682.0</td>\n",
       "      <td>150.0</td>\n",
       "      <td>42.0</td>\n",
       "    </tr>\n",
       "  </tbody>\n",
       "</table>\n",
       "</div>"
      ],
      "text/plain": [
       "            V1        V2       V3       V4       V5       V6       V7  \\\n",
       "count  20640.0   20640.0  20640.0  20640.0  20640.0  20640.0  20640.0   \n",
       "mean    -119.6  206855.8    537.9     28.6   2635.8      1.2    499.5   \n",
       "std        2.0  115395.6    419.3     12.6   2181.6      1.4    382.3   \n",
       "min     -124.3   14999.0      1.0      1.0      2.0      0.0      1.0   \n",
       "25%     -121.8  119600.0    297.0     18.0   1447.8      0.0    280.0   \n",
       "50%     -118.5  179700.0    438.0     29.0   2127.0      1.0    409.0   \n",
       "75%     -118.0  264725.0    643.2     37.0   3148.0      1.0    605.0   \n",
       "max     -114.3  500001.0   6445.0     52.0  39320.0      4.0   6082.0   \n",
       "\n",
       "            V8       V9      V10  \n",
       "count  20640.0  20640.0  20640.0  \n",
       "mean    1425.5     33.7     35.6  \n",
       "std     1132.5     21.9      2.1  \n",
       "min        3.0      0.5     32.5  \n",
       "25%      787.0     20.0     33.9  \n",
       "50%     1166.0     31.9     34.3  \n",
       "75%     1725.0     45.2     37.7  \n",
       "max    35682.0    150.0     42.0  "
      ]
     },
     "execution_count": 4,
     "metadata": {},
     "output_type": "execute_result"
    }
   ],
   "source": [
    "set_option('precision', 1)\n",
    "data.describe()"
   ]
  },
  {
   "cell_type": "markdown",
   "metadata": {
    "colab_type": "text",
    "id": "gar15NfghF4L"
   },
   "source": [
    "## 4) Validando independencia entre as variáveis"
   ]
  },
  {
   "cell_type": "markdown",
   "metadata": {
    "colab_type": "text",
    "id": "E9svsqd6hF4M"
   },
   "source": [
    "#### a) correlation"
   ]
  },
  {
   "cell_type": "code",
   "execution_count": 5,
   "metadata": {
    "colab": {
     "base_uri": "https://localhost:8080/",
     "height": 204
    },
    "colab_type": "code",
    "executionInfo": {
     "elapsed": 5267,
     "status": "ok",
     "timestamp": 1574369531688,
     "user": {
      "displayName": "André Rodrigues",
      "photoUrl": "https://lh3.googleusercontent.com/a-/AAuE7mC4VcoLAlPEtIAJVPWTppZJ9S3ou2QH75zgDkJrgn0=s64",
      "userId": "01975921740661022202"
     },
     "user_tz": 180
    },
    "id": "4o4vSImXhF4M",
    "outputId": "2925256d-5e5e-42aa-eee2-ab1e09f4222d"
   },
   "outputs": [
    {
     "name": "stdout",
     "output_type": "stream",
     "text": [
      "       V1    V2    V3    V4    V5    V6    V7    V8    V9   V10\n",
      "V1   1.00 -0.05  0.07 -0.11  0.04 -0.29  0.06  0.10 -0.01 -0.92\n",
      "V2  -0.05  1.00  0.05  0.11  0.13  0.08  0.07 -0.02  0.55 -0.14\n",
      "V3   0.07  0.05  1.00 -0.32  0.93 -0.01  0.97  0.87  0.02 -0.07\n",
      "V4  -0.11  0.11 -0.32  1.00 -0.36  0.11 -0.30 -0.30 -0.11  0.01\n",
      "V5   0.04  0.13  0.93 -0.36  1.00 -0.02  0.92  0.86  0.18 -0.04\n",
      "V6  -0.29  0.08 -0.01  0.11 -0.02  1.00 -0.02 -0.07 -0.01  0.20\n",
      "V7   0.06  0.07  0.97 -0.30  0.92 -0.02  1.00  0.91  0.04 -0.07\n",
      "V8   0.10 -0.02  0.87 -0.30  0.86 -0.07  0.91  1.00  0.03 -0.11\n",
      "V9  -0.01  0.55  0.02 -0.11  0.18 -0.01  0.04  0.03  1.00 -0.06\n",
      "V10 -0.92 -0.14 -0.07  0.01 -0.04  0.20 -0.07 -0.11 -0.06  1.00\n"
     ]
    }
   ],
   "source": [
    "set_option('precision', 2)\n",
    "corr = data.corr(method='pearson')\n",
    "print(corr)"
   ]
  },
  {
   "cell_type": "code",
   "execution_count": 6,
   "metadata": {
    "colab": {
     "base_uri": "https://localhost:8080/",
     "height": 315
    },
    "colab_type": "code",
    "executionInfo": {
     "elapsed": 5691,
     "status": "ok",
     "timestamp": 1574369532117,
     "user": {
      "displayName": "André Rodrigues",
      "photoUrl": "https://lh3.googleusercontent.com/a-/AAuE7mC4VcoLAlPEtIAJVPWTppZJ9S3ou2QH75zgDkJrgn0=s64",
      "userId": "01975921740661022202"
     },
     "user_tz": 180
    },
    "id": "_ZCzu9-rhF4O",
    "outputId": "5a5f45da-3319-4da1-bfd0-6efdc46382ef"
   },
   "outputs": [
    {
     "name": "stdout",
     "output_type": "stream",
     "text": [
      "\n",
      "\n"
     ]
    },
    {
     "data": {
      "image/png": "[encoded data removed]",
      "text/plain": [
       "<Figure size 432x288 with 2 Axes>"
      ]
     },
     "metadata": {
      "needs_background": "light"
     },
     "output_type": "display_data"
    }
   ],
   "source": [
    "plot1 = sb.heatmap(data.corr()) \n",
    "print('\\n')\n",
    "plt.title(\"Heatmap - Check de Indepedencia das Variaveis\")\n",
    "plt.show(plot1)"
   ]
  },
  {
   "cell_type": "markdown",
   "metadata": {},
   "source": [
    "### Ao observar os resultados das correlacoes e do hotmap, notamos que as variáveis V2 e V9 possuem uma forte correlacao."
   ]
  },
  {
   "cell_type": "markdown",
   "metadata": {
    "colab_type": "text",
    "id": "4G70jaduhF4Q"
   },
   "source": [
    "## 5)Data visualizations"
   ]
  },
  {
   "cell_type": "markdown",
   "metadata": {
    "colab_type": "text",
    "id": "9C3RAr6shF4R"
   },
   "source": [
    "#### a) Histograms"
   ]
  },
  {
   "cell_type": "code",
   "execution_count": 7,
   "metadata": {
    "colab": {
     "base_uri": "https://localhost:8080/",
     "height": 825
    },
    "colab_type": "code",
    "executionInfo": {
     "elapsed": 8071,
     "status": "ok",
     "timestamp": 1574369534502,
     "user": {
      "displayName": "André Rodrigues",
      "photoUrl": "https://lh3.googleusercontent.com/a-/AAuE7mC4VcoLAlPEtIAJVPWTppZJ9S3ou2QH75zgDkJrgn0=s64",
      "userId": "01975921740661022202"
     },
     "user_tz": 180
    },
    "id": "espms2Y_hF4R",
    "outputId": "df0791a8-7d04-4c1e-88c5-134d88e800a5"
   },
   "outputs": [
    {
     "data": {
      "image/png": "[encoded data removed]",
      "text/plain": [
       "<Figure size 1296x1008 with 12 Axes>"
      ]
     },
     "metadata": {
      "needs_background": "light"
     },
     "output_type": "display_data"
    }
   ],
   "source": [
    "data.hist(bins=10,figsize=(18,14),grid=False);"
   ]
  },
  {
   "cell_type": "markdown",
   "metadata": {
    "colab_type": "text",
    "id": "jOiXH9HmhF4T"
   },
   "source": [
    "### Ao observar os histogramas, notamos que aparentemente há uma relação diretamente proporcional entre V2 e V9."
   ]
  },
  {
   "cell_type": "markdown",
   "metadata": {
    "colab_type": "text",
    "id": "aeC4yg2IQ-Up"
   },
   "source": [
    "## 6) Seleciona o dataset para ser tratado pelo Regressor e Separa as Classes"
   ]
  },
  {
   "cell_type": "code",
   "execution_count": 8,
   "metadata": {
    "colab": {
     "base_uri": "https://localhost:8080/",
     "height": 34
    },
    "colab_type": "code",
    "executionInfo": {
     "elapsed": 1809344,
     "status": "ok",
     "timestamp": 1574371335779,
     "user": {
      "displayName": "André Rodrigues",
      "photoUrl": "https://lh3.googleusercontent.com/a-/AAuE7mC4VcoLAlPEtIAJVPWTppZJ9S3ou2QH75zgDkJrgn0=s64",
      "userId": "01975921740661022202"
     },
     "user_tz": 180
    },
    "id": "m1CV4kvGQ-Uv",
    "outputId": "d858a41e-63e9-435f-800b-6f8c009f268c"
   },
   "outputs": [
    {
     "name": "stdin",
     "output_type": "stream",
     "text": [
      "Entre com o dataset que será tratado pela maquina('data' ou 'data_ohe'): data\n"
     ]
    }
   ],
   "source": [
    "import traceback\n",
    "\n",
    "def dataset_for_machine(dataset):\n",
    "    \n",
    "    # Tente receber o nome do arquivo\n",
    "    try:\n",
    "        d = dataset\n",
    "    \n",
    "        if d == 'data':\n",
    "            # Troca o nome do dataset para df. A partir desse ponto, o dataset para ser tratado pelo modelo de ML será conhecido por df.\n",
    "            df = data\n",
    "            # Separa a classe\n",
    "            classes = df['V2']\n",
    "            df.drop(columns='V2', axis=1, inplace=True)\n",
    "\n",
    "\n",
    "        elif d == 'data_ohe':\n",
    "            # Troca o nome do dataset para df. A partir desse ponto, o dataset para ser tratado pelo modelo de ML será conhecido por df.\n",
    "            df = data_ohe\n",
    "            # Separa a classe\n",
    "            classes = df['1']\n",
    "            df.drop(columns='1', axis=1, inplace=True)\n",
    "\n",
    "        else:\n",
    "            print(\"Escolha entre 'data' ou 'data_ohe'\")\n",
    "            exit\n",
    "\n",
    "    # Se ocorrer um erro\n",
    "    except:\n",
    "        # Mostre na tela\n",
    "        trace = traceback.format_exc()\n",
    "        print ('Aconteceu um erro:\\n', trace)\n",
    "        # Encerre o programa\n",
    "        raise SystemExit\n",
    "        \n",
    "    return df, classes\n",
    "    \n",
    "df, classes = dataset_for_machine(input(\"Entre com o dataset que será tratado pela maquina('data' ou 'data_ohe'):\"))"
   ]
  },
  {
   "cell_type": "markdown",
   "metadata": {
    "colab_type": "text",
    "id": "1TlW-96KQ-Ux"
   },
   "source": [
    "* A partir desse ponto, o dataset para ser tratado pelo modelo de ML será conhecido por df. A seleção se ele vai ser passado com ou sem One Hot Encoding foi feita acima."
   ]
  },
  {
   "cell_type": "code",
   "execution_count": 9,
   "metadata": {
    "colab": {
     "base_uri": "https://localhost:8080/",
     "height": 204
    },
    "colab_type": "code",
    "executionInfo": {
     "elapsed": 1809557,
     "status": "ok",
     "timestamp": 1574371335996,
     "user": {
      "displayName": "André Rodrigues",
      "photoUrl": "https://lh3.googleusercontent.com/a-/AAuE7mC4VcoLAlPEtIAJVPWTppZJ9S3ou2QH75zgDkJrgn0=s64",
      "userId": "01975921740661022202"
     },
     "user_tz": 180
    },
    "id": "ed7pYCmyQ-Uy",
    "outputId": "ec63bc23-41be-4cd5-90c8-e414b49e388b"
   },
   "outputs": [
    {
     "data": {
      "text/html": [
       "<div>\n",
       "<style scoped>\n",
       "    .dataframe tbody tr th:only-of-type {\n",
       "        vertical-align: middle;\n",
       "    }\n",
       "\n",
       "    .dataframe tbody tr th {\n",
       "        vertical-align: top;\n",
       "    }\n",
       "\n",
       "    .dataframe thead th {\n",
       "        text-align: right;\n",
       "    }\n",
       "</style>\n",
       "<table border=\"1\" class=\"dataframe\">\n",
       "  <thead>\n",
       "    <tr style=\"text-align: right;\">\n",
       "      <th></th>\n",
       "      <th>V1</th>\n",
       "      <th>V3</th>\n",
       "      <th>V4</th>\n",
       "      <th>V5</th>\n",
       "      <th>V6</th>\n",
       "      <th>V7</th>\n",
       "      <th>V8</th>\n",
       "      <th>V9</th>\n",
       "      <th>V10</th>\n",
       "    </tr>\n",
       "  </thead>\n",
       "  <tbody>\n",
       "    <tr>\n",
       "      <td>0</td>\n",
       "      <td>-122.23</td>\n",
       "      <td>129.0</td>\n",
       "      <td>41.0</td>\n",
       "      <td>880.0</td>\n",
       "      <td>3</td>\n",
       "      <td>126.0</td>\n",
       "      <td>322.0</td>\n",
       "      <td>83.25</td>\n",
       "      <td>37.88</td>\n",
       "    </tr>\n",
       "    <tr>\n",
       "      <td>1</td>\n",
       "      <td>-122.22</td>\n",
       "      <td>1106.0</td>\n",
       "      <td>21.0</td>\n",
       "      <td>7099.0</td>\n",
       "      <td>3</td>\n",
       "      <td>1138.0</td>\n",
       "      <td>2401.0</td>\n",
       "      <td>83.01</td>\n",
       "      <td>37.86</td>\n",
       "    </tr>\n",
       "    <tr>\n",
       "      <td>2</td>\n",
       "      <td>-122.24</td>\n",
       "      <td>190.0</td>\n",
       "      <td>52.0</td>\n",
       "      <td>1467.0</td>\n",
       "      <td>3</td>\n",
       "      <td>177.0</td>\n",
       "      <td>496.0</td>\n",
       "      <td>72.57</td>\n",
       "      <td>37.85</td>\n",
       "    </tr>\n",
       "    <tr>\n",
       "      <td>3</td>\n",
       "      <td>-122.25</td>\n",
       "      <td>235.0</td>\n",
       "      <td>52.0</td>\n",
       "      <td>1274.0</td>\n",
       "      <td>3</td>\n",
       "      <td>219.0</td>\n",
       "      <td>558.0</td>\n",
       "      <td>56.43</td>\n",
       "      <td>37.85</td>\n",
       "    </tr>\n",
       "    <tr>\n",
       "      <td>4</td>\n",
       "      <td>-122.25</td>\n",
       "      <td>280.0</td>\n",
       "      <td>52.0</td>\n",
       "      <td>1627.0</td>\n",
       "      <td>3</td>\n",
       "      <td>259.0</td>\n",
       "      <td>565.0</td>\n",
       "      <td>38.46</td>\n",
       "      <td>37.85</td>\n",
       "    </tr>\n",
       "  </tbody>\n",
       "</table>\n",
       "</div>"
      ],
      "text/plain": [
       "       V1      V3    V4      V5  V6      V7      V8     V9    V10\n",
       "0 -122.23   129.0  41.0   880.0   3   126.0   322.0  83.25  37.88\n",
       "1 -122.22  1106.0  21.0  7099.0   3  1138.0  2401.0  83.01  37.86\n",
       "2 -122.24   190.0  52.0  1467.0   3   177.0   496.0  72.57  37.85\n",
       "3 -122.25   235.0  52.0  1274.0   3   219.0   558.0  56.43  37.85\n",
       "4 -122.25   280.0  52.0  1627.0   3   259.0   565.0  38.46  37.85"
      ]
     },
     "execution_count": 9,
     "metadata": {},
     "output_type": "execute_result"
    }
   ],
   "source": [
    "df.head()"
   ]
  },
  {
   "cell_type": "code",
   "execution_count": 10,
   "metadata": {
    "colab": {
     "base_uri": "https://localhost:8080/",
     "height": 34
    },
    "colab_type": "code",
    "executionInfo": {
     "elapsed": 1809550,
     "status": "ok",
     "timestamp": 1574371335997,
     "user": {
      "displayName": "André Rodrigues",
      "photoUrl": "https://lh3.googleusercontent.com/a-/AAuE7mC4VcoLAlPEtIAJVPWTppZJ9S3ou2QH75zgDkJrgn0=s64",
      "userId": "01975921740661022202"
     },
     "user_tz": 180
    },
    "id": "ZrqNFpWjQ-U0",
    "outputId": "4665c8c1-d1b9-4164-debf-83fad56efcf6"
   },
   "outputs": [
    {
     "data": {
      "text/plain": [
       "(20640,)"
      ]
     },
     "execution_count": 10,
     "metadata": {},
     "output_type": "execute_result"
    }
   ],
   "source": [
    "classes.shape"
   ]
  },
  {
   "cell_type": "markdown",
   "metadata": {
    "colab_type": "text",
    "id": "rC9O6F1whF4b"
   },
   "source": [
    "## 7) Separar o conjunto em variavel resposta e variaveis de treinamento"
   ]
  },
  {
   "cell_type": "code",
   "execution_count": 11,
   "metadata": {
    "colab": {},
    "colab_type": "code",
    "id": "f97RafZhhF4b"
   },
   "outputs": [],
   "source": [
    "# Split-out validation dataset\n",
    "seed = 7\n",
    "validation_size = 0.30\n",
    "\n",
    "array = df.values\n",
    "X = array[:,0:]\n",
    "Y = classes"
   ]
  },
  {
   "cell_type": "code",
   "execution_count": 12,
   "metadata": {
    "colab": {},
    "colab_type": "code",
    "id": "Y1gB8W1NhF4d"
   },
   "outputs": [],
   "source": [
    "X_train, X_validation, Y_train, Y_validation = train_test_split(X, Y, test_size=validation_size, random_state=seed)"
   ]
  },
  {
   "cell_type": "markdown",
   "metadata": {
    "colab_type": "text",
    "id": "kHcf_q-QhF4f"
   },
   "source": [
    "## 8) Evaluate Algorithm"
   ]
  },
  {
   "cell_type": "markdown",
   "metadata": {
    "colab_type": "text",
    "id": "FXVg9TC1hF4f"
   },
   "source": [
    "### a) Test options and evaluation metric using Root Mean Square error method"
   ]
  },
  {
   "cell_type": "code",
   "execution_count": 13,
   "metadata": {
    "colab": {},
    "colab_type": "code",
    "id": "C1VIsqBThF4g"
   },
   "outputs": [],
   "source": [
    "num_folds = 10\n",
    "seed = 7\n",
    "RMS = 'neg_mean_squared_error'"
   ]
  },
  {
   "cell_type": "markdown",
   "metadata": {
    "colab_type": "text",
    "id": "UJsFf_82hF4i"
   },
   "source": [
    "### b) Executando os Regressores"
   ]
  },
  {
   "cell_type": "markdown",
   "metadata": {
    "colab_type": "text",
    "id": "X5KS2MaCvBP2"
   },
   "source": [
    "##### Preparacao dos pipelines com os seguintes regressores:\n",
    "* Regressão Linear\n",
    "* KNN\n",
    "* Arvore de Decisão\n",
    "* Random Forest\n",
    "* AdaBoost\n",
    "* Support Vector Machine\n",
    "  + Kernels:\n",
    "    - Gaussiano RBF\n",
    "    - Linear\n",
    "    - Polinomial\n",
    "    "
   ]
  },
  {
   "cell_type": "code",
   "execution_count": 14,
   "metadata": {
    "colab": {},
    "colab_type": "code",
    "id": "yVuuGDQHhF4i"
   },
   "outputs": [],
   "source": [
    "pipelines = []\n",
    "pipelines.append(('LR', Pipeline([('Scaler', StandardScaler()),('LR', LinearRegression())])))\n",
    "\n",
    "pipelines.append(('KNN', Pipeline([('Scaler', StandardScaler()),('KNN', KNeighborsRegressor())])))\n",
    "\n",
    "pipelines.append(('DTR', Pipeline([('Scaler', StandardScaler()),('DTR', DecisionTreeRegressor())])))\n",
    "\n",
    "pipelines.append(('RF', Pipeline([('Scaler', StandardScaler()),('RF', RandomForestRegressor())])))\n",
    "\n",
    "pipelines.append(('ADA', Pipeline([('Scaler', StandardScaler()),('ADA', AdaBoostRegressor())])))\n",
    "\n",
    "pipelines.append(('SVR', Pipeline([('Scaler', StandardScaler()),('SVR', SVR())])))\n",
    "pipelines.append(('SVR-RBF', Pipeline([('Scaler', StandardScaler()),('SVR', SVR(kernel='rbf', C=100, gamma=0.1, epsilon=.1))])))\n",
    "pipelines.append(('SVR-Linear', Pipeline([('Scaler', StandardScaler()),('SVR', SVR(kernel='linear', C=100, gamma='auto'))])))\n",
    "pipelines.append(('SVR-Poly', Pipeline([('Scaler', StandardScaler()),('SVR', SVR(kernel='poly', C=100, gamma='auto', degree=3, epsilon=.1))])))"
   ]
  },
  {
   "cell_type": "markdown",
   "metadata": {
    "colab_type": "text",
    "id": "gQ0xuFnDvBP4"
   },
   "source": [
    "### c) Execução dos Regressores e Avaliação do desempenho de cada um baseado no Erro Quadrático Médio.\n",
    "* Validacao Cruzada com 10 folds."
   ]
  },
  {
   "cell_type": "code",
   "execution_count": 15,
   "metadata": {
    "colab": {
     "base_uri": "https://localhost:8080/",
     "height": 510
    },
    "colab_type": "code",
    "executionInfo": {
     "elapsed": 2218714,
     "status": "ok",
     "timestamp": 1574371745182,
     "user": {
      "displayName": "André Rodrigues",
      "photoUrl": "https://lh3.googleusercontent.com/a-/AAuE7mC4VcoLAlPEtIAJVPWTppZJ9S3ou2QH75zgDkJrgn0=s64",
      "userId": "01975921740661022202"
     },
     "user_tz": 180
    },
    "id": "Y_aF7y25vBP4",
    "outputId": "17dcacc0-c80e-43e9-d4cb-d6c5cace7ada"
   },
   "outputs": [
    {
     "name": "stdout",
     "output_type": "stream",
     "text": [
      "LR: -6581436705.211136 (500754993.464876)\n",
      "KNN: -4304091491.555323 (253122823.299521)\n",
      "DTR: -5381676201.001939 (357416874.378296)\n"
     ]
    },
    {
     "name": "stderr",
     "output_type": "stream",
     "text": [
      "/Users/andrerodrigues/opt/anaconda3/lib/python3.7/site-packages/sklearn/ensemble/forest.py:245: FutureWarning: The default value of n_estimators will change from 10 in version 0.20 to 100 in 0.22.\n",
      "  \"10 in version 0.20 to 100 in 0.22.\", FutureWarning)\n",
      "/Users/andrerodrigues/opt/anaconda3/lib/python3.7/site-packages/sklearn/ensemble/forest.py:245: FutureWarning: The default value of n_estimators will change from 10 in version 0.20 to 100 in 0.22.\n",
      "  \"10 in version 0.20 to 100 in 0.22.\", FutureWarning)\n",
      "/Users/andrerodrigues/opt/anaconda3/lib/python3.7/site-packages/sklearn/ensemble/forest.py:245: FutureWarning: The default value of n_estimators will change from 10 in version 0.20 to 100 in 0.22.\n",
      "  \"10 in version 0.20 to 100 in 0.22.\", FutureWarning)\n",
      "/Users/andrerodrigues/opt/anaconda3/lib/python3.7/site-packages/sklearn/ensemble/forest.py:245: FutureWarning: The default value of n_estimators will change from 10 in version 0.20 to 100 in 0.22.\n",
      "  \"10 in version 0.20 to 100 in 0.22.\", FutureWarning)\n",
      "/Users/andrerodrigues/opt/anaconda3/lib/python3.7/site-packages/sklearn/ensemble/forest.py:245: FutureWarning: The default value of n_estimators will change from 10 in version 0.20 to 100 in 0.22.\n",
      "  \"10 in version 0.20 to 100 in 0.22.\", FutureWarning)\n",
      "/Users/andrerodrigues/opt/anaconda3/lib/python3.7/site-packages/sklearn/ensemble/forest.py:245: FutureWarning: The default value of n_estimators will change from 10 in version 0.20 to 100 in 0.22.\n",
      "  \"10 in version 0.20 to 100 in 0.22.\", FutureWarning)\n",
      "/Users/andrerodrigues/opt/anaconda3/lib/python3.7/site-packages/sklearn/ensemble/forest.py:245: FutureWarning: The default value of n_estimators will change from 10 in version 0.20 to 100 in 0.22.\n",
      "  \"10 in version 0.20 to 100 in 0.22.\", FutureWarning)\n",
      "/Users/andrerodrigues/opt/anaconda3/lib/python3.7/site-packages/sklearn/ensemble/forest.py:245: FutureWarning: The default value of n_estimators will change from 10 in version 0.20 to 100 in 0.22.\n",
      "  \"10 in version 0.20 to 100 in 0.22.\", FutureWarning)\n",
      "/Users/andrerodrigues/opt/anaconda3/lib/python3.7/site-packages/sklearn/ensemble/forest.py:245: FutureWarning: The default value of n_estimators will change from 10 in version 0.20 to 100 in 0.22.\n",
      "  \"10 in version 0.20 to 100 in 0.22.\", FutureWarning)\n",
      "/Users/andrerodrigues/opt/anaconda3/lib/python3.7/site-packages/sklearn/ensemble/forest.py:245: FutureWarning: The default value of n_estimators will change from 10 in version 0.20 to 100 in 0.22.\n",
      "  \"10 in version 0.20 to 100 in 0.22.\", FutureWarning)\n"
     ]
    },
    {
     "name": "stdout",
     "output_type": "stream",
     "text": [
      "RF: -2952790096.576203 (172586007.465821)\n",
      "ADA: -8337391013.197884 (889696621.408438)\n",
      "SVR: -13980157368.687683 (483906872.033687)\n",
      "SVR-RBF: -10866487059.669086 (405634039.035182)\n",
      "SVR-Linear: -7556359927.820544 (384462796.649850)\n",
      "SVR-Poly: -11213774634.016247 (413985569.457049)\n"
     ]
    }
   ],
   "source": [
    "results = []\n",
    "names = []\n",
    "for name, model in pipelines:\n",
    "\tkfold = KFold(n_splits=num_folds, random_state=seed)\n",
    "\tcv_results = cross_val_score(model, X_train, Y_train, cv=kfold, scoring=RMS)\n",
    "\tresults.append(cv_results)\n",
    "\tnames.append(name)\n",
    "\tmsg = \"%s: %f (%f)\" % (name, cv_results.mean(), cv_results.std())\n",
    "\tprint(msg)"
   ]
  },
  {
   "cell_type": "markdown",
   "metadata": {
    "colab_type": "text",
    "id": "mvQd5bALhF4k"
   },
   "source": [
    "## 10) Comparacao do Algoritmos"
   ]
  },
  {
   "cell_type": "code",
   "execution_count": 16,
   "metadata": {
    "colab": {
     "base_uri": "https://localhost:8080/",
     "height": 479
    },
    "colab_type": "code",
    "executionInfo": {
     "elapsed": 2219021,
     "status": "ok",
     "timestamp": 1574371745494,
     "user": {
      "displayName": "André Rodrigues",
      "photoUrl": "https://lh3.googleusercontent.com/a-/AAuE7mC4VcoLAlPEtIAJVPWTppZJ9S3ou2QH75zgDkJrgn0=s64",
      "userId": "01975921740661022202"
     },
     "user_tz": 180
    },
    "id": "uw7FJJj4hF4l",
    "outputId": "6c0c88b0-ca45-4b98-9995-e10dc96fecb7"
   },
   "outputs": [
    {
     "data": {
      "image/png": "[encoded data removed]",
      "text/plain": [
       "<Figure size 720x504 with 1 Axes>"
      ]
     },
     "metadata": {
      "needs_background": "light"
     },
     "output_type": "display_data"
    }
   ],
   "source": [
    "fig = pyplot.figure(figsize=(10,7))\n",
    "fig.suptitle('Scaled Algorithm Comparison')\n",
    "ax = fig.add_subplot(111)\n",
    "pyplot.boxplot(results)\n",
    "ax.set_xticklabels(names)\n",
    "pyplot.show()"
   ]
  },
  {
   "cell_type": "code",
   "execution_count": 17,
   "metadata": {},
   "outputs": [
    {
     "name": "stderr",
     "output_type": "stream",
     "text": [
      "/Users/andrerodrigues/opt/anaconda3/lib/python3.7/site-packages/sklearn/ensemble/forest.py:245: FutureWarning: The default value of n_estimators will change from 10 in version 0.20 to 100 in 0.22.\n",
      "  \"10 in version 0.20 to 100 in 0.22.\", FutureWarning)\n"
     ]
    },
    {
     "name": "stdout",
     "output_type": "stream",
     "text": [
      "21990.0\n",
      "2899271632.6428013\n"
     ]
    }
   ],
   "source": [
    "rf = RandomForestRegressor()\n",
    "\n",
    "scaler = StandardScaler().fit(X_train)\n",
    "rescaledX = scaler.transform(X_train)\n",
    "\n",
    "rf.fit(rescaledX, Y_train)\n",
    "\n",
    "rescaledValidationX = scaler.transform(X_validation)\n",
    "\n",
    "predictions = rf.predict(rescaledValidationX)\n",
    "\n",
    "print(metrics.median_absolute_error(Y_validation, predictions))\n",
    "print(metrics.mean_squared_error(Y_validation, predictions))\n",
    "\n",
    "\n",
    "predictions=predictions.astype(int)\n",
    "finalresult = pd.DataFrame({\n",
    "        \"V2 Original\": Y_validation,\n",
    "        \"V2 Predito\": predictions\n",
    "    })\n",
    "\n",
    "finalresult.to_csv(\"PredictedV2.csv\", index=False)"
   ]
  },
  {
   "cell_type": "markdown",
   "metadata": {
    "colab": {},
    "colab_type": "code",
    "id": "zG3p07SxhF4r"
   },
   "source": [
    "* Com base nos resultados obtidos entre todos os regressores, identificamos que aquele que obteve o menor Erro Quadrático Médio e, portanto, o melhor desempenho foi o <span style=\"color:red\">Random Forest Regessor</span>. Este regressor retornou um Erro Médio Absoluto de 21.990 e o Erro Quadrático Médio de 2.899.271.632."
   ]
  },
  {
   "cell_type": "markdown",
   "metadata": {
    "colab": {},
    "colab_type": "code",
    "id": "8VWl2gSghF4x"
   },
   "source": [
    "<b>Conclusão Exercicio 8:</b>\n",
    "\n",
    "Para obtermos a maior acuracia, vamos selecionar as seguintes tecnicas:\n",
    "\n",
    "1. Clusterizacao (Aprendizagem Nao-Supervisionada): \n",
    "  + K-Means com 25 clusters\n",
    "  + Utlizamos o resultado dessa clusterizacao como a classe para os classificadores.\n",
    "2. Classificacao (Aprendizagem Supervisionada):\n",
    "  + SVM com kernel='linear', C=100, gamma=0.001\n",
    "  + Com este classificador usando a parametrizacao acima, obtivemos uma acuracia de 97%\n",
    "3. Regressao (Aprendizagem Supervisionada): \n",
    "  + Random Forest Regressor\n",
    "  + Este regressor obteve o menor Erro Quadrático Medio, de acordo com o gráfico boxplot gerado acima.\n",
    "4. Pre-Processamento:\n",
    "  + Somente Label Encoding, pois o One Hot Encoding, que exige mais uma etapa de processamento, obteve os mesmos resultados de acurácia do Label Encoding usando o classificador SVM e o clusterizador K-Means. \n"
   ]
  },
  {
   "cell_type": "code",
   "execution_count": null,
   "metadata": {
    "colab": {},
    "colab_type": "code",
    "id": "DwF9OpnchF4y"
   },
   "outputs": [],
   "source": []
  },
  {
   "cell_type": "code",
   "execution_count": null,
   "metadata": {
    "colab": {},
    "colab_type": "code",
    "id": "TKzlvo1ihF40"
   },
   "outputs": [],
   "source": []
  }
 ],
 "metadata": {
  "colab": {
   "collapsed_sections": [],
   "name": "ML_Trabalho8_11-Predicao.ipynb",
   "provenance": []
  },
  "kernelspec": {
   "display_name": "Python 3",
   "language": "python",
   "name": "python3"
  },
  "language_info": {
   "codemirror_mode": {
    "name": "ipython",
    "version": 3
   },
   "file_extension": ".py",
   "mimetype": "text/x-python",
   "name": "python",
   "nbconvert_exporter": "python",
   "pygments_lexer": "ipython3",
   "version": "3.7.4"
  }
 },
 "nbformat": 4,
 "nbformat_minor": 4
}
