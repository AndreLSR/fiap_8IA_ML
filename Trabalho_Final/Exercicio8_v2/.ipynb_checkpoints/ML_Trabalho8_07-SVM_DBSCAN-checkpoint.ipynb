{
 "cells": [
  {
   "cell_type": "markdown",
   "metadata": {
    "colab_type": "text",
    "id": "pWjX0OEJ9RmL"
   },
   "source": [
    "## Support Vector Machines\n",
    "* Poderosa metodologia para resolver problemas de aprendizagem de máquina.\n",
    "* Proposto em 1995 pelo russo Vladimir Vapnik.\n",
    "* Muito utilizado atualmente em diversos tipos de aplicações.\n",
    "* O problema dos problemas não linearmente separáveis \n",
    "* O problema dos problemas não linearmente separáveis\n"
   ]
  },
  {
   "cell_type": "markdown",
   "metadata": {
    "colab_type": "text",
    "id": "uD2LXY4O9RmN"
   },
   "source": [
    "![](https://i.ibb.co/tsDTKzn/SVM-Picture1.png)\n",
    "\n",
    "* Problema não linearmente separável"
   ]
  },
  {
   "cell_type": "markdown",
   "metadata": {
    "colab_type": "text",
    "id": "p615s7C39RmO"
   },
   "source": [
    "### O processo de classificação:\n",
    "  + Entendendo o parâmetro C, Soft Margin: \n",
    "    - A aplicação de um método puramente linear para classificar um conjunto de dados pode sofrer com dois problemas bastante comuns:\n",
    "      - Outliers\n",
    "      - Exemplos rotulados erroneamente\n",
    "  + Mesmo assim o SVM ainda assim pode ser aplicado através do uso do parâmetro C (soft margin - variáveis de folga)\n",
    "#### O truque do Kernel:\n",
    "    - Realiza a projeção das características em um espaço multidimencional, maior que o vetor de entrada onde as classes podem ser separadas por um hiperplano."
   ]
  },
  {
   "cell_type": "markdown",
   "metadata": {
    "colab_type": "text",
    "id": "OKbu1g1O9RmP"
   },
   "source": [
    "![](https://i.ibb.co/n19dmvq/SVM-Picture2.png)"
   ]
  },
  {
   "cell_type": "markdown",
   "metadata": {
    "colab_type": "text",
    "id": "npaYNxOL9RmP"
   },
   "source": [
    "#### Vantagens:\n",
    "  + Considerado o estado da arte dos classificadores.\n",
    "  + Trabalha com problemas linearmente e não-linearmente separáveis.\n",
    "  + Desempenho superior a maioria dos classificadores tradicionais.\n",
    "  \n",
    "#### Desvantagens:\n",
    "  + A calibragem dos parâmetros envolvidos e escolha do tipo de kernel não é uma tarefa trivial.\n",
    "  + O tempo de treinamento pode ser extremamente lento e computacionalmente complexo dependendo da quantidade de características."
   ]
  },
  {
   "cell_type": "code",
   "execution_count": 1,
   "metadata": {
    "colab": {},
    "colab_type": "code",
    "id": "FVwvys9VQ-TU"
   },
   "outputs": [],
   "source": [
    "import pandas as pd\n",
    "import numpy as np\n",
    "import seaborn as sb\n",
    "import matplotlib.pyplot as plt \n",
    "\n",
    "from sklearn.model_selection import cross_val_predict\n",
    "from sklearn import metrics\n",
    "from sklearn import svm\n",
    "from sklearn.preprocessing import LabelEncoder\n",
    "\n",
    "# Importe as bibliotecas de Pipelines e Pré-processadores\n",
    "from sklearn.pipeline import Pipeline\n",
    "from sklearn.preprocessing import StandardScaler\n",
    "from sklearn.preprocessing import MinMaxScaler\n",
    "\n",
    "# Importa o pacote OneHotEncoder\n",
    "from sklearn.preprocessing import OneHotEncoder\n",
    "\n",
    "import sys"
   ]
  },
  {
   "cell_type": "markdown",
   "metadata": {
    "colab_type": "text",
    "id": "ueAjUhkb9RmT"
   },
   "source": [
    "## 1) Importando os dados já tratados sem OneHotEncoding:"
   ]
  },
  {
   "cell_type": "code",
   "execution_count": 2,
   "metadata": {
    "colab": {
     "base_uri": "https://localhost:8080/",
     "height": 272
    },
    "colab_type": "code",
    "executionInfo": {
     "elapsed": 4135,
     "status": "ok",
     "timestamp": 1574578300662,
     "user": {
      "displayName": "André Rodrigues",
      "photoUrl": "https://lh3.googleusercontent.com/a-/AAuE7mC4VcoLAlPEtIAJVPWTppZJ9S3ou2QH75zgDkJrgn0=s64",
      "userId": "01975921740661022202"
     },
     "user_tz": 180
    },
    "id": "1fVCXcqb9RmU",
    "outputId": "12d940b8-6e16-4b8a-9c6a-219a6bca4766"
   },
   "outputs": [
    {
     "data": {
      "text/html": [
       "<div>\n",
       "<style scoped>\n",
       "    .dataframe tbody tr th:only-of-type {\n",
       "        vertical-align: middle;\n",
       "    }\n",
       "\n",
       "    .dataframe tbody tr th {\n",
       "        vertical-align: top;\n",
       "    }\n",
       "\n",
       "    .dataframe thead th {\n",
       "        text-align: right;\n",
       "    }\n",
       "</style>\n",
       "<table border=\"1\" class=\"dataframe\">\n",
       "  <thead>\n",
       "    <tr style=\"text-align: right;\">\n",
       "      <th></th>\n",
       "      <th>V1</th>\n",
       "      <th>V2</th>\n",
       "      <th>V3</th>\n",
       "      <th>V4</th>\n",
       "      <th>V5</th>\n",
       "      <th>V6</th>\n",
       "      <th>V7</th>\n",
       "      <th>V8</th>\n",
       "      <th>V9</th>\n",
       "      <th>V10</th>\n",
       "      <th>dbscan</th>\n",
       "      <th>kmeans</th>\n",
       "      <th>som</th>\n",
       "    </tr>\n",
       "  </thead>\n",
       "  <tbody>\n",
       "    <tr>\n",
       "      <td>0</td>\n",
       "      <td>-122.23</td>\n",
       "      <td>452600.0</td>\n",
       "      <td>129</td>\n",
       "      <td>41</td>\n",
       "      <td>880</td>\n",
       "      <td>3</td>\n",
       "      <td>126</td>\n",
       "      <td>322</td>\n",
       "      <td>83.252</td>\n",
       "      <td>37.88</td>\n",
       "      <td>1</td>\n",
       "      <td>1</td>\n",
       "      <td>11</td>\n",
       "    </tr>\n",
       "    <tr>\n",
       "      <td>1</td>\n",
       "      <td>-122.22</td>\n",
       "      <td>358500.0</td>\n",
       "      <td>1106</td>\n",
       "      <td>21</td>\n",
       "      <td>7099</td>\n",
       "      <td>3</td>\n",
       "      <td>1138</td>\n",
       "      <td>2401</td>\n",
       "      <td>83.014</td>\n",
       "      <td>37.86</td>\n",
       "      <td>0</td>\n",
       "      <td>13</td>\n",
       "      <td>23</td>\n",
       "    </tr>\n",
       "    <tr>\n",
       "      <td>2</td>\n",
       "      <td>-122.24</td>\n",
       "      <td>352100.0</td>\n",
       "      <td>190</td>\n",
       "      <td>52</td>\n",
       "      <td>1467</td>\n",
       "      <td>3</td>\n",
       "      <td>177</td>\n",
       "      <td>496</td>\n",
       "      <td>72.574</td>\n",
       "      <td>37.85</td>\n",
       "      <td>1</td>\n",
       "      <td>1</td>\n",
       "      <td>2</td>\n",
       "    </tr>\n",
       "    <tr>\n",
       "      <td>3</td>\n",
       "      <td>-122.25</td>\n",
       "      <td>341300.0</td>\n",
       "      <td>235</td>\n",
       "      <td>52</td>\n",
       "      <td>1274</td>\n",
       "      <td>3</td>\n",
       "      <td>219</td>\n",
       "      <td>558</td>\n",
       "      <td>56.431</td>\n",
       "      <td>37.85</td>\n",
       "      <td>1</td>\n",
       "      <td>21</td>\n",
       "      <td>1</td>\n",
       "    </tr>\n",
       "    <tr>\n",
       "      <td>4</td>\n",
       "      <td>-122.25</td>\n",
       "      <td>342200.0</td>\n",
       "      <td>280</td>\n",
       "      <td>52</td>\n",
       "      <td>1627</td>\n",
       "      <td>3</td>\n",
       "      <td>259</td>\n",
       "      <td>565</td>\n",
       "      <td>38.462</td>\n",
       "      <td>37.85</td>\n",
       "      <td>1</td>\n",
       "      <td>21</td>\n",
       "      <td>1</td>\n",
       "    </tr>\n",
       "  </tbody>\n",
       "</table>\n",
       "</div>"
      ],
      "text/plain": [
       "       V1        V2    V3  V4    V5  V6    V7    V8      V9    V10  dbscan  \\\n",
       "0 -122.23  452600.0   129  41   880   3   126   322  83.252  37.88       1   \n",
       "1 -122.22  358500.0  1106  21  7099   3  1138  2401  83.014  37.86       0   \n",
       "2 -122.24  352100.0   190  52  1467   3   177   496  72.574  37.85       1   \n",
       "3 -122.25  341300.0   235  52  1274   3   219   558  56.431  37.85       1   \n",
       "4 -122.25  342200.0   280  52  1627   3   259   565  38.462  37.85       1   \n",
       "\n",
       "   kmeans  som  \n",
       "0       1   11  \n",
       "1      13   23  \n",
       "2       1    2  \n",
       "3      21    1  \n",
       "4      21    1  "
      ]
     },
     "execution_count": 2,
     "metadata": {},
     "output_type": "execute_result"
    }
   ],
   "source": [
    "# from google.colab import drive\n",
    "# drive.mount('/content/drive')\n",
    "# !ls \"/content/drive/My Drive/datasets\"\n",
    "# data = pd.read_csv('/content/drive/My Drive/datasets/dados_clust.csv',sep=',') # faz a leitura dos dados\n",
    "\n",
    "data = pd.read_csv(\"/Users/andrerodrigues/Google Drive/FIAP-MBA 8IA/006 - Modelos de IA e ML/Trabalhos/Trabalho8/dados_clust.csv\", sep =\",\")\n",
    "\n",
    "data = data.iloc[:,1:]\n",
    "data.rename(columns={\"V6_int\": \"V6\"}, inplace=True)\n",
    "data.head()"
   ]
  },
  {
   "cell_type": "markdown",
   "metadata": {
    "colab_type": "text",
    "id": "p2Xs1Udw9RmW"
   },
   "source": [
    "## 2) Importando os dados já tratados com OneHotEncoding:"
   ]
  },
  {
   "cell_type": "code",
   "execution_count": 3,
   "metadata": {
    "colab": {
     "base_uri": "https://localhost:8080/",
     "height": 272
    },
    "colab_type": "code",
    "executionInfo": {
     "elapsed": 5002,
     "status": "ok",
     "timestamp": 1574578303674,
     "user": {
      "displayName": "André Rodrigues",
      "photoUrl": "https://lh3.googleusercontent.com/a-/AAuE7mC4VcoLAlPEtIAJVPWTppZJ9S3ou2QH75zgDkJrgn0=s64",
      "userId": "01975921740661022202"
     },
     "user_tz": 180
    },
    "id": "3_07QusL9RmX",
    "outputId": "111d040a-18cd-4381-83cf-80ad62fdd3b0"
   },
   "outputs": [
    {
     "data": {
      "text/html": [
       "<div>\n",
       "<style scoped>\n",
       "    .dataframe tbody tr th:only-of-type {\n",
       "        vertical-align: middle;\n",
       "    }\n",
       "\n",
       "    .dataframe tbody tr th {\n",
       "        vertical-align: top;\n",
       "    }\n",
       "\n",
       "    .dataframe thead th {\n",
       "        text-align: right;\n",
       "    }\n",
       "</style>\n",
       "<table border=\"1\" class=\"dataframe\">\n",
       "  <thead>\n",
       "    <tr style=\"text-align: right;\">\n",
       "      <th></th>\n",
       "      <th>0</th>\n",
       "      <th>1</th>\n",
       "      <th>2</th>\n",
       "      <th>3</th>\n",
       "      <th>4</th>\n",
       "      <th>5</th>\n",
       "      <th>6</th>\n",
       "      <th>7</th>\n",
       "      <th>8</th>\n",
       "      <th>9</th>\n",
       "      <th>10</th>\n",
       "      <th>11</th>\n",
       "      <th>12</th>\n",
       "      <th>13</th>\n",
       "      <th>14</th>\n",
       "      <th>dbscan</th>\n",
       "      <th>kmeans</th>\n",
       "      <th>som</th>\n",
       "    </tr>\n",
       "  </thead>\n",
       "  <tbody>\n",
       "    <tr>\n",
       "      <td>0</td>\n",
       "      <td>-122.23</td>\n",
       "      <td>452600.0</td>\n",
       "      <td>129.0</td>\n",
       "      <td>41.0</td>\n",
       "      <td>880.0</td>\n",
       "      <td>3.0</td>\n",
       "      <td>126.0</td>\n",
       "      <td>322.0</td>\n",
       "      <td>83.252</td>\n",
       "      <td>37.88</td>\n",
       "      <td>0.0</td>\n",
       "      <td>0.0</td>\n",
       "      <td>0.0</td>\n",
       "      <td>1.0</td>\n",
       "      <td>0.0</td>\n",
       "      <td>1</td>\n",
       "      <td>1</td>\n",
       "      <td>11</td>\n",
       "    </tr>\n",
       "    <tr>\n",
       "      <td>1</td>\n",
       "      <td>-122.22</td>\n",
       "      <td>358500.0</td>\n",
       "      <td>1106.0</td>\n",
       "      <td>21.0</td>\n",
       "      <td>7099.0</td>\n",
       "      <td>3.0</td>\n",
       "      <td>1138.0</td>\n",
       "      <td>2401.0</td>\n",
       "      <td>83.014</td>\n",
       "      <td>37.86</td>\n",
       "      <td>0.0</td>\n",
       "      <td>0.0</td>\n",
       "      <td>0.0</td>\n",
       "      <td>1.0</td>\n",
       "      <td>0.0</td>\n",
       "      <td>0</td>\n",
       "      <td>13</td>\n",
       "      <td>23</td>\n",
       "    </tr>\n",
       "    <tr>\n",
       "      <td>2</td>\n",
       "      <td>-122.24</td>\n",
       "      <td>352100.0</td>\n",
       "      <td>190.0</td>\n",
       "      <td>52.0</td>\n",
       "      <td>1467.0</td>\n",
       "      <td>3.0</td>\n",
       "      <td>177.0</td>\n",
       "      <td>496.0</td>\n",
       "      <td>72.574</td>\n",
       "      <td>37.85</td>\n",
       "      <td>0.0</td>\n",
       "      <td>0.0</td>\n",
       "      <td>0.0</td>\n",
       "      <td>1.0</td>\n",
       "      <td>0.0</td>\n",
       "      <td>1</td>\n",
       "      <td>1</td>\n",
       "      <td>2</td>\n",
       "    </tr>\n",
       "    <tr>\n",
       "      <td>3</td>\n",
       "      <td>-122.25</td>\n",
       "      <td>341300.0</td>\n",
       "      <td>235.0</td>\n",
       "      <td>52.0</td>\n",
       "      <td>1274.0</td>\n",
       "      <td>3.0</td>\n",
       "      <td>219.0</td>\n",
       "      <td>558.0</td>\n",
       "      <td>56.431</td>\n",
       "      <td>37.85</td>\n",
       "      <td>0.0</td>\n",
       "      <td>0.0</td>\n",
       "      <td>0.0</td>\n",
       "      <td>1.0</td>\n",
       "      <td>0.0</td>\n",
       "      <td>1</td>\n",
       "      <td>21</td>\n",
       "      <td>1</td>\n",
       "    </tr>\n",
       "    <tr>\n",
       "      <td>4</td>\n",
       "      <td>-122.25</td>\n",
       "      <td>342200.0</td>\n",
       "      <td>280.0</td>\n",
       "      <td>52.0</td>\n",
       "      <td>1627.0</td>\n",
       "      <td>3.0</td>\n",
       "      <td>259.0</td>\n",
       "      <td>565.0</td>\n",
       "      <td>38.462</td>\n",
       "      <td>37.85</td>\n",
       "      <td>0.0</td>\n",
       "      <td>0.0</td>\n",
       "      <td>0.0</td>\n",
       "      <td>1.0</td>\n",
       "      <td>0.0</td>\n",
       "      <td>1</td>\n",
       "      <td>21</td>\n",
       "      <td>1</td>\n",
       "    </tr>\n",
       "  </tbody>\n",
       "</table>\n",
       "</div>"
      ],
      "text/plain": [
       "        0         1       2     3       4    5       6       7       8      9  \\\n",
       "0 -122.23  452600.0   129.0  41.0   880.0  3.0   126.0   322.0  83.252  37.88   \n",
       "1 -122.22  358500.0  1106.0  21.0  7099.0  3.0  1138.0  2401.0  83.014  37.86   \n",
       "2 -122.24  352100.0   190.0  52.0  1467.0  3.0   177.0   496.0  72.574  37.85   \n",
       "3 -122.25  341300.0   235.0  52.0  1274.0  3.0   219.0   558.0  56.431  37.85   \n",
       "4 -122.25  342200.0   280.0  52.0  1627.0  3.0   259.0   565.0  38.462  37.85   \n",
       "\n",
       "    10   11   12   13   14  dbscan  kmeans  som  \n",
       "0  0.0  0.0  0.0  1.0  0.0       1       1   11  \n",
       "1  0.0  0.0  0.0  1.0  0.0       0      13   23  \n",
       "2  0.0  0.0  0.0  1.0  0.0       1       1    2  \n",
       "3  0.0  0.0  0.0  1.0  0.0       1      21    1  \n",
       "4  0.0  0.0  0.0  1.0  0.0       1      21    1  "
      ]
     },
     "execution_count": 3,
     "metadata": {},
     "output_type": "execute_result"
    }
   ],
   "source": [
    "# from google.colab import drive\n",
    "# drive.mount('/content/drive')\n",
    "# !ls \"/content/drive/My Drive/datasets\"\n",
    "# data_ohe = pd.read_csv('/content/drive/My Drive/datasets/data_ohe_nostd.csv',sep=',') # faz a leitura dos dados\n",
    "\n",
    "data_ohe = pd.read_csv(\"/Users/andrerodrigues/Google Drive/FIAP-MBA 8IA/006 - Modelos de IA e ML/Trabalhos/Trabalho8/data_ohe_nostd.csv\", sep =\",\")\n",
    "\n",
    "data_ohe = data_ohe.iloc[:,1:]\n",
    "data_ohe[\"dbscan\"] = data[\"dbscan\"]\n",
    "data_ohe[\"kmeans\"] = data[\"kmeans\"]\n",
    "data_ohe[\"som\"] = data[\"som\"]\n",
    "data_ohe.head()"
   ]
  },
  {
   "cell_type": "markdown",
   "metadata": {
    "colab_type": "text",
    "id": "YcAFPWoVPAvJ"
   },
   "source": [
    "#### -  Apenas como curiosidade, vejamos como as classes estão distribuidas em 'dbscan', 'kmeans' e 'som'"
   ]
  },
  {
   "cell_type": "code",
   "execution_count": 4,
   "metadata": {
    "colab": {
     "base_uri": "https://localhost:8080/",
     "height": 1000
    },
    "colab_type": "code",
    "executionInfo": {
     "elapsed": 4501,
     "status": "ok",
     "timestamp": 1574578305194,
     "user": {
      "displayName": "André Rodrigues",
      "photoUrl": "https://lh3.googleusercontent.com/a-/AAuE7mC4VcoLAlPEtIAJVPWTppZJ9S3ou2QH75zgDkJrgn0=s64",
      "userId": "01975921740661022202"
     },
     "user_tz": 180
    },
    "id": "flB-UMjMPAvK",
    "outputId": "ab0d5df5-17ab-46be-8728-65803efba352"
   },
   "outputs": [
    {
     "data": {
      "image/png": "[encoded data removed]",
      "text/plain": [
       "<Figure size 1440x1008 with 1 Axes>"
      ]
     },
     "metadata": {
      "needs_background": "light"
     },
     "output_type": "display_data"
    },
    {
     "data": {
      "image/png": "[encoded data removed]",
      "text/plain": [
       "<Figure size 1440x1008 with 1 Axes>"
      ]
     },
     "metadata": {
      "needs_background": "light"
     },
     "output_type": "display_data"
    },
    {
     "data": {
      "image/png": "[encoded data removed]",
      "text/plain": [
       "<Figure size 1440x1008 with 1 Axes>"
      ]
     },
     "metadata": {
      "needs_background": "light"
     },
     "output_type": "display_data"
    }
   ],
   "source": [
    "plt.figure(figsize=(20,14))\n",
    "plot1 = sb.countplot(x='dbscan',data=data, palette='hls')\n",
    "plt.title(\"Verificando classes de dbscan\")\n",
    "plt.show(plot1)\n",
    "plt.figure(figsize=(20,14))\n",
    "plot2 = sb.countplot(x='kmeans',data=data, palette='hls')\n",
    "plt.title(\"Verificando classes de kmeans\")\n",
    "plt.show(plot2)\n",
    "plt.figure(figsize=(20,14))\n",
    "plot3 = sb.countplot(x='som',data=data, palette='hls')\n",
    "plt.title(\"Verificando classes de som\")\n",
    "plt.show(plot3)"
   ]
  },
  {
   "cell_type": "markdown",
   "metadata": {
    "colab_type": "text",
    "id": "aeC4yg2IQ-Up"
   },
   "source": [
    "## 3) Seleciona o dataset para ser tratado pelo Modelo de Machine Learning e Separa as Classes"
   ]
  },
  {
   "cell_type": "code",
   "execution_count": 5,
   "metadata": {
    "colab": {
     "base_uri": "https://localhost:8080/",
     "height": 51
    },
    "colab_type": "code",
    "executionInfo": {
     "elapsed": 13462,
     "status": "ok",
     "timestamp": 1574578316685,
     "user": {
      "displayName": "André Rodrigues",
      "photoUrl": "https://lh3.googleusercontent.com/a-/AAuE7mC4VcoLAlPEtIAJVPWTppZJ9S3ou2QH75zgDkJrgn0=s64",
      "userId": "01975921740661022202"
     },
     "user_tz": 180
    },
    "id": "m1CV4kvGQ-Uv",
    "outputId": "ec2721d9-876a-4490-9279-c6a05e91cb98"
   },
   "outputs": [
    {
     "name": "stdin",
     "output_type": "stream",
     "text": [
      "Entre com o dataset que será tratado pela maquina('data' ou 'data_ohe'): data\n",
      "Entre com o target que será tratado pela maquina ('dbscan','kmeans' ou 'som'): dbscan\n"
     ]
    }
   ],
   "source": [
    "import traceback\n",
    "\n",
    "def dataset_for_machine(dataset, target):\n",
    "    \n",
    "    # Tente receber o nome do arquivo\n",
    "    try:\n",
    "        d = dataset\n",
    "        t = target\n",
    "    \n",
    "        if d == 'data':\n",
    "            # Troca o nome do dataset para df. A partir desse ponto, o dataset para ser tratado pelo modelo de ML será conhecido por df.\n",
    "            df = data\n",
    "            # Separa a classe\n",
    "            classes = df[t]\n",
    "            df.drop(columns=['dbscan','kmeans', 'som'], axis=1, inplace=True)\n",
    "\n",
    "\n",
    "        elif d == 'data_ohe':\n",
    "            # Troca o nome do dataset para df. A partir desse ponto, o dataset para ser tratado pelo modelo de ML será conhecido por df.\n",
    "            df = data_ohe\n",
    "            # Separa a classe\n",
    "            classes = df[t]\n",
    "            df.drop(columns=['5','dbscan','kmeans', 'som'], axis=1, inplace=True)\n",
    "\n",
    "        else:\n",
    "            print(\"Escolha entre 'data' ou 'data_ohe'\")\n",
    "            exit\n",
    "\n",
    "    # Se ocorrer um erro\n",
    "    except:\n",
    "        # Mostre na tela\n",
    "        trace = traceback.format_exc()\n",
    "        print ('Aconteceu um erro:\\n', trace)\n",
    "        # Encerre o programa\n",
    "        raise SystemExit\n",
    "        \n",
    "    return df, classes\n",
    "    \n",
    "# df, classes = dataset_for_machine(input(\"Entre com o dataset que será tratado pela maquina('data' ou 'data_ohe') e o target('kmeans' ou 'som') separados por ',':\"))\n",
    "dataset = input(\"Entre com o dataset que será tratado pela maquina('data' ou 'data_ohe'):\")\n",
    "target = input(\"Entre com o target que será tratado pela maquina ('dbscan','kmeans' ou 'som'):\")\n",
    "df, classes = dataset_for_machine(dataset, target)"
   ]
  },
  {
   "cell_type": "markdown",
   "metadata": {
    "colab_type": "text",
    "id": "1TlW-96KQ-Ux"
   },
   "source": [
    "* A partir desse ponto, o dataset para ser tratado pelo modelo de ML será conhecido por df. A seleção se ele vai ser passado com ou sem One Hot Encoding foi feita acima."
   ]
  },
  {
   "cell_type": "code",
   "execution_count": 6,
   "metadata": {
    "colab": {
     "base_uri": "https://localhost:8080/",
     "height": 204
    },
    "colab_type": "code",
    "executionInfo": {
     "elapsed": 894,
     "status": "ok",
     "timestamp": 1574578321656,
     "user": {
      "displayName": "André Rodrigues",
      "photoUrl": "https://lh3.googleusercontent.com/a-/AAuE7mC4VcoLAlPEtIAJVPWTppZJ9S3ou2QH75zgDkJrgn0=s64",
      "userId": "01975921740661022202"
     },
     "user_tz": 180
    },
    "id": "ed7pYCmyQ-Uy",
    "outputId": "e8cbe63f-5542-4089-e84c-85f20960cb44"
   },
   "outputs": [
    {
     "data": {
      "text/html": [
       "<div>\n",
       "<style scoped>\n",
       "    .dataframe tbody tr th:only-of-type {\n",
       "        vertical-align: middle;\n",
       "    }\n",
       "\n",
       "    .dataframe tbody tr th {\n",
       "        vertical-align: top;\n",
       "    }\n",
       "\n",
       "    .dataframe thead th {\n",
       "        text-align: right;\n",
       "    }\n",
       "</style>\n",
       "<table border=\"1\" class=\"dataframe\">\n",
       "  <thead>\n",
       "    <tr style=\"text-align: right;\">\n",
       "      <th></th>\n",
       "      <th>V1</th>\n",
       "      <th>V2</th>\n",
       "      <th>V3</th>\n",
       "      <th>V4</th>\n",
       "      <th>V5</th>\n",
       "      <th>V6</th>\n",
       "      <th>V7</th>\n",
       "      <th>V8</th>\n",
       "      <th>V9</th>\n",
       "      <th>V10</th>\n",
       "    </tr>\n",
       "  </thead>\n",
       "  <tbody>\n",
       "    <tr>\n",
       "      <td>0</td>\n",
       "      <td>-122.23</td>\n",
       "      <td>452600.0</td>\n",
       "      <td>129</td>\n",
       "      <td>41</td>\n",
       "      <td>880</td>\n",
       "      <td>3</td>\n",
       "      <td>126</td>\n",
       "      <td>322</td>\n",
       "      <td>83.252</td>\n",
       "      <td>37.88</td>\n",
       "    </tr>\n",
       "    <tr>\n",
       "      <td>1</td>\n",
       "      <td>-122.22</td>\n",
       "      <td>358500.0</td>\n",
       "      <td>1106</td>\n",
       "      <td>21</td>\n",
       "      <td>7099</td>\n",
       "      <td>3</td>\n",
       "      <td>1138</td>\n",
       "      <td>2401</td>\n",
       "      <td>83.014</td>\n",
       "      <td>37.86</td>\n",
       "    </tr>\n",
       "    <tr>\n",
       "      <td>2</td>\n",
       "      <td>-122.24</td>\n",
       "      <td>352100.0</td>\n",
       "      <td>190</td>\n",
       "      <td>52</td>\n",
       "      <td>1467</td>\n",
       "      <td>3</td>\n",
       "      <td>177</td>\n",
       "      <td>496</td>\n",
       "      <td>72.574</td>\n",
       "      <td>37.85</td>\n",
       "    </tr>\n",
       "    <tr>\n",
       "      <td>3</td>\n",
       "      <td>-122.25</td>\n",
       "      <td>341300.0</td>\n",
       "      <td>235</td>\n",
       "      <td>52</td>\n",
       "      <td>1274</td>\n",
       "      <td>3</td>\n",
       "      <td>219</td>\n",
       "      <td>558</td>\n",
       "      <td>56.431</td>\n",
       "      <td>37.85</td>\n",
       "    </tr>\n",
       "    <tr>\n",
       "      <td>4</td>\n",
       "      <td>-122.25</td>\n",
       "      <td>342200.0</td>\n",
       "      <td>280</td>\n",
       "      <td>52</td>\n",
       "      <td>1627</td>\n",
       "      <td>3</td>\n",
       "      <td>259</td>\n",
       "      <td>565</td>\n",
       "      <td>38.462</td>\n",
       "      <td>37.85</td>\n",
       "    </tr>\n",
       "  </tbody>\n",
       "</table>\n",
       "</div>"
      ],
      "text/plain": [
       "       V1        V2    V3  V4    V5  V6    V7    V8      V9    V10\n",
       "0 -122.23  452600.0   129  41   880   3   126   322  83.252  37.88\n",
       "1 -122.22  358500.0  1106  21  7099   3  1138  2401  83.014  37.86\n",
       "2 -122.24  352100.0   190  52  1467   3   177   496  72.574  37.85\n",
       "3 -122.25  341300.0   235  52  1274   3   219   558  56.431  37.85\n",
       "4 -122.25  342200.0   280  52  1627   3   259   565  38.462  37.85"
      ]
     },
     "execution_count": 6,
     "metadata": {},
     "output_type": "execute_result"
    }
   ],
   "source": [
    "df.head()"
   ]
  },
  {
   "cell_type": "code",
   "execution_count": 7,
   "metadata": {
    "colab": {
     "base_uri": "https://localhost:8080/",
     "height": 221
    },
    "colab_type": "code",
    "executionInfo": {
     "elapsed": 595,
     "status": "ok",
     "timestamp": 1574578323143,
     "user": {
      "displayName": "André Rodrigues",
      "photoUrl": "https://lh3.googleusercontent.com/a-/AAuE7mC4VcoLAlPEtIAJVPWTppZJ9S3ou2QH75zgDkJrgn0=s64",
      "userId": "01975921740661022202"
     },
     "user_tz": 180
    },
    "id": "ZrqNFpWjQ-U0",
    "outputId": "3ede44f0-8355-41c2-e072-33be769f9be3"
   },
   "outputs": [
    {
     "data": {
      "text/plain": [
       "0        1\n",
       "1        0\n",
       "2        1\n",
       "3        1\n",
       "4        1\n",
       "        ..\n",
       "20635    3\n",
       "20636    3\n",
       "20637    3\n",
       "20638    3\n",
       "20639    3\n",
       "Name: dbscan, Length: 20640, dtype: int64"
      ]
     },
     "execution_count": 7,
     "metadata": {},
     "output_type": "execute_result"
    }
   ],
   "source": [
    "classes"
   ]
  },
  {
   "cell_type": "markdown",
   "metadata": {
    "colab_type": "text",
    "id": "1MytzhfYQ-Tv"
   },
   "source": [
    "## 4) Faz a validação via crossvalidation (k-fold)"
   ]
  },
  {
   "cell_type": "code",
   "execution_count": 8,
   "metadata": {
    "colab": {},
    "colab_type": "code",
    "id": "5gxFVkdmQ-Tw"
   },
   "outputs": [],
   "source": [
    "def Acuracia(clf,X,y):\n",
    "    resultados = cross_val_predict(clf, X, y, cv=5)\n",
    "    return metrics.accuracy_score(y,resultados)"
   ]
  },
  {
   "cell_type": "markdown",
   "metadata": {
    "colab_type": "text",
    "id": "6cIDLoTvQ-Tz"
   },
   "source": [
    "## 5) Pre-processamento de dados"
   ]
  },
  {
   "cell_type": "code",
   "execution_count": 9,
   "metadata": {
    "colab": {},
    "colab_type": "code",
    "id": "BYVeZ3GgQ-Tz"
   },
   "outputs": [],
   "source": [
    "# def remove_features(lista_features):\n",
    "#     for i in lista_features:\n",
    "#         data.drop(i, axis=1, inplace=True)\n",
    "#     return 0"
   ]
  },
  {
   "cell_type": "markdown",
   "metadata": {
    "colab_type": "text",
    "id": "gZSzNmE_Q-U2"
   },
   "source": [
    "## 9) Support Vector Machines \n",
    "#### a) Preparando os pipes com as configurações do parâmetro C, Kernel e Normalização dos dados."
   ]
  },
  {
   "cell_type": "code",
   "execution_count": 10,
   "metadata": {
    "colab": {},
    "colab_type": "code",
    "id": "1ZaYtAtYQ-U3"
   },
   "outputs": [],
   "source": [
    "pip_1 = Pipeline([\n",
    "    ('scaler',StandardScaler()),\n",
    "    ('clf', svm.SVC())\n",
    "])\n",
    "\n",
    "pip_2 = Pipeline([\n",
    "    ('min_max_scaler', MinMaxScaler()),\n",
    "    ('clf', svm.SVC())\n",
    "])\n",
    "\n",
    "pip_3 = Pipeline([\n",
    "    ('scaler',StandardScaler()),\n",
    "    ('clf', svm.SVC(kernel='rbf'))\n",
    "])\n",
    "\n",
    "pip_4 = Pipeline([\n",
    "    ('scaler',StandardScaler()),\n",
    "    ('clf', svm.SVC(kernel='poly'))\n",
    "])\n",
    "\n",
    "pip_5 = Pipeline([\n",
    "    ('scaler',StandardScaler()),\n",
    "    ('clf', svm.SVC(kernel='linear'))\n",
    "])"
   ]
  },
  {
   "cell_type": "markdown",
   "metadata": {
    "colab_type": "text",
    "id": "WshhAhIIQ-U5"
   },
   "source": [
    "#### b) Teste com apenas LabelEncoder na coluna 'classes' usando o pipeline 'pip_1'"
   ]
  },
  {
   "cell_type": "code",
   "execution_count": 11,
   "metadata": {
    "colab": {
     "base_uri": "https://localhost:8080/",
     "height": 88
    },
    "colab_type": "code",
    "executionInfo": {
     "elapsed": 19361,
     "status": "ok",
     "timestamp": 1574578361883,
     "user": {
      "displayName": "André Rodrigues",
      "photoUrl": "https://lh3.googleusercontent.com/a-/AAuE7mC4VcoLAlPEtIAJVPWTppZJ9S3ou2QH75zgDkJrgn0=s64",
      "userId": "01975921740661022202"
     },
     "user_tz": 180
    },
    "id": "-Ch-etwXQ-U5",
    "outputId": "42457f61-4fce-4c86-f20b-df41a1e00dd4"
   },
   "outputs": [
    {
     "name": "stderr",
     "output_type": "stream",
     "text": [
      "/Users/andrerodrigues/opt/anaconda3/lib/python3.7/site-packages/sklearn/model_selection/_split.py:657: Warning: The least populated class in y has only 1 members, which is too few. The minimum number of members in any class cannot be less than n_splits=5.\n",
      "  % (min_groups, self.n_splits)), Warning)\n"
     ]
    },
    {
     "data": {
      "text/plain": [
       "0.9303294573643411"
      ]
     },
     "execution_count": 11,
     "metadata": {},
     "output_type": "execute_result"
    }
   ],
   "source": [
    "Acuracia(pip_1,df,classes)"
   ]
  },
  {
   "cell_type": "markdown",
   "metadata": {
    "colab_type": "text",
    "id": "X36QqfmFQ-U7"
   },
   "source": [
    "#### c) Teste com apenas LabelEncoder na coluna 'classes' usando o pipeline 'pip_2'"
   ]
  },
  {
   "cell_type": "code",
   "execution_count": 12,
   "metadata": {
    "colab": {
     "base_uri": "https://localhost:8080/",
     "height": 258
    },
    "colab_type": "code",
    "executionInfo": {
     "elapsed": 42152,
     "status": "ok",
     "timestamp": 1574578385630,
     "user": {
      "displayName": "André Rodrigues",
      "photoUrl": "https://lh3.googleusercontent.com/a-/AAuE7mC4VcoLAlPEtIAJVPWTppZJ9S3ou2QH75zgDkJrgn0=s64",
      "userId": "01975921740661022202"
     },
     "user_tz": 180
    },
    "id": "tqicOuKXQ-U8",
    "outputId": "b091f334-b4fd-424f-ec25-366ffe416771"
   },
   "outputs": [
    {
     "name": "stderr",
     "output_type": "stream",
     "text": [
      "/Users/andrerodrigues/opt/anaconda3/lib/python3.7/site-packages/sklearn/model_selection/_split.py:657: Warning: The least populated class in y has only 1 members, which is too few. The minimum number of members in any class cannot be less than n_splits=5.\n",
      "  % (min_groups, self.n_splits)), Warning)\n",
      "/Users/andrerodrigues/opt/anaconda3/lib/python3.7/site-packages/sklearn/svm/base.py:193: FutureWarning: The default value of gamma will change from 'auto' to 'scale' in version 0.22 to account better for unscaled features. Set gamma explicitly to 'auto' or 'scale' to avoid this warning.\n",
      "  \"avoid this warning.\", FutureWarning)\n",
      "/Users/andrerodrigues/opt/anaconda3/lib/python3.7/site-packages/sklearn/svm/base.py:193: FutureWarning: The default value of gamma will change from 'auto' to 'scale' in version 0.22 to account better for unscaled features. Set gamma explicitly to 'auto' or 'scale' to avoid this warning.\n",
      "  \"avoid this warning.\", FutureWarning)\n",
      "/Users/andrerodrigues/opt/anaconda3/lib/python3.7/site-packages/sklearn/svm/base.py:193: FutureWarning: The default value of gamma will change from 'auto' to 'scale' in version 0.22 to account better for unscaled features. Set gamma explicitly to 'auto' or 'scale' to avoid this warning.\n",
      "  \"avoid this warning.\", FutureWarning)\n",
      "/Users/andrerodrigues/opt/anaconda3/lib/python3.7/site-packages/sklearn/svm/base.py:193: FutureWarning: The default value of gamma will change from 'auto' to 'scale' in version 0.22 to account better for unscaled features. Set gamma explicitly to 'auto' or 'scale' to avoid this warning.\n",
      "  \"avoid this warning.\", FutureWarning)\n",
      "/Users/andrerodrigues/opt/anaconda3/lib/python3.7/site-packages/sklearn/svm/base.py:193: FutureWarning: The default value of gamma will change from 'auto' to 'scale' in version 0.22 to account better for unscaled features. Set gamma explicitly to 'auto' or 'scale' to avoid this warning.\n",
      "  \"avoid this warning.\", FutureWarning)\n"
     ]
    },
    {
     "data": {
      "text/plain": [
       "0.9050387596899225"
      ]
     },
     "execution_count": 12,
     "metadata": {},
     "output_type": "execute_result"
    }
   ],
   "source": [
    "Acuracia(pip_2,df,classes)"
   ]
  },
  {
   "cell_type": "markdown",
   "metadata": {
    "colab_type": "text",
    "id": "a9OL5wk9Q-U-"
   },
   "source": [
    "#### d) Testando Kernels \n",
    "##### Kernel rbf"
   ]
  },
  {
   "cell_type": "code",
   "execution_count": 13,
   "metadata": {
    "colab": {
     "base_uri": "https://localhost:8080/",
     "height": 88
    },
    "colab_type": "code",
    "executionInfo": {
     "elapsed": 58528,
     "status": "ok",
     "timestamp": 1574578403986,
     "user": {
      "displayName": "André Rodrigues",
      "photoUrl": "https://lh3.googleusercontent.com/a-/AAuE7mC4VcoLAlPEtIAJVPWTppZJ9S3ou2QH75zgDkJrgn0=s64",
      "userId": "01975921740661022202"
     },
     "user_tz": 180
    },
    "id": "Rp4f1zzlQ-U-",
    "outputId": "3583f79a-d715-489e-e4f8-1b7a655f42e5"
   },
   "outputs": [
    {
     "name": "stderr",
     "output_type": "stream",
     "text": [
      "/Users/andrerodrigues/opt/anaconda3/lib/python3.7/site-packages/sklearn/model_selection/_split.py:657: Warning: The least populated class in y has only 1 members, which is too few. The minimum number of members in any class cannot be less than n_splits=5.\n",
      "  % (min_groups, self.n_splits)), Warning)\n"
     ]
    },
    {
     "data": {
      "text/plain": [
       "0.9303294573643411"
      ]
     },
     "execution_count": 13,
     "metadata": {},
     "output_type": "execute_result"
    }
   ],
   "source": [
    "Acuracia(pip_3,df,classes)"
   ]
  },
  {
   "cell_type": "markdown",
   "metadata": {
    "colab_type": "text",
    "id": "miN9HRLTQ-VA"
   },
   "source": [
    "##### Kernel Polynomial"
   ]
  },
  {
   "cell_type": "code",
   "execution_count": 14,
   "metadata": {
    "colab": {
     "base_uri": "https://localhost:8080/",
     "height": 88
    },
    "colab_type": "code",
    "executionInfo": {
     "elapsed": 72449,
     "status": "ok",
     "timestamp": 1574578420473,
     "user": {
      "displayName": "André Rodrigues",
      "photoUrl": "https://lh3.googleusercontent.com/a-/AAuE7mC4VcoLAlPEtIAJVPWTppZJ9S3ou2QH75zgDkJrgn0=s64",
      "userId": "01975921740661022202"
     },
     "user_tz": 180
    },
    "id": "ZqTsQvQLQ-VB",
    "outputId": "68e2075e-5c51-4cdf-fbe5-74c972cfb806"
   },
   "outputs": [
    {
     "name": "stderr",
     "output_type": "stream",
     "text": [
      "/Users/andrerodrigues/opt/anaconda3/lib/python3.7/site-packages/sklearn/model_selection/_split.py:657: Warning: The least populated class in y has only 1 members, which is too few. The minimum number of members in any class cannot be less than n_splits=5.\n",
      "  % (min_groups, self.n_splits)), Warning)\n"
     ]
    },
    {
     "data": {
      "text/plain": [
       "0.9259689922480621"
      ]
     },
     "execution_count": 14,
     "metadata": {},
     "output_type": "execute_result"
    }
   ],
   "source": [
    "Acuracia(pip_4,df,classes)"
   ]
  },
  {
   "cell_type": "markdown",
   "metadata": {
    "colab_type": "text",
    "id": "FAan3sejQ-VC"
   },
   "source": [
    "##### Kernel Linear"
   ]
  },
  {
   "cell_type": "code",
   "execution_count": 15,
   "metadata": {
    "colab": {
     "base_uri": "https://localhost:8080/",
     "height": 88
    },
    "colab_type": "code",
    "executionInfo": {
     "elapsed": 90698,
     "status": "ok",
     "timestamp": 1574578440547,
     "user": {
      "displayName": "André Rodrigues",
      "photoUrl": "https://lh3.googleusercontent.com/a-/AAuE7mC4VcoLAlPEtIAJVPWTppZJ9S3ou2QH75zgDkJrgn0=s64",
      "userId": "01975921740661022202"
     },
     "user_tz": 180
    },
    "id": "0HACckOPQ-VE",
    "outputId": "06673abd-7b28-443b-8343-8506b2efca37"
   },
   "outputs": [
    {
     "name": "stderr",
     "output_type": "stream",
     "text": [
      "/Users/andrerodrigues/opt/anaconda3/lib/python3.7/site-packages/sklearn/model_selection/_split.py:657: Warning: The least populated class in y has only 1 members, which is too few. The minimum number of members in any class cannot be less than n_splits=5.\n",
      "  % (min_groups, self.n_splits)), Warning)\n"
     ]
    },
    {
     "data": {
      "text/plain": [
       "0.9112403100775194"
      ]
     },
     "execution_count": 15,
     "metadata": {},
     "output_type": "execute_result"
    }
   ],
   "source": [
    "Acuracia(pip_5,df,classes)"
   ]
  },
  {
   "cell_type": "markdown",
   "metadata": {
    "colab_type": "text",
    "id": "lzimLr_fQ-VG"
   },
   "source": [
    "## 9) GridSearch"
   ]
  },
  {
   "cell_type": "code",
   "execution_count": 16,
   "metadata": {
    "colab": {},
    "colab_type": "code",
    "id": "CzjiK_QBQ-VH"
   },
   "outputs": [],
   "source": [
    "from sklearn.model_selection import GridSearchCV\n",
    "\n",
    "lista_C = [0.001, 0.01, 0.1, 1, 10,100]\n",
    "lista_gamma = [0.001, 0.01, 0.1, 1, 10, 100]"
   ]
  },
  {
   "cell_type": "code",
   "execution_count": 17,
   "metadata": {
    "colab": {},
    "colab_type": "code",
    "id": "YldOdduzQ-VI"
   },
   "outputs": [],
   "source": [
    "parametros_grid = dict(clf__C=lista_C, clf__gamma=lista_gamma)"
   ]
  },
  {
   "cell_type": "markdown",
   "metadata": {
    "colab_type": "text",
    "id": "MOxt9onsQ-VL"
   },
   "source": [
    "#### a) Faz o tuning dos parametros testando cada combinação utilziando CrossValidation com 10 folds e analisando a acurácia"
   ]
  },
  {
   "cell_type": "code",
   "execution_count": 18,
   "metadata": {
    "colab": {},
    "colab_type": "code",
    "id": "a5R_1ZeyQ-VM"
   },
   "outputs": [],
   "source": [
    "grid = GridSearchCV(pip_3, parametros_grid, cv=10, scoring='accuracy')"
   ]
  },
  {
   "cell_type": "code",
   "execution_count": 19,
   "metadata": {
    "colab": {
     "base_uri": "https://localhost:8080/",
     "height": 17
    },
    "colab_type": "code",
    "executionInfo": {
     "elapsed": 209518,
     "status": "ok",
     "timestamp": 1574398999747,
     "user": {
      "displayName": "André Rodrigues",
      "photoUrl": "https://lh3.googleusercontent.com/a-/AAuE7mC4VcoLAlPEtIAJVPWTppZJ9S3ou2QH75zgDkJrgn0=s64",
      "userId": "01975921740661022202"
     },
     "user_tz": 180
    },
    "id": "f76YzJM9Q-VO",
    "outputId": "42ea2586-1009-4764-d735-6658afbea41b"
   },
   "outputs": [
    {
     "name": "stderr",
     "output_type": "stream",
     "text": [
      "/Users/andrerodrigues/opt/anaconda3/lib/python3.7/site-packages/sklearn/model_selection/_split.py:657: Warning: The least populated class in y has only 1 members, which is too few. The minimum number of members in any class cannot be less than n_splits=10.\n",
      "  % (min_groups, self.n_splits)), Warning)\n"
     ]
    },
    {
     "data": {
      "text/plain": [
       "GridSearchCV(cv=10, error_score='raise-deprecating',\n",
       "             estimator=Pipeline(memory=None,\n",
       "                                steps=[('scaler',\n",
       "                                        StandardScaler(copy=True,\n",
       "                                                       with_mean=True,\n",
       "                                                       with_std=True)),\n",
       "                                       ('clf',\n",
       "                                        SVC(C=1.0, cache_size=200,\n",
       "                                            class_weight=None, coef0=0.0,\n",
       "                                            decision_function_shape='ovr',\n",
       "                                            degree=3, gamma='auto_deprecated',\n",
       "                                            kernel='rbf', max_iter=-1,\n",
       "                                            probability=False,\n",
       "                                            random_state=None, shrinking=True,\n",
       "                                            tol=0.001, verbose=False))],\n",
       "                                verbose=False),\n",
       "             iid='warn', n_jobs=None,\n",
       "             param_grid={'clf__C': [0.001, 0.01, 0.1, 1, 10, 100],\n",
       "                         'clf__gamma': [0.001, 0.01, 0.1, 1, 10, 100]},\n",
       "             pre_dispatch='2*n_jobs', refit=True, return_train_score=False,\n",
       "             scoring='accuracy', verbose=0)"
      ]
     },
     "execution_count": 19,
     "metadata": {},
     "output_type": "execute_result"
    }
   ],
   "source": [
    "grid.fit(df,classes)"
   ]
  },
  {
   "cell_type": "code",
   "execution_count": 20,
   "metadata": {
    "colab": {},
    "colab_type": "code",
    "id": "S-gno_33Q-VR"
   },
   "outputs": [
    {
     "data": {
      "text/plain": [
       "{'mean_fit_time': array([  6.49078872,   6.44669285,   6.47740576,   6.42242155,\n",
       "          5.60287189,   9.17654717,   6.40789897,   6.226704  ,\n",
       "          3.87337389,   7.76728992,  21.41821923,  32.89291487,\n",
       "          6.1018836 ,   2.47882478,   2.13366311,  11.01203797,\n",
       "         45.2114228 ,  68.38980715,   2.61893809,   1.82846198,\n",
       "          1.63539855,  19.89395931, 125.78307493, 156.36912632,\n",
       "          2.13424201,   1.70405722,   1.66775331,  19.92865279,\n",
       "        194.3431128 , 250.06854029,   2.02085652,   1.98240609,\n",
       "          2.29494257,  19.2247051 , 192.11349626, 262.02823009]),\n",
       " 'std_fit_time': array([ 0.28880242,  0.04367775,  0.02603332,  0.06125482,  0.02712608,\n",
       "         0.04581928,  0.04858893,  0.1411332 ,  0.1012384 ,  0.06033237,\n",
       "         0.22381152,  0.15019071,  0.15634427,  0.0287725 ,  0.04218153,\n",
       "         0.41964397,  0.76699655,  0.91856911,  0.03511571,  0.05340218,\n",
       "         0.05216595,  0.62678398,  6.8497924 ,  7.67518527,  0.03828158,\n",
       "         0.04972954,  0.05140147,  0.60220775, 12.38309205, 18.20575744,\n",
       "         0.11973818,  0.08924472,  0.07243982,  0.75875886, 16.66388117,\n",
       "        19.92652533]),\n",
       " 'mean_score_time': array([1.36278043, 1.30388699, 1.20291615, 1.05674398, 1.20166481,\n",
       "        1.35832822, 1.3303375 , 1.24913509, 0.83823583, 1.06409914,\n",
       "        2.1446178 , 2.52357481, 1.27549183, 0.66700842, 0.46935744,\n",
       "        0.83038125, 2.35761619, 2.60576665, 0.71314528, 0.44943442,\n",
       "        0.36228623, 0.66256571, 2.37556822, 2.92757478, 0.49381235,\n",
       "        0.37180026, 0.30457635, 0.65848429, 2.40403388, 3.01374044,\n",
       "        0.39213481, 0.3125675 , 0.25712321, 0.6368576 , 2.41567864,\n",
       "        3.32232645]),\n",
       " 'std_score_time': array([0.07777707, 0.01534594, 0.00983506, 0.00739671, 0.01653897,\n",
       "        0.01722346, 0.01059879, 0.00681255, 0.01131525, 0.01147693,\n",
       "        0.04366466, 0.02693194, 0.01423249, 0.00989909, 0.00681598,\n",
       "        0.01837728, 0.23175409, 0.03584474, 0.00811346, 0.00685987,\n",
       "        0.00608388, 0.01446161, 0.04793585, 0.05263343, 0.00708651,\n",
       "        0.0059618 , 0.00594241, 0.01468674, 0.06393899, 0.07908675,\n",
       "        0.0082878 , 0.00495408, 0.00662044, 0.02606461, 0.10686577,\n",
       "        0.07982054]),\n",
       " 'param_clf__C': masked_array(data=[0.001, 0.001, 0.001, 0.001, 0.001, 0.001, 0.01, 0.01,\n",
       "                    0.01, 0.01, 0.01, 0.01, 0.1, 0.1, 0.1, 0.1, 0.1, 0.1,\n",
       "                    1, 1, 1, 1, 1, 1, 10, 10, 10, 10, 10, 10, 100, 100,\n",
       "                    100, 100, 100, 100],\n",
       "              mask=[False, False, False, False, False, False, False, False,\n",
       "                    False, False, False, False, False, False, False, False,\n",
       "                    False, False, False, False, False, False, False, False,\n",
       "                    False, False, False, False, False, False, False, False,\n",
       "                    False, False, False, False],\n",
       "        fill_value='?',\n",
       "             dtype=object),\n",
       " 'param_clf__gamma': masked_array(data=[0.001, 0.01, 0.1, 1, 10, 100, 0.001, 0.01, 0.1, 1, 10,\n",
       "                    100, 0.001, 0.01, 0.1, 1, 10, 100, 0.001, 0.01, 0.1, 1,\n",
       "                    10, 100, 0.001, 0.01, 0.1, 1, 10, 100, 0.001, 0.01,\n",
       "                    0.1, 1, 10, 100],\n",
       "              mask=[False, False, False, False, False, False, False, False,\n",
       "                    False, False, False, False, False, False, False, False,\n",
       "                    False, False, False, False, False, False, False, False,\n",
       "                    False, False, False, False, False, False, False, False,\n",
       "                    False, False, False, False],\n",
       "        fill_value='?',\n",
       "             dtype=object),\n",
       " 'params': [{'clf__C': 0.001, 'clf__gamma': 0.001},\n",
       "  {'clf__C': 0.001, 'clf__gamma': 0.01},\n",
       "  {'clf__C': 0.001, 'clf__gamma': 0.1},\n",
       "  {'clf__C': 0.001, 'clf__gamma': 1},\n",
       "  {'clf__C': 0.001, 'clf__gamma': 10},\n",
       "  {'clf__C': 0.001, 'clf__gamma': 100},\n",
       "  {'clf__C': 0.01, 'clf__gamma': 0.001},\n",
       "  {'clf__C': 0.01, 'clf__gamma': 0.01},\n",
       "  {'clf__C': 0.01, 'clf__gamma': 0.1},\n",
       "  {'clf__C': 0.01, 'clf__gamma': 1},\n",
       "  {'clf__C': 0.01, 'clf__gamma': 10},\n",
       "  {'clf__C': 0.01, 'clf__gamma': 100},\n",
       "  {'clf__C': 0.1, 'clf__gamma': 0.001},\n",
       "  {'clf__C': 0.1, 'clf__gamma': 0.01},\n",
       "  {'clf__C': 0.1, 'clf__gamma': 0.1},\n",
       "  {'clf__C': 0.1, 'clf__gamma': 1},\n",
       "  {'clf__C': 0.1, 'clf__gamma': 10},\n",
       "  {'clf__C': 0.1, 'clf__gamma': 100},\n",
       "  {'clf__C': 1, 'clf__gamma': 0.001},\n",
       "  {'clf__C': 1, 'clf__gamma': 0.01},\n",
       "  {'clf__C': 1, 'clf__gamma': 0.1},\n",
       "  {'clf__C': 1, 'clf__gamma': 1},\n",
       "  {'clf__C': 1, 'clf__gamma': 10},\n",
       "  {'clf__C': 1, 'clf__gamma': 100},\n",
       "  {'clf__C': 10, 'clf__gamma': 0.001},\n",
       "  {'clf__C': 10, 'clf__gamma': 0.01},\n",
       "  {'clf__C': 10, 'clf__gamma': 0.1},\n",
       "  {'clf__C': 10, 'clf__gamma': 1},\n",
       "  {'clf__C': 10, 'clf__gamma': 10},\n",
       "  {'clf__C': 10, 'clf__gamma': 100},\n",
       "  {'clf__C': 100, 'clf__gamma': 0.001},\n",
       "  {'clf__C': 100, 'clf__gamma': 0.01},\n",
       "  {'clf__C': 100, 'clf__gamma': 0.1},\n",
       "  {'clf__C': 100, 'clf__gamma': 1},\n",
       "  {'clf__C': 100, 'clf__gamma': 10},\n",
       "  {'clf__C': 100, 'clf__gamma': 100}],\n",
       " 'split0_test_score': array([0.68214457, 0.68214457, 0.68214457, 0.68214457, 0.68214457,\n",
       "        0.68214457, 0.68214457, 0.89803734, 0.92580182, 0.74198181,\n",
       "        0.68214457, 0.68214457, 0.89947343, 0.91144088, 0.93776927,\n",
       "        0.87314505, 0.68214457, 0.68214457, 0.90282432, 0.93202489,\n",
       "        0.94638583, 0.95548109, 0.75107707, 0.68214457, 0.91814265,\n",
       "        0.94207755, 0.9535663 , 0.95500239, 0.75873624, 0.68214457,\n",
       "        0.93346099, 0.94782192, 0.94877932, 0.95500239, 0.75873624,\n",
       "        0.68214457]),\n",
       " 'split1_test_score': array([0.68247126, 0.68247126, 0.68247126, 0.68247126, 0.68247126,\n",
       "        0.68247126, 0.68247126, 0.88601533, 0.89128352, 0.75718391,\n",
       "        0.68247126, 0.68247126, 0.88362069, 0.89559387, 0.90565134,\n",
       "        0.85727969, 0.68247126, 0.68247126, 0.89224138, 0.89990421,\n",
       "        0.91187739, 0.94348659, 0.77059387, 0.68247126, 0.90038314,\n",
       "        0.90277778, 0.93103448, 0.94875479, 0.78400383, 0.68247126,\n",
       "        0.89894636, 0.90804598, 0.94683908, 0.94875479, 0.78400383,\n",
       "        0.68247126]),\n",
       " 'split2_test_score': array([0.68247126, 0.68247126, 0.68247126, 0.68247126, 0.68247126,\n",
       "        0.68247126, 0.68247126, 0.89463602, 0.91235632, 0.78256705,\n",
       "        0.68247126, 0.68247126, 0.88888889, 0.90996169, 0.92289272,\n",
       "        0.87978927, 0.68247126, 0.68247126, 0.89846743, 0.91954023,\n",
       "        0.93295019, 0.96024904, 0.78208812, 0.68247126, 0.91810345,\n",
       "        0.92528736, 0.95258621, 0.9612069 , 0.79358238, 0.68247126,\n",
       "        0.92193487, 0.9348659 , 0.95737548, 0.96168582, 0.79358238,\n",
       "        0.68247126]),\n",
       " 'split3_test_score': array([0.68476694, 0.68476694, 0.68476694, 0.68476694, 0.68476694,\n",
       "        0.68476694, 0.68476694, 0.89764536, 0.9245555 , 0.73474291,\n",
       "        0.68476694, 0.68476694, 0.89620375, 0.91350312, 0.9346468 ,\n",
       "        0.87025469, 0.68476694, 0.68476694, 0.90677559, 0.92599712,\n",
       "        0.9408938 , 0.96059587, 0.73954829, 0.68476694, 0.91686689,\n",
       "        0.93656896, 0.9408938 , 0.95915425, 0.7496396 , 0.68476694,\n",
       "        0.92503604, 0.93320519, 0.95434887, 0.95915425, 0.7496396 ,\n",
       "        0.68476694]),\n",
       " 'split4_test_score': array([0.69107662, 0.69107662, 0.69204656, 0.69107662, 0.69107662,\n",
       "        0.69107662, 0.69107662, 0.90397672, 0.91949564, 0.75121242,\n",
       "        0.69107662, 0.69107662, 0.90203686, 0.91949564, 0.93598448,\n",
       "        0.87342386, 0.69107662, 0.69107662, 0.91367604, 0.93064985,\n",
       "        0.95053346, 0.96023278, 0.74054316, 0.69107662, 0.92870999,\n",
       "        0.94083414, 0.95344326, 0.95974782, 0.75460718, 0.69107662,\n",
       "        0.93210475, 0.95247333, 0.95392823, 0.95974782, 0.75460718,\n",
       "        0.69107662]),\n",
       " 'split5_test_score': array([0.69478303, 0.69478303, 0.6952706 , 0.69478303, 0.69478303,\n",
       "        0.69478303, 0.69478303, 0.92101414, 0.93369088, 0.73915163,\n",
       "        0.69478303, 0.69478303, 0.91467577, 0.93710385, 0.94636763,\n",
       "        0.86445636, 0.69478303, 0.69478303, 0.93125305, 0.94392979,\n",
       "        0.94636763, 0.9600195 , 0.73232569, 0.69478303, 0.94441736,\n",
       "        0.94051682, 0.95221843, 0.96099464, 0.74353974, 0.69478303,\n",
       "        0.94392979, 0.94685519, 0.95026816, 0.96099464, 0.74353974,\n",
       "        0.69478303]),\n",
       " 'split6_test_score': array([0.69580078, 0.69580078, 0.69824219, 0.69580078, 0.69580078,\n",
       "        0.69580078, 0.69580078, 0.921875  , 0.93457031, 0.79003906,\n",
       "        0.69580078, 0.69580078, 0.91210938, 0.91552734, 0.94287109,\n",
       "        0.89257812, 0.69580078, 0.69580078, 0.90917969, 0.93603516,\n",
       "        0.94384766, 0.95947266, 0.77880859, 0.69580078, 0.92578125,\n",
       "        0.94287109, 0.93408203, 0.95898438, 0.79101562, 0.69580078,\n",
       "        0.93798828, 0.92285156, 0.93603516, 0.95898438, 0.79101562,\n",
       "        0.69580078]),\n",
       " 'split7_test_score': array([0.69648094, 0.69648094, 0.70772239, 0.69648094, 0.69648094,\n",
       "        0.69648094, 0.69648094, 0.90762463, 0.93352884, 0.76979472,\n",
       "        0.69648094, 0.69648094, 0.90469208, 0.90713587, 0.93597263,\n",
       "        0.89833822, 0.69648094, 0.69648094, 0.90371457, 0.92424242,\n",
       "        0.94623656, 0.95356794, 0.74731183, 0.69648094, 0.91104594,\n",
       "        0.94281525, 0.94428152, 0.9516129 , 0.76099707, 0.69648094,\n",
       "        0.92717498, 0.94770283, 0.92717498, 0.9516129 , 0.76099707,\n",
       "        0.69648094]),\n",
       " 'split8_test_score': array([0.69716243, 0.69716243, 0.70792564, 0.69716243, 0.69716243,\n",
       "        0.69716243, 0.69716243, 0.87524462, 0.90655577, 0.72994129,\n",
       "        0.69716243, 0.69716243, 0.87035225, 0.88894325, 0.9241683 ,\n",
       "        0.85518591, 0.69716243, 0.69716243, 0.88600783, 0.91976517,\n",
       "        0.91780822, 0.9055773 , 0.71477495, 0.69716243, 0.90264188,\n",
       "        0.92465753, 0.92270059, 0.90166341, 0.7221135 , 0.69716243,\n",
       "        0.92172211, 0.92367906, 0.91976517, 0.90166341, 0.7221135 ,\n",
       "        0.69716243]),\n",
       " 'split9_test_score': array([0.69750367, 0.69750367, 0.69946158, 0.69750367, 0.69750367,\n",
       "        0.69750367, 0.69750367, 0.90846794, 0.92853647, 0.73470387,\n",
       "        0.69750367, 0.69750367, 0.90699951, 0.92608908, 0.94175233,\n",
       "        0.87469408, 0.69750367, 0.69750367, 0.92266275, 0.93636809,\n",
       "        0.9505629 , 0.96524719, 0.71806167, 0.69750367, 0.9339207 ,\n",
       "        0.94517866, 0.95839452, 0.9608419 , 0.72344591, 0.69750367,\n",
       "        0.93881547, 0.95105237, 0.95154185, 0.96133138, 0.72344591,\n",
       "        0.69750367]),\n",
       " 'mean_test_score': array([0.69040698, 0.69040698, 0.6931686 , 0.69040698, 0.69040698,\n",
       "        0.69040698, 0.69040698, 0.90140504, 0.92097868, 0.75314922,\n",
       "        0.69040698, 0.69040698, 0.89786822, 0.91245155, 0.93275194,\n",
       "        0.87388566, 0.69040698, 0.69040698, 0.9066376 , 0.92679264,\n",
       "        0.93871124, 0.95242248, 0.74762597, 0.69040698, 0.91996124,\n",
       "        0.93430233, 0.9443314 , 0.95184109, 0.75828488, 0.69040698,\n",
       "        0.92805233, 0.93682171, 0.94467054, 0.95193798, 0.75828488,\n",
       "        0.69040698]),\n",
       " 'std_test_score': array([0.00639173, 0.00639173, 0.00960058, 0.00639173, 0.00639173,\n",
       "        0.00639173, 0.00639173, 0.01371719, 0.01329836, 0.02013285,\n",
       "        0.00639173, 0.00639173, 0.0129233 , 0.01310785, 0.01153303,\n",
       "        0.01304985, 0.00639173, 0.00639173, 0.01278303, 0.01162118,\n",
       "        0.01295511, 0.01650602, 0.02234836, 0.00639173, 0.01295141,\n",
       "        0.01260491, 0.01119885, 0.01712426, 0.02408748, 0.00639173,\n",
       "        0.01205666, 0.01415802, 0.01197812, 0.01717724, 0.02408748,\n",
       "        0.00639173]),\n",
       " 'rank_test_score': array([24, 24, 23, 24, 24, 24, 24, 16, 12, 21, 24, 24, 17, 14,  9, 18, 24,\n",
       "        24, 15, 11,  6,  1, 22, 24, 13,  8,  5,  3, 19, 24, 10,  7,  4,  2,\n",
       "        19, 24], dtype=int32)}"
      ]
     },
     "execution_count": 20,
     "metadata": {},
     "output_type": "execute_result"
    }
   ],
   "source": [
    "grid.cv_results_"
   ]
  },
  {
   "cell_type": "code",
   "execution_count": 21,
   "metadata": {
    "colab": {},
    "colab_type": "code",
    "id": "BWQRqxiuQ-VT"
   },
   "outputs": [
    {
     "data": {
      "text/plain": [
       "{'clf__C': 1, 'clf__gamma': 1}"
      ]
     },
     "execution_count": 21,
     "metadata": {},
     "output_type": "execute_result"
    }
   ],
   "source": [
    "grid.best_params_"
   ]
  },
  {
   "cell_type": "code",
   "execution_count": 22,
   "metadata": {
    "colab": {},
    "colab_type": "code",
    "id": "O85xG07NQ-VU"
   },
   "outputs": [
    {
     "data": {
      "text/plain": [
       "0.952422480620155"
      ]
     },
     "execution_count": 22,
     "metadata": {},
     "output_type": "execute_result"
    }
   ],
   "source": [
    "grid.best_score_"
   ]
  },
  {
   "cell_type": "markdown",
   "metadata": {
    "colab_type": "text",
    "id": "EuCrDJ3cQ-VW"
   },
   "source": [
    "#### b) Métricas de Avaliação de Modelos"
   ]
  },
  {
   "cell_type": "code",
   "execution_count": 23,
   "metadata": {
    "colab": {},
    "colab_type": "code",
    "id": "cYIqW9-SQ-VW"
   },
   "outputs": [],
   "source": [
    "pip_6 = Pipeline([\n",
    "('scaler',StandardScaler()),\n",
    "('clf', svm.SVC(kernel='rbf',C=1,gamma=1))\n",
    "])"
   ]
  },
  {
   "cell_type": "code",
   "execution_count": 24,
   "metadata": {
    "colab": {},
    "colab_type": "code",
    "id": "U_bKyzdjQ-VY"
   },
   "outputs": [
    {
     "name": "stderr",
     "output_type": "stream",
     "text": [
      "/Users/andrerodrigues/opt/anaconda3/lib/python3.7/site-packages/sklearn/model_selection/_split.py:657: Warning: The least populated class in y has only 1 members, which is too few. The minimum number of members in any class cannot be less than n_splits=10.\n",
      "  % (min_groups, self.n_splits)), Warning)\n"
     ]
    }
   ],
   "source": [
    "resultados = cross_val_predict(pip_6, df, classes, cv=10)"
   ]
  },
  {
   "cell_type": "code",
   "execution_count": 25,
   "metadata": {
    "colab": {},
    "colab_type": "code",
    "id": "-dgLWlSyQ-Va"
   },
   "outputs": [
    {
     "name": "stdout",
     "output_type": "stream",
     "text": [
      "              precision    recall  f1-score   support\n",
      "\n",
      "           0       0.79      0.75      0.77      2105\n",
      "           1       0.97      0.98      0.98      2540\n",
      "           2       0.67      0.50      0.57         8\n",
      "           3       0.97      0.98      0.98     14250\n",
      "           4       0.71      0.83      0.77         6\n",
      "           5       1.00      0.60      0.75         5\n",
      "           6       0.94      0.97      0.95        98\n",
      "           7       0.00      0.00      0.00         3\n",
      "           8       0.95      0.95      0.95      1433\n",
      "           9       1.00      0.75      0.86         4\n",
      "          10       0.00      0.00      0.00         3\n",
      "          11       1.00      0.75      0.86         4\n",
      "          12       1.00      0.50      0.67         4\n",
      "          13       1.00      0.25      0.40         4\n",
      "          14       1.00      0.25      0.40         4\n",
      "          15       1.00      0.50      0.67         4\n",
      "          16       1.00      0.89      0.94         9\n",
      "          17       0.80      0.80      0.80        15\n",
      "          18       1.00      1.00      1.00         5\n",
      "          19       0.00      0.00      0.00         4\n",
      "          20       0.00      0.00      0.00         3\n",
      "          21       1.00      0.50      0.67         4\n",
      "          22       1.00      1.00      1.00         4\n",
      "          23       1.00      0.83      0.91         6\n",
      "          24       1.00      0.25      0.40         4\n",
      "          25       1.00      1.00      1.00         5\n",
      "          26       1.00      0.75      0.86         4\n",
      "          27       1.00      0.60      0.75         5\n",
      "          28       1.00      0.50      0.67         4\n",
      "          29       1.00      0.60      0.75         5\n",
      "          30       1.00      1.00      1.00         5\n",
      "          31       1.00      0.75      0.86         4\n",
      "          32       0.00      0.00      0.00         1\n",
      "          33       1.00      0.60      0.75         5\n",
      "          34       0.00      0.00      0.00         3\n",
      "          35       0.81      0.76      0.79        17\n",
      "          36       1.00      0.67      0.80         6\n",
      "          37       1.00      0.75      0.86         4\n",
      "          38       1.00      0.25      0.40         4\n",
      "          39       1.00      0.40      0.57         5\n",
      "          40       0.00      0.00      0.00         3\n",
      "          41       1.00      0.75      0.86         4\n",
      "          42       1.00      1.00      1.00         7\n",
      "          43       1.00      0.75      0.86         4\n",
      "          44       1.00      1.00      1.00         5\n",
      "          45       1.00      0.25      0.40         4\n",
      "          46       1.00      0.50      0.67         4\n",
      "          47       0.00      0.00      0.00         3\n",
      "\n",
      "    accuracy                           0.95     20640\n",
      "   macro avg       0.80      0.58      0.65     20640\n",
      "weighted avg       0.95      0.95      0.95     20640\n",
      "\n"
     ]
    },
    {
     "name": "stderr",
     "output_type": "stream",
     "text": [
      "/Users/andrerodrigues/opt/anaconda3/lib/python3.7/site-packages/sklearn/metrics/classification.py:1437: UndefinedMetricWarning: Precision and F-score are ill-defined and being set to 0.0 in labels with no predicted samples.\n",
      "  'precision', 'predicted', average, warn_for)\n"
     ]
    }
   ],
   "source": [
    "c_names = [str(i) for i in np.unique(classes)]\n",
    "print (metrics.classification_report(classes,resultados,target_names=c_names))"
   ]
  },
  {
   "cell_type": "code",
   "execution_count": null,
   "metadata": {},
   "outputs": [],
   "source": []
  }
 ],
 "metadata": {
  "colab": {
   "collapsed_sections": [],
   "name": "ML_Trabalho8_07-SVM_DBSCAN.ipynb",
   "provenance": [
    {
     "file_id": "1YdtwImfzQVSLZ0HK9pgsIfL29O7TMTI6",
     "timestamp": 1574153920649
    }
   ]
  },
  "kernelspec": {
   "display_name": "Python 3",
   "language": "python",
   "name": "python3"
  },
  "language_info": {
   "codemirror_mode": {
    "name": "ipython",
    "version": 3
   },
   "file_extension": ".py",
   "mimetype": "text/x-python",
   "name": "python",
   "nbconvert_exporter": "python",
   "pygments_lexer": "ipython3",
   "version": "3.7.4"
  }
 },
 "nbformat": 4,
 "nbformat_minor": 4
}
