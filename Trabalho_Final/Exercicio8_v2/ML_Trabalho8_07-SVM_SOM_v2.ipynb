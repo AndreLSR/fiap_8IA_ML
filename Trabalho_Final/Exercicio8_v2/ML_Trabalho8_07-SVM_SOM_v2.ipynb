{
 "cells": [
  {
   "cell_type": "markdown",
   "metadata": {
    "colab_type": "text",
    "id": "pWjX0OEJ9RmL"
   },
   "source": [
    "## Support Vector Machines\n",
    "* Poderosa metodologia para resolver problemas de aprendizagem de máquina.\n",
    "* Proposto em 1995 pelo russo Vladimir Vapnik.\n",
    "* Muito utilizado atualmente em diversos tipos de aplicações.\n",
    "* O problema dos problemas não linearmente separáveis \n",
    "* O problema dos problemas não linearmente separáveis\n"
   ]
  },
  {
   "cell_type": "markdown",
   "metadata": {
    "colab_type": "text",
    "id": "uD2LXY4O9RmN"
   },
   "source": [
    "![](https://i.ibb.co/tsDTKzn/SVM-Picture1.png)\n",
    "\n",
    "* Problema não linearmente separável"
   ]
  },
  {
   "cell_type": "markdown",
   "metadata": {
    "colab_type": "text",
    "id": "p615s7C39RmO"
   },
   "source": [
    "### O processo de classificação:\n",
    "  + Entendendo o parâmetro C, Soft Margin: \n",
    "    - A aplicação de um método puramente linear para classificar um conjunto de dados pode sofrer com dois problemas bastante comuns:\n",
    "      - Outliers\n",
    "      - Exemplos rotulados erroneamente\n",
    "  + Mesmo assim o SVM ainda assim pode ser aplicado através do uso do parâmetro C (soft margin - variáveis de folga)\n",
    "#### O truque do Kernel:\n",
    "    - Realiza a projeção das características em um espaço multidimencional, maior que o vetor de entrada onde as classes podem ser separadas por um hiperplano."
   ]
  },
  {
   "cell_type": "markdown",
   "metadata": {
    "colab_type": "text",
    "id": "OKbu1g1O9RmP"
   },
   "source": [
    "![](https://i.ibb.co/n19dmvq/SVM-Picture2.png)"
   ]
  },
  {
   "cell_type": "markdown",
   "metadata": {
    "colab_type": "text",
    "id": "npaYNxOL9RmP"
   },
   "source": [
    "#### Vantagens:\n",
    "  + Considerado o estado da arte dos classificadores.\n",
    "  + Trabalha com problemas linearmente e não-linearmente separáveis.\n",
    "  + Desempenho superior a maioria dos classificadores tradicionais.\n",
    "  \n",
    "#### Desvantagens:\n",
    "  + A calibragem dos parâmetros envolvidos e escolha do tipo de kernel não é uma tarefa trivial.\n",
    "  + O tempo de treinamento pode ser extremamente lento e computacionalmente complexo dependendo da quantidade de características."
   ]
  },
  {
   "cell_type": "code",
   "execution_count": 1,
   "metadata": {
    "colab": {},
    "colab_type": "code",
    "id": "FVwvys9VQ-TU"
   },
   "outputs": [],
   "source": [
    "import pandas as pd\n",
    "import numpy as np\n",
    "import seaborn as sb\n",
    "import matplotlib.pyplot as plt \n",
    "\n",
    "from sklearn.model_selection import cross_val_predict\n",
    "from sklearn import metrics\n",
    "from sklearn import svm\n",
    "from sklearn.preprocessing import LabelEncoder\n",
    "\n",
    "# Importe as bibliotecas de Pipelines e Pré-processadores\n",
    "from sklearn.pipeline import Pipeline\n",
    "from sklearn.preprocessing import StandardScaler\n",
    "from sklearn.preprocessing import MinMaxScaler\n",
    "\n",
    "# Importa o pacote OneHotEncoder\n",
    "from sklearn.preprocessing import OneHotEncoder\n",
    "\n",
    "import sys"
   ]
  },
  {
   "cell_type": "markdown",
   "metadata": {
    "colab_type": "text",
    "id": "ueAjUhkb9RmT"
   },
   "source": [
    "## 1) Importando os dados já tratados sem OneHotEncoding:"
   ]
  },
  {
   "cell_type": "code",
   "execution_count": 2,
   "metadata": {
    "colab": {
     "base_uri": "https://localhost:8080/",
     "height": 405
    },
    "colab_type": "code",
    "executionInfo": {
     "elapsed": 123802,
     "status": "error",
     "timestamp": 1574698669916,
     "user": {
      "displayName": "André Rodrigues",
      "photoUrl": "https://lh3.googleusercontent.com/a-/AAuE7mC4VcoLAlPEtIAJVPWTppZJ9S3ou2QH75zgDkJrgn0=s64",
      "userId": "01975921740661022202"
     },
     "user_tz": 180
    },
    "id": "1fVCXcqb9RmU",
    "outputId": "588d26c4-cc21-42d9-b3af-d076d00d63b7"
   },
   "outputs": [
    {
     "data": {
      "text/html": [
       "<div>\n",
       "<style scoped>\n",
       "    .dataframe tbody tr th:only-of-type {\n",
       "        vertical-align: middle;\n",
       "    }\n",
       "\n",
       "    .dataframe tbody tr th {\n",
       "        vertical-align: top;\n",
       "    }\n",
       "\n",
       "    .dataframe thead th {\n",
       "        text-align: right;\n",
       "    }\n",
       "</style>\n",
       "<table border=\"1\" class=\"dataframe\">\n",
       "  <thead>\n",
       "    <tr style=\"text-align: right;\">\n",
       "      <th></th>\n",
       "      <th>V1</th>\n",
       "      <th>V2</th>\n",
       "      <th>V3</th>\n",
       "      <th>V4</th>\n",
       "      <th>V5</th>\n",
       "      <th>V6</th>\n",
       "      <th>V7</th>\n",
       "      <th>V8</th>\n",
       "      <th>V9</th>\n",
       "      <th>V10</th>\n",
       "      <th>dbscan</th>\n",
       "      <th>kmeans</th>\n",
       "      <th>som</th>\n",
       "    </tr>\n",
       "  </thead>\n",
       "  <tbody>\n",
       "    <tr>\n",
       "      <td>0</td>\n",
       "      <td>-122.23</td>\n",
       "      <td>452600.0</td>\n",
       "      <td>129</td>\n",
       "      <td>41</td>\n",
       "      <td>880</td>\n",
       "      <td>3</td>\n",
       "      <td>126</td>\n",
       "      <td>322</td>\n",
       "      <td>83.252</td>\n",
       "      <td>37.88</td>\n",
       "      <td>1</td>\n",
       "      <td>3</td>\n",
       "      <td>1</td>\n",
       "    </tr>\n",
       "    <tr>\n",
       "      <td>1</td>\n",
       "      <td>-122.22</td>\n",
       "      <td>358500.0</td>\n",
       "      <td>1106</td>\n",
       "      <td>21</td>\n",
       "      <td>7099</td>\n",
       "      <td>3</td>\n",
       "      <td>1138</td>\n",
       "      <td>2401</td>\n",
       "      <td>83.014</td>\n",
       "      <td>37.86</td>\n",
       "      <td>0</td>\n",
       "      <td>2</td>\n",
       "      <td>2</td>\n",
       "    </tr>\n",
       "    <tr>\n",
       "      <td>2</td>\n",
       "      <td>-122.24</td>\n",
       "      <td>352100.0</td>\n",
       "      <td>190</td>\n",
       "      <td>52</td>\n",
       "      <td>1467</td>\n",
       "      <td>3</td>\n",
       "      <td>177</td>\n",
       "      <td>496</td>\n",
       "      <td>72.574</td>\n",
       "      <td>37.85</td>\n",
       "      <td>1</td>\n",
       "      <td>3</td>\n",
       "      <td>1</td>\n",
       "    </tr>\n",
       "    <tr>\n",
       "      <td>3</td>\n",
       "      <td>-122.25</td>\n",
       "      <td>341300.0</td>\n",
       "      <td>235</td>\n",
       "      <td>52</td>\n",
       "      <td>1274</td>\n",
       "      <td>3</td>\n",
       "      <td>219</td>\n",
       "      <td>558</td>\n",
       "      <td>56.431</td>\n",
       "      <td>37.85</td>\n",
       "      <td>1</td>\n",
       "      <td>1</td>\n",
       "      <td>1</td>\n",
       "    </tr>\n",
       "    <tr>\n",
       "      <td>4</td>\n",
       "      <td>-122.25</td>\n",
       "      <td>342200.0</td>\n",
       "      <td>280</td>\n",
       "      <td>52</td>\n",
       "      <td>1627</td>\n",
       "      <td>3</td>\n",
       "      <td>259</td>\n",
       "      <td>565</td>\n",
       "      <td>38.462</td>\n",
       "      <td>37.85</td>\n",
       "      <td>1</td>\n",
       "      <td>1</td>\n",
       "      <td>1</td>\n",
       "    </tr>\n",
       "  </tbody>\n",
       "</table>\n",
       "</div>"
      ],
      "text/plain": [
       "       V1        V2    V3  V4    V5  V6    V7    V8      V9    V10  dbscan  \\\n",
       "0 -122.23  452600.0   129  41   880   3   126   322  83.252  37.88       1   \n",
       "1 -122.22  358500.0  1106  21  7099   3  1138  2401  83.014  37.86       0   \n",
       "2 -122.24  352100.0   190  52  1467   3   177   496  72.574  37.85       1   \n",
       "3 -122.25  341300.0   235  52  1274   3   219   558  56.431  37.85       1   \n",
       "4 -122.25  342200.0   280  52  1627   3   259   565  38.462  37.85       1   \n",
       "\n",
       "   kmeans  som  \n",
       "0       3    1  \n",
       "1       2    2  \n",
       "2       3    1  \n",
       "3       1    1  \n",
       "4       1    1  "
      ]
     },
     "execution_count": 2,
     "metadata": {},
     "output_type": "execute_result"
    }
   ],
   "source": [
    "# from google.colab import drive\n",
    "# drive.mount('/content/drive')\n",
    "# !ls \"/content/drive/My Drive/datasets\"\n",
    "# data = pd.read_csv('/content/drive/My Drive/datasets/dados_clust_v2.csv',sep=',') # faz a leitura dos dados\n",
    "\n",
    "data = pd.read_csv(\"/Users/andrerodrigues/Google Drive/FIAP-MBA 8IA/006 - Modelos de IA e ML/Trabalho_Final_2/Exercicio8_v2/dados_clust_v2.csv\", sep =\",\")\n",
    "\n",
    "data = data.iloc[:,1:]\n",
    "data.head()"
   ]
  },
  {
   "cell_type": "markdown",
   "metadata": {
    "colab_type": "text",
    "id": "p2Xs1Udw9RmW"
   },
   "source": [
    "## 2) Importando os dados já tratados com OneHotEncoding:"
   ]
  },
  {
   "cell_type": "code",
   "execution_count": 3,
   "metadata": {
    "colab": {
     "base_uri": "https://localhost:8080/",
     "height": 292
    },
    "colab_type": "code",
    "id": "3_07QusL9RmX",
    "outputId": "1d51262d-bd91-4d52-b00f-bc4b271f59f9"
   },
   "outputs": [
    {
     "ename": "ModuleNotFoundError",
     "evalue": "No module named 'google'",
     "output_type": "error",
     "traceback": [
      "\u001b[0;31m---------------------------------------------------------------------------\u001b[0m",
      "\u001b[0;31mModuleNotFoundError\u001b[0m                       Traceback (most recent call last)",
      "\u001b[0;32m<ipython-input-3-c003beaae502>\u001b[0m in \u001b[0;36m<module>\u001b[0;34m\u001b[0m\n\u001b[0;32m----> 1\u001b[0;31m \u001b[0;32mfrom\u001b[0m \u001b[0mgoogle\u001b[0m\u001b[0;34m.\u001b[0m\u001b[0mcolab\u001b[0m \u001b[0;32mimport\u001b[0m \u001b[0mdrive\u001b[0m\u001b[0;34m\u001b[0m\u001b[0;34m\u001b[0m\u001b[0m\n\u001b[0m\u001b[1;32m      2\u001b[0m \u001b[0mdrive\u001b[0m\u001b[0;34m.\u001b[0m\u001b[0mmount\u001b[0m\u001b[0;34m(\u001b[0m\u001b[0;34m'/content/drive'\u001b[0m\u001b[0;34m)\u001b[0m\u001b[0;34m\u001b[0m\u001b[0;34m\u001b[0m\u001b[0m\n\u001b[1;32m      3\u001b[0m \u001b[0mget_ipython\u001b[0m\u001b[0;34m(\u001b[0m\u001b[0;34m)\u001b[0m\u001b[0;34m.\u001b[0m\u001b[0msystem\u001b[0m\u001b[0;34m(\u001b[0m\u001b[0;34m'ls \"/content/drive/My Drive/datasets\"'\u001b[0m\u001b[0;34m)\u001b[0m\u001b[0;34m\u001b[0m\u001b[0;34m\u001b[0m\u001b[0m\n\u001b[1;32m      4\u001b[0m \u001b[0mdata_ohe\u001b[0m \u001b[0;34m=\u001b[0m \u001b[0mpd\u001b[0m\u001b[0;34m.\u001b[0m\u001b[0mread_csv\u001b[0m\u001b[0;34m(\u001b[0m\u001b[0;34m'/content/drive/My Drive/datasets/data_ohe_nostd.csv'\u001b[0m\u001b[0;34m,\u001b[0m\u001b[0msep\u001b[0m\u001b[0;34m=\u001b[0m\u001b[0;34m','\u001b[0m\u001b[0;34m)\u001b[0m \u001b[0;31m# faz a leitura dos dados\u001b[0m\u001b[0;34m\u001b[0m\u001b[0;34m\u001b[0m\u001b[0m\n\u001b[1;32m      5\u001b[0m \u001b[0;34m\u001b[0m\u001b[0m\n",
      "\u001b[0;31mModuleNotFoundError\u001b[0m: No module named 'google'"
     ]
    }
   ],
   "source": [
    "# from google.colab import drive\n",
    "# drive.mount('/content/drive')\n",
    "# !ls \"/content/drive/My Drive/datasets\"\n",
    "# data_ohe = pd.read_csv('/content/drive/My Drive/datasets/data_ohe_nostd_v2.csv',sep=',') # faz a leitura dos dados\n",
    "\n",
    "data_ohe = pd.read_csv(\"/Users/andrerodrigues/Google Drive/FIAP-MBA 8IA/006 - Modelos de IA e ML/Trabalho_Final_2/Exercicio8_v2/data_ohe_nostd_v2.csv\", sep =\",\")\n",
    "\n",
    "data_ohe = data_ohe.iloc[:,1:]\n",
    "data_ohe[\"dbscan\"] = data[\"dbscan\"]\n",
    "data_ohe[\"kmeans\"] = data[\"kmeans\"]\n",
    "data_ohe[\"som\"] = data[\"som\"]\n",
    "data_ohe.head()"
   ]
  },
  {
   "cell_type": "markdown",
   "metadata": {},
   "source": [
    "#### a) Apenas como curiosidade, vejamos como as classes estão distribuidas em 'dbscan', 'kmeans' e 'som'"
   ]
  },
  {
   "cell_type": "code",
   "execution_count": null,
   "metadata": {},
   "outputs": [],
   "source": [
    "plt.figure(figsize=(10,7))\n",
    "plot1 = sb.countplot(x='dbscan',data=data, palette='hls')\n",
    "plt.title(\"Verificando classes de dbscan\")\n",
    "plt.show(plot1)\n",
    "plt.figure(figsize=(10,7))\n",
    "plot2 = sb.countplot(x='kmeans',data=data, palette='hls')\n",
    "plt.title(\"Verificando classes de kmeans\")\n",
    "plt.show(plot2)\n",
    "plt.figure(figsize=(10,7))\n",
    "plot3 = sb.countplot(x='som',data=data, palette='hls')\n",
    "plt.title(\"Verificando classes de som\")\n",
    "plt.show(plot3)"
   ]
  },
  {
   "cell_type": "markdown",
   "metadata": {
    "colab_type": "text",
    "id": "aeC4yg2IQ-Up"
   },
   "source": [
    "## 3) Seleciona o dataset para ser tratado pelo Modelo de Machine Learning e Separa as Classes"
   ]
  },
  {
   "cell_type": "code",
   "execution_count": 5,
   "metadata": {
    "colab": {
     "base_uri": "https://localhost:8080/",
     "height": 34
    },
    "colab_type": "code",
    "executionInfo": {
     "elapsed": 8309,
     "status": "ok",
     "timestamp": 1574127519808,
     "user": {
      "displayName": "André Rodrigues",
      "photoUrl": "https://lh3.googleusercontent.com/a-/AAuE7mC4VcoLAlPEtIAJVPWTppZJ9S3ou2QH75zgDkJrgn0=s64",
      "userId": "01975921740661022202"
     },
     "user_tz": 180
    },
    "id": "m1CV4kvGQ-Uv",
    "outputId": "39ec2f2e-994b-4147-f247-4fc1ae42b241"
   },
   "outputs": [
    {
     "name": "stdin",
     "output_type": "stream",
     "text": [
      "Entre com o dataset que será tratado pela maquina('data' ou 'data_ohe'): data_ohe\n",
      "Entre com o target que será tratado pela maquina ('dbscan','kmeans' ou 'som'): som\n"
     ]
    }
   ],
   "source": [
    "import traceback\n",
    "\n",
    "def dataset_for_machine(dataset, target):\n",
    "    \n",
    "    # Tente receber o nome do arquivo\n",
    "    try:\n",
    "        d = dataset\n",
    "        t = target\n",
    "        \n",
    "        \n",
    "    \n",
    "        if d == 'data':\n",
    "            #No caso do DBSCAN, as amostras cujo o cluster for igual a 0, são consideradas outliers e não podemos considera-las como classe do problema.\n",
    "            if t == 'dbscan':\n",
    "                data.drop(data[data.dbscan == 0].index, inplace=True)\n",
    "            # Troca o nome do dataset para df. A partir desse ponto, o dataset para ser tratado pelo modelo de ML será conhecido por df.\n",
    "            df = data\n",
    "            # Separa a classe\n",
    "            classes = df[t]\n",
    "            df.drop(columns=['dbscan','kmeans', 'som'], axis=1, inplace=True)\n",
    "\n",
    "\n",
    "        elif d == 'data_ohe':\n",
    "            #No caso do DBSCAN, as amostras cujo o cluster for igual a 0, são consideradas outliers e não podemos considera-las como classe do problema.\n",
    "            if t == 'dbscan':\n",
    "                data.drop(data[data.dbscan == 0].index, inplace=True)\n",
    "            # Troca o nome do dataset para df. A partir desse ponto, o dataset para ser tratado pelo modelo de ML será conhecido por df.\n",
    "            df = data_ohe\n",
    "            # Separa a classe\n",
    "            classes = df[t]\n",
    "            df.drop(columns=['dbscan','kmeans', 'som'], axis=1, inplace=True)\n",
    "\n",
    "        else:\n",
    "            print(\"Escolha entre 'data' ou 'data_ohe'\")\n",
    "            exit\n",
    "\n",
    "    # Se ocorrer um erro\n",
    "    except:\n",
    "        # Mostre na tela\n",
    "        trace = traceback.format_exc()\n",
    "        print ('Aconteceu um erro:\\n', trace)\n",
    "        # Encerre o programa\n",
    "        raise SystemExit\n",
    "        \n",
    "    return df, classes\n",
    "    \n",
    "# df, classes = dataset_for_machine(input(\"Entre com o dataset que será tratado pela maquina('data' ou 'data_ohe') e o target('kmeans' ou 'som') separados por ',':\"))\n",
    "dataset = input(\"Entre com o dataset que será tratado pela maquina('data' ou 'data_ohe'):\")\n",
    "target = input(\"Entre com o target que será tratado pela maquina ('dbscan','kmeans' ou 'som'):\")\n",
    "df, classes = dataset_for_machine(dataset, target)"
   ]
  },
  {
   "cell_type": "markdown",
   "metadata": {
    "colab_type": "text",
    "id": "1TlW-96KQ-Ux"
   },
   "source": [
    "* A partir desse ponto, o dataset para ser tratado pelo modelo de ML será conhecido por df. A seleção se ele vai ser passado com ou sem One Hot Encoding foi feita acima."
   ]
  },
  {
   "cell_type": "code",
   "execution_count": 6,
   "metadata": {
    "colab": {
     "base_uri": "https://localhost:8080/",
     "height": 204
    },
    "colab_type": "code",
    "executionInfo": {
     "elapsed": 749,
     "status": "ok",
     "timestamp": 1574127524144,
     "user": {
      "displayName": "André Rodrigues",
      "photoUrl": "https://lh3.googleusercontent.com/a-/AAuE7mC4VcoLAlPEtIAJVPWTppZJ9S3ou2QH75zgDkJrgn0=s64",
      "userId": "01975921740661022202"
     },
     "user_tz": 180
    },
    "id": "ed7pYCmyQ-Uy",
    "outputId": "220c7e0e-d5cd-4a5e-ffc5-f38a274cb4cd"
   },
   "outputs": [
    {
     "data": {
      "text/html": [
       "<div>\n",
       "<style scoped>\n",
       "    .dataframe tbody tr th:only-of-type {\n",
       "        vertical-align: middle;\n",
       "    }\n",
       "\n",
       "    .dataframe tbody tr th {\n",
       "        vertical-align: top;\n",
       "    }\n",
       "\n",
       "    .dataframe thead th {\n",
       "        text-align: right;\n",
       "    }\n",
       "</style>\n",
       "<table border=\"1\" class=\"dataframe\">\n",
       "  <thead>\n",
       "    <tr style=\"text-align: right;\">\n",
       "      <th></th>\n",
       "      <th>V1</th>\n",
       "      <th>V2</th>\n",
       "      <th>V3</th>\n",
       "      <th>V4</th>\n",
       "      <th>V5</th>\n",
       "      <th>V6</th>\n",
       "      <th>V7</th>\n",
       "      <th>V8</th>\n",
       "      <th>V9</th>\n",
       "      <th>V10</th>\n",
       "    </tr>\n",
       "  </thead>\n",
       "  <tbody>\n",
       "    <tr>\n",
       "      <td>0</td>\n",
       "      <td>-122.23</td>\n",
       "      <td>452600.0</td>\n",
       "      <td>129</td>\n",
       "      <td>41</td>\n",
       "      <td>880</td>\n",
       "      <td>3</td>\n",
       "      <td>126</td>\n",
       "      <td>322</td>\n",
       "      <td>83.252</td>\n",
       "      <td>37.88</td>\n",
       "    </tr>\n",
       "    <tr>\n",
       "      <td>1</td>\n",
       "      <td>-122.22</td>\n",
       "      <td>358500.0</td>\n",
       "      <td>1106</td>\n",
       "      <td>21</td>\n",
       "      <td>7099</td>\n",
       "      <td>3</td>\n",
       "      <td>1138</td>\n",
       "      <td>2401</td>\n",
       "      <td>83.014</td>\n",
       "      <td>37.86</td>\n",
       "    </tr>\n",
       "    <tr>\n",
       "      <td>2</td>\n",
       "      <td>-122.24</td>\n",
       "      <td>352100.0</td>\n",
       "      <td>190</td>\n",
       "      <td>52</td>\n",
       "      <td>1467</td>\n",
       "      <td>3</td>\n",
       "      <td>177</td>\n",
       "      <td>496</td>\n",
       "      <td>72.574</td>\n",
       "      <td>37.85</td>\n",
       "    </tr>\n",
       "    <tr>\n",
       "      <td>3</td>\n",
       "      <td>-122.25</td>\n",
       "      <td>341300.0</td>\n",
       "      <td>235</td>\n",
       "      <td>52</td>\n",
       "      <td>1274</td>\n",
       "      <td>3</td>\n",
       "      <td>219</td>\n",
       "      <td>558</td>\n",
       "      <td>56.431</td>\n",
       "      <td>37.85</td>\n",
       "    </tr>\n",
       "    <tr>\n",
       "      <td>4</td>\n",
       "      <td>-122.25</td>\n",
       "      <td>342200.0</td>\n",
       "      <td>280</td>\n",
       "      <td>52</td>\n",
       "      <td>1627</td>\n",
       "      <td>3</td>\n",
       "      <td>259</td>\n",
       "      <td>565</td>\n",
       "      <td>38.462</td>\n",
       "      <td>37.85</td>\n",
       "    </tr>\n",
       "  </tbody>\n",
       "</table>\n",
       "</div>"
      ],
      "text/plain": [
       "       V1        V2    V3  V4    V5  V6    V7    V8      V9    V10\n",
       "0 -122.23  452600.0   129  41   880   3   126   322  83.252  37.88\n",
       "1 -122.22  358500.0  1106  21  7099   3  1138  2401  83.014  37.86\n",
       "2 -122.24  352100.0   190  52  1467   3   177   496  72.574  37.85\n",
       "3 -122.25  341300.0   235  52  1274   3   219   558  56.431  37.85\n",
       "4 -122.25  342200.0   280  52  1627   3   259   565  38.462  37.85"
      ]
     },
     "execution_count": 6,
     "metadata": {},
     "output_type": "execute_result"
    }
   ],
   "source": [
    "df.head()"
   ]
  },
  {
   "cell_type": "code",
   "execution_count": 7,
   "metadata": {
    "colab": {
     "base_uri": "https://localhost:8080/",
     "height": 34
    },
    "colab_type": "code",
    "executionInfo": {
     "elapsed": 849,
     "status": "ok",
     "timestamp": 1574127526420,
     "user": {
      "displayName": "André Rodrigues",
      "photoUrl": "https://lh3.googleusercontent.com/a-/AAuE7mC4VcoLAlPEtIAJVPWTppZJ9S3ou2QH75zgDkJrgn0=s64",
      "userId": "01975921740661022202"
     },
     "user_tz": 180
    },
    "id": "ZrqNFpWjQ-U0",
    "outputId": "492bae84-a48d-4d22-d523-ecc75056e771"
   },
   "outputs": [
    {
     "data": {
      "text/plain": [
       "0        11\n",
       "1        23\n",
       "2         2\n",
       "3         1\n",
       "4         1\n",
       "         ..\n",
       "20635     8\n",
       "20636     8\n",
       "20637     8\n",
       "20638     8\n",
       "20639     9\n",
       "Name: som, Length: 20640, dtype: int64"
      ]
     },
     "execution_count": 7,
     "metadata": {},
     "output_type": "execute_result"
    }
   ],
   "source": [
    "classes"
   ]
  },
  {
   "cell_type": "markdown",
   "metadata": {
    "colab_type": "text",
    "id": "1MytzhfYQ-Tv"
   },
   "source": [
    "## 4) Faz a validação via crossvalidation (k-fold)"
   ]
  },
  {
   "cell_type": "code",
   "execution_count": 8,
   "metadata": {
    "colab": {},
    "colab_type": "code",
    "id": "5gxFVkdmQ-Tw"
   },
   "outputs": [],
   "source": [
    "def Acuracia(clf,X,y):\n",
    "    resultados = cross_val_predict(clf, X, y, cv=5)\n",
    "    return metrics.accuracy_score(y,resultados)"
   ]
  },
  {
   "cell_type": "markdown",
   "metadata": {
    "colab_type": "text",
    "id": "6cIDLoTvQ-Tz"
   },
   "source": [
    "## 5) Pre-processamento de dados"
   ]
  },
  {
   "cell_type": "code",
   "execution_count": 9,
   "metadata": {
    "colab": {},
    "colab_type": "code",
    "id": "BYVeZ3GgQ-Tz"
   },
   "outputs": [],
   "source": [
    "# def remove_features(lista_features):\n",
    "#     for i in lista_features:\n",
    "#         data.drop(i, axis=1, inplace=True)\n",
    "#     return 0"
   ]
  },
  {
   "cell_type": "markdown",
   "metadata": {
    "colab_type": "text",
    "id": "gZSzNmE_Q-U2"
   },
   "source": [
    "## 9) Support Vector Machines \n",
    "#### a) Preparando os pipes com as configurações do parâmetro C, Kernel e Normalização dos dados."
   ]
  },
  {
   "cell_type": "code",
   "execution_count": 10,
   "metadata": {
    "colab": {},
    "colab_type": "code",
    "id": "1ZaYtAtYQ-U3"
   },
   "outputs": [],
   "source": [
    "pip_1 = Pipeline([\n",
    "    ('scaler',StandardScaler()),\n",
    "    ('clf', svm.SVC())\n",
    "])\n",
    "\n",
    "pip_2 = Pipeline([\n",
    "    ('min_max_scaler', MinMaxScaler()),\n",
    "    ('clf', svm.SVC())\n",
    "])\n",
    "\n",
    "pip_3 = Pipeline([\n",
    "    ('scaler',StandardScaler()),\n",
    "    ('clf', svm.SVC(kernel='rbf'))\n",
    "])\n",
    "\n",
    "pip_4 = Pipeline([\n",
    "    ('scaler',StandardScaler()),\n",
    "    ('clf', svm.SVC(kernel='poly'))\n",
    "])\n",
    "\n",
    "pip_5 = Pipeline([\n",
    "    ('scaler',StandardScaler()),\n",
    "    ('clf', svm.SVC(kernel='linear'))\n",
    "])"
   ]
  },
  {
   "cell_type": "markdown",
   "metadata": {
    "colab_type": "text",
    "id": "WshhAhIIQ-U5"
   },
   "source": [
    "#### b) Teste com apenas LabelEncoder na coluna 'classes' usando o pipeline 'pip_1'"
   ]
  },
  {
   "cell_type": "code",
   "execution_count": 11,
   "metadata": {
    "colab": {
     "base_uri": "https://localhost:8080/",
     "height": 34
    },
    "colab_type": "code",
    "executionInfo": {
     "elapsed": 76281,
     "status": "ok",
     "timestamp": 1574419664115,
     "user": {
      "displayName": "André Rodrigues",
      "photoUrl": "https://lh3.googleusercontent.com/a-/AAuE7mC4VcoLAlPEtIAJVPWTppZJ9S3ou2QH75zgDkJrgn0=s64",
      "userId": "01975921740661022202"
     },
     "user_tz": 180
    },
    "id": "-Ch-etwXQ-U5",
    "outputId": "7ba4a537-79cb-47ec-e0c0-470484d170e9"
   },
   "outputs": [
    {
     "data": {
      "text/plain": [
       "0.8064922480620155"
      ]
     },
     "execution_count": 11,
     "metadata": {},
     "output_type": "execute_result"
    }
   ],
   "source": [
    "Acuracia(pip_1,df,classes)"
   ]
  },
  {
   "cell_type": "markdown",
   "metadata": {
    "colab_type": "text",
    "id": "X36QqfmFQ-U7"
   },
   "source": [
    "#### c) Teste com apenas LabelEncoder na coluna 'classes' usando o pipeline 'pip_2'"
   ]
  },
  {
   "cell_type": "code",
   "execution_count": 12,
   "metadata": {
    "colab": {
     "base_uri": "https://localhost:8080/",
     "height": 224
    },
    "colab_type": "code",
    "executionInfo": {
     "elapsed": 123069,
     "status": "ok",
     "timestamp": 1574419710909,
     "user": {
      "displayName": "André Rodrigues",
      "photoUrl": "https://lh3.googleusercontent.com/a-/AAuE7mC4VcoLAlPEtIAJVPWTppZJ9S3ou2QH75zgDkJrgn0=s64",
      "userId": "01975921740661022202"
     },
     "user_tz": 180
    },
    "id": "tqicOuKXQ-U8",
    "outputId": "2634e519-88cb-472a-9a2d-6cdeae0fa2a0"
   },
   "outputs": [
    {
     "name": "stderr",
     "output_type": "stream",
     "text": [
      "/Users/andrerodrigues/opt/anaconda3/lib/python3.7/site-packages/sklearn/svm/base.py:193: FutureWarning: The default value of gamma will change from 'auto' to 'scale' in version 0.22 to account better for unscaled features. Set gamma explicitly to 'auto' or 'scale' to avoid this warning.\n",
      "  \"avoid this warning.\", FutureWarning)\n",
      "/Users/andrerodrigues/opt/anaconda3/lib/python3.7/site-packages/sklearn/svm/base.py:193: FutureWarning: The default value of gamma will change from 'auto' to 'scale' in version 0.22 to account better for unscaled features. Set gamma explicitly to 'auto' or 'scale' to avoid this warning.\n",
      "  \"avoid this warning.\", FutureWarning)\n",
      "/Users/andrerodrigues/opt/anaconda3/lib/python3.7/site-packages/sklearn/svm/base.py:193: FutureWarning: The default value of gamma will change from 'auto' to 'scale' in version 0.22 to account better for unscaled features. Set gamma explicitly to 'auto' or 'scale' to avoid this warning.\n",
      "  \"avoid this warning.\", FutureWarning)\n",
      "/Users/andrerodrigues/opt/anaconda3/lib/python3.7/site-packages/sklearn/svm/base.py:193: FutureWarning: The default value of gamma will change from 'auto' to 'scale' in version 0.22 to account better for unscaled features. Set gamma explicitly to 'auto' or 'scale' to avoid this warning.\n",
      "  \"avoid this warning.\", FutureWarning)\n",
      "/Users/andrerodrigues/opt/anaconda3/lib/python3.7/site-packages/sklearn/svm/base.py:193: FutureWarning: The default value of gamma will change from 'auto' to 'scale' in version 0.22 to account better for unscaled features. Set gamma explicitly to 'auto' or 'scale' to avoid this warning.\n",
      "  \"avoid this warning.\", FutureWarning)\n"
     ]
    },
    {
     "data": {
      "text/plain": [
       "0.5961240310077519"
      ]
     },
     "execution_count": 12,
     "metadata": {},
     "output_type": "execute_result"
    }
   ],
   "source": [
    "Acuracia(pip_2,df,classes)"
   ]
  },
  {
   "cell_type": "markdown",
   "metadata": {
    "colab_type": "text",
    "id": "a9OL5wk9Q-U-"
   },
   "source": [
    "#### d) Testando Kernels \n",
    "##### Kernel rbf"
   ]
  },
  {
   "cell_type": "code",
   "execution_count": 13,
   "metadata": {
    "colab": {
     "base_uri": "https://localhost:8080/",
     "height": 34
    },
    "colab_type": "code",
    "executionInfo": {
     "elapsed": 143954,
     "status": "ok",
     "timestamp": 1574419731800,
     "user": {
      "displayName": "André Rodrigues",
      "photoUrl": "https://lh3.googleusercontent.com/a-/AAuE7mC4VcoLAlPEtIAJVPWTppZJ9S3ou2QH75zgDkJrgn0=s64",
      "userId": "01975921740661022202"
     },
     "user_tz": 180
    },
    "id": "Rp4f1zzlQ-U-",
    "outputId": "ca398221-47e4-4d6b-8068-5abe975df940"
   },
   "outputs": [
    {
     "data": {
      "text/plain": [
       "0.8064922480620155"
      ]
     },
     "execution_count": 13,
     "metadata": {},
     "output_type": "execute_result"
    }
   ],
   "source": [
    "Acuracia(pip_3,df,classes)"
   ]
  },
  {
   "cell_type": "markdown",
   "metadata": {
    "colab_type": "text",
    "id": "miN9HRLTQ-VA"
   },
   "source": [
    "##### Kernel Polynomial"
   ]
  },
  {
   "cell_type": "code",
   "execution_count": 14,
   "metadata": {
    "colab": {
     "base_uri": "https://localhost:8080/",
     "height": 34
    },
    "colab_type": "code",
    "executionInfo": {
     "elapsed": 159206,
     "status": "ok",
     "timestamp": 1574419747058,
     "user": {
      "displayName": "André Rodrigues",
      "photoUrl": "https://lh3.googleusercontent.com/a-/AAuE7mC4VcoLAlPEtIAJVPWTppZJ9S3ou2QH75zgDkJrgn0=s64",
      "userId": "01975921740661022202"
     },
     "user_tz": 180
    },
    "id": "ZqTsQvQLQ-VB",
    "outputId": "578b32d8-c3de-4319-a623-490faba66e65"
   },
   "outputs": [
    {
     "data": {
      "text/plain": [
       "0.7914728682170543"
      ]
     },
     "execution_count": 14,
     "metadata": {},
     "output_type": "execute_result"
    }
   ],
   "source": [
    "Acuracia(pip_4,df,classes)"
   ]
  },
  {
   "cell_type": "markdown",
   "metadata": {
    "colab_type": "text",
    "id": "FAan3sejQ-VC"
   },
   "source": [
    "##### Kernel Linear"
   ]
  },
  {
   "cell_type": "code",
   "execution_count": 15,
   "metadata": {
    "colab": {
     "base_uri": "https://localhost:8080/",
     "height": 34
    },
    "colab_type": "code",
    "executionInfo": {
     "elapsed": 171800,
     "status": "ok",
     "timestamp": 1574419759658,
     "user": {
      "displayName": "André Rodrigues",
      "photoUrl": "https://lh3.googleusercontent.com/a-/AAuE7mC4VcoLAlPEtIAJVPWTppZJ9S3ou2QH75zgDkJrgn0=s64",
      "userId": "01975921740661022202"
     },
     "user_tz": 180
    },
    "id": "0HACckOPQ-VE",
    "outputId": "324019a4-bf33-4cd9-d91e-7111d5d68c07"
   },
   "outputs": [
    {
     "data": {
      "text/plain": [
       "0.7749515503875969"
      ]
     },
     "execution_count": 15,
     "metadata": {},
     "output_type": "execute_result"
    }
   ],
   "source": [
    "Acuracia(pip_5,df,classes)"
   ]
  },
  {
   "cell_type": "markdown",
   "metadata": {
    "colab_type": "text",
    "id": "lzimLr_fQ-VG"
   },
   "source": [
    "## 9) GridSearch"
   ]
  },
  {
   "cell_type": "code",
   "execution_count": 16,
   "metadata": {
    "colab": {},
    "colab_type": "code",
    "id": "CzjiK_QBQ-VH"
   },
   "outputs": [],
   "source": [
    "from sklearn.model_selection import GridSearchCV\n",
    "\n",
    "lista_C = [0.001, 0.01, 0.1, 1, 10,100]\n",
    "lista_gamma = [0.001, 0.01, 0.1, 1, 10, 100]"
   ]
  },
  {
   "cell_type": "code",
   "execution_count": 17,
   "metadata": {
    "colab": {},
    "colab_type": "code",
    "id": "YldOdduzQ-VI"
   },
   "outputs": [],
   "source": [
    "parametros_grid = dict(clf__C=lista_C, clf__gamma=lista_gamma)"
   ]
  },
  {
   "cell_type": "markdown",
   "metadata": {
    "colab_type": "text",
    "id": "MOxt9onsQ-VL"
   },
   "source": [
    "#### a) Faz o tuning dos parametros testando cada combinação utilziando CrossValidation com 10 folds e analisando a acurácia"
   ]
  },
  {
   "cell_type": "code",
   "execution_count": 18,
   "metadata": {
    "colab": {},
    "colab_type": "code",
    "id": "a5R_1ZeyQ-VM"
   },
   "outputs": [],
   "source": [
    "grid = GridSearchCV(pip_3, parametros_grid, cv=10, scoring='accuracy')"
   ]
  },
  {
   "cell_type": "code",
   "execution_count": 19,
   "metadata": {
    "colab": {
     "base_uri": "https://localhost:8080/",
     "height": 462
    },
    "colab_type": "code",
    "executionInfo": {
     "elapsed": 518,
     "status": "ok",
     "timestamp": 1574429977084,
     "user": {
      "displayName": "André Rodrigues",
      "photoUrl": "https://lh3.googleusercontent.com/a-/AAuE7mC4VcoLAlPEtIAJVPWTppZJ9S3ou2QH75zgDkJrgn0=s64",
      "userId": "01975921740661022202"
     },
     "user_tz": 180
    },
    "id": "f76YzJM9Q-VO",
    "outputId": "c61bec01-e5f5-4493-94e0-7a7cd2dbf354"
   },
   "outputs": [
    {
     "name": "stderr",
     "output_type": "stream",
     "text": [
      "/Users/andrerodrigues/opt/anaconda3/lib/python3.7/site-packages/sklearn/model_selection/_split.py:657: Warning: The least populated class in y has only 5 members, which is too few. The minimum number of members in any class cannot be less than n_splits=10.\n",
      "  % (min_groups, self.n_splits)), Warning)\n"
     ]
    },
    {
     "data": {
      "text/plain": [
       "GridSearchCV(cv=10, error_score='raise-deprecating',\n",
       "             estimator=Pipeline(memory=None,\n",
       "                                steps=[('scaler',\n",
       "                                        StandardScaler(copy=True,\n",
       "                                                       with_mean=True,\n",
       "                                                       with_std=True)),\n",
       "                                       ('clf',\n",
       "                                        SVC(C=1.0, cache_size=200,\n",
       "                                            class_weight=None, coef0=0.0,\n",
       "                                            decision_function_shape='ovr',\n",
       "                                            degree=3, gamma='auto_deprecated',\n",
       "                                            kernel='rbf', max_iter=-1,\n",
       "                                            probability=False,\n",
       "                                            random_state=None, shrinking=True,\n",
       "                                            tol=0.001, verbose=False))],\n",
       "                                verbose=False),\n",
       "             iid='warn', n_jobs=None,\n",
       "             param_grid={'clf__C': [0.001, 0.01, 0.1, 1, 10, 100],\n",
       "                         'clf__gamma': [0.001, 0.01, 0.1, 1, 10, 100]},\n",
       "             pre_dispatch='2*n_jobs', refit=True, return_train_score=False,\n",
       "             scoring='accuracy', verbose=0)"
      ]
     },
     "execution_count": 19,
     "metadata": {},
     "output_type": "execute_result"
    }
   ],
   "source": [
    "grid.fit(df,classes)"
   ]
  },
  {
   "cell_type": "code",
   "execution_count": 23,
   "metadata": {
    "colab": {
     "base_uri": "https://localhost:8080/",
     "height": 1000
    },
    "colab_type": "code",
    "executionInfo": {
     "elapsed": 151,
     "status": "ok",
     "timestamp": 1574429977095,
     "user": {
      "displayName": "André Rodrigues",
      "photoUrl": "https://lh3.googleusercontent.com/a-/AAuE7mC4VcoLAlPEtIAJVPWTppZJ9S3ou2QH75zgDkJrgn0=s64",
      "userId": "01975921740661022202"
     },
     "user_tz": 180
    },
    "id": "S-gno_33Q-VR",
    "outputId": "70cbbe59-40b7-404a-a119-ae1b6ea320fd"
   },
   "outputs": [
    {
     "data": {
      "text/plain": [
       "{'mean_fit_time': array([11.95455461, 11.99989352, 12.64192593, 12.77619779, 13.34505432,\n",
       "        16.1200505 , 12.69238286, 13.44576983,  9.67682428, 13.1132473 ,\n",
       "        24.64275191, 31.66997061, 11.6857105 ,  5.87732592,  2.98271687,\n",
       "         8.87172487, 32.68143523, 41.12402542,  5.75126743,  2.19478297,\n",
       "         1.55494006,  7.4189306 , 40.34208546, 47.7613169 ,  2.16110573,\n",
       "         1.29801109,  1.42495501,  7.36705437, 42.29419589, 51.5440706 ,\n",
       "         1.35669022,  1.30913668,  1.65786629,  7.38282852, 42.19856837,\n",
       "        51.61856177]),\n",
       " 'std_fit_time': array([0.14642359, 0.24080167, 0.22524522, 0.51081289, 0.56643346,\n",
       "        1.51778675, 0.8828497 , 0.71000304, 0.71811564, 0.2904331 ,\n",
       "        0.23539769, 0.25329293, 0.09295262, 0.02540758, 0.02463476,\n",
       "        0.12051416, 0.18913444, 0.32742822, 0.09529462, 0.01469355,\n",
       "        0.01030928, 0.06906464, 0.15351249, 0.31568462, 0.01742822,\n",
       "        0.01087162, 0.01073107, 0.08837224, 0.57316649, 0.24595884,\n",
       "        0.01378405, 0.00853521, 0.01279574, 0.0872133 , 0.54843813,\n",
       "        0.29757551]),\n",
       " 'mean_score_time': array([2.87805605, 2.88659811, 2.92658517, 3.00119936, 3.2686661 ,\n",
       "        3.53893278, 3.06951594, 3.30712061, 3.14474993, 2.79435184,\n",
       "        3.03822401, 3.87290366, 2.89657383, 2.74827945, 2.17974923,\n",
       "        2.05827441, 3.03166075, 4.04276757, 2.78726239, 2.12902727,\n",
       "        1.50705178, 1.42870522, 2.87049398, 4.00205483, 2.12773259,\n",
       "        1.5107641 , 1.14174757, 1.25329509, 2.87401624, 3.9972872 ,\n",
       "        1.51496921, 1.20048828, 0.95561152, 1.20470471, 2.88000829,\n",
       "        3.97865663]),\n",
       " 'std_score_time': array([0.04422032, 0.03774784, 0.04001131, 0.27802323, 0.21810997,\n",
       "        0.26866719, 0.26929192, 0.19765883, 0.24051986, 0.09614767,\n",
       "        0.05279368, 0.05541369, 0.02190482, 0.01660574, 0.01659108,\n",
       "        0.02901272, 0.02235987, 0.07254837, 0.06394216, 0.02133474,\n",
       "        0.01530458, 0.01601484, 0.02809713, 0.06536887, 0.02302498,\n",
       "        0.01671708, 0.0125599 , 0.01830335, 0.05309939, 0.04231871,\n",
       "        0.01714006, 0.01138422, 0.01268935, 0.02184992, 0.06093632,\n",
       "        0.05199053]),\n",
       " 'param_clf__C': masked_array(data=[0.001, 0.001, 0.001, 0.001, 0.001, 0.001, 0.01, 0.01,\n",
       "                    0.01, 0.01, 0.01, 0.01, 0.1, 0.1, 0.1, 0.1, 0.1, 0.1,\n",
       "                    1, 1, 1, 1, 1, 1, 10, 10, 10, 10, 10, 10, 100, 100,\n",
       "                    100, 100, 100, 100],\n",
       "              mask=[False, False, False, False, False, False, False, False,\n",
       "                    False, False, False, False, False, False, False, False,\n",
       "                    False, False, False, False, False, False, False, False,\n",
       "                    False, False, False, False, False, False, False, False,\n",
       "                    False, False, False, False],\n",
       "        fill_value='?',\n",
       "             dtype=object),\n",
       " 'param_clf__gamma': masked_array(data=[0.001, 0.01, 0.1, 1, 10, 100, 0.001, 0.01, 0.1, 1, 10,\n",
       "                    100, 0.001, 0.01, 0.1, 1, 10, 100, 0.001, 0.01, 0.1, 1,\n",
       "                    10, 100, 0.001, 0.01, 0.1, 1, 10, 100, 0.001, 0.01,\n",
       "                    0.1, 1, 10, 100],\n",
       "              mask=[False, False, False, False, False, False, False, False,\n",
       "                    False, False, False, False, False, False, False, False,\n",
       "                    False, False, False, False, False, False, False, False,\n",
       "                    False, False, False, False, False, False, False, False,\n",
       "                    False, False, False, False],\n",
       "        fill_value='?',\n",
       "             dtype=object),\n",
       " 'params': [{'clf__C': 0.001, 'clf__gamma': 0.001},\n",
       "  {'clf__C': 0.001, 'clf__gamma': 0.01},\n",
       "  {'clf__C': 0.001, 'clf__gamma': 0.1},\n",
       "  {'clf__C': 0.001, 'clf__gamma': 1},\n",
       "  {'clf__C': 0.001, 'clf__gamma': 10},\n",
       "  {'clf__C': 0.001, 'clf__gamma': 100},\n",
       "  {'clf__C': 0.01, 'clf__gamma': 0.001},\n",
       "  {'clf__C': 0.01, 'clf__gamma': 0.01},\n",
       "  {'clf__C': 0.01, 'clf__gamma': 0.1},\n",
       "  {'clf__C': 0.01, 'clf__gamma': 1},\n",
       "  {'clf__C': 0.01, 'clf__gamma': 10},\n",
       "  {'clf__C': 0.01, 'clf__gamma': 100},\n",
       "  {'clf__C': 0.1, 'clf__gamma': 0.001},\n",
       "  {'clf__C': 0.1, 'clf__gamma': 0.01},\n",
       "  {'clf__C': 0.1, 'clf__gamma': 0.1},\n",
       "  {'clf__C': 0.1, 'clf__gamma': 1},\n",
       "  {'clf__C': 0.1, 'clf__gamma': 10},\n",
       "  {'clf__C': 0.1, 'clf__gamma': 100},\n",
       "  {'clf__C': 1, 'clf__gamma': 0.001},\n",
       "  {'clf__C': 1, 'clf__gamma': 0.01},\n",
       "  {'clf__C': 1, 'clf__gamma': 0.1},\n",
       "  {'clf__C': 1, 'clf__gamma': 1},\n",
       "  {'clf__C': 1, 'clf__gamma': 10},\n",
       "  {'clf__C': 1, 'clf__gamma': 100},\n",
       "  {'clf__C': 10, 'clf__gamma': 0.001},\n",
       "  {'clf__C': 10, 'clf__gamma': 0.01},\n",
       "  {'clf__C': 10, 'clf__gamma': 0.1},\n",
       "  {'clf__C': 10, 'clf__gamma': 1},\n",
       "  {'clf__C': 10, 'clf__gamma': 10},\n",
       "  {'clf__C': 10, 'clf__gamma': 100},\n",
       "  {'clf__C': 100, 'clf__gamma': 0.001},\n",
       "  {'clf__C': 100, 'clf__gamma': 0.01},\n",
       "  {'clf__C': 100, 'clf__gamma': 0.1},\n",
       "  {'clf__C': 100, 'clf__gamma': 1},\n",
       "  {'clf__C': 100, 'clf__gamma': 10},\n",
       "  {'clf__C': 100, 'clf__gamma': 100}],\n",
       " 'split0_test_score': array([0.13093525, 0.13093525, 0.23069544, 0.13093525, 0.13093525,\n",
       "        0.13093525, 0.13093525, 0.27242206, 0.58609113, 0.40767386,\n",
       "        0.13093525, 0.13093525, 0.28201439, 0.63069544, 0.74868106,\n",
       "        0.73285372, 0.15971223, 0.13093525, 0.63117506, 0.74244604,\n",
       "        0.79856115, 0.84364508, 0.48441247, 0.13093525, 0.74052758,\n",
       "        0.77026379, 0.82589928, 0.84940048, 0.51127098, 0.13141487,\n",
       "        0.76354916, 0.79376499, 0.83980815, 0.83213429, 0.51127098,\n",
       "        0.13141487]),\n",
       " 'split1_test_score': array([0.13118693, 0.13118693, 0.20422874, 0.13118693, 0.13118693,\n",
       "        0.13118693, 0.13118693, 0.27438731, 0.57952907, 0.34358481,\n",
       "        0.13118693, 0.13118693, 0.28640077, 0.63094666, 0.76261413,\n",
       "        0.75636713, 0.15185007, 0.13118693, 0.63719366, 0.74819798,\n",
       "        0.80442095, 0.85199423, 0.45891398, 0.13118693, 0.74483421,\n",
       "        0.78760211, 0.83709755, 0.86641038, 0.49351273, 0.13166747,\n",
       "        0.77174435, 0.80730418, 0.84430562, 0.86977415, 0.49351273,\n",
       "        0.13166747]),\n",
       " 'split2_test_score': array([0.13102119, 0.13102119, 0.15655106, 0.13102119, 0.13102119,\n",
       "        0.13102119, 0.13102119, 0.21242775, 0.5756262 , 0.3911368 ,\n",
       "        0.13102119, 0.13102119, 0.23025048, 0.63535645, 0.80491329,\n",
       "        0.76926782, 0.14643545, 0.13102119, 0.64065511, 0.78853565,\n",
       "        0.83526012, 0.85934489, 0.4561657 , 0.13102119, 0.78468208,\n",
       "        0.8150289 , 0.83622351, 0.85597303, 0.49084778, 0.13198459,\n",
       "        0.80250482, 0.81791908, 0.8371869 , 0.84874759, 0.49084778,\n",
       "        0.13198459]),\n",
       " 'split3_test_score': array([0.13152805, 0.13152805, 0.21808511, 0.13152805, 0.13152805,\n",
       "        0.13152805, 0.13152805, 0.25580271, 0.5884913 , 0.40860735,\n",
       "        0.13152805, 0.13152805, 0.27369439, 0.64651838, 0.7901354 ,\n",
       "        0.77514507, 0.15522244, 0.13152805, 0.65232108, 0.7877176 ,\n",
       "        0.82930368, 0.86895551, 0.47485493, 0.13152805, 0.7877176 ,\n",
       "        0.81237911, 0.85106383, 0.86460348, 0.50580271, 0.13201161,\n",
       "        0.80367505, 0.81431335, 0.85783366, 0.8573501 , 0.50580271,\n",
       "        0.13201161]),\n",
       " 'split4_test_score': array([0.13165537, 0.13165537, 0.23523717, 0.13165537, 0.13165537,\n",
       "        0.13165537, 0.13165537, 0.27153921, 0.5929332 , 0.35769603,\n",
       "        0.13165537, 0.13165537, 0.29332043, 0.64811229, 0.78896418,\n",
       "        0.75992256, 0.14375605, 0.13165537, 0.65343659, 0.77783156,\n",
       "        0.82962246, 0.87173282, 0.44046467, 0.1321394 , 0.77444337,\n",
       "        0.80880929, 0.84607938, 0.88141336, 0.48886738, 0.13310745,\n",
       "        0.79767667, 0.83010649, 0.85914811, 0.87270087, 0.48838335,\n",
       "        0.13310745]),\n",
       " 'split5_test_score': array([0.13191077, 0.13191077, 0.23811833, 0.13191077, 0.13191077,\n",
       "        0.13191077, 0.13191077, 0.2613967 , 0.58729389, 0.41658584,\n",
       "        0.13191077, 0.13191077, 0.27643065, 0.64209505, 0.78370514,\n",
       "        0.78370514, 0.17458778, 0.13191077, 0.64597478, 0.78031038,\n",
       "        0.83268671, 0.87439379, 0.5543162 , 0.13385063, 0.77788555,\n",
       "        0.81522793, 0.85208535, 0.88069835, 0.58923375, 0.13724539,\n",
       "        0.80116392, 0.82347236, 0.86275461, 0.87342386, 0.58923375,\n",
       "        0.13724539]),\n",
       " 'split6_test_score': array([0.13203883, 0.13203883, 0.22961165, 0.13203883, 0.13203883,\n",
       "        0.13203883, 0.13203883, 0.25776699, 0.59417476, 0.37378641,\n",
       "        0.13203883, 0.13203883, 0.27718447, 0.64805825, 0.78009709,\n",
       "        0.73592233, 0.18883495, 0.13203883, 0.65291262, 0.7815534 ,\n",
       "        0.80825243, 0.84854369, 0.4461165 , 0.13252427, 0.78058252,\n",
       "        0.79174757, 0.82669903, 0.86262136, 0.47427184, 0.13446602,\n",
       "        0.78786408, 0.79951456, 0.83446602, 0.84757282, 0.47475728,\n",
       "        0.13446602]),\n",
       " 'split7_test_score': array([0.1323601 , 0.1323601 , 0.2379562 , 0.1323601 , 0.1323601 ,\n",
       "        0.1323601 , 0.1323601 , 0.27542579, 0.63698297, 0.39318735,\n",
       "        0.1323601 , 0.1323601 , 0.27883212, 0.69099757, 0.80097324,\n",
       "        0.7703163 , 0.1620438 , 0.1323601 , 0.69537713, 0.78832117,\n",
       "        0.8296837 , 0.87347932, 0.42043796, 0.1323601 , 0.7892944 ,\n",
       "        0.8189781 , 0.85206813, 0.87445255, 0.4486618 , 0.13479319,\n",
       "        0.80583942, 0.82384428, 0.86666667, 0.87104623, 0.4486618 ,\n",
       "        0.13479319]),\n",
       " 'split8_test_score': array([0.13294233, 0.13294233, 0.23949169, 0.13294233, 0.13294233,\n",
       "        0.13294233, 0.13294233, 0.27956989, 0.59090909, 0.35630499,\n",
       "        0.13294233, 0.13294233, 0.2913001 , 0.64369501, 0.74193548,\n",
       "        0.72776149, 0.15347019, 0.13294233, 0.64662757, 0.7370479 ,\n",
       "        0.78592375, 0.85532747, 0.45650049, 0.13294233, 0.73558162,\n",
       "        0.75855327, 0.82258065, 0.86168133, 0.48631476, 0.13391984,\n",
       "        0.75219941, 0.78445748, 0.84652981, 0.85288368, 0.48631476,\n",
       "        0.13391984]),\n",
       " 'split9_test_score': array([0.13326801, 0.13326801, 0.16952474, 0.13326801, 0.13326801,\n",
       "        0.13326801, 0.13326801, 0.24301813, 0.56687898, 0.3233709 ,\n",
       "        0.13326801, 0.13326801, 0.25820676, 0.61538462, 0.74718275,\n",
       "        0.69867712, 0.14992651, 0.13326801, 0.62028417, 0.74032337,\n",
       "        0.78245958, 0.80695737, 0.37236649, 0.13326801, 0.73591377,\n",
       "        0.76629103, 0.78294953, 0.81185693, 0.39686428, 0.13424792,\n",
       "        0.75992161, 0.76580108, 0.79372856, 0.80597746, 0.39686428,\n",
       "        0.13424792]),\n",
       " 'mean_test_score': array([0.13187984, 0.13187984, 0.21593992, 0.13187984, 0.13187984,\n",
       "        0.13187984, 0.13187984, 0.26036822, 0.58987403, 0.37727713,\n",
       "        0.13187984, 0.13187984, 0.27475775, 0.6431686 , 0.77495155,\n",
       "        0.75106589, 0.15857558, 0.13187984, 0.64757752, 0.76724806,\n",
       "        0.81366279, 0.85547481, 0.45658915, 0.13217054, 0.76516473,\n",
       "        0.79452519, 0.83333333, 0.86094961, 0.48871124, 0.13347868,\n",
       "        0.78464147, 0.80610465, 0.84428295, 0.85319767, 0.48871124,\n",
       "        0.13347868]),\n",
       " 'std_test_score': array([0.00074711, 0.00074711, 0.02850244, 0.00074711, 0.00074711,\n",
       "        0.00074711, 0.00074711, 0.01923301, 0.01759673, 0.02959009,\n",
       "        0.00074711, 0.00074711, 0.01759452, 0.01863097, 0.02191189,\n",
       "        0.0250411 , 0.01306916, 0.00074711, 0.01878545, 0.02100672,\n",
       "        0.0191248 , 0.01916068, 0.04398704, 0.00094986, 0.02168193,\n",
       "        0.02166008, 0.01981326, 0.01892085, 0.04591542, 0.00172614,\n",
       "        0.01961935, 0.01915365, 0.01986004, 0.02026233, 0.04590053,\n",
       "        0.00172614]),\n",
       " 'rank_test_score': array([28, 28, 23, 28, 28, 28, 28, 22, 16, 20, 28, 28, 21, 15, 10, 13, 24,\n",
       "        28, 14, 11,  6,  2, 19, 27, 12,  8,  5,  1, 17, 25,  9,  7,  4,  3,\n",
       "        17, 25], dtype=int32)}"
      ]
     },
     "execution_count": 23,
     "metadata": {},
     "output_type": "execute_result"
    }
   ],
   "source": [
    "grid.cv_results_"
   ]
  },
  {
   "cell_type": "code",
   "execution_count": 24,
   "metadata": {
    "colab": {
     "base_uri": "https://localhost:8080/",
     "height": 34
    },
    "colab_type": "code",
    "executionInfo": {
     "elapsed": 129,
     "status": "ok",
     "timestamp": 1574429977098,
     "user": {
      "displayName": "André Rodrigues",
      "photoUrl": "https://lh3.googleusercontent.com/a-/AAuE7mC4VcoLAlPEtIAJVPWTppZJ9S3ou2QH75zgDkJrgn0=s64",
      "userId": "01975921740661022202"
     },
     "user_tz": 180
    },
    "id": "BWQRqxiuQ-VT",
    "outputId": "7c83e0a0-5225-4e95-d8c3-a1701a964be4"
   },
   "outputs": [
    {
     "data": {
      "text/plain": [
       "{'clf__C': 10, 'clf__gamma': 1}"
      ]
     },
     "execution_count": 24,
     "metadata": {},
     "output_type": "execute_result"
    }
   ],
   "source": [
    "grid.best_params_"
   ]
  },
  {
   "cell_type": "code",
   "execution_count": 25,
   "metadata": {
    "colab": {
     "base_uri": "https://localhost:8080/",
     "height": 34
    },
    "colab_type": "code",
    "executionInfo": {
     "elapsed": 108,
     "status": "ok",
     "timestamp": 1574429977100,
     "user": {
      "displayName": "André Rodrigues",
      "photoUrl": "https://lh3.googleusercontent.com/a-/AAuE7mC4VcoLAlPEtIAJVPWTppZJ9S3ou2QH75zgDkJrgn0=s64",
      "userId": "01975921740661022202"
     },
     "user_tz": 180
    },
    "id": "O85xG07NQ-VU",
    "outputId": "29670c20-0ae1-4eba-e0ad-edcee8681447"
   },
   "outputs": [
    {
     "data": {
      "text/plain": [
       "0.8609496124031008"
      ]
     },
     "execution_count": 25,
     "metadata": {},
     "output_type": "execute_result"
    }
   ],
   "source": [
    "grid.best_score_"
   ]
  },
  {
   "cell_type": "markdown",
   "metadata": {
    "colab_type": "text",
    "id": "EuCrDJ3cQ-VW"
   },
   "source": [
    "#### b) Métricas de Avaliação de Modelos"
   ]
  },
  {
   "cell_type": "code",
   "execution_count": 26,
   "metadata": {
    "colab": {},
    "colab_type": "code",
    "id": "cYIqW9-SQ-VW"
   },
   "outputs": [],
   "source": [
    "pip_6 = Pipeline([\n",
    "('scaler',StandardScaler()),\n",
    "('clf', svm.SVC(kernel='rbf',C=10,gamma=1))\n",
    "])"
   ]
  },
  {
   "cell_type": "code",
   "execution_count": 27,
   "metadata": {
    "colab": {
     "base_uri": "https://localhost:8080/",
     "height": 71
    },
    "colab_type": "code",
    "executionInfo": {
     "elapsed": 66,
     "status": "ok",
     "timestamp": 1574429977104,
     "user": {
      "displayName": "André Rodrigues",
      "photoUrl": "https://lh3.googleusercontent.com/a-/AAuE7mC4VcoLAlPEtIAJVPWTppZJ9S3ou2QH75zgDkJrgn0=s64",
      "userId": "01975921740661022202"
     },
     "user_tz": 180
    },
    "id": "U_bKyzdjQ-VY",
    "outputId": "f9252f29-6528-49c2-881e-ecc4b3518e40"
   },
   "outputs": [
    {
     "name": "stderr",
     "output_type": "stream",
     "text": [
      "/Users/andrerodrigues/opt/anaconda3/lib/python3.7/site-packages/sklearn/model_selection/_split.py:657: Warning: The least populated class in y has only 5 members, which is too few. The minimum number of members in any class cannot be less than n_splits=10.\n",
      "  % (min_groups, self.n_splits)), Warning)\n"
     ]
    }
   ],
   "source": [
    "resultados = cross_val_predict(pip_6, df, classes, cv=10)"
   ]
  },
  {
   "cell_type": "code",
   "execution_count": 28,
   "metadata": {
    "colab": {
     "base_uri": "https://localhost:8080/",
     "height": 561
    },
    "colab_type": "code",
    "executionInfo": {
     "elapsed": 41,
     "status": "ok",
     "timestamp": 1574429977106,
     "user": {
      "displayName": "André Rodrigues",
      "photoUrl": "https://lh3.googleusercontent.com/a-/AAuE7mC4VcoLAlPEtIAJVPWTppZJ9S3ou2QH75zgDkJrgn0=s64",
      "userId": "01975921740661022202"
     },
     "user_tz": 180
    },
    "id": "-dgLWlSyQ-Va",
    "outputId": "82bfec3c-3de6-4853-ef59-dcf727165cec"
   },
   "outputs": [
    {
     "name": "stdout",
     "output_type": "stream",
     "text": [
      "              precision    recall  f1-score   support\n",
      "\n",
      "           1       0.90      0.92      0.91       483\n",
      "           2       0.85      0.86      0.86       639\n",
      "           3       0.86      0.87      0.87       909\n",
      "           4       0.91      0.92      0.92      2188\n",
      "           5       0.92      0.89      0.91       113\n",
      "           6       0.85      0.86      0.85       697\n",
      "           7       0.88      0.89      0.88      1091\n",
      "           8       0.88      0.90      0.89      1214\n",
      "           9       0.83      0.79      0.81      1220\n",
      "          10       0.84      0.85      0.85       725\n",
      "          11       0.89      0.93      0.91       210\n",
      "          12       0.88      0.88      0.88      2722\n",
      "          13       0.87      0.84      0.85       341\n",
      "          14       0.84      0.79      0.81       319\n",
      "          15       0.00      0.00      0.00        13\n",
      "          16       0.95      0.89      0.92        98\n",
      "          17       0.80      0.72      0.76       248\n",
      "          18       0.88      0.88      0.88       463\n",
      "          19       0.86      0.86      0.86       715\n",
      "          20       0.90      0.87      0.89      1321\n",
      "          21       0.79      0.69      0.73        48\n",
      "          22       0.87      0.81      0.84       125\n",
      "          23       0.91      0.92      0.91       318\n",
      "          24       0.84      0.77      0.80       361\n",
      "          25       0.90      0.87      0.88       246\n",
      "          26       0.89      0.88      0.88       440\n",
      "          27       0.87      0.93      0.90       962\n",
      "          28       0.53      0.88      0.66       490\n",
      "          29       0.89      0.84      0.86       138\n",
      "          30       0.79      0.79      0.79       329\n",
      "          31       0.89      0.85      0.87       398\n",
      "          32       0.78      0.67      0.72        93\n",
      "          33       0.90      0.40      0.55        48\n",
      "          34       1.00      0.32      0.48        19\n",
      "          35       0.87      0.85      0.86       212\n",
      "          36       0.90      0.81      0.85       186\n",
      "          37       0.91      0.79      0.85       102\n",
      "          38       1.00      0.20      0.33        20\n",
      "          39       1.00      0.42      0.59        12\n",
      "          40       0.83      0.55      0.66        53\n",
      "          41       1.00      0.57      0.73        40\n",
      "          42       0.82      0.58      0.68        77\n",
      "          43       0.00      0.00      0.00         8\n",
      "          44       0.92      0.90      0.91        67\n",
      "          45       1.00      0.14      0.25        14\n",
      "          46       0.83      0.66      0.74        53\n",
      "          47       1.00      0.76      0.86        33\n",
      "          48       0.00      0.00      0.00         7\n",
      "          49       0.00      0.00      0.00         7\n",
      "          50       0.00      0.00      0.00         5\n",
      "\n",
      "    accuracy                           0.86     20640\n",
      "   macro avg       0.79      0.69      0.71     20640\n",
      "weighted avg       0.86      0.86      0.86     20640\n",
      "\n"
     ]
    },
    {
     "name": "stderr",
     "output_type": "stream",
     "text": [
      "/Users/andrerodrigues/opt/anaconda3/lib/python3.7/site-packages/sklearn/metrics/classification.py:1437: UndefinedMetricWarning: Precision and F-score are ill-defined and being set to 0.0 in labels with no predicted samples.\n",
      "  'precision', 'predicted', average, warn_for)\n"
     ]
    }
   ],
   "source": [
    "c_names = [str(i) for i in np.unique(classes)]\n",
    "print (metrics.classification_report(classes,resultados,target_names=c_names))"
   ]
  },
  {
   "cell_type": "code",
   "execution_count": null,
   "metadata": {},
   "outputs": [],
   "source": []
  }
 ],
 "metadata": {
  "colab": {
   "collapsed_sections": [],
   "name": "ML_Trabalho8_07-SVM_SOM.ipynb",
   "provenance": [
    {
     "file_id": "1YdtwImfzQVSLZ0HK9pgsIfL29O7TMTI6",
     "timestamp": 1574153920649
    }
   ]
  },
  "kernelspec": {
   "display_name": "Python 3",
   "language": "python",
   "name": "python3"
  },
  "language_info": {
   "codemirror_mode": {
    "name": "ipython",
    "version": 3
   },
   "file_extension": ".py",
   "mimetype": "text/x-python",
   "name": "python",
   "nbconvert_exporter": "python",
   "pygments_lexer": "ipython3",
   "version": "3.7.4"
  }
 },
 "nbformat": 4,
 "nbformat_minor": 4
}
