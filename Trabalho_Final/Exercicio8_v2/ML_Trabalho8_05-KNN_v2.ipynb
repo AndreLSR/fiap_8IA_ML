{
 "cells": [
  {
   "cell_type": "markdown",
   "metadata": {},
   "source": [
    "## K-Nearest Neighbors\n",
    "* Usado para classificar objetos com base em exemplos de treinamento que estão mais próximos no espaço de características.\n",
    "* Pré-requisitos:\n",
    "  + Um conjunto de treinamento de exemplos;\n",
    "  + Definir uma métrica (função) para calcular a distância entre as amostras de treinamento;\n",
    "  + Definir o valor de K (o número de vizinhos mais próximos que serão considerados pelo algoritmo).\n",
    "* Processo de Classificação:\n",
    "  + Calcular a distância entre o exemplo desconhecido e o outros exemplos do conjunto de treinamento;\n",
    "  + Identificar os K vizinhos mais próximos; \n",
    "  + Utilizar o rotulo da classe dos vizinhos mais próximos para determinar o rótulo de classe do exemplo desconhecido (votação majoritária);\n",
    "* Vantagens:\n",
    "  + Simples e de fácil implementação.\n",
    "  + Em diversos casos apresenta ótimos resultados.\n",
    "* Desvantagens:\n",
    "  + A calibragem do parâmetro k pode levar tempo.\n",
    "    - Se K for muito pequeno, a classificação fica sensível a pontos de ruído. \n",
    "    - Se k é muito grande, a vizinhança pode incluir elementos de outras classes.\n",
    "  + Precisão perde acurácia se houverem ruído ou características irrelevantes.\n",
    "  + Necessita de dados normalizados."
   ]
  },
  {
   "cell_type": "code",
   "execution_count": 1,
   "metadata": {},
   "outputs": [],
   "source": [
    "import numpy as np\n",
    "import pandas as pd\n",
    "import seaborn as sb\n",
    "import matplotlib.pyplot as plt\n",
    "\n",
    "import sklearn\n",
    "from sklearn.neural_network import MLPClassifier\n",
    "import matplotlib.pyplot as plt\n",
    "from pandas import Series, DataFrame\n",
    "from pylab import rcParams\n",
    "from sklearn import preprocessing\n",
    "from sklearn.neighbors import KNeighborsClassifier\n",
    "from sklearn.tree import DecisionTreeClassifier\n",
    "\n",
    "#from sklearn.cross_validation import train_test_split\n",
    "from sklearn.model_selection import train_test_split\n",
    "from sklearn import metrics \n",
    "from sklearn.metrics import classification_report\n",
    "from IPython.display import Image\n",
    "from sklearn.preprocessing import StandardScaler\n",
    "from sklearn.metrics import confusion_matrix"
   ]
  },
  {
   "cell_type": "markdown",
   "metadata": {},
   "source": [
    "## 1) Importando os dados já tratados sem OneHotEncoding:"
   ]
  },
  {
   "cell_type": "code",
   "execution_count": 2,
   "metadata": {},
   "outputs": [
    {
     "data": {
      "text/html": [
       "<div>\n",
       "<style scoped>\n",
       "    .dataframe tbody tr th:only-of-type {\n",
       "        vertical-align: middle;\n",
       "    }\n",
       "\n",
       "    .dataframe tbody tr th {\n",
       "        vertical-align: top;\n",
       "    }\n",
       "\n",
       "    .dataframe thead th {\n",
       "        text-align: right;\n",
       "    }\n",
       "</style>\n",
       "<table border=\"1\" class=\"dataframe\">\n",
       "  <thead>\n",
       "    <tr style=\"text-align: right;\">\n",
       "      <th></th>\n",
       "      <th>V1</th>\n",
       "      <th>V2</th>\n",
       "      <th>V3</th>\n",
       "      <th>V4</th>\n",
       "      <th>V5</th>\n",
       "      <th>V6</th>\n",
       "      <th>V7</th>\n",
       "      <th>V8</th>\n",
       "      <th>V9</th>\n",
       "      <th>V10</th>\n",
       "      <th>dbscan</th>\n",
       "      <th>kmeans</th>\n",
       "      <th>som</th>\n",
       "    </tr>\n",
       "  </thead>\n",
       "  <tbody>\n",
       "    <tr>\n",
       "      <th>0</th>\n",
       "      <td>-122.23</td>\n",
       "      <td>452600.0</td>\n",
       "      <td>129</td>\n",
       "      <td>41</td>\n",
       "      <td>880</td>\n",
       "      <td>3</td>\n",
       "      <td>126</td>\n",
       "      <td>322</td>\n",
       "      <td>83.252</td>\n",
       "      <td>37.88</td>\n",
       "      <td>1</td>\n",
       "      <td>3</td>\n",
       "      <td>1</td>\n",
       "    </tr>\n",
       "    <tr>\n",
       "      <th>1</th>\n",
       "      <td>-122.22</td>\n",
       "      <td>358500.0</td>\n",
       "      <td>1106</td>\n",
       "      <td>21</td>\n",
       "      <td>7099</td>\n",
       "      <td>3</td>\n",
       "      <td>1138</td>\n",
       "      <td>2401</td>\n",
       "      <td>83.014</td>\n",
       "      <td>37.86</td>\n",
       "      <td>0</td>\n",
       "      <td>2</td>\n",
       "      <td>2</td>\n",
       "    </tr>\n",
       "    <tr>\n",
       "      <th>2</th>\n",
       "      <td>-122.24</td>\n",
       "      <td>352100.0</td>\n",
       "      <td>190</td>\n",
       "      <td>52</td>\n",
       "      <td>1467</td>\n",
       "      <td>3</td>\n",
       "      <td>177</td>\n",
       "      <td>496</td>\n",
       "      <td>72.574</td>\n",
       "      <td>37.85</td>\n",
       "      <td>1</td>\n",
       "      <td>3</td>\n",
       "      <td>1</td>\n",
       "    </tr>\n",
       "    <tr>\n",
       "      <th>3</th>\n",
       "      <td>-122.25</td>\n",
       "      <td>341300.0</td>\n",
       "      <td>235</td>\n",
       "      <td>52</td>\n",
       "      <td>1274</td>\n",
       "      <td>3</td>\n",
       "      <td>219</td>\n",
       "      <td>558</td>\n",
       "      <td>56.431</td>\n",
       "      <td>37.85</td>\n",
       "      <td>1</td>\n",
       "      <td>1</td>\n",
       "      <td>1</td>\n",
       "    </tr>\n",
       "    <tr>\n",
       "      <th>4</th>\n",
       "      <td>-122.25</td>\n",
       "      <td>342200.0</td>\n",
       "      <td>280</td>\n",
       "      <td>52</td>\n",
       "      <td>1627</td>\n",
       "      <td>3</td>\n",
       "      <td>259</td>\n",
       "      <td>565</td>\n",
       "      <td>38.462</td>\n",
       "      <td>37.85</td>\n",
       "      <td>1</td>\n",
       "      <td>1</td>\n",
       "      <td>1</td>\n",
       "    </tr>\n",
       "  </tbody>\n",
       "</table>\n",
       "</div>"
      ],
      "text/plain": [
       "       V1        V2    V3  V4    V5  V6    V7    V8      V9    V10  dbscan  \\\n",
       "0 -122.23  452600.0   129  41   880   3   126   322  83.252  37.88       1   \n",
       "1 -122.22  358500.0  1106  21  7099   3  1138  2401  83.014  37.86       0   \n",
       "2 -122.24  352100.0   190  52  1467   3   177   496  72.574  37.85       1   \n",
       "3 -122.25  341300.0   235  52  1274   3   219   558  56.431  37.85       1   \n",
       "4 -122.25  342200.0   280  52  1627   3   259   565  38.462  37.85       1   \n",
       "\n",
       "   kmeans  som  \n",
       "0       3    1  \n",
       "1       2    2  \n",
       "2       3    1  \n",
       "3       1    1  \n",
       "4       1    1  "
      ]
     },
     "execution_count": 2,
     "metadata": {},
     "output_type": "execute_result"
    }
   ],
   "source": [
    "data = pd.read_csv(\"/Users/andrerodrigues/Google Drive/FIAP-MBA 8IA/006 - Modelos de IA e ML/Trabalho_Final_2/Exercicio8_v2/dados_clust_v2.csv\", sep =\",\")\n",
    "data = data.iloc[:,1:]\n",
    "data.head()"
   ]
  },
  {
   "cell_type": "markdown",
   "metadata": {},
   "source": [
    "## 2) Importando os dados já tratados com OneHotEncoding:"
   ]
  },
  {
   "cell_type": "code",
   "execution_count": 3,
   "metadata": {},
   "outputs": [
    {
     "data": {
      "text/html": [
       "<div>\n",
       "<style scoped>\n",
       "    .dataframe tbody tr th:only-of-type {\n",
       "        vertical-align: middle;\n",
       "    }\n",
       "\n",
       "    .dataframe tbody tr th {\n",
       "        vertical-align: top;\n",
       "    }\n",
       "\n",
       "    .dataframe thead th {\n",
       "        text-align: right;\n",
       "    }\n",
       "</style>\n",
       "<table border=\"1\" class=\"dataframe\">\n",
       "  <thead>\n",
       "    <tr style=\"text-align: right;\">\n",
       "      <th></th>\n",
       "      <th>0</th>\n",
       "      <th>1</th>\n",
       "      <th>2</th>\n",
       "      <th>3</th>\n",
       "      <th>4</th>\n",
       "      <th>6</th>\n",
       "      <th>7</th>\n",
       "      <th>8</th>\n",
       "      <th>9</th>\n",
       "      <th>10</th>\n",
       "      <th>11</th>\n",
       "      <th>12</th>\n",
       "      <th>13</th>\n",
       "      <th>14</th>\n",
       "      <th>dbscan</th>\n",
       "      <th>kmeans</th>\n",
       "      <th>som</th>\n",
       "    </tr>\n",
       "  </thead>\n",
       "  <tbody>\n",
       "    <tr>\n",
       "      <th>0</th>\n",
       "      <td>-122.23</td>\n",
       "      <td>452600.0</td>\n",
       "      <td>129.0</td>\n",
       "      <td>41.0</td>\n",
       "      <td>880.0</td>\n",
       "      <td>126.0</td>\n",
       "      <td>322.0</td>\n",
       "      <td>83.252</td>\n",
       "      <td>37.88</td>\n",
       "      <td>0.0</td>\n",
       "      <td>0.0</td>\n",
       "      <td>0.0</td>\n",
       "      <td>1.0</td>\n",
       "      <td>0.0</td>\n",
       "      <td>1</td>\n",
       "      <td>3</td>\n",
       "      <td>1</td>\n",
       "    </tr>\n",
       "    <tr>\n",
       "      <th>1</th>\n",
       "      <td>-122.22</td>\n",
       "      <td>358500.0</td>\n",
       "      <td>1106.0</td>\n",
       "      <td>21.0</td>\n",
       "      <td>7099.0</td>\n",
       "      <td>1138.0</td>\n",
       "      <td>2401.0</td>\n",
       "      <td>83.014</td>\n",
       "      <td>37.86</td>\n",
       "      <td>0.0</td>\n",
       "      <td>0.0</td>\n",
       "      <td>0.0</td>\n",
       "      <td>1.0</td>\n",
       "      <td>0.0</td>\n",
       "      <td>0</td>\n",
       "      <td>2</td>\n",
       "      <td>2</td>\n",
       "    </tr>\n",
       "    <tr>\n",
       "      <th>2</th>\n",
       "      <td>-122.24</td>\n",
       "      <td>352100.0</td>\n",
       "      <td>190.0</td>\n",
       "      <td>52.0</td>\n",
       "      <td>1467.0</td>\n",
       "      <td>177.0</td>\n",
       "      <td>496.0</td>\n",
       "      <td>72.574</td>\n",
       "      <td>37.85</td>\n",
       "      <td>0.0</td>\n",
       "      <td>0.0</td>\n",
       "      <td>0.0</td>\n",
       "      <td>1.0</td>\n",
       "      <td>0.0</td>\n",
       "      <td>1</td>\n",
       "      <td>3</td>\n",
       "      <td>1</td>\n",
       "    </tr>\n",
       "    <tr>\n",
       "      <th>3</th>\n",
       "      <td>-122.25</td>\n",
       "      <td>341300.0</td>\n",
       "      <td>235.0</td>\n",
       "      <td>52.0</td>\n",
       "      <td>1274.0</td>\n",
       "      <td>219.0</td>\n",
       "      <td>558.0</td>\n",
       "      <td>56.431</td>\n",
       "      <td>37.85</td>\n",
       "      <td>0.0</td>\n",
       "      <td>0.0</td>\n",
       "      <td>0.0</td>\n",
       "      <td>1.0</td>\n",
       "      <td>0.0</td>\n",
       "      <td>1</td>\n",
       "      <td>1</td>\n",
       "      <td>1</td>\n",
       "    </tr>\n",
       "    <tr>\n",
       "      <th>4</th>\n",
       "      <td>-122.25</td>\n",
       "      <td>342200.0</td>\n",
       "      <td>280.0</td>\n",
       "      <td>52.0</td>\n",
       "      <td>1627.0</td>\n",
       "      <td>259.0</td>\n",
       "      <td>565.0</td>\n",
       "      <td>38.462</td>\n",
       "      <td>37.85</td>\n",
       "      <td>0.0</td>\n",
       "      <td>0.0</td>\n",
       "      <td>0.0</td>\n",
       "      <td>1.0</td>\n",
       "      <td>0.0</td>\n",
       "      <td>1</td>\n",
       "      <td>1</td>\n",
       "      <td>1</td>\n",
       "    </tr>\n",
       "  </tbody>\n",
       "</table>\n",
       "</div>"
      ],
      "text/plain": [
       "        0         1       2     3       4       6       7       8      9   10  \\\n",
       "0 -122.23  452600.0   129.0  41.0   880.0   126.0   322.0  83.252  37.88  0.0   \n",
       "1 -122.22  358500.0  1106.0  21.0  7099.0  1138.0  2401.0  83.014  37.86  0.0   \n",
       "2 -122.24  352100.0   190.0  52.0  1467.0   177.0   496.0  72.574  37.85  0.0   \n",
       "3 -122.25  341300.0   235.0  52.0  1274.0   219.0   558.0  56.431  37.85  0.0   \n",
       "4 -122.25  342200.0   280.0  52.0  1627.0   259.0   565.0  38.462  37.85  0.0   \n",
       "\n",
       "    11   12   13   14  dbscan  kmeans  som  \n",
       "0  0.0  0.0  1.0  0.0       1       3    1  \n",
       "1  0.0  0.0  1.0  0.0       0       2    2  \n",
       "2  0.0  0.0  1.0  0.0       1       3    1  \n",
       "3  0.0  0.0  1.0  0.0       1       1    1  \n",
       "4  0.0  0.0  1.0  0.0       1       1    1  "
      ]
     },
     "execution_count": 3,
     "metadata": {},
     "output_type": "execute_result"
    }
   ],
   "source": [
    "data_ohe = pd.read_csv(\"/Users/andrerodrigues/Google Drive/FIAP-MBA 8IA/006 - Modelos de IA e ML/Trabalho_Final_2/Exercicio8_v2/data_ohe_nostd_v2.csv\", sep =\",\")\n",
    "data_ohe = data_ohe.iloc[:,1:]\n",
    "data_ohe[\"dbscan\"] = data[\"dbscan\"]\n",
    "data_ohe[\"kmeans\"] = data[\"kmeans\"]\n",
    "data_ohe[\"som\"] = data[\"som\"]\n",
    "data_ohe.head()"
   ]
  },
  {
   "cell_type": "markdown",
   "metadata": {},
   "source": [
    "#### a) Apenas como curiosidade, vejamos como as classes estão distribuidas em 'dbscan', 'kmeans' e 'som'"
   ]
  },
  {
   "cell_type": "code",
   "execution_count": 4,
   "metadata": {},
   "outputs": [
    {
     "data": {
      "image/png": "[encoded data removed]",
      "text/plain": [
       "<Figure size 720x504 with 1 Axes>"
      ]
     },
     "metadata": {
      "needs_background": "light"
     },
     "output_type": "display_data"
    },
    {
     "data": {
      "image/png": "[encoded data removed]",
      "text/plain": [
       "<Figure size 720x504 with 1 Axes>"
      ]
     },
     "metadata": {
      "needs_background": "light"
     },
     "output_type": "display_data"
    },
    {
     "data": {
      "image/png": "[encoded data removed]",
      "text/plain": [
       "<Figure size 720x504 with 1 Axes>"
      ]
     },
     "metadata": {
      "needs_background": "light"
     },
     "output_type": "display_data"
    }
   ],
   "source": [
    "plt.figure(figsize=(10,7))\n",
    "plot1 = sb.countplot(x='dbscan',data=data, palette='hls')\n",
    "plt.title(\"Verificando classes de dbscan\")\n",
    "plt.show(plot1)\n",
    "plt.figure(figsize=(10,7))\n",
    "plot2 = sb.countplot(x='kmeans',data=data, palette='hls')\n",
    "plt.title(\"Verificando classes de kmeans\")\n",
    "plt.show(plot2)\n",
    "plt.figure(figsize=(10,7))\n",
    "plot3 = sb.countplot(x='som',data=data, palette='hls')\n",
    "plt.title(\"Verificando classes de som\")\n",
    "plt.show(plot3)"
   ]
  },
  {
   "cell_type": "markdown",
   "metadata": {
    "colab_type": "text",
    "id": "aeC4yg2IQ-Up"
   },
   "source": [
    "## 3) Seleciona o dataset para ser tratado pelo Modelo de Machine Learning e Separa as Classes"
   ]
  },
  {
   "cell_type": "code",
   "execution_count": 5,
   "metadata": {
    "colab": {
     "base_uri": "https://localhost:8080/",
     "height": 34
    },
    "colab_type": "code",
    "executionInfo": {
     "elapsed": 8309,
     "status": "ok",
     "timestamp": 1574127519808,
     "user": {
      "displayName": "André Rodrigues",
      "photoUrl": "https://lh3.googleusercontent.com/a-/AAuE7mC4VcoLAlPEtIAJVPWTppZJ9S3ou2QH75zgDkJrgn0=s64",
      "userId": "01975921740661022202"
     },
     "user_tz": 180
    },
    "id": "m1CV4kvGQ-Uv",
    "outputId": "39ec2f2e-994b-4147-f247-4fc1ae42b241"
   },
   "outputs": [
    {
     "name": "stdin",
     "output_type": "stream",
     "text": [
      "Entre com o dataset que será tratado pela maquina('data' ou 'data_ohe'): data\n",
      "Entre com o target que será tratado pela maquina ('dbscan','kmeans' ou 'som'): dbscan\n"
     ]
    }
   ],
   "source": [
    "import traceback\n",
    "\n",
    "def dataset_for_machine(dataset, target):\n",
    "    \n",
    "    # Tente receber o nome do arquivo\n",
    "    try:\n",
    "        d = dataset\n",
    "        t = target\n",
    "        \n",
    "        \n",
    "    \n",
    "        if d == 'data':\n",
    "            #No caso do DBSCAN, as amostras cujo o cluster for igual a 0, são consideradas outliers e não podemos considera-las como classe do problema.\n",
    "            if t == 'dbscan':\n",
    "                data.drop(data[data.dbscan == 0].index, inplace=True)\n",
    "            # Troca o nome do dataset para df. A partir desse ponto, o dataset para ser tratado pelo modelo de ML será conhecido por df.\n",
    "            df = data\n",
    "            # Separa a classe\n",
    "            classes = df[t]\n",
    "            df.drop(columns=['dbscan','kmeans', 'som'], axis=1, inplace=True)\n",
    "\n",
    "\n",
    "        elif d == 'data_ohe':\n",
    "            #No caso do DBSCAN, as amostras cujo o cluster for igual a 0, são consideradas outliers e não podemos considera-las como classe do problema.\n",
    "            if t == 'dbscan':\n",
    "                data.drop(data[data.dbscan == 0].index, inplace=True)\n",
    "            # Troca o nome do dataset para df. A partir desse ponto, o dataset para ser tratado pelo modelo de ML será conhecido por df.\n",
    "            df = data_ohe\n",
    "            # Separa a classe\n",
    "            classes = df[t]\n",
    "            df.drop(columns=['dbscan','kmeans', 'som'], axis=1, inplace=True)\n",
    "\n",
    "        else:\n",
    "            print(\"Escolha entre 'data' ou 'data_ohe'\")\n",
    "            exit\n",
    "\n",
    "    # Se ocorrer um erro\n",
    "    except:\n",
    "        # Mostre na tela\n",
    "        trace = traceback.format_exc()\n",
    "        print ('Aconteceu um erro:\\n', trace)\n",
    "        # Encerre o programa\n",
    "        raise SystemExit\n",
    "        \n",
    "    return df, classes\n",
    "    \n",
    "# df, classes = dataset_for_machine(input(\"Entre com o dataset que será tratado pela maquina('data' ou 'data_ohe') e o target('kmeans' ou 'som') separados por ',':\"))\n",
    "dataset = input(\"Entre com o dataset que será tratado pela maquina('data' ou 'data_ohe'):\")\n",
    "target = input(\"Entre com o target que será tratado pela maquina ('dbscan','kmeans' ou 'som'):\")\n",
    "df, classes = dataset_for_machine(dataset, target)"
   ]
  },
  {
   "cell_type": "markdown",
   "metadata": {
    "colab_type": "text",
    "id": "1TlW-96KQ-Ux"
   },
   "source": [
    "* A partir desse ponto, o dataset para ser tratado pelo modelo de ML será conhecido por df. A seleção se ele vai ser passado com ou sem One Hot Encoding foi feita acima."
   ]
  },
  {
   "cell_type": "code",
   "execution_count": 6,
   "metadata": {
    "colab": {
     "base_uri": "https://localhost:8080/",
     "height": 204
    },
    "colab_type": "code",
    "executionInfo": {
     "elapsed": 749,
     "status": "ok",
     "timestamp": 1574127524144,
     "user": {
      "displayName": "André Rodrigues",
      "photoUrl": "https://lh3.googleusercontent.com/a-/AAuE7mC4VcoLAlPEtIAJVPWTppZJ9S3ou2QH75zgDkJrgn0=s64",
      "userId": "01975921740661022202"
     },
     "user_tz": 180
    },
    "id": "ed7pYCmyQ-Uy",
    "outputId": "220c7e0e-d5cd-4a5e-ffc5-f38a274cb4cd"
   },
   "outputs": [
    {
     "data": {
      "text/html": [
       "<div>\n",
       "<style scoped>\n",
       "    .dataframe tbody tr th:only-of-type {\n",
       "        vertical-align: middle;\n",
       "    }\n",
       "\n",
       "    .dataframe tbody tr th {\n",
       "        vertical-align: top;\n",
       "    }\n",
       "\n",
       "    .dataframe thead th {\n",
       "        text-align: right;\n",
       "    }\n",
       "</style>\n",
       "<table border=\"1\" class=\"dataframe\">\n",
       "  <thead>\n",
       "    <tr style=\"text-align: right;\">\n",
       "      <th></th>\n",
       "      <th>V1</th>\n",
       "      <th>V2</th>\n",
       "      <th>V3</th>\n",
       "      <th>V4</th>\n",
       "      <th>V5</th>\n",
       "      <th>V6</th>\n",
       "      <th>V7</th>\n",
       "      <th>V8</th>\n",
       "      <th>V9</th>\n",
       "      <th>V10</th>\n",
       "    </tr>\n",
       "  </thead>\n",
       "  <tbody>\n",
       "    <tr>\n",
       "      <th>0</th>\n",
       "      <td>-122.23</td>\n",
       "      <td>452600.0</td>\n",
       "      <td>129</td>\n",
       "      <td>41</td>\n",
       "      <td>880</td>\n",
       "      <td>3</td>\n",
       "      <td>126</td>\n",
       "      <td>322</td>\n",
       "      <td>83.252</td>\n",
       "      <td>37.88</td>\n",
       "    </tr>\n",
       "    <tr>\n",
       "      <th>2</th>\n",
       "      <td>-122.24</td>\n",
       "      <td>352100.0</td>\n",
       "      <td>190</td>\n",
       "      <td>52</td>\n",
       "      <td>1467</td>\n",
       "      <td>3</td>\n",
       "      <td>177</td>\n",
       "      <td>496</td>\n",
       "      <td>72.574</td>\n",
       "      <td>37.85</td>\n",
       "    </tr>\n",
       "    <tr>\n",
       "      <th>3</th>\n",
       "      <td>-122.25</td>\n",
       "      <td>341300.0</td>\n",
       "      <td>235</td>\n",
       "      <td>52</td>\n",
       "      <td>1274</td>\n",
       "      <td>3</td>\n",
       "      <td>219</td>\n",
       "      <td>558</td>\n",
       "      <td>56.431</td>\n",
       "      <td>37.85</td>\n",
       "    </tr>\n",
       "    <tr>\n",
       "      <th>4</th>\n",
       "      <td>-122.25</td>\n",
       "      <td>342200.0</td>\n",
       "      <td>280</td>\n",
       "      <td>52</td>\n",
       "      <td>1627</td>\n",
       "      <td>3</td>\n",
       "      <td>259</td>\n",
       "      <td>565</td>\n",
       "      <td>38.462</td>\n",
       "      <td>37.85</td>\n",
       "    </tr>\n",
       "    <tr>\n",
       "      <th>5</th>\n",
       "      <td>-122.25</td>\n",
       "      <td>269700.0</td>\n",
       "      <td>213</td>\n",
       "      <td>52</td>\n",
       "      <td>919</td>\n",
       "      <td>3</td>\n",
       "      <td>193</td>\n",
       "      <td>413</td>\n",
       "      <td>40.368</td>\n",
       "      <td>37.85</td>\n",
       "    </tr>\n",
       "  </tbody>\n",
       "</table>\n",
       "</div>"
      ],
      "text/plain": [
       "       V1        V2   V3  V4    V5  V6   V7   V8      V9    V10\n",
       "0 -122.23  452600.0  129  41   880   3  126  322  83.252  37.88\n",
       "2 -122.24  352100.0  190  52  1467   3  177  496  72.574  37.85\n",
       "3 -122.25  341300.0  235  52  1274   3  219  558  56.431  37.85\n",
       "4 -122.25  342200.0  280  52  1627   3  259  565  38.462  37.85\n",
       "5 -122.25  269700.0  213  52   919   3  193  413  40.368  37.85"
      ]
     },
     "execution_count": 6,
     "metadata": {},
     "output_type": "execute_result"
    }
   ],
   "source": [
    "df.head()"
   ]
  },
  {
   "cell_type": "code",
   "execution_count": 7,
   "metadata": {
    "colab": {
     "base_uri": "https://localhost:8080/",
     "height": 34
    },
    "colab_type": "code",
    "executionInfo": {
     "elapsed": 849,
     "status": "ok",
     "timestamp": 1574127526420,
     "user": {
      "displayName": "André Rodrigues",
      "photoUrl": "https://lh3.googleusercontent.com/a-/AAuE7mC4VcoLAlPEtIAJVPWTppZJ9S3ou2QH75zgDkJrgn0=s64",
      "userId": "01975921740661022202"
     },
     "user_tz": 180
    },
    "id": "ZrqNFpWjQ-U0",
    "outputId": "492bae84-a48d-4d22-d523-ecc75056e771"
   },
   "outputs": [
    {
     "data": {
      "text/plain": [
       "0        1\n",
       "2        1\n",
       "3        1\n",
       "4        1\n",
       "5        1\n",
       "        ..\n",
       "20635    3\n",
       "20636    3\n",
       "20637    3\n",
       "20638    3\n",
       "20639    3\n",
       "Name: dbscan, Length: 18959, dtype: int64"
      ]
     },
     "execution_count": 7,
     "metadata": {},
     "output_type": "execute_result"
    }
   ],
   "source": [
    "classes"
   ]
  },
  {
   "cell_type": "markdown",
   "metadata": {},
   "source": [
    "## 4) Classificacao KNN\n",
    "#### a) Separar o conjunto em variavel resposta e variaveis de treinamento"
   ]
  },
  {
   "cell_type": "code",
   "execution_count": 8,
   "metadata": {},
   "outputs": [
    {
     "name": "stdout",
     "output_type": "stream",
     "text": [
      "[[-1.2223e+02  4.5260e+05  1.2900e+02 ...  3.2200e+02  8.3252e+01\n",
      "   3.7880e+01]\n",
      " [-1.2224e+02  3.5210e+05  1.9000e+02 ...  4.9600e+02  7.2574e+01\n",
      "   3.7850e+01]\n",
      " [-1.2225e+02  3.4130e+05  2.3500e+02 ...  5.5800e+02  5.6431e+01\n",
      "   3.7850e+01]\n",
      " ...\n",
      " [-1.2122e+02  9.2300e+04  4.8500e+02 ...  1.0070e+03  1.7000e+00\n",
      "   3.9430e+01]\n",
      " [-1.2132e+02  8.4700e+04  4.0900e+02 ...  7.4100e+02  1.8672e+01\n",
      "   3.9430e+01]\n",
      " [-1.2124e+02  8.9400e+04  6.1600e+02 ...  1.3870e+03  2.3886e+01\n",
      "   3.9370e+01]]\n",
      "0        1\n",
      "2        1\n",
      "3        1\n",
      "4        1\n",
      "5        1\n",
      "        ..\n",
      "20635    3\n",
      "20636    3\n",
      "20637    3\n",
      "20638    3\n",
      "20639    3\n",
      "Name: dbscan, Length: 18959, dtype: int64\n"
     ]
    }
   ],
   "source": [
    "X = df.iloc[:,0:].values\n",
    "y = classes\n",
    "\n",
    "print(X)\n",
    "print(y)"
   ]
  },
  {
   "cell_type": "markdown",
   "metadata": {},
   "source": [
    "#### b) Normalização dos dados"
   ]
  },
  {
   "cell_type": "code",
   "execution_count": 9,
   "metadata": {},
   "outputs": [],
   "source": [
    "# Vamos guardar o valor não normalizado de X na variavel Xold\n",
    "XNew = StandardScaler().fit_transform(X)\n",
    "Xold = X\n",
    "X = XNew"
   ]
  },
  {
   "cell_type": "markdown",
   "metadata": {},
   "source": [
    "#### c) Agora dividir em treino e teste (teste com 30%)"
   ]
  },
  {
   "cell_type": "code",
   "execution_count": 10,
   "metadata": {},
   "outputs": [],
   "source": [
    "X_train, X_test, y_train, y_test = train_test_split(X, y, test_size = .3, random_state=25)\n",
    "\n",
    "\n",
    "Classif_KNN = KNeighborsClassifier(n_neighbors=5)\n",
    "Classif_KNN.fit(X_train, y_train)\n",
    "y_pred = Classif_KNN.predict(X_test)"
   ]
  },
  {
   "cell_type": "markdown",
   "metadata": {},
   "source": [
    "#### d) Avaliando o modelo\n",
    "* analisando o rotulo real com o rotulo predito"
   ]
  },
  {
   "cell_type": "code",
   "execution_count": 11,
   "metadata": {},
   "outputs": [
    {
     "name": "stdout",
     "output_type": "stream",
     "text": [
      "[[1270    0    0    0    0]\n",
      " [   0    4    0    0    0]\n",
      " [   0    0 4379    0    0]\n",
      " [   0    0    0   31    0]\n",
      " [   0    0    0    0    4]]\n"
     ]
    }
   ],
   "source": [
    "cm = confusion_matrix(y_test, y_pred)\n",
    "print(cm)"
   ]
  },
  {
   "cell_type": "code",
   "execution_count": 12,
   "metadata": {},
   "outputs": [
    {
     "name": "stdout",
     "output_type": "stream",
     "text": [
      "              precision    recall  f1-score   support\n",
      "\n",
      "           1       1.00      1.00      1.00      1270\n",
      "           2       1.00      1.00      1.00         4\n",
      "           3       1.00      1.00      1.00      4379\n",
      "           4       1.00      1.00      1.00        31\n",
      "           5       1.00      1.00      1.00         4\n",
      "\n",
      "    accuracy                           1.00      5688\n",
      "   macro avg       1.00      1.00      1.00      5688\n",
      "weighted avg       1.00      1.00      1.00      5688\n",
      "\n",
      "1.0\n"
     ]
    }
   ],
   "source": [
    "print(classification_report(y_test, y_pred))\n",
    "print(metrics.accuracy_score(y_test, y_pred))"
   ]
  },
  {
   "cell_type": "markdown",
   "metadata": {},
   "source": [
    "#### e) Testando K=1 até K=26 "
   ]
  },
  {
   "cell_type": "code",
   "execution_count": 13,
   "metadata": {},
   "outputs": [],
   "source": [
    "k_range = range(1, 26)"
   ]
  },
  {
   "cell_type": "markdown",
   "metadata": {},
   "source": [
    "#### f) Lista todos as acurácias"
   ]
  },
  {
   "cell_type": "code",
   "execution_count": 14,
   "metadata": {},
   "outputs": [],
   "source": [
    "scores = []"
   ]
  },
  {
   "cell_type": "markdown",
   "metadata": {},
   "source": [
    "#### g) Faz um loop de 1 a 26 armazena no dicionário scores"
   ]
  },
  {
   "cell_type": "code",
   "execution_count": 15,
   "metadata": {},
   "outputs": [
    {
     "name": "stdout",
     "output_type": "stream",
     "text": [
      "[1.0, 1.0, 1.0, 1.0, 1.0, 0.999648382559775, 0.999648382559775, 0.9994725738396625, 0.9994725738396625, 0.9994725738396625, 0.9994725738396625, 0.9994725738396625, 0.9991209563994374, 0.9991209563994374, 0.9991209563994374, 0.9991209563994374, 0.9989451476793249, 0.9989451476793249, 0.9989451476793249, 0.9984177215189873, 0.9984177215189873, 0.9984177215189873, 0.9984177215189873, 0.9984177215189873, 0.9984177215189873]\n"
     ]
    }
   ],
   "source": [
    "for k in k_range:\n",
    "    knn = KNeighborsClassifier(n_neighbors=k)\n",
    "    knn.fit(X_train, y_train)\n",
    "    y_pred = knn.predict(X_test)\n",
    "    scores.append(metrics.accuracy_score(y_test, y_pred))\n",
    "print(scores)"
   ]
  },
  {
   "cell_type": "markdown",
   "metadata": {},
   "source": [
    "#### h) Plota os valores de acc. em função do valor escolhido de K"
   ]
  },
  {
   "cell_type": "code",
   "execution_count": 16,
   "metadata": {},
   "outputs": [
    {
     "data": {
      "image/png": "[encoded data removed]",
      "text/plain": [
       "<Figure size 720x504 with 1 Axes>"
      ]
     },
     "metadata": {
      "needs_background": "light"
     },
     "output_type": "display_data"
    }
   ],
   "source": [
    "fig = plt.figure(figsize=(10,7))\n",
    "ax = fig.gca()\n",
    "\n",
    "plt.plot(k_range, scores)\n",
    "plt.xlabel('Value of K for KNN')\n",
    "plt.ylabel('Testing Accuracy')\n",
    "\n",
    "plt.grid()\n",
    "plt.show()"
   ]
  },
  {
   "cell_type": "code",
   "execution_count": 17,
   "metadata": {},
   "outputs": [],
   "source": [
    "Classif_KNN = KNeighborsClassifier(n_neighbors=7)\n",
    "Classif_KNN.fit(X_train, y_train)\n",
    "y_pred = Classif_KNN.predict(X_test)"
   ]
  },
  {
   "cell_type": "code",
   "execution_count": 18,
   "metadata": {},
   "outputs": [],
   "source": [
    "cm = confusion_matrix(y_test, y_pred)"
   ]
  },
  {
   "cell_type": "code",
   "execution_count": 19,
   "metadata": {},
   "outputs": [
    {
     "name": "stdout",
     "output_type": "stream",
     "text": [
      "              precision    recall  f1-score   support\n",
      "\n",
      "           1       1.00      1.00      1.00      1270\n",
      "           2       1.00      0.75      0.86         4\n",
      "           3       1.00      1.00      1.00      4379\n",
      "           4       1.00      1.00      1.00        31\n",
      "           5       1.00      0.75      0.86         4\n",
      "\n",
      "    accuracy                           1.00      5688\n",
      "   macro avg       1.00      0.90      0.94      5688\n",
      "weighted avg       1.00      1.00      1.00      5688\n",
      "\n",
      "0.999648382559775\n"
     ]
    }
   ],
   "source": [
    "print(classification_report(y_test, y_pred))\n",
    "print(metrics.accuracy_score(y_test, y_pred))"
   ]
  },
  {
   "cell_type": "markdown",
   "metadata": {},
   "source": [
    "* Usando data com apenas Label Encoding e usando DBSCAN, a maior acurácia é de 99.96% e acontece com uma vizinhanca igual a 2. \n",
    "* Usando data com apenas Label Encoding e usando K-means, a maior acurácia é de 96.65% e acontece com uma vizinhanca igual a 7.\n",
    "* Usando data com apenas Label Encoding e usando SOM, a maior acurácia é de 98.74% e acontece com uma vizinhanca igual a 7.\n",
    "* Usando data com One Hot Encoding e usando DBSCAN, a maior acurácia é de 97.25% e acontece com uma vizinhanca igual a 2.\n",
    "* Usando data com One Hot Encoding e K-means, a maior acurácia é de 95.04% e acontece com uma vizinhanca igual a 5.\n",
    "* Usando data com One Hot Encoding e SOM, a maior acurácia é de 98.59% e acontece com uma vizinhanca igual a 7."
   ]
  },
  {
   "cell_type": "markdown",
   "metadata": {},
   "source": [
    "#### Com base nos resultados, se fossemos usar o KNN como classificador, elegeríamos tratar os dados com Label Encoding usando como clusterizador o DBSCAN, pois essa combinação obteve a maior acurácia."
   ]
  },
  {
   "cell_type": "code",
   "execution_count": null,
   "metadata": {},
   "outputs": [],
   "source": []
  },
  {
   "cell_type": "code",
   "execution_count": null,
   "metadata": {},
   "outputs": [],
   "source": []
  }
 ],
 "metadata": {
  "kernelspec": {
   "display_name": "Python 3",
   "language": "python",
   "name": "python3"
  },
  "language_info": {
   "codemirror_mode": {
    "name": "ipython",
    "version": 3
   },
   "file_extension": ".py",
   "mimetype": "text/x-python",
   "name": "python",
   "nbconvert_exporter": "python",
   "pygments_lexer": "ipython3",
   "version": "3.7.4"
  }
 },
 "nbformat": 4,
 "nbformat_minor": 4
}
